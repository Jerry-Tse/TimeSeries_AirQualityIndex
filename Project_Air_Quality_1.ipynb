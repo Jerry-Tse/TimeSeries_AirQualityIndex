{
 "cells": [
  {
   "cell_type": "markdown",
   "metadata": {},
   "source": [
    "# Project: Air Quality Index: 5 Days Relative Mortality "
   ]
  },
  {
   "cell_type": "markdown",
   "metadata": {},
   "source": [
    "### Import Packages"
   ]
  },
  {
   "cell_type": "code",
   "execution_count": 2,
   "metadata": {},
   "outputs": [
    {
     "data": {
      "text/html": [
       "        <script type=\"text/javascript\">\n",
       "        window.PlotlyConfig = {MathJaxConfig: 'local'};\n",
       "        if (window.MathJax) {MathJax.Hub.Config({SVG: {font: \"STIX-Web\"}});}\n",
       "        if (typeof require !== 'undefined') {\n",
       "        require.undef(\"plotly\");\n",
       "        requirejs.config({\n",
       "            paths: {\n",
       "                'plotly': ['https://cdn.plot.ly/plotly-latest.min']\n",
       "            }\n",
       "        });\n",
       "        require(['plotly'], function(Plotly) {\n",
       "            window._Plotly = Plotly;\n",
       "        });\n",
       "        }\n",
       "        </script>\n",
       "        "
      ]
     },
     "metadata": {},
     "output_type": "display_data"
    }
   ],
   "source": [
    "#### Packages\n",
    "\n",
    "import numpy as np\n",
    "import pandas as pd\n",
    "import time\n",
    "import datetime\n",
    "from statistics import mean\n",
    "from sklearn.linear_model import LinearRegression\n",
    "from sklearn.metrics import mean_squared_error, r2_score\n",
    "from sklearn.ensemble import RandomForestRegressor\n",
    "from sklearn.model_selection import RandomizedSearchCV\n",
    "import random\n",
    "pd.set_option('display.max_columns', 500)\n",
    "pd.set_option('display.max_rows', 500)\n",
    "\n",
    "import matplotlib.dates as mdates\n",
    "import matplotlib.pyplot as plt\n",
    "%matplotlib inline\n",
    "import seaborn as sns\n",
    "import plotly.offline as py\n",
    "py.init_notebook_mode(connected=True)\n",
    "import plotly.graph_objs as go\n",
    "import plotly.tools as tls"
   ]
  },
  {
   "cell_type": "markdown",
   "metadata": {},
   "source": [
    "### Reduce numeric data memory usage"
   ]
  },
  {
   "cell_type": "code",
   "execution_count": 3,
   "metadata": {},
   "outputs": [],
   "source": [
    "def reduce_mem_usage(df, verbose=True):\n",
    "    numerics = ['int16', 'int32', 'int64', 'float16', 'float32', 'float64']\n",
    "    start_mem = df.memory_usage().sum() / 1024**2    \n",
    "    for col in df.columns:\n",
    "        col_type = df[col].dtypes\n",
    "        if col_type in numerics:\n",
    "            c_min = df[col].min()\n",
    "            c_max = df[col].max()\n",
    "            if str(col_type)[:3] == 'int':\n",
    "                if c_min > np.iinfo(np.int8).min and c_max < np.iinfo(np.int8).max:\n",
    "                    df[col] = df[col].astype(np.int8)\n",
    "                elif c_min > np.iinfo(np.int16).min and c_max < np.iinfo(np.int16).max:\n",
    "                    df[col] = df[col].astype(np.int16)\n",
    "                elif c_min > np.iinfo(np.int32).min and c_max < np.iinfo(np.int32).max:\n",
    "                    df[col] = df[col].astype(np.int32)\n",
    "                elif c_min > np.iinfo(np.int64).min and c_max < np.iinfo(np.int64).max:\n",
    "                    df[col] = df[col].astype(np.int64)  \n",
    "            else:\n",
    "                if c_min > np.finfo(np.float16).min and c_max < np.finfo(np.float16).max:\n",
    "                    df[col] = df[col].astype(np.float16)\n",
    "                elif c_min > np.finfo(np.float32).min and c_max < np.finfo(np.float32).max:\n",
    "                    df[col] = df[col].astype(np.float32)\n",
    "                else:\n",
    "                    df[col] = df[col].astype(np.float64)    \n",
    "    end_mem = df.memory_usage().sum() / 1024**2\n",
    "    if verbose: print('Mem. usage decreased to {:5.2f} Mb ({:.1f}% reduction)'.format(end_mem, 100 * (start_mem - end_mem) / start_mem))\n",
    "    return df"
   ]
  },
  {
   "cell_type": "markdown",
   "metadata": {},
   "source": [
    "### First view of data"
   ]
  },
  {
   "cell_type": "code",
   "execution_count": 3,
   "metadata": {
    "scrolled": true
   },
   "outputs": [
    {
     "data": {
      "text/html": [
       "<div>\n",
       "<style scoped>\n",
       "    .dataframe tbody tr th:only-of-type {\n",
       "        vertical-align: middle;\n",
       "    }\n",
       "\n",
       "    .dataframe tbody tr th {\n",
       "        vertical-align: top;\n",
       "    }\n",
       "\n",
       "    .dataframe thead th {\n",
       "        text-align: right;\n",
       "    }\n",
       "</style>\n",
       "<table border=\"1\" class=\"dataframe\">\n",
       "  <thead>\n",
       "    <tr style=\"text-align: right;\">\n",
       "      <th></th>\n",
       "      <th>total_missing</th>\n",
       "      <th>percent_missing(%)</th>\n",
       "    </tr>\n",
       "  </thead>\n",
       "  <tbody>\n",
       "    <tr>\n",
       "      <th>Unnamed: 16</th>\n",
       "      <td>9471</td>\n",
       "      <td>100.000000</td>\n",
       "    </tr>\n",
       "    <tr>\n",
       "      <th>Unnamed: 15</th>\n",
       "      <td>9471</td>\n",
       "      <td>100.000000</td>\n",
       "    </tr>\n",
       "    <tr>\n",
       "      <th>NOx(GT)</th>\n",
       "      <td>114</td>\n",
       "      <td>1.203674</td>\n",
       "    </tr>\n",
       "    <tr>\n",
       "      <th>Time</th>\n",
       "      <td>114</td>\n",
       "      <td>1.203674</td>\n",
       "    </tr>\n",
       "    <tr>\n",
       "      <th>CO(GT)</th>\n",
       "      <td>114</td>\n",
       "      <td>1.203674</td>\n",
       "    </tr>\n",
       "    <tr>\n",
       "      <th>PT08.S1(CO)</th>\n",
       "      <td>114</td>\n",
       "      <td>1.203674</td>\n",
       "    </tr>\n",
       "    <tr>\n",
       "      <th>NMHC(GT)</th>\n",
       "      <td>114</td>\n",
       "      <td>1.203674</td>\n",
       "    </tr>\n",
       "    <tr>\n",
       "      <th>C6H6(GT)</th>\n",
       "      <td>114</td>\n",
       "      <td>1.203674</td>\n",
       "    </tr>\n",
       "    <tr>\n",
       "      <th>PT08.S2(NMHC)</th>\n",
       "      <td>114</td>\n",
       "      <td>1.203674</td>\n",
       "    </tr>\n",
       "    <tr>\n",
       "      <th>PT08.S3(NOx)</th>\n",
       "      <td>114</td>\n",
       "      <td>1.203674</td>\n",
       "    </tr>\n",
       "    <tr>\n",
       "      <th>NO2(GT)</th>\n",
       "      <td>114</td>\n",
       "      <td>1.203674</td>\n",
       "    </tr>\n",
       "    <tr>\n",
       "      <th>PT08.S4(NO2)</th>\n",
       "      <td>114</td>\n",
       "      <td>1.203674</td>\n",
       "    </tr>\n",
       "    <tr>\n",
       "      <th>PT08.S5(O3)</th>\n",
       "      <td>114</td>\n",
       "      <td>1.203674</td>\n",
       "    </tr>\n",
       "    <tr>\n",
       "      <th>T</th>\n",
       "      <td>114</td>\n",
       "      <td>1.203674</td>\n",
       "    </tr>\n",
       "    <tr>\n",
       "      <th>RH</th>\n",
       "      <td>114</td>\n",
       "      <td>1.203674</td>\n",
       "    </tr>\n",
       "    <tr>\n",
       "      <th>AH</th>\n",
       "      <td>114</td>\n",
       "      <td>1.203674</td>\n",
       "    </tr>\n",
       "    <tr>\n",
       "      <th>Date</th>\n",
       "      <td>114</td>\n",
       "      <td>1.203674</td>\n",
       "    </tr>\n",
       "  </tbody>\n",
       "</table>\n",
       "</div>"
      ],
      "text/plain": [
       "               total_missing  percent_missing(%)\n",
       "Unnamed: 16             9471          100.000000\n",
       "Unnamed: 15             9471          100.000000\n",
       "NOx(GT)                  114            1.203674\n",
       "Time                     114            1.203674\n",
       "CO(GT)                   114            1.203674\n",
       "PT08.S1(CO)              114            1.203674\n",
       "NMHC(GT)                 114            1.203674\n",
       "C6H6(GT)                 114            1.203674\n",
       "PT08.S2(NMHC)            114            1.203674\n",
       "PT08.S3(NOx)             114            1.203674\n",
       "NO2(GT)                  114            1.203674\n",
       "PT08.S4(NO2)             114            1.203674\n",
       "PT08.S5(O3)              114            1.203674\n",
       "T                        114            1.203674\n",
       "RH                       114            1.203674\n",
       "AH                       114            1.203674\n",
       "Date                     114            1.203674"
      ]
     },
     "metadata": {},
     "output_type": "display_data"
    },
    {
     "data": {
      "text/html": [
       "<div>\n",
       "<style scoped>\n",
       "    .dataframe tbody tr th:only-of-type {\n",
       "        vertical-align: middle;\n",
       "    }\n",
       "\n",
       "    .dataframe tbody tr th {\n",
       "        vertical-align: top;\n",
       "    }\n",
       "\n",
       "    .dataframe thead th {\n",
       "        text-align: right;\n",
       "    }\n",
       "</style>\n",
       "<table border=\"1\" class=\"dataframe\">\n",
       "  <thead>\n",
       "    <tr style=\"text-align: right;\">\n",
       "      <th></th>\n",
       "      <th>Date</th>\n",
       "      <th>Time</th>\n",
       "      <th>CO(GT)</th>\n",
       "      <th>PT08.S1(CO)</th>\n",
       "      <th>NMHC(GT)</th>\n",
       "      <th>C6H6(GT)</th>\n",
       "      <th>PT08.S2(NMHC)</th>\n",
       "      <th>NOx(GT)</th>\n",
       "      <th>PT08.S3(NOx)</th>\n",
       "      <th>NO2(GT)</th>\n",
       "      <th>PT08.S4(NO2)</th>\n",
       "      <th>PT08.S5(O3)</th>\n",
       "      <th>T</th>\n",
       "      <th>RH</th>\n",
       "      <th>AH</th>\n",
       "      <th>Unnamed: 15</th>\n",
       "      <th>Unnamed: 16</th>\n",
       "    </tr>\n",
       "  </thead>\n",
       "  <tbody>\n",
       "    <tr>\n",
       "      <th>9466</th>\n",
       "      <td>NaN</td>\n",
       "      <td>NaN</td>\n",
       "      <td>NaN</td>\n",
       "      <td>NaN</td>\n",
       "      <td>NaN</td>\n",
       "      <td>NaN</td>\n",
       "      <td>NaN</td>\n",
       "      <td>NaN</td>\n",
       "      <td>NaN</td>\n",
       "      <td>NaN</td>\n",
       "      <td>NaN</td>\n",
       "      <td>NaN</td>\n",
       "      <td>NaN</td>\n",
       "      <td>NaN</td>\n",
       "      <td>NaN</td>\n",
       "      <td>NaN</td>\n",
       "      <td>NaN</td>\n",
       "    </tr>\n",
       "    <tr>\n",
       "      <th>9467</th>\n",
       "      <td>NaN</td>\n",
       "      <td>NaN</td>\n",
       "      <td>NaN</td>\n",
       "      <td>NaN</td>\n",
       "      <td>NaN</td>\n",
       "      <td>NaN</td>\n",
       "      <td>NaN</td>\n",
       "      <td>NaN</td>\n",
       "      <td>NaN</td>\n",
       "      <td>NaN</td>\n",
       "      <td>NaN</td>\n",
       "      <td>NaN</td>\n",
       "      <td>NaN</td>\n",
       "      <td>NaN</td>\n",
       "      <td>NaN</td>\n",
       "      <td>NaN</td>\n",
       "      <td>NaN</td>\n",
       "    </tr>\n",
       "    <tr>\n",
       "      <th>9468</th>\n",
       "      <td>NaN</td>\n",
       "      <td>NaN</td>\n",
       "      <td>NaN</td>\n",
       "      <td>NaN</td>\n",
       "      <td>NaN</td>\n",
       "      <td>NaN</td>\n",
       "      <td>NaN</td>\n",
       "      <td>NaN</td>\n",
       "      <td>NaN</td>\n",
       "      <td>NaN</td>\n",
       "      <td>NaN</td>\n",
       "      <td>NaN</td>\n",
       "      <td>NaN</td>\n",
       "      <td>NaN</td>\n",
       "      <td>NaN</td>\n",
       "      <td>NaN</td>\n",
       "      <td>NaN</td>\n",
       "    </tr>\n",
       "    <tr>\n",
       "      <th>9469</th>\n",
       "      <td>NaN</td>\n",
       "      <td>NaN</td>\n",
       "      <td>NaN</td>\n",
       "      <td>NaN</td>\n",
       "      <td>NaN</td>\n",
       "      <td>NaN</td>\n",
       "      <td>NaN</td>\n",
       "      <td>NaN</td>\n",
       "      <td>NaN</td>\n",
       "      <td>NaN</td>\n",
       "      <td>NaN</td>\n",
       "      <td>NaN</td>\n",
       "      <td>NaN</td>\n",
       "      <td>NaN</td>\n",
       "      <td>NaN</td>\n",
       "      <td>NaN</td>\n",
       "      <td>NaN</td>\n",
       "    </tr>\n",
       "    <tr>\n",
       "      <th>9470</th>\n",
       "      <td>NaN</td>\n",
       "      <td>NaN</td>\n",
       "      <td>NaN</td>\n",
       "      <td>NaN</td>\n",
       "      <td>NaN</td>\n",
       "      <td>NaN</td>\n",
       "      <td>NaN</td>\n",
       "      <td>NaN</td>\n",
       "      <td>NaN</td>\n",
       "      <td>NaN</td>\n",
       "      <td>NaN</td>\n",
       "      <td>NaN</td>\n",
       "      <td>NaN</td>\n",
       "      <td>NaN</td>\n",
       "      <td>NaN</td>\n",
       "      <td>NaN</td>\n",
       "      <td>NaN</td>\n",
       "    </tr>\n",
       "  </tbody>\n",
       "</table>\n",
       "</div>"
      ],
      "text/plain": [
       "     Date Time CO(GT)  PT08.S1(CO)  NMHC(GT) C6H6(GT)  PT08.S2(NMHC)  NOx(GT)  \\\n",
       "9466  NaN  NaN    NaN          NaN       NaN      NaN            NaN      NaN   \n",
       "9467  NaN  NaN    NaN          NaN       NaN      NaN            NaN      NaN   \n",
       "9468  NaN  NaN    NaN          NaN       NaN      NaN            NaN      NaN   \n",
       "9469  NaN  NaN    NaN          NaN       NaN      NaN            NaN      NaN   \n",
       "9470  NaN  NaN    NaN          NaN       NaN      NaN            NaN      NaN   \n",
       "\n",
       "      PT08.S3(NOx)  NO2(GT)  PT08.S4(NO2)  PT08.S5(O3)    T   RH   AH  \\\n",
       "9466           NaN      NaN           NaN          NaN  NaN  NaN  NaN   \n",
       "9467           NaN      NaN           NaN          NaN  NaN  NaN  NaN   \n",
       "9468           NaN      NaN           NaN          NaN  NaN  NaN  NaN   \n",
       "9469           NaN      NaN           NaN          NaN  NaN  NaN  NaN   \n",
       "9470           NaN      NaN           NaN          NaN  NaN  NaN  NaN   \n",
       "\n",
       "      Unnamed: 15  Unnamed: 16  \n",
       "9466          NaN          NaN  \n",
       "9467          NaN          NaN  \n",
       "9468          NaN          NaN  \n",
       "9469          NaN          NaN  \n",
       "9470          NaN          NaN  "
      ]
     },
     "metadata": {},
     "output_type": "display_data"
    }
   ],
   "source": [
    "airdata = pd.read_csv(\"/Users/jerry/Downloads/AirQualityUCI/AirQualityUCI.csv\", sep = \";\")\n",
    "\n",
    "def missing_table(input):\n",
    "    total_temp = input.isnull().sum().sort_values(ascending = False)\n",
    "    percent_miss_temp = (input.isnull().sum() / (len(airdata))*100).sort_values(ascending = False)\n",
    "    airdata_missing = pd.concat([total_temp, percent_miss_temp], axis = 1 ,keys = ['total_missing', 'percent_missing(%)']) \n",
    "    return airdata_missing\n",
    "\n",
    "display(missing_table(airdata))\n",
    "display(airdata.tail(5))\n"
   ]
  },
  {
   "cell_type": "markdown",
   "metadata": {},
   "source": [
    "#### Concl. The missing value has already replaced with -200, these 114 null values are caused when loading csv, we can directly eliminate it."
   ]
  },
  {
   "cell_type": "markdown",
   "metadata": {},
   "source": [
    "### Load data with processing"
   ]
  },
  {
   "cell_type": "code",
   "execution_count": 4,
   "metadata": {},
   "outputs": [
    {
     "name": "stdout",
     "output_type": "stream",
     "text": [
      "Mem. usage decreased to  0.56 Mb (62.5% reduction)\n",
      "---------------------\n",
      "['Date', 'Time', 'CO(GT)', 'PT08.S1(CO)', 'NMHC(GT)', 'C6H6(GT)', 'PT08.S2(NMHC)', 'NOx(GT)', 'PT08.S3(NOx)', 'NO2(GT)', 'PT08.S4(NO2)', 'PT08.S5(O3)', 'T', 'RH', 'AH', 'Datetime', 'year', 'month', 'day', 'hour', 'str_date']\n"
     ]
    },
    {
     "data": {
      "text/html": [
       "<div>\n",
       "<style scoped>\n",
       "    .dataframe tbody tr th:only-of-type {\n",
       "        vertical-align: middle;\n",
       "    }\n",
       "\n",
       "    .dataframe tbody tr th {\n",
       "        vertical-align: top;\n",
       "    }\n",
       "\n",
       "    .dataframe thead th {\n",
       "        text-align: right;\n",
       "    }\n",
       "</style>\n",
       "<table border=\"1\" class=\"dataframe\">\n",
       "  <thead>\n",
       "    <tr style=\"text-align: right;\">\n",
       "      <th></th>\n",
       "      <th>Datetime</th>\n",
       "      <th>Date</th>\n",
       "      <th>Time</th>\n",
       "      <th>year</th>\n",
       "      <th>month</th>\n",
       "      <th>day</th>\n",
       "      <th>hour</th>\n",
       "      <th>CO(GT)</th>\n",
       "      <th>NMHC(GT)</th>\n",
       "      <th>C6H6(GT)</th>\n",
       "      <th>NOx(GT)</th>\n",
       "      <th>NO2(GT)</th>\n",
       "      <th>PT08.S1(CO)</th>\n",
       "      <th>PT08.S2(NMHC)</th>\n",
       "      <th>PT08.S3(NOx)</th>\n",
       "      <th>PT08.S4(NO2)</th>\n",
       "      <th>PT08.S5(O3)</th>\n",
       "      <th>T</th>\n",
       "      <th>RH</th>\n",
       "      <th>AH</th>\n",
       "      <th>str_date</th>\n",
       "    </tr>\n",
       "  </thead>\n",
       "  <tbody>\n",
       "    <tr>\n",
       "      <th>0</th>\n",
       "      <td>2004-03-10 18:00:00</td>\n",
       "      <td>2004-03-10</td>\n",
       "      <td>18.00.00</td>\n",
       "      <td>2004</td>\n",
       "      <td>3</td>\n",
       "      <td>10</td>\n",
       "      <td>18</td>\n",
       "      <td>2.599609</td>\n",
       "      <td>150.0</td>\n",
       "      <td>11.898438</td>\n",
       "      <td>166.0</td>\n",
       "      <td>113.0</td>\n",
       "      <td>1360.0</td>\n",
       "      <td>1046.0</td>\n",
       "      <td>1056.0</td>\n",
       "      <td>1692.0</td>\n",
       "      <td>1268.0</td>\n",
       "      <td>13.601562</td>\n",
       "      <td>48.90625</td>\n",
       "      <td>0.757812</td>\n",
       "      <td>2004/3/10</td>\n",
       "    </tr>\n",
       "    <tr>\n",
       "      <th>1</th>\n",
       "      <td>2004-03-10 19:00:00</td>\n",
       "      <td>2004-03-10</td>\n",
       "      <td>19.00.00</td>\n",
       "      <td>2004</td>\n",
       "      <td>3</td>\n",
       "      <td>10</td>\n",
       "      <td>19</td>\n",
       "      <td>2.000000</td>\n",
       "      <td>112.0</td>\n",
       "      <td>9.398438</td>\n",
       "      <td>103.0</td>\n",
       "      <td>92.0</td>\n",
       "      <td>1292.0</td>\n",
       "      <td>955.0</td>\n",
       "      <td>1174.0</td>\n",
       "      <td>1559.0</td>\n",
       "      <td>972.0</td>\n",
       "      <td>13.296875</td>\n",
       "      <td>47.68750</td>\n",
       "      <td>0.725586</td>\n",
       "      <td>2004/3/10</td>\n",
       "    </tr>\n",
       "    <tr>\n",
       "      <th>2</th>\n",
       "      <td>2004-03-10 20:00:00</td>\n",
       "      <td>2004-03-10</td>\n",
       "      <td>20.00.00</td>\n",
       "      <td>2004</td>\n",
       "      <td>3</td>\n",
       "      <td>10</td>\n",
       "      <td>20</td>\n",
       "      <td>2.199219</td>\n",
       "      <td>88.0</td>\n",
       "      <td>9.000000</td>\n",
       "      <td>131.0</td>\n",
       "      <td>114.0</td>\n",
       "      <td>1402.0</td>\n",
       "      <td>939.0</td>\n",
       "      <td>1140.0</td>\n",
       "      <td>1555.0</td>\n",
       "      <td>1074.0</td>\n",
       "      <td>11.898438</td>\n",
       "      <td>54.00000</td>\n",
       "      <td>0.750000</td>\n",
       "      <td>2004/3/10</td>\n",
       "    </tr>\n",
       "    <tr>\n",
       "      <th>3</th>\n",
       "      <td>2004-03-10 21:00:00</td>\n",
       "      <td>2004-03-10</td>\n",
       "      <td>21.00.00</td>\n",
       "      <td>2004</td>\n",
       "      <td>3</td>\n",
       "      <td>10</td>\n",
       "      <td>21</td>\n",
       "      <td>2.199219</td>\n",
       "      <td>80.0</td>\n",
       "      <td>9.203125</td>\n",
       "      <td>172.0</td>\n",
       "      <td>122.0</td>\n",
       "      <td>1376.0</td>\n",
       "      <td>948.0</td>\n",
       "      <td>1092.0</td>\n",
       "      <td>1584.0</td>\n",
       "      <td>1203.0</td>\n",
       "      <td>11.000000</td>\n",
       "      <td>60.00000</td>\n",
       "      <td>0.786621</td>\n",
       "      <td>2004/3/10</td>\n",
       "    </tr>\n",
       "    <tr>\n",
       "      <th>4</th>\n",
       "      <td>2004-03-10 22:00:00</td>\n",
       "      <td>2004-03-10</td>\n",
       "      <td>22.00.00</td>\n",
       "      <td>2004</td>\n",
       "      <td>3</td>\n",
       "      <td>10</td>\n",
       "      <td>22</td>\n",
       "      <td>1.599609</td>\n",
       "      <td>51.0</td>\n",
       "      <td>6.500000</td>\n",
       "      <td>131.0</td>\n",
       "      <td>116.0</td>\n",
       "      <td>1272.0</td>\n",
       "      <td>836.0</td>\n",
       "      <td>1205.0</td>\n",
       "      <td>1490.0</td>\n",
       "      <td>1110.0</td>\n",
       "      <td>11.203125</td>\n",
       "      <td>59.59375</td>\n",
       "      <td>0.788574</td>\n",
       "      <td>2004/3/10</td>\n",
       "    </tr>\n",
       "  </tbody>\n",
       "</table>\n",
       "</div>"
      ],
      "text/plain": [
       "             Datetime       Date      Time  year  month  day  hour    CO(GT)  \\\n",
       "0 2004-03-10 18:00:00 2004-03-10  18.00.00  2004      3   10    18  2.599609   \n",
       "1 2004-03-10 19:00:00 2004-03-10  19.00.00  2004      3   10    19  2.000000   \n",
       "2 2004-03-10 20:00:00 2004-03-10  20.00.00  2004      3   10    20  2.199219   \n",
       "3 2004-03-10 21:00:00 2004-03-10  21.00.00  2004      3   10    21  2.199219   \n",
       "4 2004-03-10 22:00:00 2004-03-10  22.00.00  2004      3   10    22  1.599609   \n",
       "\n",
       "   NMHC(GT)   C6H6(GT)  NOx(GT)  NO2(GT)  PT08.S1(CO)  PT08.S2(NMHC)  \\\n",
       "0     150.0  11.898438    166.0    113.0       1360.0         1046.0   \n",
       "1     112.0   9.398438    103.0     92.0       1292.0          955.0   \n",
       "2      88.0   9.000000    131.0    114.0       1402.0          939.0   \n",
       "3      80.0   9.203125    172.0    122.0       1376.0          948.0   \n",
       "4      51.0   6.500000    131.0    116.0       1272.0          836.0   \n",
       "\n",
       "   PT08.S3(NOx)  PT08.S4(NO2)  PT08.S5(O3)          T        RH        AH  \\\n",
       "0        1056.0        1692.0       1268.0  13.601562  48.90625  0.757812   \n",
       "1        1174.0        1559.0        972.0  13.296875  47.68750  0.725586   \n",
       "2        1140.0        1555.0       1074.0  11.898438  54.00000  0.750000   \n",
       "3        1092.0        1584.0       1203.0  11.000000  60.00000  0.786621   \n",
       "4        1205.0        1490.0       1110.0  11.203125  59.59375  0.788574   \n",
       "\n",
       "    str_date  \n",
       "0  2004/3/10  \n",
       "1  2004/3/10  \n",
       "2  2004/3/10  \n",
       "3  2004/3/10  \n",
       "4  2004/3/10  "
      ]
     },
     "metadata": {},
     "output_type": "display_data"
    }
   ],
   "source": [
    "def read_data(input_file):\n",
    "    df = pd.read_csv(input_file, sep = ';', decimal = \",\")\n",
    "    df = df.iloc[0:9357, 0:15] ###to remove unnamed column 16 and 17\n",
    "    df['Datetime'] = df[\"Date\"].map(str)+ ' ' + df[\"Time\"].map(str) \n",
    "    df['Datetime'] = pd.to_datetime(df['Datetime'], format='%d/%m/%Y %H.%M.%S') \n",
    "    df['Date'] = pd.to_datetime(df['Date'], format = '%d/%m/%Y')\n",
    "    df['year'] = df['Datetime'].dt.year\n",
    "    df['month'] = df['Datetime'].dt.month\n",
    "    df['day'] = df['Datetime'].dt.day\n",
    "    df['hour'] = df['Datetime'].dt.hour\n",
    "    df['str_date'] = df[\"year\"].map(str)+ '/' + df[\"month\"].map(str) + '/'+  df[\"day\"].map(str)\n",
    "    return df\n",
    "\n",
    "airdata = read_data(\"/Users/jerry/Downloads/AirQualityUCI/AirQualityUCI.csv\")\n",
    "airdata = reduce_mem_usage(airdata)\n",
    "\n",
    "## rearrange the columns order\n",
    "print('---------------------')\n",
    "print(list(airdata.columns.values))\n",
    "airdata = airdata[['Datetime',\n",
    "                   'Date',\n",
    "                   'Time',\n",
    "                   'year',\n",
    "                   'month',\n",
    "                   'day',\n",
    "                   'hour',\n",
    "                   'CO(GT)',\n",
    "                   'NMHC(GT)',\n",
    "                   'C6H6(GT)',\n",
    "                   'NOx(GT)',\n",
    "                   'NO2(GT)',\n",
    "                   'PT08.S1(CO)',\n",
    "                   'PT08.S2(NMHC)',\n",
    "                   'PT08.S3(NOx)',\n",
    "                   'PT08.S4(NO2)',\n",
    "                   'PT08.S5(O3)',\n",
    "                   'T',\n",
    "                   'RH',\n",
    "                   'AH',\n",
    "                   'str_date']]\n",
    "display(airdata.head(5))"
   ]
  },
  {
   "cell_type": "markdown",
   "metadata": {},
   "source": [
    "### Missing values description (replaced with -200)"
   ]
  },
  {
   "cell_type": "markdown",
   "metadata": {},
   "source": [
    "#### 1. Amount of missing replaced with -200"
   ]
  },
  {
   "cell_type": "code",
   "execution_count": 5,
   "metadata": {},
   "outputs": [
    {
     "data": {
      "text/html": [
       "<div>\n",
       "<style scoped>\n",
       "    .dataframe tbody tr th:only-of-type {\n",
       "        vertical-align: middle;\n",
       "    }\n",
       "\n",
       "    .dataframe tbody tr th {\n",
       "        vertical-align: top;\n",
       "    }\n",
       "\n",
       "    .dataframe thead th {\n",
       "        text-align: right;\n",
       "    }\n",
       "</style>\n",
       "<table border=\"1\" class=\"dataframe\">\n",
       "  <thead>\n",
       "    <tr style=\"text-align: right;\">\n",
       "      <th></th>\n",
       "      <th>total_missing</th>\n",
       "      <th>percent_missing(%)</th>\n",
       "    </tr>\n",
       "  </thead>\n",
       "  <tbody>\n",
       "    <tr>\n",
       "      <th>NMHC(GT)</th>\n",
       "      <td>8443</td>\n",
       "      <td>90.231912</td>\n",
       "    </tr>\n",
       "    <tr>\n",
       "      <th>CO(GT)</th>\n",
       "      <td>1683</td>\n",
       "      <td>17.986534</td>\n",
       "    </tr>\n",
       "    <tr>\n",
       "      <th>NO2(GT)</th>\n",
       "      <td>1642</td>\n",
       "      <td>17.548360</td>\n",
       "    </tr>\n",
       "    <tr>\n",
       "      <th>NOx(GT)</th>\n",
       "      <td>1639</td>\n",
       "      <td>17.516298</td>\n",
       "    </tr>\n",
       "    <tr>\n",
       "      <th>RH</th>\n",
       "      <td>366</td>\n",
       "      <td>3.911510</td>\n",
       "    </tr>\n",
       "    <tr>\n",
       "      <th>T</th>\n",
       "      <td>366</td>\n",
       "      <td>3.911510</td>\n",
       "    </tr>\n",
       "    <tr>\n",
       "      <th>PT08.S5(O3)</th>\n",
       "      <td>366</td>\n",
       "      <td>3.911510</td>\n",
       "    </tr>\n",
       "    <tr>\n",
       "      <th>PT08.S4(NO2)</th>\n",
       "      <td>366</td>\n",
       "      <td>3.911510</td>\n",
       "    </tr>\n",
       "    <tr>\n",
       "      <th>PT08.S3(NOx)</th>\n",
       "      <td>366</td>\n",
       "      <td>3.911510</td>\n",
       "    </tr>\n",
       "    <tr>\n",
       "      <th>PT08.S2(NMHC)</th>\n",
       "      <td>366</td>\n",
       "      <td>3.911510</td>\n",
       "    </tr>\n",
       "    <tr>\n",
       "      <th>PT08.S1(CO)</th>\n",
       "      <td>366</td>\n",
       "      <td>3.911510</td>\n",
       "    </tr>\n",
       "    <tr>\n",
       "      <th>AH</th>\n",
       "      <td>366</td>\n",
       "      <td>3.911510</td>\n",
       "    </tr>\n",
       "    <tr>\n",
       "      <th>C6H6(GT)</th>\n",
       "      <td>366</td>\n",
       "      <td>3.911510</td>\n",
       "    </tr>\n",
       "    <tr>\n",
       "      <th>year</th>\n",
       "      <td>0</td>\n",
       "      <td>0.000000</td>\n",
       "    </tr>\n",
       "    <tr>\n",
       "      <th>Date</th>\n",
       "      <td>0</td>\n",
       "      <td>0.000000</td>\n",
       "    </tr>\n",
       "    <tr>\n",
       "      <th>Time</th>\n",
       "      <td>0</td>\n",
       "      <td>0.000000</td>\n",
       "    </tr>\n",
       "    <tr>\n",
       "      <th>str_date</th>\n",
       "      <td>0</td>\n",
       "      <td>0.000000</td>\n",
       "    </tr>\n",
       "    <tr>\n",
       "      <th>month</th>\n",
       "      <td>0</td>\n",
       "      <td>0.000000</td>\n",
       "    </tr>\n",
       "    <tr>\n",
       "      <th>day</th>\n",
       "      <td>0</td>\n",
       "      <td>0.000000</td>\n",
       "    </tr>\n",
       "    <tr>\n",
       "      <th>hour</th>\n",
       "      <td>0</td>\n",
       "      <td>0.000000</td>\n",
       "    </tr>\n",
       "    <tr>\n",
       "      <th>Datetime</th>\n",
       "      <td>0</td>\n",
       "      <td>0.000000</td>\n",
       "    </tr>\n",
       "  </tbody>\n",
       "</table>\n",
       "</div>"
      ],
      "text/plain": [
       "               total_missing  percent_missing(%)\n",
       "NMHC(GT)                8443           90.231912\n",
       "CO(GT)                  1683           17.986534\n",
       "NO2(GT)                 1642           17.548360\n",
       "NOx(GT)                 1639           17.516298\n",
       "RH                       366            3.911510\n",
       "T                        366            3.911510\n",
       "PT08.S5(O3)              366            3.911510\n",
       "PT08.S4(NO2)             366            3.911510\n",
       "PT08.S3(NOx)             366            3.911510\n",
       "PT08.S2(NMHC)            366            3.911510\n",
       "PT08.S1(CO)              366            3.911510\n",
       "AH                       366            3.911510\n",
       "C6H6(GT)                 366            3.911510\n",
       "year                       0            0.000000\n",
       "Date                       0            0.000000\n",
       "Time                       0            0.000000\n",
       "str_date                   0            0.000000\n",
       "month                      0            0.000000\n",
       "day                        0            0.000000\n",
       "hour                       0            0.000000\n",
       "Datetime                   0            0.000000"
      ]
     },
     "metadata": {},
     "output_type": "display_data"
    }
   ],
   "source": [
    "total_airdata = airdata.applymap(lambda x: x == -200).sum().sort_values(ascending = False)\n",
    "percent_miss_airdata = (total_airdata / np.array(airdata.apply(len)) *100)\n",
    "airdata_missing = pd.concat([total_airdata, percent_miss_airdata], axis = 1 ,keys = ['total_missing', 'percent_missing(%)']) \n",
    "display(airdata_missing)"
   ]
  },
  {
   "cell_type": "markdown",
   "metadata": {},
   "source": [
    "#### 2. Check if there are missings in DateTime "
   ]
  },
  {
   "cell_type": "code",
   "execution_count": 34,
   "metadata": {},
   "outputs": [
    {
     "data": {
      "text/html": [
       "<div>\n",
       "<style scoped>\n",
       "    .dataframe tbody tr th:only-of-type {\n",
       "        vertical-align: middle;\n",
       "    }\n",
       "\n",
       "    .dataframe tbody tr th {\n",
       "        vertical-align: top;\n",
       "    }\n",
       "\n",
       "    .dataframe thead th {\n",
       "        text-align: right;\n",
       "    }\n",
       "</style>\n",
       "<table border=\"1\" class=\"dataframe\">\n",
       "  <thead>\n",
       "    <tr style=\"text-align: right;\">\n",
       "      <th></th>\n",
       "      <th>index</th>\n",
       "      <th>Date</th>\n",
       "    </tr>\n",
       "  </thead>\n",
       "  <tbody>\n",
       "    <tr>\n",
       "      <th>2</th>\n",
       "      <td>2004.10</td>\n",
       "      <td>31</td>\n",
       "    </tr>\n",
       "    <tr>\n",
       "      <th>7</th>\n",
       "      <td>2004.11</td>\n",
       "      <td>30</td>\n",
       "    </tr>\n",
       "    <tr>\n",
       "      <th>5</th>\n",
       "      <td>2004.12</td>\n",
       "      <td>31</td>\n",
       "    </tr>\n",
       "    <tr>\n",
       "      <th>12</th>\n",
       "      <td>2004.3</td>\n",
       "      <td>22</td>\n",
       "    </tr>\n",
       "    <tr>\n",
       "      <th>8</th>\n",
       "      <td>2004.4</td>\n",
       "      <td>30</td>\n",
       "    </tr>\n",
       "    <tr>\n",
       "      <th>6</th>\n",
       "      <td>2004.5</td>\n",
       "      <td>31</td>\n",
       "    </tr>\n",
       "    <tr>\n",
       "      <th>10</th>\n",
       "      <td>2004.6</td>\n",
       "      <td>30</td>\n",
       "    </tr>\n",
       "    <tr>\n",
       "      <th>1</th>\n",
       "      <td>2004.7</td>\n",
       "      <td>31</td>\n",
       "    </tr>\n",
       "    <tr>\n",
       "      <th>0</th>\n",
       "      <td>2004.8</td>\n",
       "      <td>31</td>\n",
       "    </tr>\n",
       "    <tr>\n",
       "      <th>9</th>\n",
       "      <td>2004.9</td>\n",
       "      <td>30</td>\n",
       "    </tr>\n",
       "    <tr>\n",
       "      <th>3</th>\n",
       "      <td>2005.1</td>\n",
       "      <td>31</td>\n",
       "    </tr>\n",
       "    <tr>\n",
       "      <th>11</th>\n",
       "      <td>2005.2</td>\n",
       "      <td>28</td>\n",
       "    </tr>\n",
       "    <tr>\n",
       "      <th>4</th>\n",
       "      <td>2005.3</td>\n",
       "      <td>31</td>\n",
       "    </tr>\n",
       "    <tr>\n",
       "      <th>13</th>\n",
       "      <td>2005.4</td>\n",
       "      <td>4</td>\n",
       "    </tr>\n",
       "  </tbody>\n",
       "</table>\n",
       "</div>"
      ],
      "text/plain": [
       "      index  Date\n",
       "2   2004.10    31\n",
       "7   2004.11    30\n",
       "5   2004.12    31\n",
       "12   2004.3    22\n",
       "8    2004.4    30\n",
       "6    2004.5    31\n",
       "10   2004.6    30\n",
       "1    2004.7    31\n",
       "0    2004.8    31\n",
       "9    2004.9    30\n",
       "3    2005.1    31\n",
       "11   2005.2    28\n",
       "4    2005.3    31\n",
       "13   2005.4     4"
      ]
     },
     "metadata": {},
     "output_type": "display_data"
    },
    {
     "name": "stdout",
     "output_type": "stream",
     "text": [
      "Each month are fully recorded, except first month and last month\n"
     ]
    },
    {
     "data": {
      "text/html": [
       "<div>\n",
       "<style scoped>\n",
       "    .dataframe tbody tr th:only-of-type {\n",
       "        vertical-align: middle;\n",
       "    }\n",
       "\n",
       "    .dataframe tbody tr th {\n",
       "        vertical-align: top;\n",
       "    }\n",
       "\n",
       "    .dataframe thead th {\n",
       "        text-align: right;\n",
       "    }\n",
       "</style>\n",
       "<table border=\"1\" class=\"dataframe\">\n",
       "  <thead>\n",
       "    <tr style=\"text-align: right;\">\n",
       "      <th></th>\n",
       "      <th>str_date</th>\n",
       "      <th>counts</th>\n",
       "    </tr>\n",
       "  </thead>\n",
       "  <tbody>\n",
       "    <tr>\n",
       "      <th>92</th>\n",
       "      <td>2004/3/10</td>\n",
       "      <td>6</td>\n",
       "    </tr>\n",
       "    <tr>\n",
       "      <th>390</th>\n",
       "      <td>2005/4/4</td>\n",
       "      <td>15</td>\n",
       "    </tr>\n",
       "  </tbody>\n",
       "</table>\n",
       "</div>"
      ],
      "text/plain": [
       "      str_date  counts\n",
       "92   2004/3/10       6\n",
       "390   2005/4/4      15"
      ]
     },
     "metadata": {},
     "output_type": "display_data"
    },
    {
     "name": "stdout",
     "output_type": "stream",
     "text": [
      "Each day got 24 records(every hour), except first day and last time \n"
     ]
    }
   ],
   "source": [
    "temp = airdata['Date'].drop_duplicates()\n",
    "temp = (temp.dt.year).astype(str) + '.' + (temp.dt.month).astype(str)\n",
    "temp = pd.DataFrame(temp.value_counts()).reset_index().sort_values(by = 'index')\n",
    "display(temp) ## each month are fully recorded, except first month and last month\n",
    "print('Each month are fully recorded, except first month and last month')\n",
    "\n",
    "temp = (pd.DataFrame(airdata.groupby('str_date').size(), columns = ['counts'])).reset_index()\n",
    "display(temp[temp['counts'] != 24])  ## each day got 24 records(every hour), except first day and last time \n",
    "print('Each day got 24 records(every hour), except first day and last time ')"
   ]
  },
  {
   "cell_type": "markdown",
   "metadata": {},
   "source": [
    "#### Concl. There have no missing in DateTime."
   ]
  },
  {
   "cell_type": "markdown",
   "metadata": {},
   "source": [
    "#### 3. The location of missing value: Heatmap"
   ]
  },
  {
   "cell_type": "code",
   "execution_count": 41,
   "metadata": {},
   "outputs": [
    {
     "data": {
      "image/png": "[encoded data removed]",
      "text/plain": [
       "<Figure size 504x504 with 1 Axes>"
      ]
     },
     "metadata": {},
     "output_type": "display_data"
    }
   ],
   "source": [
    "plt.figure(figsize=(7, 7))\n",
    "fig = sns.heatmap(airdata.iloc[ : , 7:20 ].applymap(lambda x: x == -200), cbar=False,  yticklabels = np.arange(0, 10000, 500))\n",
    "fig.yaxis.set_ticks(np.arange(0, 10000, 500))\n",
    "fig.set_xticklabels(fig.get_xticklabels(), rotation = 70)\n",
    "fig.set_title('Missing value location Heatmap', fontsize = 16)\n",
    "plt.xlabel(\"Column name\", labelpad=14)\n",
    "plt.ylabel(\"Index\", rotation=0, labelpad=24)\n",
    "sns.set(font_scale=1.1)\n",
    "plt.show()\n"
   ]
  },
  {
   "cell_type": "markdown",
   "metadata": {},
   "source": [
    "#### Concl. The sensor's 366 missing value are in the same location."
   ]
  },
  {
   "cell_type": "markdown",
   "metadata": {},
   "source": [
    "#### 4. Missing at random or not"
   ]
  },
  {
   "cell_type": "code",
   "execution_count": 50,
   "metadata": {
    "scrolled": true
   },
   "outputs": [
    {
     "data": {
      "image/png": "[encoded data removed]",
      "text/plain": [
       "<Figure size 864x360 with 1 Axes>"
      ]
     },
     "metadata": {},
     "output_type": "display_data"
    },
    {
     "name": "stdout",
     "output_type": "stream",
     "text": [
      "Includes eight days which are all-day-missing\n"
     ]
    },
    {
     "data": {
      "image/png": "[encoded data removed]",
      "text/plain": [
       "<Figure size 720x360 with 1 Axes>"
      ]
     },
     "metadata": {},
     "output_type": "display_data"
    },
    {
     "name": "stdout",
     "output_type": "stream",
     "text": [
      "There is no hour specific on missing value\n"
     ]
    }
   ],
   "source": [
    "## Relationship with day\n",
    "air_missing = airdata[airdata['PT08.S4(NO2)'] == -200]\n",
    "temp = pd.DataFrame(air_missing['str_date'])\n",
    "plt.figure(figsize=(12,5))\n",
    "fig = sns.countplot(x='str_date', data=temp, palette=[\"C3\"])\n",
    "fig.set_title('Missing value location count in Date', fontsize = 16)\n",
    "fig.set_xticklabels(list(air_missing['str_date'].drop_duplicates()), rotation=320, fontsize = 13)\n",
    "fig.set_yticklabels(np.arange(0, 25, 5), fontsize = 13)\n",
    "plt.xlabel(\"Date\", labelpad=17, fontsize = 14)\n",
    "plt.ylabel(\"Count\", rotation=0, labelpad=24, fontsize = 14)\n",
    "plt.show()\n",
    "\n",
    "print('Includes eight days which are all-day-missing')\n",
    "\n",
    "## Relationship with hour\n",
    "temp = airdata[airdata['PT08.S4(NO2)'] == -200]\n",
    "temp = pd.DataFrame(temp['hour'])\n",
    "plt.figure(figsize=(10,5))\n",
    "fig = sns.countplot(x=\"hour\", data=temp, palette=[\"C3\"])\n",
    "fig.set_title('Missing value location count in Hour', fontsize = 15)\n",
    "fig.set_xticklabels(fig.get_xticklabels(), fontsize = 13)\n",
    "fig.set_yticklabels(np.arange(0, 40, 5), fontsize = 13)\n",
    "plt.xlabel(\"Hour\", labelpad=17, fontsize = 14)\n",
    "plt.ylabel(\"Count\", rotation=0, labelpad=24, fontsize = 14)\n",
    "plt.show()\n",
    "\n",
    "print('There is no hour specific on missing value')\n",
    "\n"
   ]
  },
  {
   "cell_type": "markdown",
   "metadata": {},
   "source": [
    "#### Concl. The data includes eight days which are all-day-missing, and missing values are not hour specific.\n",
    "#### Concl. We can assume missing at random."
   ]
  },
  {
   "cell_type": "markdown",
   "metadata": {},
   "source": [
    "### Missing values imputation   "
   ]
  },
  {
   "cell_type": "markdown",
   "metadata": {},
   "source": [
    "Missing values treatments:\n",
    "* There are mainly two ways that I am considering. First way is to use the sequential hours within the day, and second one is to use the same hour in sequential days. For example, if the missing occurred at 5:00 4th.May, then the first solution will take the data recorded at 3:00, 4:00, 6:00 and 7:00 on 4th.May, and the second one will use 5:00 on 2nd.May, 3rd.May, 5th.May and 6th.May for imputation.\n",
    "    \n",
    "    \n",
    "* Although KNN are getting popular in imputing missing values, it might not be the good choice in this case, because the location of missing values are highly consistent in factor X(the heatmap above), it is also not recommended to break the time series and use only physical distance of each value to determine the relationship.\n",
    "    \n",
    "    \n",
    "* I also eliminate the whole day data if there are more than 12 missings within that day, because it is quite unreasonable if the data within a day are all imputed."
   ]
  },
  {
   "cell_type": "markdown",
   "metadata": {},
   "source": [
    "#### 1. Delete the day with more than 12 missing values "
   ]
  },
  {
   "cell_type": "code",
   "execution_count": 5,
   "metadata": {},
   "outputs": [
    {
     "data": {
      "image/png": "[encoded data removed]",
      "text/plain": [
       "<Figure size 864x360 with 1 Axes>"
      ]
     },
     "metadata": {
      "needs_background": "light"
     },
     "output_type": "display_data"
    }
   ],
   "source": [
    "temp = airdata[airdata['PT08.S4(NO2)'] == -200]\n",
    "temp = temp['Date'].value_counts()\n",
    "temp = (temp[temp > 12]).index\n",
    "airdata = airdata[~airdata['Date'].isin(temp)]\n",
    "# airdata[airdata['PT08.S4(NO2)'] == -200]['Date'].value_counts()    # can directly view the remaining missing amount\n",
    "temp = airdata[airdata['PT08.S4(NO2)'] == -200]\n",
    "\n",
    "## Visualize the remaining data\n",
    "plt.figure(figsize=(12,5))\n",
    "fig = sns.countplot(x=\"Date\", data=temp, palette=[\"C3\"])\n",
    "fig.set_title('Remaining missing value location count in Date', fontsize = 15)\n",
    "fig.set_xticklabels(list(temp['str_date'].drop_duplicates()), rotation=320, fontsize = 13)\n",
    "plt.xlabel(\"Date\", labelpad=17, fontsize = 14)\n",
    "plt.ylabel(\"Count\", rotation=0, labelpad=24, fontsize = 14)\n",
    "plt.show()\n"
   ]
  },
  {
   "cell_type": "markdown",
   "metadata": {},
   "source": [
    "#### 2. Pollution status in same hour regardless of day "
   ]
  },
  {
   "cell_type": "code",
   "execution_count": 12,
   "metadata": {
    "scrolled": true
   },
   "outputs": [
    {
     "data": {
      "application/vnd.plotly.v1+json": {
       "config": {
        "linkText": "Export to plot.ly",
        "plotlyServerURL": "https://plot.ly",
        "showLink": false
       },
       "data": [
        {
         "name": "PT08.S4(NO2)",
         "type": "scatter",
         "x": [
          "2004/3/11",
          "2004/3/12",
          "2004/3/13",
          "2004/3/14",
          "2004/3/15",
          "2004/3/16",
          "2004/3/17",
          "2004/3/18",
          "2004/3/19",
          "2004/3/20",
          "2004/3/21",
          "2004/3/22",
          "2004/3/23",
          "2004/3/24",
          "2004/3/25",
          "2004/3/26",
          "2004/3/27",
          "2004/3/28",
          "2004/3/29",
          "2004/3/30",
          "2004/3/31",
          "2004/4/1",
          "2004/4/2",
          "2004/4/3",
          "2004/4/4",
          "2004/4/5",
          "2004/4/6",
          "2004/4/7",
          "2004/4/8",
          "2004/4/10",
          "2004/4/11",
          "2004/4/12",
          "2004/4/13",
          "2004/4/14",
          "2004/4/15",
          "2004/4/16",
          "2004/4/17",
          "2004/4/18",
          "2004/4/19",
          "2004/4/20",
          "2004/4/21",
          "2004/4/22",
          "2004/4/23",
          "2004/4/24",
          "2004/4/25",
          "2004/4/26",
          "2004/4/27",
          "2004/4/28",
          "2004/4/29",
          "2004/4/30",
          "2004/5/1",
          "2004/5/2",
          "2004/5/3",
          "2004/5/4",
          "2004/5/5",
          "2004/5/6",
          "2004/5/7",
          "2004/5/8",
          "2004/5/9",
          "2004/5/10",
          "2004/5/11",
          "2004/5/12",
          "2004/5/13",
          "2004/5/14",
          "2004/5/15",
          "2004/5/16",
          "2004/5/17",
          "2004/5/18",
          "2004/5/19",
          "2004/5/20",
          "2004/5/21",
          "2004/5/22",
          "2004/5/23",
          "2004/5/24",
          "2004/5/25",
          "2004/5/26",
          "2004/5/27",
          "2004/5/28",
          "2004/5/29",
          "2004/5/30",
          "2004/5/31",
          "2004/6/1",
          "2004/6/2",
          "2004/6/3",
          "2004/6/4",
          "2004/6/5",
          "2004/6/6",
          "2004/6/7",
          "2004/6/8",
          "2004/6/9",
          "2004/6/10",
          "2004/6/11",
          "2004/6/12",
          "2004/6/13",
          "2004/6/14",
          "2004/6/15",
          "2004/6/16",
          "2004/6/17",
          "2004/6/18",
          "2004/6/19",
          "2004/6/21",
          "2004/6/22",
          "2004/6/23",
          "2004/6/24",
          "2004/6/25",
          "2004/6/26",
          "2004/6/27",
          "2004/6/28",
          "2004/6/29",
          "2004/6/30",
          "2004/7/1",
          "2004/7/2",
          "2004/7/3",
          "2004/7/4",
          "2004/7/5",
          "2004/7/6",
          "2004/7/7",
          "2004/7/8",
          "2004/7/9",
          "2004/7/10",
          "2004/7/11",
          "2004/7/12",
          "2004/7/13",
          "2004/7/14",
          "2004/7/15",
          "2004/7/16",
          "2004/7/17",
          "2004/7/18",
          "2004/7/19",
          "2004/7/20",
          "2004/7/21",
          "2004/7/22",
          "2004/7/23",
          "2004/7/24",
          "2004/7/25",
          "2004/7/26",
          "2004/7/27",
          "2004/7/28",
          "2004/7/29",
          "2004/7/30",
          "2004/7/31",
          "2004/8/1",
          "2004/8/2",
          "2004/8/3",
          "2004/8/4",
          "2004/8/5",
          "2004/8/6",
          "2004/8/7",
          "2004/8/8",
          "2004/8/9",
          "2004/8/10",
          "2004/8/11",
          "2004/8/12",
          "2004/8/13",
          "2004/8/14",
          "2004/8/15",
          "2004/8/16",
          "2004/8/17",
          "2004/8/18",
          "2004/8/19",
          "2004/8/20",
          "2004/8/21",
          "2004/8/22",
          "2004/8/23",
          "2004/8/24",
          "2004/8/25",
          "2004/8/28",
          "2004/8/29",
          "2004/8/30",
          "2004/8/31",
          "2004/9/1",
          "2004/9/2",
          "2004/9/3",
          "2004/9/4",
          "2004/9/5",
          "2004/9/6",
          "2004/9/7",
          "2004/9/9",
          "2004/9/10",
          "2004/9/11",
          "2004/9/12",
          "2004/9/13",
          "2004/9/14",
          "2004/9/15",
          "2004/9/16",
          "2004/9/17",
          "2004/9/18",
          "2004/9/19",
          "2004/9/20",
          "2004/9/21",
          "2004/9/22",
          "2004/9/23",
          "2004/9/24",
          "2004/9/25",
          "2004/9/26",
          "2004/9/27",
          "2004/9/28",
          "2004/9/29",
          "2004/9/30",
          "2004/10/1",
          "2004/10/2",
          "2004/10/3",
          "2004/10/4",
          "2004/10/5",
          "2004/10/6",
          "2004/10/7",
          "2004/10/8",
          "2004/10/9",
          "2004/10/10",
          "2004/10/11",
          "2004/10/12",
          "2004/10/13",
          "2004/10/14",
          "2004/10/15",
          "2004/10/16",
          "2004/10/17",
          "2004/10/18",
          "2004/10/19",
          "2004/10/20",
          "2004/10/21",
          "2004/10/22",
          "2004/10/23",
          "2004/10/24",
          "2004/10/25",
          "2004/10/26",
          "2004/10/27",
          "2004/10/28",
          "2004/10/29",
          "2004/10/30",
          "2004/10/31",
          "2004/11/1",
          "2004/11/2",
          "2004/11/3",
          "2004/11/4",
          "2004/11/5",
          "2004/11/6",
          "2004/11/7",
          "2004/11/8",
          "2004/11/9",
          "2004/11/10",
          "2004/11/11",
          "2004/11/12",
          "2004/11/13",
          "2004/11/14",
          "2004/11/15",
          "2004/11/16",
          "2004/11/17",
          "2004/11/18",
          "2004/11/19",
          "2004/11/20",
          "2004/11/21",
          "2004/11/22",
          "2004/11/23",
          "2004/11/24",
          "2004/11/25",
          "2004/11/26",
          "2004/11/27",
          "2004/11/28",
          "2004/11/29",
          "2004/11/30",
          "2004/12/1",
          "2004/12/2",
          "2004/12/3",
          "2004/12/4",
          "2004/12/5",
          "2004/12/6",
          "2004/12/7",
          "2004/12/8",
          "2004/12/9",
          "2004/12/10",
          "2004/12/11",
          "2004/12/12",
          "2004/12/13",
          "2004/12/14",
          "2004/12/18",
          "2004/12/19",
          "2004/12/20",
          "2004/12/21",
          "2004/12/22",
          "2004/12/23",
          "2004/12/24",
          "2004/12/25",
          "2004/12/26",
          "2004/12/27",
          "2004/12/28",
          "2004/12/29",
          "2004/12/30",
          "2004/12/31",
          "2005/1/1",
          "2005/1/2",
          "2005/1/5",
          "2005/1/6",
          "2005/1/7",
          "2005/1/8",
          "2005/1/9",
          "2005/1/10",
          "2005/1/11",
          "2005/1/12",
          "2005/1/13",
          "2005/1/14",
          "2005/1/15",
          "2005/1/16",
          "2005/1/17",
          "2005/1/18",
          "2005/1/19",
          "2005/1/20",
          "2005/1/21",
          "2005/1/22",
          "2005/1/23",
          "2005/1/24",
          "2005/1/25",
          "2005/1/26",
          "2005/1/27",
          "2005/1/28",
          "2005/1/29",
          "2005/1/30",
          "2005/1/31",
          "2005/2/1",
          "2005/2/2",
          "2005/2/3",
          "2005/2/4",
          "2005/2/5",
          "2005/2/6",
          "2005/2/7",
          "2005/2/8",
          "2005/2/12",
          "2005/2/13",
          "2005/2/14",
          "2005/2/15",
          "2005/2/16",
          "2005/2/17",
          "2005/2/18",
          "2005/2/19",
          "2005/2/20",
          "2005/2/21",
          "2005/2/22",
          "2005/2/23",
          "2005/2/24",
          "2005/2/25",
          "2005/2/26",
          "2005/2/27",
          "2005/2/28",
          "2005/3/1",
          "2005/3/2",
          "2005/3/3",
          "2005/3/4",
          "2005/3/5",
          "2005/3/6",
          "2005/3/7",
          "2005/3/8",
          "2005/3/9",
          "2005/3/10",
          "2005/3/11",
          "2005/3/12",
          "2005/3/13",
          "2005/3/14",
          "2005/3/15",
          "2005/3/16",
          "2005/3/17",
          "2005/3/18",
          "2005/3/19",
          "2005/3/20",
          "2005/3/21",
          "2005/3/22",
          "2005/3/23",
          "2005/3/24",
          "2005/3/25",
          "2005/3/26",
          "2005/3/27",
          "2005/3/28",
          "2005/3/29",
          "2005/3/30",
          "2005/3/31",
          "2005/4/1",
          "2005/4/2",
          "2005/4/3",
          "2005/4/4"
         ],
         "y": [
          1276,
          1304,
          1365,
          1543,
          1566,
          1386,
          1383,
          1407,
          1380,
          1382,
          1526,
          1355,
          1330,
          1326,
          1253,
          1313,
          1312,
          1395,
          1076,
          1130,
          1256,
          1405,
          1350,
          1455,
          1500,
          1375,
          1336,
          1214,
          1383,
          1507,
          1310,
          1111,
          1182,
          1307,
          1259,
          1532,
          1565,
          1501,
          1494,
          1290,
          1381,
          1377,
          1337,
          1597,
          1317,
          1152,
          1212,
          1359,
          1409,
          1628,
          1647,
          1536,
          1397,
          1517,
          1360,
          1310,
          1427,
          1252,
          1601,
          1344,
          1317,
          1511,
          1316,
          1538,
          1389,
          1370,
          1113,
          1264,
          1367,
          1398,
          1331,
          1594,
          1780,
          1169,
          1063,
          -200,
          1288,
          1439,
          1466,
          1437,
          1286,
          1494,
          1622,
          1664,
          1526,
          1702,
          1727,
          1386,
          1452,
          1609,
          1598,
          1435,
          1368,
          1500,
          1235,
          1335,
          1522,
          1501,
          1467,
          1528,
          -200,
          1374,
          1455,
          1645,
          1457,
          1382,
          1638,
          1444,
          1534,
          1683,
          1607,
          1662,
          1461,
          1639,
          1405,
          1510,
          1463,
          1507,
          1585,
          1539,
          1423,
          1323,
          1353,
          1469,
          1355,
          1360,
          1552,
          1447,
          1343,
          1513,
          1545,
          1580,
          1544,
          1748,
          1530,
          1465,
          1466,
          1336,
          1276,
          1551,
          1588,
          1637,
          1542,
          1469,
          1658,
          1547,
          1616,
          1530,
          1548,
          1605,
          1535,
          1665,
          1638,
          1557,
          1442,
          1473,
          1337,
          1385,
          1428,
          1465,
          1562,
          1407,
          1486,
          1348,
          1265,
          1464,
          -200,
          1580,
          1376,
          1401,
          1412,
          1416,
          1407,
          1400,
          1376,
          1224,
          1258,
          1157,
          1251,
          1259,
          1495,
          1452,
          1375,
          1460,
          1421,
          1295,
          1215,
          1415,
          1301,
          1271,
          1302,
          1385,
          1394,
          1106,
          1287,
          1247,
          1113,
          1157,
          1173,
          1465,
          1500,
          1416,
          1323,
          1270,
          1377,
          1375,
          1317,
          1502,
          1560,
          1302,
          1277,
          1065,
          1074,
          1289,
          1249,
          1307,
          1177,
          1354,
          1509,
          1570,
          1423,
          1418,
          1577,
          1353,
          1331,
          1401,
          1299,
          1286,
          1400,
          1445,
          1767,
          1374,
          1542,
          1362,
          1430,
          1403,
          1305,
          998,
          986,
          1049,
          1189,
          1120,
          1133,
          914,
          800,
          937,
          962,
          1106,
          1173,
          734,
          919,
          942,
          1216,
          1327,
          1262,
          1215,
          1482,
          1214,
          1289,
          1288,
          1127,
          1254,
          1452,
          1408,
          1132,
          1124,
          1138,
          1149,
          1108,
          940,
          891,
          1164,
          1056,
          1174,
          1196,
          923,
          1059,
          698,
          872,
          914,
          1164,
          1385,
          1166,
          1107,
          1084,
          1107,
          878,
          919,
          1002,
          963,
          1261,
          1188,
          1100,
          1069,
          1216,
          1210,
          1167,
          1296,
          1167,
          1064,
          1087,
          1062,
          875,
          901,
          1208,
          893,
          992,
          1395,
          978,
          1173,
          726,
          757,
          826,
          807,
          745,
          787,
          685,
          904,
          1065,
          902,
          954,
          939,
          876,
          749,
          761,
          1174,
          1451,
          1120,
          740,
          1014,
          1024,
          867,
          913,
          1124,
          936,
          963,
          951,
          1023,
          1127,
          1063,
          1004,
          755,
          602,
          605,
          884,
          1108,
          989,
          826,
          785,
          851,
          887,
          1067,
          887,
          1113,
          1069,
          1187,
          1062,
          1054,
          1056,
          1099,
          1099,
          1192,
          1160,
          1107,
          1184,
          1099,
          1263,
          1361,
          1241,
          1247,
          1148,
          1104,
          1169,
          882,
          768,
          931,
          1002
         ]
        }
       ],
       "layout": {
        "height": 350,
        "legend": {
         "orientation": "v"
        },
        "margin": {
         "b": 90,
         "l": 80,
         "r": 80,
         "t": 70
        },
        "template": {
         "data": {
          "bar": [
           {
            "error_x": {
             "color": "#2a3f5f"
            },
            "error_y": {
             "color": "#2a3f5f"
            },
            "marker": {
             "line": {
              "color": "#E5ECF6",
              "width": 0.5
             }
            },
            "type": "bar"
           }
          ],
          "barpolar": [
           {
            "marker": {
             "line": {
              "color": "#E5ECF6",
              "width": 0.5
             }
            },
            "type": "barpolar"
           }
          ],
          "carpet": [
           {
            "aaxis": {
             "endlinecolor": "#2a3f5f",
             "gridcolor": "white",
             "linecolor": "white",
             "minorgridcolor": "white",
             "startlinecolor": "#2a3f5f"
            },
            "baxis": {
             "endlinecolor": "#2a3f5f",
             "gridcolor": "white",
             "linecolor": "white",
             "minorgridcolor": "white",
             "startlinecolor": "#2a3f5f"
            },
            "type": "carpet"
           }
          ],
          "choropleth": [
           {
            "colorbar": {
             "outlinewidth": 0,
             "ticks": ""
            },
            "type": "choropleth"
           }
          ],
          "contour": [
           {
            "colorbar": {
             "outlinewidth": 0,
             "ticks": ""
            },
            "colorscale": [
             [
              0,
              "#0d0887"
             ],
             [
              0.1111111111111111,
              "#46039f"
             ],
             [
              0.2222222222222222,
              "#7201a8"
             ],
             [
              0.3333333333333333,
              "#9c179e"
             ],
             [
              0.4444444444444444,
              "#bd3786"
             ],
             [
              0.5555555555555556,
              "#d8576b"
             ],
             [
              0.6666666666666666,
              "#ed7953"
             ],
             [
              0.7777777777777778,
              "#fb9f3a"
             ],
             [
              0.8888888888888888,
              "#fdca26"
             ],
             [
              1,
              "#f0f921"
             ]
            ],
            "type": "contour"
           }
          ],
          "contourcarpet": [
           {
            "colorbar": {
             "outlinewidth": 0,
             "ticks": ""
            },
            "type": "contourcarpet"
           }
          ],
          "heatmap": [
           {
            "colorbar": {
             "outlinewidth": 0,
             "ticks": ""
            },
            "colorscale": [
             [
              0,
              "#0d0887"
             ],
             [
              0.1111111111111111,
              "#46039f"
             ],
             [
              0.2222222222222222,
              "#7201a8"
             ],
             [
              0.3333333333333333,
              "#9c179e"
             ],
             [
              0.4444444444444444,
              "#bd3786"
             ],
             [
              0.5555555555555556,
              "#d8576b"
             ],
             [
              0.6666666666666666,
              "#ed7953"
             ],
             [
              0.7777777777777778,
              "#fb9f3a"
             ],
             [
              0.8888888888888888,
              "#fdca26"
             ],
             [
              1,
              "#f0f921"
             ]
            ],
            "type": "heatmap"
           }
          ],
          "heatmapgl": [
           {
            "colorbar": {
             "outlinewidth": 0,
             "ticks": ""
            },
            "colorscale": [
             [
              0,
              "#0d0887"
             ],
             [
              0.1111111111111111,
              "#46039f"
             ],
             [
              0.2222222222222222,
              "#7201a8"
             ],
             [
              0.3333333333333333,
              "#9c179e"
             ],
             [
              0.4444444444444444,
              "#bd3786"
             ],
             [
              0.5555555555555556,
              "#d8576b"
             ],
             [
              0.6666666666666666,
              "#ed7953"
             ],
             [
              0.7777777777777778,
              "#fb9f3a"
             ],
             [
              0.8888888888888888,
              "#fdca26"
             ],
             [
              1,
              "#f0f921"
             ]
            ],
            "type": "heatmapgl"
           }
          ],
          "histogram": [
           {
            "marker": {
             "colorbar": {
              "outlinewidth": 0,
              "ticks": ""
             }
            },
            "type": "histogram"
           }
          ],
          "histogram2d": [
           {
            "colorbar": {
             "outlinewidth": 0,
             "ticks": ""
            },
            "colorscale": [
             [
              0,
              "#0d0887"
             ],
             [
              0.1111111111111111,
              "#46039f"
             ],
             [
              0.2222222222222222,
              "#7201a8"
             ],
             [
              0.3333333333333333,
              "#9c179e"
             ],
             [
              0.4444444444444444,
              "#bd3786"
             ],
             [
              0.5555555555555556,
              "#d8576b"
             ],
             [
              0.6666666666666666,
              "#ed7953"
             ],
             [
              0.7777777777777778,
              "#fb9f3a"
             ],
             [
              0.8888888888888888,
              "#fdca26"
             ],
             [
              1,
              "#f0f921"
             ]
            ],
            "type": "histogram2d"
           }
          ],
          "histogram2dcontour": [
           {
            "colorbar": {
             "outlinewidth": 0,
             "ticks": ""
            },
            "colorscale": [
             [
              0,
              "#0d0887"
             ],
             [
              0.1111111111111111,
              "#46039f"
             ],
             [
              0.2222222222222222,
              "#7201a8"
             ],
             [
              0.3333333333333333,
              "#9c179e"
             ],
             [
              0.4444444444444444,
              "#bd3786"
             ],
             [
              0.5555555555555556,
              "#d8576b"
             ],
             [
              0.6666666666666666,
              "#ed7953"
             ],
             [
              0.7777777777777778,
              "#fb9f3a"
             ],
             [
              0.8888888888888888,
              "#fdca26"
             ],
             [
              1,
              "#f0f921"
             ]
            ],
            "type": "histogram2dcontour"
           }
          ],
          "mesh3d": [
           {
            "colorbar": {
             "outlinewidth": 0,
             "ticks": ""
            },
            "type": "mesh3d"
           }
          ],
          "parcoords": [
           {
            "line": {
             "colorbar": {
              "outlinewidth": 0,
              "ticks": ""
             }
            },
            "type": "parcoords"
           }
          ],
          "scatter": [
           {
            "marker": {
             "colorbar": {
              "outlinewidth": 0,
              "ticks": ""
             }
            },
            "type": "scatter"
           }
          ],
          "scatter3d": [
           {
            "line": {
             "colorbar": {
              "outlinewidth": 0,
              "ticks": ""
             }
            },
            "marker": {
             "colorbar": {
              "outlinewidth": 0,
              "ticks": ""
             }
            },
            "type": "scatter3d"
           }
          ],
          "scattercarpet": [
           {
            "marker": {
             "colorbar": {
              "outlinewidth": 0,
              "ticks": ""
             }
            },
            "type": "scattercarpet"
           }
          ],
          "scattergeo": [
           {
            "marker": {
             "colorbar": {
              "outlinewidth": 0,
              "ticks": ""
             }
            },
            "type": "scattergeo"
           }
          ],
          "scattergl": [
           {
            "marker": {
             "colorbar": {
              "outlinewidth": 0,
              "ticks": ""
             }
            },
            "type": "scattergl"
           }
          ],
          "scattermapbox": [
           {
            "marker": {
             "colorbar": {
              "outlinewidth": 0,
              "ticks": ""
             }
            },
            "type": "scattermapbox"
           }
          ],
          "scatterpolar": [
           {
            "marker": {
             "colorbar": {
              "outlinewidth": 0,
              "ticks": ""
             }
            },
            "type": "scatterpolar"
           }
          ],
          "scatterpolargl": [
           {
            "marker": {
             "colorbar": {
              "outlinewidth": 0,
              "ticks": ""
             }
            },
            "type": "scatterpolargl"
           }
          ],
          "scatterternary": [
           {
            "marker": {
             "colorbar": {
              "outlinewidth": 0,
              "ticks": ""
             }
            },
            "type": "scatterternary"
           }
          ],
          "surface": [
           {
            "colorbar": {
             "outlinewidth": 0,
             "ticks": ""
            },
            "colorscale": [
             [
              0,
              "#0d0887"
             ],
             [
              0.1111111111111111,
              "#46039f"
             ],
             [
              0.2222222222222222,
              "#7201a8"
             ],
             [
              0.3333333333333333,
              "#9c179e"
             ],
             [
              0.4444444444444444,
              "#bd3786"
             ],
             [
              0.5555555555555556,
              "#d8576b"
             ],
             [
              0.6666666666666666,
              "#ed7953"
             ],
             [
              0.7777777777777778,
              "#fb9f3a"
             ],
             [
              0.8888888888888888,
              "#fdca26"
             ],
             [
              1,
              "#f0f921"
             ]
            ],
            "type": "surface"
           }
          ],
          "table": [
           {
            "cells": {
             "fill": {
              "color": "#EBF0F8"
             },
             "line": {
              "color": "white"
             }
            },
            "header": {
             "fill": {
              "color": "#C8D4E3"
             },
             "line": {
              "color": "white"
             }
            },
            "type": "table"
           }
          ]
         },
         "layout": {
          "annotationdefaults": {
           "arrowcolor": "#2a3f5f",
           "arrowhead": 0,
           "arrowwidth": 1
          },
          "colorscale": {
           "diverging": [
            [
             0,
             "#8e0152"
            ],
            [
             0.1,
             "#c51b7d"
            ],
            [
             0.2,
             "#de77ae"
            ],
            [
             0.3,
             "#f1b6da"
            ],
            [
             0.4,
             "#fde0ef"
            ],
            [
             0.5,
             "#f7f7f7"
            ],
            [
             0.6,
             "#e6f5d0"
            ],
            [
             0.7,
             "#b8e186"
            ],
            [
             0.8,
             "#7fbc41"
            ],
            [
             0.9,
             "#4d9221"
            ],
            [
             1,
             "#276419"
            ]
           ],
           "sequential": [
            [
             0,
             "#0d0887"
            ],
            [
             0.1111111111111111,
             "#46039f"
            ],
            [
             0.2222222222222222,
             "#7201a8"
            ],
            [
             0.3333333333333333,
             "#9c179e"
            ],
            [
             0.4444444444444444,
             "#bd3786"
            ],
            [
             0.5555555555555556,
             "#d8576b"
            ],
            [
             0.6666666666666666,
             "#ed7953"
            ],
            [
             0.7777777777777778,
             "#fb9f3a"
            ],
            [
             0.8888888888888888,
             "#fdca26"
            ],
            [
             1,
             "#f0f921"
            ]
           ],
           "sequentialminus": [
            [
             0,
             "#0d0887"
            ],
            [
             0.1111111111111111,
             "#46039f"
            ],
            [
             0.2222222222222222,
             "#7201a8"
            ],
            [
             0.3333333333333333,
             "#9c179e"
            ],
            [
             0.4444444444444444,
             "#bd3786"
            ],
            [
             0.5555555555555556,
             "#d8576b"
            ],
            [
             0.6666666666666666,
             "#ed7953"
            ],
            [
             0.7777777777777778,
             "#fb9f3a"
            ],
            [
             0.8888888888888888,
             "#fdca26"
            ],
            [
             1,
             "#f0f921"
            ]
           ]
          },
          "colorway": [
           "#636efa",
           "#EF553B",
           "#00cc96",
           "#ab63fa",
           "#FFA15A",
           "#19d3f3",
           "#FF6692",
           "#B6E880",
           "#FF97FF",
           "#FECB52"
          ],
          "font": {
           "color": "#2a3f5f"
          },
          "geo": {
           "bgcolor": "white",
           "lakecolor": "white",
           "landcolor": "#E5ECF6",
           "showlakes": true,
           "showland": true,
           "subunitcolor": "white"
          },
          "hoverlabel": {
           "align": "left"
          },
          "hovermode": "closest",
          "mapbox": {
           "style": "light"
          },
          "paper_bgcolor": "white",
          "plot_bgcolor": "#E5ECF6",
          "polar": {
           "angularaxis": {
            "gridcolor": "white",
            "linecolor": "white",
            "ticks": ""
           },
           "bgcolor": "#E5ECF6",
           "radialaxis": {
            "gridcolor": "white",
            "linecolor": "white",
            "ticks": ""
           }
          },
          "scene": {
           "xaxis": {
            "backgroundcolor": "#E5ECF6",
            "gridcolor": "white",
            "gridwidth": 2,
            "linecolor": "white",
            "showbackground": true,
            "ticks": "",
            "zerolinecolor": "white"
           },
           "yaxis": {
            "backgroundcolor": "#E5ECF6",
            "gridcolor": "white",
            "gridwidth": 2,
            "linecolor": "white",
            "showbackground": true,
            "ticks": "",
            "zerolinecolor": "white"
           },
           "zaxis": {
            "backgroundcolor": "#E5ECF6",
            "gridcolor": "white",
            "gridwidth": 2,
            "linecolor": "white",
            "showbackground": true,
            "ticks": "",
            "zerolinecolor": "white"
           }
          },
          "shapedefaults": {
           "line": {
            "color": "#2a3f5f"
           }
          },
          "ternary": {
           "aaxis": {
            "gridcolor": "white",
            "linecolor": "white",
            "ticks": ""
           },
           "baxis": {
            "gridcolor": "white",
            "linecolor": "white",
            "ticks": ""
           },
           "bgcolor": "#E5ECF6",
           "caxis": {
            "gridcolor": "white",
            "linecolor": "white",
            "ticks": ""
           }
          },
          "title": {
           "x": 0.05
          },
          "xaxis": {
           "automargin": true,
           "gridcolor": "white",
           "linecolor": "white",
           "ticks": "",
           "zerolinecolor": "white",
           "zerolinewidth": 2
          },
          "yaxis": {
           "automargin": true,
           "gridcolor": "white",
           "linecolor": "white",
           "ticks": "",
           "zerolinecolor": "white",
           "zerolinewidth": 2
          }
         }
        },
        "title": {
         "text": "NO2 amount at 2:00 regardless of days"
        },
        "width": 800,
        "xaxis": {
         "dtick": 30,
         "range": [
          "2004-03-01",
          "2005-04-01"
         ],
         "tick0": 4,
         "tickangle": 30
        },
        "yaxis": {
         "range": [
          500,
          3000
         ],
         "title": {
          "text": "Concentration"
         }
        }
       }
      },
      "text/html": [
       "<div>\n",
       "        \n",
       "        \n",
       "            <div id=\"765d9a61-c659-4b7a-a299-4ca9e26f8c37\" class=\"plotly-graph-div\" style=\"height:350px; width:800px;\"></div>\n",
       "            <script type=\"text/javascript\">\n",
       "                require([\"plotly\"], function(Plotly) {\n",
       "                    window.PLOTLYENV=window.PLOTLYENV || {};\n",
       "                    \n",
       "                if (document.getElementById(\"765d9a61-c659-4b7a-a299-4ca9e26f8c37\")) {\n",
       "                    Plotly.newPlot(\n",
       "                        '765d9a61-c659-4b7a-a299-4ca9e26f8c37',\n",
       "                        [{\"name\": \"PT08.S4(NO2)\", \"type\": \"scatter\", \"x\": [\"2004/3/11\", \"2004/3/12\", \"2004/3/13\", \"2004/3/14\", \"2004/3/15\", \"2004/3/16\", \"2004/3/17\", \"2004/3/18\", \"2004/3/19\", \"2004/3/20\", \"2004/3/21\", \"2004/3/22\", \"2004/3/23\", \"2004/3/24\", \"2004/3/25\", \"2004/3/26\", \"2004/3/27\", \"2004/3/28\", \"2004/3/29\", \"2004/3/30\", \"2004/3/31\", \"2004/4/1\", \"2004/4/2\", \"2004/4/3\", \"2004/4/4\", \"2004/4/5\", \"2004/4/6\", \"2004/4/7\", \"2004/4/8\", \"2004/4/10\", \"2004/4/11\", \"2004/4/12\", \"2004/4/13\", \"2004/4/14\", \"2004/4/15\", \"2004/4/16\", \"2004/4/17\", \"2004/4/18\", \"2004/4/19\", \"2004/4/20\", \"2004/4/21\", \"2004/4/22\", \"2004/4/23\", \"2004/4/24\", \"2004/4/25\", \"2004/4/26\", \"2004/4/27\", \"2004/4/28\", \"2004/4/29\", \"2004/4/30\", \"2004/5/1\", \"2004/5/2\", \"2004/5/3\", \"2004/5/4\", \"2004/5/5\", \"2004/5/6\", \"2004/5/7\", \"2004/5/8\", \"2004/5/9\", \"2004/5/10\", \"2004/5/11\", \"2004/5/12\", \"2004/5/13\", \"2004/5/14\", \"2004/5/15\", \"2004/5/16\", \"2004/5/17\", \"2004/5/18\", \"2004/5/19\", \"2004/5/20\", \"2004/5/21\", \"2004/5/22\", \"2004/5/23\", \"2004/5/24\", \"2004/5/25\", \"2004/5/26\", \"2004/5/27\", \"2004/5/28\", \"2004/5/29\", \"2004/5/30\", \"2004/5/31\", \"2004/6/1\", \"2004/6/2\", \"2004/6/3\", \"2004/6/4\", \"2004/6/5\", \"2004/6/6\", \"2004/6/7\", \"2004/6/8\", \"2004/6/9\", \"2004/6/10\", \"2004/6/11\", \"2004/6/12\", \"2004/6/13\", \"2004/6/14\", \"2004/6/15\", \"2004/6/16\", \"2004/6/17\", \"2004/6/18\", \"2004/6/19\", \"2004/6/21\", \"2004/6/22\", \"2004/6/23\", \"2004/6/24\", \"2004/6/25\", \"2004/6/26\", \"2004/6/27\", \"2004/6/28\", \"2004/6/29\", \"2004/6/30\", \"2004/7/1\", \"2004/7/2\", \"2004/7/3\", \"2004/7/4\", \"2004/7/5\", \"2004/7/6\", \"2004/7/7\", \"2004/7/8\", \"2004/7/9\", \"2004/7/10\", \"2004/7/11\", \"2004/7/12\", \"2004/7/13\", \"2004/7/14\", \"2004/7/15\", \"2004/7/16\", \"2004/7/17\", \"2004/7/18\", \"2004/7/19\", \"2004/7/20\", \"2004/7/21\", \"2004/7/22\", \"2004/7/23\", \"2004/7/24\", \"2004/7/25\", \"2004/7/26\", \"2004/7/27\", \"2004/7/28\", \"2004/7/29\", \"2004/7/30\", \"2004/7/31\", \"2004/8/1\", \"2004/8/2\", \"2004/8/3\", \"2004/8/4\", \"2004/8/5\", \"2004/8/6\", \"2004/8/7\", \"2004/8/8\", \"2004/8/9\", \"2004/8/10\", \"2004/8/11\", \"2004/8/12\", \"2004/8/13\", \"2004/8/14\", \"2004/8/15\", \"2004/8/16\", \"2004/8/17\", \"2004/8/18\", \"2004/8/19\", \"2004/8/20\", \"2004/8/21\", \"2004/8/22\", \"2004/8/23\", \"2004/8/24\", \"2004/8/25\", \"2004/8/28\", \"2004/8/29\", \"2004/8/30\", \"2004/8/31\", \"2004/9/1\", \"2004/9/2\", \"2004/9/3\", \"2004/9/4\", \"2004/9/5\", \"2004/9/6\", \"2004/9/7\", \"2004/9/9\", \"2004/9/10\", \"2004/9/11\", \"2004/9/12\", \"2004/9/13\", \"2004/9/14\", \"2004/9/15\", \"2004/9/16\", \"2004/9/17\", \"2004/9/18\", \"2004/9/19\", \"2004/9/20\", \"2004/9/21\", \"2004/9/22\", \"2004/9/23\", \"2004/9/24\", \"2004/9/25\", \"2004/9/26\", \"2004/9/27\", \"2004/9/28\", \"2004/9/29\", \"2004/9/30\", \"2004/10/1\", \"2004/10/2\", \"2004/10/3\", \"2004/10/4\", \"2004/10/5\", \"2004/10/6\", \"2004/10/7\", \"2004/10/8\", \"2004/10/9\", \"2004/10/10\", \"2004/10/11\", \"2004/10/12\", \"2004/10/13\", \"2004/10/14\", \"2004/10/15\", \"2004/10/16\", \"2004/10/17\", \"2004/10/18\", \"2004/10/19\", \"2004/10/20\", \"2004/10/21\", \"2004/10/22\", \"2004/10/23\", \"2004/10/24\", \"2004/10/25\", \"2004/10/26\", \"2004/10/27\", \"2004/10/28\", \"2004/10/29\", \"2004/10/30\", \"2004/10/31\", \"2004/11/1\", \"2004/11/2\", \"2004/11/3\", \"2004/11/4\", \"2004/11/5\", \"2004/11/6\", \"2004/11/7\", \"2004/11/8\", \"2004/11/9\", \"2004/11/10\", \"2004/11/11\", \"2004/11/12\", \"2004/11/13\", \"2004/11/14\", \"2004/11/15\", \"2004/11/16\", \"2004/11/17\", \"2004/11/18\", \"2004/11/19\", \"2004/11/20\", \"2004/11/21\", \"2004/11/22\", \"2004/11/23\", \"2004/11/24\", \"2004/11/25\", \"2004/11/26\", \"2004/11/27\", \"2004/11/28\", \"2004/11/29\", \"2004/11/30\", \"2004/12/1\", \"2004/12/2\", \"2004/12/3\", \"2004/12/4\", \"2004/12/5\", \"2004/12/6\", \"2004/12/7\", \"2004/12/8\", \"2004/12/9\", \"2004/12/10\", \"2004/12/11\", \"2004/12/12\", \"2004/12/13\", \"2004/12/14\", \"2004/12/18\", \"2004/12/19\", \"2004/12/20\", \"2004/12/21\", \"2004/12/22\", \"2004/12/23\", \"2004/12/24\", \"2004/12/25\", \"2004/12/26\", \"2004/12/27\", \"2004/12/28\", \"2004/12/29\", \"2004/12/30\", \"2004/12/31\", \"2005/1/1\", \"2005/1/2\", \"2005/1/5\", \"2005/1/6\", \"2005/1/7\", \"2005/1/8\", \"2005/1/9\", \"2005/1/10\", \"2005/1/11\", \"2005/1/12\", \"2005/1/13\", \"2005/1/14\", \"2005/1/15\", \"2005/1/16\", \"2005/1/17\", \"2005/1/18\", \"2005/1/19\", \"2005/1/20\", \"2005/1/21\", \"2005/1/22\", \"2005/1/23\", \"2005/1/24\", \"2005/1/25\", \"2005/1/26\", \"2005/1/27\", \"2005/1/28\", \"2005/1/29\", \"2005/1/30\", \"2005/1/31\", \"2005/2/1\", \"2005/2/2\", \"2005/2/3\", \"2005/2/4\", \"2005/2/5\", \"2005/2/6\", \"2005/2/7\", \"2005/2/8\", \"2005/2/12\", \"2005/2/13\", \"2005/2/14\", \"2005/2/15\", \"2005/2/16\", \"2005/2/17\", \"2005/2/18\", \"2005/2/19\", \"2005/2/20\", \"2005/2/21\", \"2005/2/22\", \"2005/2/23\", \"2005/2/24\", \"2005/2/25\", \"2005/2/26\", \"2005/2/27\", \"2005/2/28\", \"2005/3/1\", \"2005/3/2\", \"2005/3/3\", \"2005/3/4\", \"2005/3/5\", \"2005/3/6\", \"2005/3/7\", \"2005/3/8\", \"2005/3/9\", \"2005/3/10\", \"2005/3/11\", \"2005/3/12\", \"2005/3/13\", \"2005/3/14\", \"2005/3/15\", \"2005/3/16\", \"2005/3/17\", \"2005/3/18\", \"2005/3/19\", \"2005/3/20\", \"2005/3/21\", \"2005/3/22\", \"2005/3/23\", \"2005/3/24\", \"2005/3/25\", \"2005/3/26\", \"2005/3/27\", \"2005/3/28\", \"2005/3/29\", \"2005/3/30\", \"2005/3/31\", \"2005/4/1\", \"2005/4/2\", \"2005/4/3\", \"2005/4/4\"], \"y\": [1276.0, 1304.0, 1365.0, 1543.0, 1566.0, 1386.0, 1383.0, 1407.0, 1380.0, 1382.0, 1526.0, 1355.0, 1330.0, 1326.0, 1253.0, 1313.0, 1312.0, 1395.0, 1076.0, 1130.0, 1256.0, 1405.0, 1350.0, 1455.0, 1500.0, 1375.0, 1336.0, 1214.0, 1383.0, 1507.0, 1310.0, 1111.0, 1182.0, 1307.0, 1259.0, 1532.0, 1565.0, 1501.0, 1494.0, 1290.0, 1381.0, 1377.0, 1337.0, 1597.0, 1317.0, 1152.0, 1212.0, 1359.0, 1409.0, 1628.0, 1647.0, 1536.0, 1397.0, 1517.0, 1360.0, 1310.0, 1427.0, 1252.0, 1601.0, 1344.0, 1317.0, 1511.0, 1316.0, 1538.0, 1389.0, 1370.0, 1113.0, 1264.0, 1367.0, 1398.0, 1331.0, 1594.0, 1780.0, 1169.0, 1063.0, -200.0, 1288.0, 1439.0, 1466.0, 1437.0, 1286.0, 1494.0, 1622.0, 1664.0, 1526.0, 1702.0, 1727.0, 1386.0, 1452.0, 1609.0, 1598.0, 1435.0, 1368.0, 1500.0, 1235.0, 1335.0, 1522.0, 1501.0, 1467.0, 1528.0, -200.0, 1374.0, 1455.0, 1645.0, 1457.0, 1382.0, 1638.0, 1444.0, 1534.0, 1683.0, 1607.0, 1662.0, 1461.0, 1639.0, 1405.0, 1510.0, 1463.0, 1507.0, 1585.0, 1539.0, 1423.0, 1323.0, 1353.0, 1469.0, 1355.0, 1360.0, 1552.0, 1447.0, 1343.0, 1513.0, 1545.0, 1580.0, 1544.0, 1748.0, 1530.0, 1465.0, 1466.0, 1336.0, 1276.0, 1551.0, 1588.0, 1637.0, 1542.0, 1469.0, 1658.0, 1547.0, 1616.0, 1530.0, 1548.0, 1605.0, 1535.0, 1665.0, 1638.0, 1557.0, 1442.0, 1473.0, 1337.0, 1385.0, 1428.0, 1465.0, 1562.0, 1407.0, 1486.0, 1348.0, 1265.0, 1464.0, -200.0, 1580.0, 1376.0, 1401.0, 1412.0, 1416.0, 1407.0, 1400.0, 1376.0, 1224.0, 1258.0, 1157.0, 1251.0, 1259.0, 1495.0, 1452.0, 1375.0, 1460.0, 1421.0, 1295.0, 1215.0, 1415.0, 1301.0, 1271.0, 1302.0, 1385.0, 1394.0, 1106.0, 1287.0, 1247.0, 1113.0, 1157.0, 1173.0, 1465.0, 1500.0, 1416.0, 1323.0, 1270.0, 1377.0, 1375.0, 1317.0, 1502.0, 1560.0, 1302.0, 1277.0, 1065.0, 1074.0, 1289.0, 1249.0, 1307.0, 1177.0, 1354.0, 1509.0, 1570.0, 1423.0, 1418.0, 1577.0, 1353.0, 1331.0, 1401.0, 1299.0, 1286.0, 1400.0, 1445.0, 1767.0, 1374.0, 1542.0, 1362.0, 1430.0, 1403.0, 1305.0, 998.0, 986.0, 1049.0, 1189.0, 1120.0, 1133.0, 914.0, 800.0, 937.0, 962.0, 1106.0, 1173.0, 734.0, 919.0, 942.0, 1216.0, 1327.0, 1262.0, 1215.0, 1482.0, 1214.0, 1289.0, 1288.0, 1127.0, 1254.0, 1452.0, 1408.0, 1132.0, 1124.0, 1138.0, 1149.0, 1108.0, 940.0, 891.0, 1164.0, 1056.0, 1174.0, 1196.0, 923.0, 1059.0, 698.0, 872.0, 914.0, 1164.0, 1385.0, 1166.0, 1107.0, 1084.0, 1107.0, 878.0, 919.0, 1002.0, 963.0, 1261.0, 1188.0, 1100.0, 1069.0, 1216.0, 1210.0, 1167.0, 1296.0, 1167.0, 1064.0, 1087.0, 1062.0, 875.0, 901.0, 1208.0, 893.0, 992.0, 1395.0, 978.0, 1173.0, 726.0, 757.0, 826.0, 807.0, 745.0, 787.0, 685.0, 904.0, 1065.0, 902.0, 954.0, 939.0, 876.0, 749.0, 761.0, 1174.0, 1451.0, 1120.0, 740.0, 1014.0, 1024.0, 867.0, 913.0, 1124.0, 936.0, 963.0, 951.0, 1023.0, 1127.0, 1063.0, 1004.0, 755.0, 602.0, 605.0, 884.0, 1108.0, 989.0, 826.0, 785.0, 851.0, 887.0, 1067.0, 887.0, 1113.0, 1069.0, 1187.0, 1062.0, 1054.0, 1056.0, 1099.0, 1099.0, 1192.0, 1160.0, 1107.0, 1184.0, 1099.0, 1263.0, 1361.0, 1241.0, 1247.0, 1148.0, 1104.0, 1169.0, 882.0, 768.0, 931.0, 1002.0]}],\n",
       "                        {\"height\": 350, \"legend\": {\"orientation\": \"v\"}, \"margin\": {\"b\": 90, \"l\": 80, \"r\": 80, \"t\": 70}, \"template\": {\"data\": {\"bar\": [{\"error_x\": {\"color\": \"#2a3f5f\"}, \"error_y\": {\"color\": \"#2a3f5f\"}, \"marker\": {\"line\": {\"color\": \"#E5ECF6\", \"width\": 0.5}}, \"type\": \"bar\"}], \"barpolar\": [{\"marker\": {\"line\": {\"color\": \"#E5ECF6\", \"width\": 0.5}}, \"type\": \"barpolar\"}], \"carpet\": [{\"aaxis\": {\"endlinecolor\": \"#2a3f5f\", \"gridcolor\": \"white\", \"linecolor\": \"white\", \"minorgridcolor\": \"white\", \"startlinecolor\": \"#2a3f5f\"}, \"baxis\": {\"endlinecolor\": \"#2a3f5f\", \"gridcolor\": \"white\", \"linecolor\": \"white\", \"minorgridcolor\": \"white\", \"startlinecolor\": \"#2a3f5f\"}, \"type\": \"carpet\"}], \"choropleth\": [{\"colorbar\": {\"outlinewidth\": 0, \"ticks\": \"\"}, \"type\": \"choropleth\"}], \"contour\": [{\"colorbar\": {\"outlinewidth\": 0, \"ticks\": \"\"}, \"colorscale\": [[0.0, \"#0d0887\"], [0.1111111111111111, \"#46039f\"], [0.2222222222222222, \"#7201a8\"], [0.3333333333333333, \"#9c179e\"], [0.4444444444444444, \"#bd3786\"], [0.5555555555555556, \"#d8576b\"], [0.6666666666666666, \"#ed7953\"], [0.7777777777777778, \"#fb9f3a\"], [0.8888888888888888, \"#fdca26\"], [1.0, \"#f0f921\"]], \"type\": \"contour\"}], \"contourcarpet\": [{\"colorbar\": {\"outlinewidth\": 0, \"ticks\": \"\"}, \"type\": \"contourcarpet\"}], \"heatmap\": [{\"colorbar\": {\"outlinewidth\": 0, \"ticks\": \"\"}, \"colorscale\": [[0.0, \"#0d0887\"], [0.1111111111111111, \"#46039f\"], [0.2222222222222222, \"#7201a8\"], [0.3333333333333333, \"#9c179e\"], [0.4444444444444444, \"#bd3786\"], [0.5555555555555556, \"#d8576b\"], [0.6666666666666666, \"#ed7953\"], [0.7777777777777778, \"#fb9f3a\"], [0.8888888888888888, \"#fdca26\"], [1.0, \"#f0f921\"]], \"type\": \"heatmap\"}], \"heatmapgl\": [{\"colorbar\": {\"outlinewidth\": 0, \"ticks\": \"\"}, \"colorscale\": [[0.0, \"#0d0887\"], [0.1111111111111111, \"#46039f\"], [0.2222222222222222, \"#7201a8\"], [0.3333333333333333, \"#9c179e\"], [0.4444444444444444, \"#bd3786\"], [0.5555555555555556, \"#d8576b\"], [0.6666666666666666, \"#ed7953\"], [0.7777777777777778, \"#fb9f3a\"], [0.8888888888888888, \"#fdca26\"], [1.0, \"#f0f921\"]], \"type\": \"heatmapgl\"}], \"histogram\": [{\"marker\": {\"colorbar\": {\"outlinewidth\": 0, \"ticks\": \"\"}}, \"type\": \"histogram\"}], \"histogram2d\": [{\"colorbar\": {\"outlinewidth\": 0, \"ticks\": \"\"}, \"colorscale\": [[0.0, \"#0d0887\"], [0.1111111111111111, \"#46039f\"], [0.2222222222222222, \"#7201a8\"], [0.3333333333333333, \"#9c179e\"], [0.4444444444444444, \"#bd3786\"], [0.5555555555555556, \"#d8576b\"], [0.6666666666666666, \"#ed7953\"], [0.7777777777777778, \"#fb9f3a\"], [0.8888888888888888, \"#fdca26\"], [1.0, \"#f0f921\"]], \"type\": \"histogram2d\"}], \"histogram2dcontour\": [{\"colorbar\": {\"outlinewidth\": 0, \"ticks\": \"\"}, \"colorscale\": [[0.0, \"#0d0887\"], [0.1111111111111111, \"#46039f\"], [0.2222222222222222, \"#7201a8\"], [0.3333333333333333, \"#9c179e\"], [0.4444444444444444, \"#bd3786\"], [0.5555555555555556, \"#d8576b\"], [0.6666666666666666, \"#ed7953\"], [0.7777777777777778, \"#fb9f3a\"], [0.8888888888888888, \"#fdca26\"], [1.0, \"#f0f921\"]], \"type\": \"histogram2dcontour\"}], \"mesh3d\": [{\"colorbar\": {\"outlinewidth\": 0, \"ticks\": \"\"}, \"type\": \"mesh3d\"}], \"parcoords\": [{\"line\": {\"colorbar\": {\"outlinewidth\": 0, \"ticks\": \"\"}}, \"type\": \"parcoords\"}], \"scatter\": [{\"marker\": {\"colorbar\": {\"outlinewidth\": 0, \"ticks\": \"\"}}, \"type\": \"scatter\"}], \"scatter3d\": [{\"line\": {\"colorbar\": {\"outlinewidth\": 0, \"ticks\": \"\"}}, \"marker\": {\"colorbar\": {\"outlinewidth\": 0, \"ticks\": \"\"}}, \"type\": \"scatter3d\"}], \"scattercarpet\": [{\"marker\": {\"colorbar\": {\"outlinewidth\": 0, \"ticks\": \"\"}}, \"type\": \"scattercarpet\"}], \"scattergeo\": [{\"marker\": {\"colorbar\": {\"outlinewidth\": 0, \"ticks\": \"\"}}, \"type\": \"scattergeo\"}], \"scattergl\": [{\"marker\": {\"colorbar\": {\"outlinewidth\": 0, \"ticks\": \"\"}}, \"type\": \"scattergl\"}], \"scattermapbox\": [{\"marker\": {\"colorbar\": {\"outlinewidth\": 0, \"ticks\": \"\"}}, \"type\": \"scattermapbox\"}], \"scatterpolar\": [{\"marker\": {\"colorbar\": {\"outlinewidth\": 0, \"ticks\": \"\"}}, \"type\": \"scatterpolar\"}], \"scatterpolargl\": [{\"marker\": {\"colorbar\": {\"outlinewidth\": 0, \"ticks\": \"\"}}, \"type\": \"scatterpolargl\"}], \"scatterternary\": [{\"marker\": {\"colorbar\": {\"outlinewidth\": 0, \"ticks\": \"\"}}, \"type\": \"scatterternary\"}], \"surface\": [{\"colorbar\": {\"outlinewidth\": 0, \"ticks\": \"\"}, \"colorscale\": [[0.0, \"#0d0887\"], [0.1111111111111111, \"#46039f\"], [0.2222222222222222, \"#7201a8\"], [0.3333333333333333, \"#9c179e\"], [0.4444444444444444, \"#bd3786\"], [0.5555555555555556, \"#d8576b\"], [0.6666666666666666, \"#ed7953\"], [0.7777777777777778, \"#fb9f3a\"], [0.8888888888888888, \"#fdca26\"], [1.0, \"#f0f921\"]], \"type\": \"surface\"}], \"table\": [{\"cells\": {\"fill\": {\"color\": \"#EBF0F8\"}, \"line\": {\"color\": \"white\"}}, \"header\": {\"fill\": {\"color\": \"#C8D4E3\"}, \"line\": {\"color\": \"white\"}}, \"type\": \"table\"}]}, \"layout\": {\"annotationdefaults\": {\"arrowcolor\": \"#2a3f5f\", \"arrowhead\": 0, \"arrowwidth\": 1}, \"colorscale\": {\"diverging\": [[0, \"#8e0152\"], [0.1, \"#c51b7d\"], [0.2, \"#de77ae\"], [0.3, \"#f1b6da\"], [0.4, \"#fde0ef\"], [0.5, \"#f7f7f7\"], [0.6, \"#e6f5d0\"], [0.7, \"#b8e186\"], [0.8, \"#7fbc41\"], [0.9, \"#4d9221\"], [1, \"#276419\"]], \"sequential\": [[0.0, \"#0d0887\"], [0.1111111111111111, \"#46039f\"], [0.2222222222222222, \"#7201a8\"], [0.3333333333333333, \"#9c179e\"], [0.4444444444444444, \"#bd3786\"], [0.5555555555555556, \"#d8576b\"], [0.6666666666666666, \"#ed7953\"], [0.7777777777777778, \"#fb9f3a\"], [0.8888888888888888, \"#fdca26\"], [1.0, \"#f0f921\"]], \"sequentialminus\": [[0.0, \"#0d0887\"], [0.1111111111111111, \"#46039f\"], [0.2222222222222222, \"#7201a8\"], [0.3333333333333333, \"#9c179e\"], [0.4444444444444444, \"#bd3786\"], [0.5555555555555556, \"#d8576b\"], [0.6666666666666666, \"#ed7953\"], [0.7777777777777778, \"#fb9f3a\"], [0.8888888888888888, \"#fdca26\"], [1.0, \"#f0f921\"]]}, \"colorway\": [\"#636efa\", \"#EF553B\", \"#00cc96\", \"#ab63fa\", \"#FFA15A\", \"#19d3f3\", \"#FF6692\", \"#B6E880\", \"#FF97FF\", \"#FECB52\"], \"font\": {\"color\": \"#2a3f5f\"}, \"geo\": {\"bgcolor\": \"white\", \"lakecolor\": \"white\", \"landcolor\": \"#E5ECF6\", \"showlakes\": true, \"showland\": true, \"subunitcolor\": \"white\"}, \"hoverlabel\": {\"align\": \"left\"}, \"hovermode\": \"closest\", \"mapbox\": {\"style\": \"light\"}, \"paper_bgcolor\": \"white\", \"plot_bgcolor\": \"#E5ECF6\", \"polar\": {\"angularaxis\": {\"gridcolor\": \"white\", \"linecolor\": \"white\", \"ticks\": \"\"}, \"bgcolor\": \"#E5ECF6\", \"radialaxis\": {\"gridcolor\": \"white\", \"linecolor\": \"white\", \"ticks\": \"\"}}, \"scene\": {\"xaxis\": {\"backgroundcolor\": \"#E5ECF6\", \"gridcolor\": \"white\", \"gridwidth\": 2, \"linecolor\": \"white\", \"showbackground\": true, \"ticks\": \"\", \"zerolinecolor\": \"white\"}, \"yaxis\": {\"backgroundcolor\": \"#E5ECF6\", \"gridcolor\": \"white\", \"gridwidth\": 2, \"linecolor\": \"white\", \"showbackground\": true, \"ticks\": \"\", \"zerolinecolor\": \"white\"}, \"zaxis\": {\"backgroundcolor\": \"#E5ECF6\", \"gridcolor\": \"white\", \"gridwidth\": 2, \"linecolor\": \"white\", \"showbackground\": true, \"ticks\": \"\", \"zerolinecolor\": \"white\"}}, \"shapedefaults\": {\"line\": {\"color\": \"#2a3f5f\"}}, \"ternary\": {\"aaxis\": {\"gridcolor\": \"white\", \"linecolor\": \"white\", \"ticks\": \"\"}, \"baxis\": {\"gridcolor\": \"white\", \"linecolor\": \"white\", \"ticks\": \"\"}, \"bgcolor\": \"#E5ECF6\", \"caxis\": {\"gridcolor\": \"white\", \"linecolor\": \"white\", \"ticks\": \"\"}}, \"title\": {\"x\": 0.05}, \"xaxis\": {\"automargin\": true, \"gridcolor\": \"white\", \"linecolor\": \"white\", \"ticks\": \"\", \"zerolinecolor\": \"white\", \"zerolinewidth\": 2}, \"yaxis\": {\"automargin\": true, \"gridcolor\": \"white\", \"linecolor\": \"white\", \"ticks\": \"\", \"zerolinecolor\": \"white\", \"zerolinewidth\": 2}}}, \"title\": {\"text\": \"NO2 amount at 2:00 regardless of days\"}, \"width\": 800, \"xaxis\": {\"dtick\": 30.0, \"range\": [\"2004-03-01\", \"2005-04-01\"], \"tick0\": 4.0, \"tickangle\": 30}, \"yaxis\": {\"range\": [500, 3000], \"title\": {\"text\": \"Concentration\"}}},\n",
       "                        {\"responsive\": true}\n",
       "                    ).then(function(){\n",
       "                            \n",
       "var gd = document.getElementById('765d9a61-c659-4b7a-a299-4ca9e26f8c37');\n",
       "var x = new MutationObserver(function (mutations, observer) {{\n",
       "        var display = window.getComputedStyle(gd).display;\n",
       "        if (!display || display === 'none') {{\n",
       "            console.log([gd, 'removed!']);\n",
       "            Plotly.purge(gd);\n",
       "            observer.disconnect();\n",
       "        }}\n",
       "}});\n",
       "\n",
       "// Listen for the removal of the full notebook cells\n",
       "var notebookContainer = gd.closest('#notebook-container');\n",
       "if (notebookContainer) {{\n",
       "    x.observe(notebookContainer, {childList: true});\n",
       "}}\n",
       "\n",
       "// Listen for the clearing of the current output cell\n",
       "var outputEl = gd.closest('.output');\n",
       "if (outputEl) {{\n",
       "    x.observe(outputEl, {childList: true});\n",
       "}}\n",
       "\n",
       "                        })\n",
       "                };\n",
       "                });\n",
       "            </script>\n",
       "        </div>"
      ]
     },
     "metadata": {},
     "output_type": "display_data"
    },
    {
     "data": {
      "application/vnd.plotly.v1+json": {
       "config": {
        "linkText": "Export to plot.ly",
        "plotlyServerURL": "https://plot.ly",
        "showLink": false
       },
       "data": [
        {
         "name": "PT08.S4(NO2)",
         "type": "scatter",
         "x": [
          "2004/3/11",
          "2004/3/12",
          "2004/3/13",
          "2004/3/14",
          "2004/3/15",
          "2004/3/16",
          "2004/3/17",
          "2004/3/18",
          "2004/3/19",
          "2004/3/20",
          "2004/3/21",
          "2004/3/22",
          "2004/3/23",
          "2004/3/24",
          "2004/3/25",
          "2004/3/26",
          "2004/3/27",
          "2004/3/28",
          "2004/3/29",
          "2004/3/30",
          "2004/3/31",
          "2004/4/1",
          "2004/4/2",
          "2004/4/3",
          "2004/4/4",
          "2004/4/5",
          "2004/4/6",
          "2004/4/7",
          "2004/4/8",
          "2004/4/10",
          "2004/4/11",
          "2004/4/12",
          "2004/4/13",
          "2004/4/14",
          "2004/4/15",
          "2004/4/16",
          "2004/4/17",
          "2004/4/18",
          "2004/4/19",
          "2004/4/20",
          "2004/4/21",
          "2004/4/22",
          "2004/4/23",
          "2004/4/24",
          "2004/4/25",
          "2004/4/26",
          "2004/4/27",
          "2004/4/28",
          "2004/4/29",
          "2004/4/30",
          "2004/5/1",
          "2004/5/2",
          "2004/5/3",
          "2004/5/4",
          "2004/5/5",
          "2004/5/6",
          "2004/5/7",
          "2004/5/8",
          "2004/5/9",
          "2004/5/10",
          "2004/5/11",
          "2004/5/12",
          "2004/5/13",
          "2004/5/14",
          "2004/5/15",
          "2004/5/16",
          "2004/5/17",
          "2004/5/18",
          "2004/5/19",
          "2004/5/20",
          "2004/5/21",
          "2004/5/22",
          "2004/5/23",
          "2004/5/24",
          "2004/5/25",
          "2004/5/26",
          "2004/5/27",
          "2004/5/28",
          "2004/5/29",
          "2004/5/30",
          "2004/5/31",
          "2004/6/1",
          "2004/6/2",
          "2004/6/3",
          "2004/6/4",
          "2004/6/5",
          "2004/6/6",
          "2004/6/7",
          "2004/6/8",
          "2004/6/9",
          "2004/6/10",
          "2004/6/11",
          "2004/6/12",
          "2004/6/13",
          "2004/6/14",
          "2004/6/15",
          "2004/6/16",
          "2004/6/17",
          "2004/6/18",
          "2004/6/19",
          "2004/6/21",
          "2004/6/22",
          "2004/6/23",
          "2004/6/24",
          "2004/6/25",
          "2004/6/26",
          "2004/6/27",
          "2004/6/28",
          "2004/6/29",
          "2004/6/30",
          "2004/7/1",
          "2004/7/2",
          "2004/7/3",
          "2004/7/4",
          "2004/7/5",
          "2004/7/6",
          "2004/7/7",
          "2004/7/8",
          "2004/7/9",
          "2004/7/10",
          "2004/7/11",
          "2004/7/12",
          "2004/7/13",
          "2004/7/14",
          "2004/7/15",
          "2004/7/16",
          "2004/7/17",
          "2004/7/18",
          "2004/7/19",
          "2004/7/20",
          "2004/7/21",
          "2004/7/22",
          "2004/7/23",
          "2004/7/24",
          "2004/7/25",
          "2004/7/26",
          "2004/7/27",
          "2004/7/28",
          "2004/7/29",
          "2004/7/30",
          "2004/7/31",
          "2004/8/1",
          "2004/8/2",
          "2004/8/3",
          "2004/8/4",
          "2004/8/5",
          "2004/8/6",
          "2004/8/7",
          "2004/8/8",
          "2004/8/9",
          "2004/8/10",
          "2004/8/11",
          "2004/8/12",
          "2004/8/13",
          "2004/8/14",
          "2004/8/15",
          "2004/8/16",
          "2004/8/17",
          "2004/8/18",
          "2004/8/19",
          "2004/8/20",
          "2004/8/21",
          "2004/8/22",
          "2004/8/23",
          "2004/8/24",
          "2004/8/25",
          "2004/8/28",
          "2004/8/29",
          "2004/8/30",
          "2004/8/31",
          "2004/9/1",
          "2004/9/2",
          "2004/9/3",
          "2004/9/4",
          "2004/9/5",
          "2004/9/6",
          "2004/9/7",
          "2004/9/9",
          "2004/9/10",
          "2004/9/11",
          "2004/9/12",
          "2004/9/13",
          "2004/9/14",
          "2004/9/15",
          "2004/9/16",
          "2004/9/17",
          "2004/9/18",
          "2004/9/19",
          "2004/9/20",
          "2004/9/21",
          "2004/9/22",
          "2004/9/23",
          "2004/9/24",
          "2004/9/25",
          "2004/9/26",
          "2004/9/27",
          "2004/9/28",
          "2004/9/29",
          "2004/9/30",
          "2004/10/1",
          "2004/10/2",
          "2004/10/3",
          "2004/10/4",
          "2004/10/5",
          "2004/10/6",
          "2004/10/7",
          "2004/10/8",
          "2004/10/9",
          "2004/10/10",
          "2004/10/11",
          "2004/10/12",
          "2004/10/13",
          "2004/10/14",
          "2004/10/15",
          "2004/10/16",
          "2004/10/17",
          "2004/10/18",
          "2004/10/19",
          "2004/10/20",
          "2004/10/21",
          "2004/10/22",
          "2004/10/23",
          "2004/10/24",
          "2004/10/25",
          "2004/10/26",
          "2004/10/27",
          "2004/10/28",
          "2004/10/29",
          "2004/10/30",
          "2004/10/31",
          "2004/11/1",
          "2004/11/2",
          "2004/11/3",
          "2004/11/4",
          "2004/11/5",
          "2004/11/6",
          "2004/11/7",
          "2004/11/8",
          "2004/11/9",
          "2004/11/10",
          "2004/11/11",
          "2004/11/12",
          "2004/11/13",
          "2004/11/14",
          "2004/11/15",
          "2004/11/16",
          "2004/11/17",
          "2004/11/18",
          "2004/11/19",
          "2004/11/20",
          "2004/11/21",
          "2004/11/22",
          "2004/11/23",
          "2004/11/24",
          "2004/11/25",
          "2004/11/26",
          "2004/11/27",
          "2004/11/28",
          "2004/11/29",
          "2004/11/30",
          "2004/12/1",
          "2004/12/2",
          "2004/12/3",
          "2004/12/4",
          "2004/12/5",
          "2004/12/6",
          "2004/12/7",
          "2004/12/8",
          "2004/12/9",
          "2004/12/10",
          "2004/12/11",
          "2004/12/12",
          "2004/12/13",
          "2004/12/14",
          "2004/12/18",
          "2004/12/19",
          "2004/12/20",
          "2004/12/21",
          "2004/12/22",
          "2004/12/23",
          "2004/12/24",
          "2004/12/25",
          "2004/12/26",
          "2004/12/27",
          "2004/12/28",
          "2004/12/29",
          "2004/12/30",
          "2004/12/31",
          "2005/1/1",
          "2005/1/2",
          "2005/1/5",
          "2005/1/6",
          "2005/1/7",
          "2005/1/8",
          "2005/1/9",
          "2005/1/10",
          "2005/1/11",
          "2005/1/12",
          "2005/1/13",
          "2005/1/14",
          "2005/1/15",
          "2005/1/16",
          "2005/1/17",
          "2005/1/18",
          "2005/1/19",
          "2005/1/20",
          "2005/1/21",
          "2005/1/22",
          "2005/1/23",
          "2005/1/24",
          "2005/1/25",
          "2005/1/26",
          "2005/1/27",
          "2005/1/28",
          "2005/1/29",
          "2005/1/30",
          "2005/1/31",
          "2005/2/1",
          "2005/2/2",
          "2005/2/3",
          "2005/2/4",
          "2005/2/5",
          "2005/2/6",
          "2005/2/7",
          "2005/2/8",
          "2005/2/12",
          "2005/2/13",
          "2005/2/14",
          "2005/2/15",
          "2005/2/16",
          "2005/2/17",
          "2005/2/18",
          "2005/2/19",
          "2005/2/20",
          "2005/2/21",
          "2005/2/22",
          "2005/2/23",
          "2005/2/24",
          "2005/2/25",
          "2005/2/26",
          "2005/2/27",
          "2005/2/28",
          "2005/3/1",
          "2005/3/2",
          "2005/3/3",
          "2005/3/4",
          "2005/3/5",
          "2005/3/6",
          "2005/3/7",
          "2005/3/8",
          "2005/3/9",
          "2005/3/10",
          "2005/3/11",
          "2005/3/12",
          "2005/3/13",
          "2005/3/14",
          "2005/3/15",
          "2005/3/16",
          "2005/3/17",
          "2005/3/18",
          "2005/3/19",
          "2005/3/20",
          "2005/3/21",
          "2005/3/22",
          "2005/3/23",
          "2005/3/24",
          "2005/3/25",
          "2005/3/26",
          "2005/3/27",
          "2005/3/28",
          "2005/3/29",
          "2005/3/30",
          "2005/3/31",
          "2005/4/1",
          "2005/4/2",
          "2005/4/3",
          "2005/4/4"
         ],
         "y": [
          1517,
          1900,
          1678,
          1414,
          2324,
          1889,
          1999,
          2094,
          2144,
          1623,
          1528,
          1996,
          1829,
          1706,
          1721,
          1828,
          1418,
          1382,
          1806,
          1947,
          1957,
          2440,
          2060,
          1872,
          1461,
          2300,
          2560,
          1821,
          2188,
          1663,
          1343,
          1246,
          2056,
          2278,
          2034,
          1890,
          1691,
          1459,
          1969,
          2396,
          2684,
          2003,
          2416,
          1838,
          1180,
          1490,
          2050,
          2112,
          2572,
          2064,
          1615,
          1568,
          2400,
          2248,
          2264,
          2029,
          2096,
          1589,
          1303,
          2616,
          2424,
          2668,
          1984,
          2326,
          1721,
          1393,
          1444,
          2604,
          2544,
          2504,
          2276,
          1846,
          1490,
          1379,
          1786,
          -200,
          2336,
          2008,
          1343,
          1272,
          2120,
          2180,
          1751,
          2180,
          1667,
          1691,
          1614,
          2248,
          2746,
          2692,
          2524,
          2396,
          1622,
          1287,
          1665,
          2244,
          2530,
          2384,
          2450,
          1697,
          2138,
          2394,
          2046,
          1750,
          1968,
          1773,
          1634,
          2568,
          2622,
          2039,
          2336,
          2560,
          1885,
          1669,
          2312,
          2460,
          2276,
          2082,
          1877,
          1572,
          1402,
          1945,
          2244,
          2356,
          2240,
          2276,
          1628,
          1417,
          2234,
          2644,
          2404,
          2662,
          2284,
          1829,
          1443,
          1744,
          1694,
          2112,
          2180,
          2322,
          1763,
          1624,
          2128,
          2256,
          2404,
          1962,
          2192,
          1705,
          1585,
          2003,
          2114,
          1904,
          2019,
          1818,
          1626,
          1457,
          1616,
          1850,
          1624,
          1697,
          1931,
          1323,
          1448,
          1766,
          1662,
          2144,
          1483,
          1518,
          2380,
          2232,
          2556,
          2366,
          2536,
          1681,
          1231,
          1534,
          1957,
          1681,
          1975,
          1624,
          1480,
          2374,
          2382,
          2344,
          2194,
          1544,
          1317,
          1451,
          2338,
          2532,
          2400,
          1897,
          2430,
          1138,
          1321,
          1708,
          1849,
          1968,
          2196,
          2130,
          1677,
          1476,
          1864,
          1998,
          2184,
          2464,
          2033,
          1940,
          1521,
          1971,
          1594,
          1272,
          1520,
          1942,
          1569,
          1296,
          1884,
          2316,
          2376,
          2016,
          2158,
          1753,
          1359,
          1998,
          1990,
          2120,
          1969,
          1945,
          1723,
          1477,
          1564,
          1860,
          1667,
          1833,
          1575,
          1572,
          967,
          1179,
          1543,
          1172,
          1580,
          1257,
          1365,
          779,
          1130,
          1405,
          1386,
          1584,
          1775,
          1122,
          938,
          1297,
          1830,
          1644,
          1555,
          1767,
          1418,
          1073,
          1657,
          1453,
          1638,
          1787,
          1839,
          1539,
          1068,
          1627,
          1431,
          1115,
          1288,
          998,
          1064,
          1052,
          1389,
          1412,
          1287,
          905,
          1059,
          1221,
          1054,
          1166,
          1299,
          1247,
          1135,
          1361,
          1537,
          1101,
          1049,
          893,
          905,
          981,
          1475,
          1147,
          1218,
          1273,
          1090,
          1776,
          1677,
          1606,
          1509,
          1681,
          1201,
          984,
          1357,
          1337,
          1203,
          1316,
          1558,
          1392,
          839,
          1210,
          876,
          887,
          972,
          992,
          814,
          736,
          923,
          1441,
          1286,
          1352,
          1472,
          1198,
          771,
          1037,
          1120,
          1263,
          1420,
          1257,
          979,
          1273,
          1134,
          1115,
          1072,
          919,
          1282,
          1523,
          1208,
          1400,
          1568,
          926,
          949,
          837,
          839,
          1056,
          1422,
          1497,
          1034,
          818,
          941,
          1360,
          1497,
          1606,
          1279,
          1137,
          1018,
          1543,
          1459,
          1293,
          1647,
          1467,
          1439,
          1095,
          1673,
          1488,
          1895,
          1653,
          1750,
          1458,
          1289,
          1257,
          2005,
          1533,
          1397,
          1130,
          899,
          949,
          1777
         ]
        }
       ],
       "layout": {
        "height": 350,
        "legend": {
         "orientation": "v"
        },
        "margin": {
         "b": 90,
         "l": 80,
         "r": 80,
         "t": 70
        },
        "template": {
         "data": {
          "bar": [
           {
            "error_x": {
             "color": "#2a3f5f"
            },
            "error_y": {
             "color": "#2a3f5f"
            },
            "marker": {
             "line": {
              "color": "#E5ECF6",
              "width": 0.5
             }
            },
            "type": "bar"
           }
          ],
          "barpolar": [
           {
            "marker": {
             "line": {
              "color": "#E5ECF6",
              "width": 0.5
             }
            },
            "type": "barpolar"
           }
          ],
          "carpet": [
           {
            "aaxis": {
             "endlinecolor": "#2a3f5f",
             "gridcolor": "white",
             "linecolor": "white",
             "minorgridcolor": "white",
             "startlinecolor": "#2a3f5f"
            },
            "baxis": {
             "endlinecolor": "#2a3f5f",
             "gridcolor": "white",
             "linecolor": "white",
             "minorgridcolor": "white",
             "startlinecolor": "#2a3f5f"
            },
            "type": "carpet"
           }
          ],
          "choropleth": [
           {
            "colorbar": {
             "outlinewidth": 0,
             "ticks": ""
            },
            "type": "choropleth"
           }
          ],
          "contour": [
           {
            "colorbar": {
             "outlinewidth": 0,
             "ticks": ""
            },
            "colorscale": [
             [
              0,
              "#0d0887"
             ],
             [
              0.1111111111111111,
              "#46039f"
             ],
             [
              0.2222222222222222,
              "#7201a8"
             ],
             [
              0.3333333333333333,
              "#9c179e"
             ],
             [
              0.4444444444444444,
              "#bd3786"
             ],
             [
              0.5555555555555556,
              "#d8576b"
             ],
             [
              0.6666666666666666,
              "#ed7953"
             ],
             [
              0.7777777777777778,
              "#fb9f3a"
             ],
             [
              0.8888888888888888,
              "#fdca26"
             ],
             [
              1,
              "#f0f921"
             ]
            ],
            "type": "contour"
           }
          ],
          "contourcarpet": [
           {
            "colorbar": {
             "outlinewidth": 0,
             "ticks": ""
            },
            "type": "contourcarpet"
           }
          ],
          "heatmap": [
           {
            "colorbar": {
             "outlinewidth": 0,
             "ticks": ""
            },
            "colorscale": [
             [
              0,
              "#0d0887"
             ],
             [
              0.1111111111111111,
              "#46039f"
             ],
             [
              0.2222222222222222,
              "#7201a8"
             ],
             [
              0.3333333333333333,
              "#9c179e"
             ],
             [
              0.4444444444444444,
              "#bd3786"
             ],
             [
              0.5555555555555556,
              "#d8576b"
             ],
             [
              0.6666666666666666,
              "#ed7953"
             ],
             [
              0.7777777777777778,
              "#fb9f3a"
             ],
             [
              0.8888888888888888,
              "#fdca26"
             ],
             [
              1,
              "#f0f921"
             ]
            ],
            "type": "heatmap"
           }
          ],
          "heatmapgl": [
           {
            "colorbar": {
             "outlinewidth": 0,
             "ticks": ""
            },
            "colorscale": [
             [
              0,
              "#0d0887"
             ],
             [
              0.1111111111111111,
              "#46039f"
             ],
             [
              0.2222222222222222,
              "#7201a8"
             ],
             [
              0.3333333333333333,
              "#9c179e"
             ],
             [
              0.4444444444444444,
              "#bd3786"
             ],
             [
              0.5555555555555556,
              "#d8576b"
             ],
             [
              0.6666666666666666,
              "#ed7953"
             ],
             [
              0.7777777777777778,
              "#fb9f3a"
             ],
             [
              0.8888888888888888,
              "#fdca26"
             ],
             [
              1,
              "#f0f921"
             ]
            ],
            "type": "heatmapgl"
           }
          ],
          "histogram": [
           {
            "marker": {
             "colorbar": {
              "outlinewidth": 0,
              "ticks": ""
             }
            },
            "type": "histogram"
           }
          ],
          "histogram2d": [
           {
            "colorbar": {
             "outlinewidth": 0,
             "ticks": ""
            },
            "colorscale": [
             [
              0,
              "#0d0887"
             ],
             [
              0.1111111111111111,
              "#46039f"
             ],
             [
              0.2222222222222222,
              "#7201a8"
             ],
             [
              0.3333333333333333,
              "#9c179e"
             ],
             [
              0.4444444444444444,
              "#bd3786"
             ],
             [
              0.5555555555555556,
              "#d8576b"
             ],
             [
              0.6666666666666666,
              "#ed7953"
             ],
             [
              0.7777777777777778,
              "#fb9f3a"
             ],
             [
              0.8888888888888888,
              "#fdca26"
             ],
             [
              1,
              "#f0f921"
             ]
            ],
            "type": "histogram2d"
           }
          ],
          "histogram2dcontour": [
           {
            "colorbar": {
             "outlinewidth": 0,
             "ticks": ""
            },
            "colorscale": [
             [
              0,
              "#0d0887"
             ],
             [
              0.1111111111111111,
              "#46039f"
             ],
             [
              0.2222222222222222,
              "#7201a8"
             ],
             [
              0.3333333333333333,
              "#9c179e"
             ],
             [
              0.4444444444444444,
              "#bd3786"
             ],
             [
              0.5555555555555556,
              "#d8576b"
             ],
             [
              0.6666666666666666,
              "#ed7953"
             ],
             [
              0.7777777777777778,
              "#fb9f3a"
             ],
             [
              0.8888888888888888,
              "#fdca26"
             ],
             [
              1,
              "#f0f921"
             ]
            ],
            "type": "histogram2dcontour"
           }
          ],
          "mesh3d": [
           {
            "colorbar": {
             "outlinewidth": 0,
             "ticks": ""
            },
            "type": "mesh3d"
           }
          ],
          "parcoords": [
           {
            "line": {
             "colorbar": {
              "outlinewidth": 0,
              "ticks": ""
             }
            },
            "type": "parcoords"
           }
          ],
          "scatter": [
           {
            "marker": {
             "colorbar": {
              "outlinewidth": 0,
              "ticks": ""
             }
            },
            "type": "scatter"
           }
          ],
          "scatter3d": [
           {
            "line": {
             "colorbar": {
              "outlinewidth": 0,
              "ticks": ""
             }
            },
            "marker": {
             "colorbar": {
              "outlinewidth": 0,
              "ticks": ""
             }
            },
            "type": "scatter3d"
           }
          ],
          "scattercarpet": [
           {
            "marker": {
             "colorbar": {
              "outlinewidth": 0,
              "ticks": ""
             }
            },
            "type": "scattercarpet"
           }
          ],
          "scattergeo": [
           {
            "marker": {
             "colorbar": {
              "outlinewidth": 0,
              "ticks": ""
             }
            },
            "type": "scattergeo"
           }
          ],
          "scattergl": [
           {
            "marker": {
             "colorbar": {
              "outlinewidth": 0,
              "ticks": ""
             }
            },
            "type": "scattergl"
           }
          ],
          "scattermapbox": [
           {
            "marker": {
             "colorbar": {
              "outlinewidth": 0,
              "ticks": ""
             }
            },
            "type": "scattermapbox"
           }
          ],
          "scatterpolar": [
           {
            "marker": {
             "colorbar": {
              "outlinewidth": 0,
              "ticks": ""
             }
            },
            "type": "scatterpolar"
           }
          ],
          "scatterpolargl": [
           {
            "marker": {
             "colorbar": {
              "outlinewidth": 0,
              "ticks": ""
             }
            },
            "type": "scatterpolargl"
           }
          ],
          "scatterternary": [
           {
            "marker": {
             "colorbar": {
              "outlinewidth": 0,
              "ticks": ""
             }
            },
            "type": "scatterternary"
           }
          ],
          "surface": [
           {
            "colorbar": {
             "outlinewidth": 0,
             "ticks": ""
            },
            "colorscale": [
             [
              0,
              "#0d0887"
             ],
             [
              0.1111111111111111,
              "#46039f"
             ],
             [
              0.2222222222222222,
              "#7201a8"
             ],
             [
              0.3333333333333333,
              "#9c179e"
             ],
             [
              0.4444444444444444,
              "#bd3786"
             ],
             [
              0.5555555555555556,
              "#d8576b"
             ],
             [
              0.6666666666666666,
              "#ed7953"
             ],
             [
              0.7777777777777778,
              "#fb9f3a"
             ],
             [
              0.8888888888888888,
              "#fdca26"
             ],
             [
              1,
              "#f0f921"
             ]
            ],
            "type": "surface"
           }
          ],
          "table": [
           {
            "cells": {
             "fill": {
              "color": "#EBF0F8"
             },
             "line": {
              "color": "white"
             }
            },
            "header": {
             "fill": {
              "color": "#C8D4E3"
             },
             "line": {
              "color": "white"
             }
            },
            "type": "table"
           }
          ]
         },
         "layout": {
          "annotationdefaults": {
           "arrowcolor": "#2a3f5f",
           "arrowhead": 0,
           "arrowwidth": 1
          },
          "colorscale": {
           "diverging": [
            [
             0,
             "#8e0152"
            ],
            [
             0.1,
             "#c51b7d"
            ],
            [
             0.2,
             "#de77ae"
            ],
            [
             0.3,
             "#f1b6da"
            ],
            [
             0.4,
             "#fde0ef"
            ],
            [
             0.5,
             "#f7f7f7"
            ],
            [
             0.6,
             "#e6f5d0"
            ],
            [
             0.7,
             "#b8e186"
            ],
            [
             0.8,
             "#7fbc41"
            ],
            [
             0.9,
             "#4d9221"
            ],
            [
             1,
             "#276419"
            ]
           ],
           "sequential": [
            [
             0,
             "#0d0887"
            ],
            [
             0.1111111111111111,
             "#46039f"
            ],
            [
             0.2222222222222222,
             "#7201a8"
            ],
            [
             0.3333333333333333,
             "#9c179e"
            ],
            [
             0.4444444444444444,
             "#bd3786"
            ],
            [
             0.5555555555555556,
             "#d8576b"
            ],
            [
             0.6666666666666666,
             "#ed7953"
            ],
            [
             0.7777777777777778,
             "#fb9f3a"
            ],
            [
             0.8888888888888888,
             "#fdca26"
            ],
            [
             1,
             "#f0f921"
            ]
           ],
           "sequentialminus": [
            [
             0,
             "#0d0887"
            ],
            [
             0.1111111111111111,
             "#46039f"
            ],
            [
             0.2222222222222222,
             "#7201a8"
            ],
            [
             0.3333333333333333,
             "#9c179e"
            ],
            [
             0.4444444444444444,
             "#bd3786"
            ],
            [
             0.5555555555555556,
             "#d8576b"
            ],
            [
             0.6666666666666666,
             "#ed7953"
            ],
            [
             0.7777777777777778,
             "#fb9f3a"
            ],
            [
             0.8888888888888888,
             "#fdca26"
            ],
            [
             1,
             "#f0f921"
            ]
           ]
          },
          "colorway": [
           "#636efa",
           "#EF553B",
           "#00cc96",
           "#ab63fa",
           "#FFA15A",
           "#19d3f3",
           "#FF6692",
           "#B6E880",
           "#FF97FF",
           "#FECB52"
          ],
          "font": {
           "color": "#2a3f5f"
          },
          "geo": {
           "bgcolor": "white",
           "lakecolor": "white",
           "landcolor": "#E5ECF6",
           "showlakes": true,
           "showland": true,
           "subunitcolor": "white"
          },
          "hoverlabel": {
           "align": "left"
          },
          "hovermode": "closest",
          "mapbox": {
           "style": "light"
          },
          "paper_bgcolor": "white",
          "plot_bgcolor": "#E5ECF6",
          "polar": {
           "angularaxis": {
            "gridcolor": "white",
            "linecolor": "white",
            "ticks": ""
           },
           "bgcolor": "#E5ECF6",
           "radialaxis": {
            "gridcolor": "white",
            "linecolor": "white",
            "ticks": ""
           }
          },
          "scene": {
           "xaxis": {
            "backgroundcolor": "#E5ECF6",
            "gridcolor": "white",
            "gridwidth": 2,
            "linecolor": "white",
            "showbackground": true,
            "ticks": "",
            "zerolinecolor": "white"
           },
           "yaxis": {
            "backgroundcolor": "#E5ECF6",
            "gridcolor": "white",
            "gridwidth": 2,
            "linecolor": "white",
            "showbackground": true,
            "ticks": "",
            "zerolinecolor": "white"
           },
           "zaxis": {
            "backgroundcolor": "#E5ECF6",
            "gridcolor": "white",
            "gridwidth": 2,
            "linecolor": "white",
            "showbackground": true,
            "ticks": "",
            "zerolinecolor": "white"
           }
          },
          "shapedefaults": {
           "line": {
            "color": "#2a3f5f"
           }
          },
          "ternary": {
           "aaxis": {
            "gridcolor": "white",
            "linecolor": "white",
            "ticks": ""
           },
           "baxis": {
            "gridcolor": "white",
            "linecolor": "white",
            "ticks": ""
           },
           "bgcolor": "#E5ECF6",
           "caxis": {
            "gridcolor": "white",
            "linecolor": "white",
            "ticks": ""
           }
          },
          "title": {
           "x": 0.05
          },
          "xaxis": {
           "automargin": true,
           "gridcolor": "white",
           "linecolor": "white",
           "ticks": "",
           "zerolinecolor": "white",
           "zerolinewidth": 2
          },
          "yaxis": {
           "automargin": true,
           "gridcolor": "white",
           "linecolor": "white",
           "ticks": "",
           "zerolinecolor": "white",
           "zerolinewidth": 2
          }
         }
        },
        "title": {
         "text": "NO2 amount at 8:00 regardless of days"
        },
        "width": 800,
        "xaxis": {
         "dtick": 30,
         "range": [
          "2004-03-01",
          "2005-04-01"
         ],
         "tick0": 4,
         "tickangle": 30
        },
        "yaxis": {
         "range": [
          500,
          3000
         ],
         "title": {
          "text": "Concentration"
         }
        }
       }
      },
      "text/html": [
       "<div>\n",
       "        \n",
       "        \n",
       "            <div id=\"ea61210b-b6d7-4999-b6c7-ce8d9e151425\" class=\"plotly-graph-div\" style=\"height:350px; width:800px;\"></div>\n",
       "            <script type=\"text/javascript\">\n",
       "                require([\"plotly\"], function(Plotly) {\n",
       "                    window.PLOTLYENV=window.PLOTLYENV || {};\n",
       "                    \n",
       "                if (document.getElementById(\"ea61210b-b6d7-4999-b6c7-ce8d9e151425\")) {\n",
       "                    Plotly.newPlot(\n",
       "                        'ea61210b-b6d7-4999-b6c7-ce8d9e151425',\n",
       "                        [{\"name\": \"PT08.S4(NO2)\", \"type\": \"scatter\", \"x\": [\"2004/3/11\", \"2004/3/12\", \"2004/3/13\", \"2004/3/14\", \"2004/3/15\", \"2004/3/16\", \"2004/3/17\", \"2004/3/18\", \"2004/3/19\", \"2004/3/20\", \"2004/3/21\", \"2004/3/22\", \"2004/3/23\", \"2004/3/24\", \"2004/3/25\", \"2004/3/26\", \"2004/3/27\", \"2004/3/28\", \"2004/3/29\", \"2004/3/30\", \"2004/3/31\", \"2004/4/1\", \"2004/4/2\", \"2004/4/3\", \"2004/4/4\", \"2004/4/5\", \"2004/4/6\", \"2004/4/7\", \"2004/4/8\", \"2004/4/10\", \"2004/4/11\", \"2004/4/12\", \"2004/4/13\", \"2004/4/14\", \"2004/4/15\", \"2004/4/16\", \"2004/4/17\", \"2004/4/18\", \"2004/4/19\", \"2004/4/20\", \"2004/4/21\", \"2004/4/22\", \"2004/4/23\", \"2004/4/24\", \"2004/4/25\", \"2004/4/26\", \"2004/4/27\", \"2004/4/28\", \"2004/4/29\", \"2004/4/30\", \"2004/5/1\", \"2004/5/2\", \"2004/5/3\", \"2004/5/4\", \"2004/5/5\", \"2004/5/6\", \"2004/5/7\", \"2004/5/8\", \"2004/5/9\", \"2004/5/10\", \"2004/5/11\", \"2004/5/12\", \"2004/5/13\", \"2004/5/14\", \"2004/5/15\", \"2004/5/16\", \"2004/5/17\", \"2004/5/18\", \"2004/5/19\", \"2004/5/20\", \"2004/5/21\", \"2004/5/22\", \"2004/5/23\", \"2004/5/24\", \"2004/5/25\", \"2004/5/26\", \"2004/5/27\", \"2004/5/28\", \"2004/5/29\", \"2004/5/30\", \"2004/5/31\", \"2004/6/1\", \"2004/6/2\", \"2004/6/3\", \"2004/6/4\", \"2004/6/5\", \"2004/6/6\", \"2004/6/7\", \"2004/6/8\", \"2004/6/9\", \"2004/6/10\", \"2004/6/11\", \"2004/6/12\", \"2004/6/13\", \"2004/6/14\", \"2004/6/15\", \"2004/6/16\", \"2004/6/17\", \"2004/6/18\", \"2004/6/19\", \"2004/6/21\", \"2004/6/22\", \"2004/6/23\", \"2004/6/24\", \"2004/6/25\", \"2004/6/26\", \"2004/6/27\", \"2004/6/28\", \"2004/6/29\", \"2004/6/30\", \"2004/7/1\", \"2004/7/2\", \"2004/7/3\", \"2004/7/4\", \"2004/7/5\", \"2004/7/6\", \"2004/7/7\", \"2004/7/8\", \"2004/7/9\", \"2004/7/10\", \"2004/7/11\", \"2004/7/12\", \"2004/7/13\", \"2004/7/14\", \"2004/7/15\", \"2004/7/16\", \"2004/7/17\", \"2004/7/18\", \"2004/7/19\", \"2004/7/20\", \"2004/7/21\", \"2004/7/22\", \"2004/7/23\", \"2004/7/24\", \"2004/7/25\", \"2004/7/26\", \"2004/7/27\", \"2004/7/28\", \"2004/7/29\", \"2004/7/30\", \"2004/7/31\", \"2004/8/1\", \"2004/8/2\", \"2004/8/3\", \"2004/8/4\", \"2004/8/5\", \"2004/8/6\", \"2004/8/7\", \"2004/8/8\", \"2004/8/9\", \"2004/8/10\", \"2004/8/11\", \"2004/8/12\", \"2004/8/13\", \"2004/8/14\", \"2004/8/15\", \"2004/8/16\", \"2004/8/17\", \"2004/8/18\", \"2004/8/19\", \"2004/8/20\", \"2004/8/21\", \"2004/8/22\", \"2004/8/23\", \"2004/8/24\", \"2004/8/25\", \"2004/8/28\", \"2004/8/29\", \"2004/8/30\", \"2004/8/31\", \"2004/9/1\", \"2004/9/2\", \"2004/9/3\", \"2004/9/4\", \"2004/9/5\", \"2004/9/6\", \"2004/9/7\", \"2004/9/9\", \"2004/9/10\", \"2004/9/11\", \"2004/9/12\", \"2004/9/13\", \"2004/9/14\", \"2004/9/15\", \"2004/9/16\", \"2004/9/17\", \"2004/9/18\", \"2004/9/19\", \"2004/9/20\", \"2004/9/21\", \"2004/9/22\", \"2004/9/23\", \"2004/9/24\", \"2004/9/25\", \"2004/9/26\", \"2004/9/27\", \"2004/9/28\", \"2004/9/29\", \"2004/9/30\", \"2004/10/1\", \"2004/10/2\", \"2004/10/3\", \"2004/10/4\", \"2004/10/5\", \"2004/10/6\", \"2004/10/7\", \"2004/10/8\", \"2004/10/9\", \"2004/10/10\", \"2004/10/11\", \"2004/10/12\", \"2004/10/13\", \"2004/10/14\", \"2004/10/15\", \"2004/10/16\", \"2004/10/17\", \"2004/10/18\", \"2004/10/19\", \"2004/10/20\", \"2004/10/21\", \"2004/10/22\", \"2004/10/23\", \"2004/10/24\", \"2004/10/25\", \"2004/10/26\", \"2004/10/27\", \"2004/10/28\", \"2004/10/29\", \"2004/10/30\", \"2004/10/31\", \"2004/11/1\", \"2004/11/2\", \"2004/11/3\", \"2004/11/4\", \"2004/11/5\", \"2004/11/6\", \"2004/11/7\", \"2004/11/8\", \"2004/11/9\", \"2004/11/10\", \"2004/11/11\", \"2004/11/12\", \"2004/11/13\", \"2004/11/14\", \"2004/11/15\", \"2004/11/16\", \"2004/11/17\", \"2004/11/18\", \"2004/11/19\", \"2004/11/20\", \"2004/11/21\", \"2004/11/22\", \"2004/11/23\", \"2004/11/24\", \"2004/11/25\", \"2004/11/26\", \"2004/11/27\", \"2004/11/28\", \"2004/11/29\", \"2004/11/30\", \"2004/12/1\", \"2004/12/2\", \"2004/12/3\", \"2004/12/4\", \"2004/12/5\", \"2004/12/6\", \"2004/12/7\", \"2004/12/8\", \"2004/12/9\", \"2004/12/10\", \"2004/12/11\", \"2004/12/12\", \"2004/12/13\", \"2004/12/14\", \"2004/12/18\", \"2004/12/19\", \"2004/12/20\", \"2004/12/21\", \"2004/12/22\", \"2004/12/23\", \"2004/12/24\", \"2004/12/25\", \"2004/12/26\", \"2004/12/27\", \"2004/12/28\", \"2004/12/29\", \"2004/12/30\", \"2004/12/31\", \"2005/1/1\", \"2005/1/2\", \"2005/1/5\", \"2005/1/6\", \"2005/1/7\", \"2005/1/8\", \"2005/1/9\", \"2005/1/10\", \"2005/1/11\", \"2005/1/12\", \"2005/1/13\", \"2005/1/14\", \"2005/1/15\", \"2005/1/16\", \"2005/1/17\", \"2005/1/18\", \"2005/1/19\", \"2005/1/20\", \"2005/1/21\", \"2005/1/22\", \"2005/1/23\", \"2005/1/24\", \"2005/1/25\", \"2005/1/26\", \"2005/1/27\", \"2005/1/28\", \"2005/1/29\", \"2005/1/30\", \"2005/1/31\", \"2005/2/1\", \"2005/2/2\", \"2005/2/3\", \"2005/2/4\", \"2005/2/5\", \"2005/2/6\", \"2005/2/7\", \"2005/2/8\", \"2005/2/12\", \"2005/2/13\", \"2005/2/14\", \"2005/2/15\", \"2005/2/16\", \"2005/2/17\", \"2005/2/18\", \"2005/2/19\", \"2005/2/20\", \"2005/2/21\", \"2005/2/22\", \"2005/2/23\", \"2005/2/24\", \"2005/2/25\", \"2005/2/26\", \"2005/2/27\", \"2005/2/28\", \"2005/3/1\", \"2005/3/2\", \"2005/3/3\", \"2005/3/4\", \"2005/3/5\", \"2005/3/6\", \"2005/3/7\", \"2005/3/8\", \"2005/3/9\", \"2005/3/10\", \"2005/3/11\", \"2005/3/12\", \"2005/3/13\", \"2005/3/14\", \"2005/3/15\", \"2005/3/16\", \"2005/3/17\", \"2005/3/18\", \"2005/3/19\", \"2005/3/20\", \"2005/3/21\", \"2005/3/22\", \"2005/3/23\", \"2005/3/24\", \"2005/3/25\", \"2005/3/26\", \"2005/3/27\", \"2005/3/28\", \"2005/3/29\", \"2005/3/30\", \"2005/3/31\", \"2005/4/1\", \"2005/4/2\", \"2005/4/3\", \"2005/4/4\"], \"y\": [1517.0, 1900.0, 1678.0, 1414.0, 2324.0, 1889.0, 1999.0, 2094.0, 2144.0, 1623.0, 1528.0, 1996.0, 1829.0, 1706.0, 1721.0, 1828.0, 1418.0, 1382.0, 1806.0, 1947.0, 1957.0, 2440.0, 2060.0, 1872.0, 1461.0, 2300.0, 2560.0, 1821.0, 2188.0, 1663.0, 1343.0, 1246.0, 2056.0, 2278.0, 2034.0, 1890.0, 1691.0, 1459.0, 1969.0, 2396.0, 2684.0, 2003.0, 2416.0, 1838.0, 1180.0, 1490.0, 2050.0, 2112.0, 2572.0, 2064.0, 1615.0, 1568.0, 2400.0, 2248.0, 2264.0, 2029.0, 2096.0, 1589.0, 1303.0, 2616.0, 2424.0, 2668.0, 1984.0, 2326.0, 1721.0, 1393.0, 1444.0, 2604.0, 2544.0, 2504.0, 2276.0, 1846.0, 1490.0, 1379.0, 1786.0, -200.0, 2336.0, 2008.0, 1343.0, 1272.0, 2120.0, 2180.0, 1751.0, 2180.0, 1667.0, 1691.0, 1614.0, 2248.0, 2746.0, 2692.0, 2524.0, 2396.0, 1622.0, 1287.0, 1665.0, 2244.0, 2530.0, 2384.0, 2450.0, 1697.0, 2138.0, 2394.0, 2046.0, 1750.0, 1968.0, 1773.0, 1634.0, 2568.0, 2622.0, 2039.0, 2336.0, 2560.0, 1885.0, 1669.0, 2312.0, 2460.0, 2276.0, 2082.0, 1877.0, 1572.0, 1402.0, 1945.0, 2244.0, 2356.0, 2240.0, 2276.0, 1628.0, 1417.0, 2234.0, 2644.0, 2404.0, 2662.0, 2284.0, 1829.0, 1443.0, 1744.0, 1694.0, 2112.0, 2180.0, 2322.0, 1763.0, 1624.0, 2128.0, 2256.0, 2404.0, 1962.0, 2192.0, 1705.0, 1585.0, 2003.0, 2114.0, 1904.0, 2019.0, 1818.0, 1626.0, 1457.0, 1616.0, 1850.0, 1624.0, 1697.0, 1931.0, 1323.0, 1448.0, 1766.0, 1662.0, 2144.0, 1483.0, 1518.0, 2380.0, 2232.0, 2556.0, 2366.0, 2536.0, 1681.0, 1231.0, 1534.0, 1957.0, 1681.0, 1975.0, 1624.0, 1480.0, 2374.0, 2382.0, 2344.0, 2194.0, 1544.0, 1317.0, 1451.0, 2338.0, 2532.0, 2400.0, 1897.0, 2430.0, 1138.0, 1321.0, 1708.0, 1849.0, 1968.0, 2196.0, 2130.0, 1677.0, 1476.0, 1864.0, 1998.0, 2184.0, 2464.0, 2033.0, 1940.0, 1521.0, 1971.0, 1594.0, 1272.0, 1520.0, 1942.0, 1569.0, 1296.0, 1884.0, 2316.0, 2376.0, 2016.0, 2158.0, 1753.0, 1359.0, 1998.0, 1990.0, 2120.0, 1969.0, 1945.0, 1723.0, 1477.0, 1564.0, 1860.0, 1667.0, 1833.0, 1575.0, 1572.0, 967.0, 1179.0, 1543.0, 1172.0, 1580.0, 1257.0, 1365.0, 779.0, 1130.0, 1405.0, 1386.0, 1584.0, 1775.0, 1122.0, 938.0, 1297.0, 1830.0, 1644.0, 1555.0, 1767.0, 1418.0, 1073.0, 1657.0, 1453.0, 1638.0, 1787.0, 1839.0, 1539.0, 1068.0, 1627.0, 1431.0, 1115.0, 1288.0, 998.0, 1064.0, 1052.0, 1389.0, 1412.0, 1287.0, 905.0, 1059.0, 1221.0, 1054.0, 1166.0, 1299.0, 1247.0, 1135.0, 1361.0, 1537.0, 1101.0, 1049.0, 893.0, 905.0, 981.0, 1475.0, 1147.0, 1218.0, 1273.0, 1090.0, 1776.0, 1677.0, 1606.0, 1509.0, 1681.0, 1201.0, 984.0, 1357.0, 1337.0, 1203.0, 1316.0, 1558.0, 1392.0, 839.0, 1210.0, 876.0, 887.0, 972.0, 992.0, 814.0, 736.0, 923.0, 1441.0, 1286.0, 1352.0, 1472.0, 1198.0, 771.0, 1037.0, 1120.0, 1263.0, 1420.0, 1257.0, 979.0, 1273.0, 1134.0, 1115.0, 1072.0, 919.0, 1282.0, 1523.0, 1208.0, 1400.0, 1568.0, 926.0, 949.0, 837.0, 839.0, 1056.0, 1422.0, 1497.0, 1034.0, 818.0, 941.0, 1360.0, 1497.0, 1606.0, 1279.0, 1137.0, 1018.0, 1543.0, 1459.0, 1293.0, 1647.0, 1467.0, 1439.0, 1095.0, 1673.0, 1488.0, 1895.0, 1653.0, 1750.0, 1458.0, 1289.0, 1257.0, 2005.0, 1533.0, 1397.0, 1130.0, 899.0, 949.0, 1777.0]}],\n",
       "                        {\"height\": 350, \"legend\": {\"orientation\": \"v\"}, \"margin\": {\"b\": 90, \"l\": 80, \"r\": 80, \"t\": 70}, \"template\": {\"data\": {\"bar\": [{\"error_x\": {\"color\": \"#2a3f5f\"}, \"error_y\": {\"color\": \"#2a3f5f\"}, \"marker\": {\"line\": {\"color\": \"#E5ECF6\", \"width\": 0.5}}, \"type\": \"bar\"}], \"barpolar\": [{\"marker\": {\"line\": {\"color\": \"#E5ECF6\", \"width\": 0.5}}, \"type\": \"barpolar\"}], \"carpet\": [{\"aaxis\": {\"endlinecolor\": \"#2a3f5f\", \"gridcolor\": \"white\", \"linecolor\": \"white\", \"minorgridcolor\": \"white\", \"startlinecolor\": \"#2a3f5f\"}, \"baxis\": {\"endlinecolor\": \"#2a3f5f\", \"gridcolor\": \"white\", \"linecolor\": \"white\", \"minorgridcolor\": \"white\", \"startlinecolor\": \"#2a3f5f\"}, \"type\": \"carpet\"}], \"choropleth\": [{\"colorbar\": {\"outlinewidth\": 0, \"ticks\": \"\"}, \"type\": \"choropleth\"}], \"contour\": [{\"colorbar\": {\"outlinewidth\": 0, \"ticks\": \"\"}, \"colorscale\": [[0.0, \"#0d0887\"], [0.1111111111111111, \"#46039f\"], [0.2222222222222222, \"#7201a8\"], [0.3333333333333333, \"#9c179e\"], [0.4444444444444444, \"#bd3786\"], [0.5555555555555556, \"#d8576b\"], [0.6666666666666666, \"#ed7953\"], [0.7777777777777778, \"#fb9f3a\"], [0.8888888888888888, \"#fdca26\"], [1.0, \"#f0f921\"]], \"type\": \"contour\"}], \"contourcarpet\": [{\"colorbar\": {\"outlinewidth\": 0, \"ticks\": \"\"}, \"type\": \"contourcarpet\"}], \"heatmap\": [{\"colorbar\": {\"outlinewidth\": 0, \"ticks\": \"\"}, \"colorscale\": [[0.0, \"#0d0887\"], [0.1111111111111111, \"#46039f\"], [0.2222222222222222, \"#7201a8\"], [0.3333333333333333, \"#9c179e\"], [0.4444444444444444, \"#bd3786\"], [0.5555555555555556, \"#d8576b\"], [0.6666666666666666, \"#ed7953\"], [0.7777777777777778, \"#fb9f3a\"], [0.8888888888888888, \"#fdca26\"], [1.0, \"#f0f921\"]], \"type\": \"heatmap\"}], \"heatmapgl\": [{\"colorbar\": {\"outlinewidth\": 0, \"ticks\": \"\"}, \"colorscale\": [[0.0, \"#0d0887\"], [0.1111111111111111, \"#46039f\"], [0.2222222222222222, \"#7201a8\"], [0.3333333333333333, \"#9c179e\"], [0.4444444444444444, \"#bd3786\"], [0.5555555555555556, \"#d8576b\"], [0.6666666666666666, \"#ed7953\"], [0.7777777777777778, \"#fb9f3a\"], [0.8888888888888888, \"#fdca26\"], [1.0, \"#f0f921\"]], \"type\": \"heatmapgl\"}], \"histogram\": [{\"marker\": {\"colorbar\": {\"outlinewidth\": 0, \"ticks\": \"\"}}, \"type\": \"histogram\"}], \"histogram2d\": [{\"colorbar\": {\"outlinewidth\": 0, \"ticks\": \"\"}, \"colorscale\": [[0.0, \"#0d0887\"], [0.1111111111111111, \"#46039f\"], [0.2222222222222222, \"#7201a8\"], [0.3333333333333333, \"#9c179e\"], [0.4444444444444444, \"#bd3786\"], [0.5555555555555556, \"#d8576b\"], [0.6666666666666666, \"#ed7953\"], [0.7777777777777778, \"#fb9f3a\"], [0.8888888888888888, \"#fdca26\"], [1.0, \"#f0f921\"]], \"type\": \"histogram2d\"}], \"histogram2dcontour\": [{\"colorbar\": {\"outlinewidth\": 0, \"ticks\": \"\"}, \"colorscale\": [[0.0, \"#0d0887\"], [0.1111111111111111, \"#46039f\"], [0.2222222222222222, \"#7201a8\"], [0.3333333333333333, \"#9c179e\"], [0.4444444444444444, \"#bd3786\"], [0.5555555555555556, \"#d8576b\"], [0.6666666666666666, \"#ed7953\"], [0.7777777777777778, \"#fb9f3a\"], [0.8888888888888888, \"#fdca26\"], [1.0, \"#f0f921\"]], \"type\": \"histogram2dcontour\"}], \"mesh3d\": [{\"colorbar\": {\"outlinewidth\": 0, \"ticks\": \"\"}, \"type\": \"mesh3d\"}], \"parcoords\": [{\"line\": {\"colorbar\": {\"outlinewidth\": 0, \"ticks\": \"\"}}, \"type\": \"parcoords\"}], \"scatter\": [{\"marker\": {\"colorbar\": {\"outlinewidth\": 0, \"ticks\": \"\"}}, \"type\": \"scatter\"}], \"scatter3d\": [{\"line\": {\"colorbar\": {\"outlinewidth\": 0, \"ticks\": \"\"}}, \"marker\": {\"colorbar\": {\"outlinewidth\": 0, \"ticks\": \"\"}}, \"type\": \"scatter3d\"}], \"scattercarpet\": [{\"marker\": {\"colorbar\": {\"outlinewidth\": 0, \"ticks\": \"\"}}, \"type\": \"scattercarpet\"}], \"scattergeo\": [{\"marker\": {\"colorbar\": {\"outlinewidth\": 0, \"ticks\": \"\"}}, \"type\": \"scattergeo\"}], \"scattergl\": [{\"marker\": {\"colorbar\": {\"outlinewidth\": 0, \"ticks\": \"\"}}, \"type\": \"scattergl\"}], \"scattermapbox\": [{\"marker\": {\"colorbar\": {\"outlinewidth\": 0, \"ticks\": \"\"}}, \"type\": \"scattermapbox\"}], \"scatterpolar\": [{\"marker\": {\"colorbar\": {\"outlinewidth\": 0, \"ticks\": \"\"}}, \"type\": \"scatterpolar\"}], \"scatterpolargl\": [{\"marker\": {\"colorbar\": {\"outlinewidth\": 0, \"ticks\": \"\"}}, \"type\": \"scatterpolargl\"}], \"scatterternary\": [{\"marker\": {\"colorbar\": {\"outlinewidth\": 0, \"ticks\": \"\"}}, \"type\": \"scatterternary\"}], \"surface\": [{\"colorbar\": {\"outlinewidth\": 0, \"ticks\": \"\"}, \"colorscale\": [[0.0, \"#0d0887\"], [0.1111111111111111, \"#46039f\"], [0.2222222222222222, \"#7201a8\"], [0.3333333333333333, \"#9c179e\"], [0.4444444444444444, \"#bd3786\"], [0.5555555555555556, \"#d8576b\"], [0.6666666666666666, \"#ed7953\"], [0.7777777777777778, \"#fb9f3a\"], [0.8888888888888888, \"#fdca26\"], [1.0, \"#f0f921\"]], \"type\": \"surface\"}], \"table\": [{\"cells\": {\"fill\": {\"color\": \"#EBF0F8\"}, \"line\": {\"color\": \"white\"}}, \"header\": {\"fill\": {\"color\": \"#C8D4E3\"}, \"line\": {\"color\": \"white\"}}, \"type\": \"table\"}]}, \"layout\": {\"annotationdefaults\": {\"arrowcolor\": \"#2a3f5f\", \"arrowhead\": 0, \"arrowwidth\": 1}, \"colorscale\": {\"diverging\": [[0, \"#8e0152\"], [0.1, \"#c51b7d\"], [0.2, \"#de77ae\"], [0.3, \"#f1b6da\"], [0.4, \"#fde0ef\"], [0.5, \"#f7f7f7\"], [0.6, \"#e6f5d0\"], [0.7, \"#b8e186\"], [0.8, \"#7fbc41\"], [0.9, \"#4d9221\"], [1, \"#276419\"]], \"sequential\": [[0.0, \"#0d0887\"], [0.1111111111111111, \"#46039f\"], [0.2222222222222222, \"#7201a8\"], [0.3333333333333333, \"#9c179e\"], [0.4444444444444444, \"#bd3786\"], [0.5555555555555556, \"#d8576b\"], [0.6666666666666666, \"#ed7953\"], [0.7777777777777778, \"#fb9f3a\"], [0.8888888888888888, \"#fdca26\"], [1.0, \"#f0f921\"]], \"sequentialminus\": [[0.0, \"#0d0887\"], [0.1111111111111111, \"#46039f\"], [0.2222222222222222, \"#7201a8\"], [0.3333333333333333, \"#9c179e\"], [0.4444444444444444, \"#bd3786\"], [0.5555555555555556, \"#d8576b\"], [0.6666666666666666, \"#ed7953\"], [0.7777777777777778, \"#fb9f3a\"], [0.8888888888888888, \"#fdca26\"], [1.0, \"#f0f921\"]]}, \"colorway\": [\"#636efa\", \"#EF553B\", \"#00cc96\", \"#ab63fa\", \"#FFA15A\", \"#19d3f3\", \"#FF6692\", \"#B6E880\", \"#FF97FF\", \"#FECB52\"], \"font\": {\"color\": \"#2a3f5f\"}, \"geo\": {\"bgcolor\": \"white\", \"lakecolor\": \"white\", \"landcolor\": \"#E5ECF6\", \"showlakes\": true, \"showland\": true, \"subunitcolor\": \"white\"}, \"hoverlabel\": {\"align\": \"left\"}, \"hovermode\": \"closest\", \"mapbox\": {\"style\": \"light\"}, \"paper_bgcolor\": \"white\", \"plot_bgcolor\": \"#E5ECF6\", \"polar\": {\"angularaxis\": {\"gridcolor\": \"white\", \"linecolor\": \"white\", \"ticks\": \"\"}, \"bgcolor\": \"#E5ECF6\", \"radialaxis\": {\"gridcolor\": \"white\", \"linecolor\": \"white\", \"ticks\": \"\"}}, \"scene\": {\"xaxis\": {\"backgroundcolor\": \"#E5ECF6\", \"gridcolor\": \"white\", \"gridwidth\": 2, \"linecolor\": \"white\", \"showbackground\": true, \"ticks\": \"\", \"zerolinecolor\": \"white\"}, \"yaxis\": {\"backgroundcolor\": \"#E5ECF6\", \"gridcolor\": \"white\", \"gridwidth\": 2, \"linecolor\": \"white\", \"showbackground\": true, \"ticks\": \"\", \"zerolinecolor\": \"white\"}, \"zaxis\": {\"backgroundcolor\": \"#E5ECF6\", \"gridcolor\": \"white\", \"gridwidth\": 2, \"linecolor\": \"white\", \"showbackground\": true, \"ticks\": \"\", \"zerolinecolor\": \"white\"}}, \"shapedefaults\": {\"line\": {\"color\": \"#2a3f5f\"}}, \"ternary\": {\"aaxis\": {\"gridcolor\": \"white\", \"linecolor\": \"white\", \"ticks\": \"\"}, \"baxis\": {\"gridcolor\": \"white\", \"linecolor\": \"white\", \"ticks\": \"\"}, \"bgcolor\": \"#E5ECF6\", \"caxis\": {\"gridcolor\": \"white\", \"linecolor\": \"white\", \"ticks\": \"\"}}, \"title\": {\"x\": 0.05}, \"xaxis\": {\"automargin\": true, \"gridcolor\": \"white\", \"linecolor\": \"white\", \"ticks\": \"\", \"zerolinecolor\": \"white\", \"zerolinewidth\": 2}, \"yaxis\": {\"automargin\": true, \"gridcolor\": \"white\", \"linecolor\": \"white\", \"ticks\": \"\", \"zerolinecolor\": \"white\", \"zerolinewidth\": 2}}}, \"title\": {\"text\": \"NO2 amount at 8:00 regardless of days\"}, \"width\": 800, \"xaxis\": {\"dtick\": 30.0, \"range\": [\"2004-03-01\", \"2005-04-01\"], \"tick0\": 4.0, \"tickangle\": 30}, \"yaxis\": {\"range\": [500, 3000], \"title\": {\"text\": \"Concentration\"}}},\n",
       "                        {\"responsive\": true}\n",
       "                    ).then(function(){\n",
       "                            \n",
       "var gd = document.getElementById('ea61210b-b6d7-4999-b6c7-ce8d9e151425');\n",
       "var x = new MutationObserver(function (mutations, observer) {{\n",
       "        var display = window.getComputedStyle(gd).display;\n",
       "        if (!display || display === 'none') {{\n",
       "            console.log([gd, 'removed!']);\n",
       "            Plotly.purge(gd);\n",
       "            observer.disconnect();\n",
       "        }}\n",
       "}});\n",
       "\n",
       "// Listen for the removal of the full notebook cells\n",
       "var notebookContainer = gd.closest('#notebook-container');\n",
       "if (notebookContainer) {{\n",
       "    x.observe(notebookContainer, {childList: true});\n",
       "}}\n",
       "\n",
       "// Listen for the clearing of the current output cell\n",
       "var outputEl = gd.closest('.output');\n",
       "if (outputEl) {{\n",
       "    x.observe(outputEl, {childList: true});\n",
       "}}\n",
       "\n",
       "                        })\n",
       "                };\n",
       "                });\n",
       "            </script>\n",
       "        </div>"
      ]
     },
     "metadata": {},
     "output_type": "display_data"
    },
    {
     "data": {
      "application/vnd.plotly.v1+json": {
       "config": {
        "linkText": "Export to plot.ly",
        "plotlyServerURL": "https://plot.ly",
        "showLink": false
       },
       "data": [
        {
         "name": "PT08.S4(NO2)",
         "type": "scatter",
         "x": [
          "2004/3/11",
          "2004/3/12",
          "2004/3/13",
          "2004/3/14",
          "2004/3/15",
          "2004/3/16",
          "2004/3/17",
          "2004/3/18",
          "2004/3/19",
          "2004/3/20",
          "2004/3/21",
          "2004/3/22",
          "2004/3/23",
          "2004/3/24",
          "2004/3/25",
          "2004/3/26",
          "2004/3/27",
          "2004/3/28",
          "2004/3/29",
          "2004/3/30",
          "2004/3/31",
          "2004/4/1",
          "2004/4/2",
          "2004/4/3",
          "2004/4/4",
          "2004/4/5",
          "2004/4/6",
          "2004/4/7",
          "2004/4/8",
          "2004/4/10",
          "2004/4/11",
          "2004/4/12",
          "2004/4/13",
          "2004/4/14",
          "2004/4/15",
          "2004/4/16",
          "2004/4/17",
          "2004/4/18",
          "2004/4/19",
          "2004/4/20",
          "2004/4/21",
          "2004/4/22",
          "2004/4/23",
          "2004/4/24",
          "2004/4/25",
          "2004/4/26",
          "2004/4/27",
          "2004/4/28",
          "2004/4/29",
          "2004/4/30",
          "2004/5/1",
          "2004/5/2",
          "2004/5/3",
          "2004/5/4",
          "2004/5/5",
          "2004/5/6",
          "2004/5/7",
          "2004/5/8",
          "2004/5/9",
          "2004/5/10",
          "2004/5/11",
          "2004/5/12",
          "2004/5/13",
          "2004/5/14",
          "2004/5/15",
          "2004/5/16",
          "2004/5/17",
          "2004/5/18",
          "2004/5/19",
          "2004/5/20",
          "2004/5/21",
          "2004/5/22",
          "2004/5/23",
          "2004/5/24",
          "2004/5/25",
          "2004/5/26",
          "2004/5/27",
          "2004/5/28",
          "2004/5/29",
          "2004/5/30",
          "2004/5/31",
          "2004/6/1",
          "2004/6/2",
          "2004/6/3",
          "2004/6/4",
          "2004/6/5",
          "2004/6/6",
          "2004/6/7",
          "2004/6/8",
          "2004/6/9",
          "2004/6/10",
          "2004/6/11",
          "2004/6/12",
          "2004/6/13",
          "2004/6/14",
          "2004/6/15",
          "2004/6/16",
          "2004/6/17",
          "2004/6/18",
          "2004/6/19",
          "2004/6/21",
          "2004/6/22",
          "2004/6/23",
          "2004/6/24",
          "2004/6/25",
          "2004/6/26",
          "2004/6/27",
          "2004/6/28",
          "2004/6/29",
          "2004/6/30",
          "2004/7/1",
          "2004/7/2",
          "2004/7/3",
          "2004/7/4",
          "2004/7/5",
          "2004/7/6",
          "2004/7/7",
          "2004/7/8",
          "2004/7/9",
          "2004/7/10",
          "2004/7/11",
          "2004/7/12",
          "2004/7/13",
          "2004/7/14",
          "2004/7/15",
          "2004/7/16",
          "2004/7/17",
          "2004/7/18",
          "2004/7/19",
          "2004/7/20",
          "2004/7/21",
          "2004/7/22",
          "2004/7/23",
          "2004/7/24",
          "2004/7/25",
          "2004/7/26",
          "2004/7/27",
          "2004/7/28",
          "2004/7/29",
          "2004/7/30",
          "2004/7/31",
          "2004/8/1",
          "2004/8/2",
          "2004/8/3",
          "2004/8/4",
          "2004/8/5",
          "2004/8/6",
          "2004/8/7",
          "2004/8/8",
          "2004/8/9",
          "2004/8/10",
          "2004/8/11",
          "2004/8/12",
          "2004/8/13",
          "2004/8/14",
          "2004/8/15",
          "2004/8/16",
          "2004/8/17",
          "2004/8/18",
          "2004/8/19",
          "2004/8/20",
          "2004/8/21",
          "2004/8/22",
          "2004/8/23",
          "2004/8/24",
          "2004/8/25",
          "2004/8/28",
          "2004/8/29",
          "2004/8/30",
          "2004/8/31",
          "2004/9/1",
          "2004/9/2",
          "2004/9/3",
          "2004/9/4",
          "2004/9/5",
          "2004/9/6",
          "2004/9/7",
          "2004/9/9",
          "2004/9/10",
          "2004/9/11",
          "2004/9/12",
          "2004/9/13",
          "2004/9/14",
          "2004/9/15",
          "2004/9/16",
          "2004/9/17",
          "2004/9/18",
          "2004/9/19",
          "2004/9/20",
          "2004/9/21",
          "2004/9/22",
          "2004/9/23",
          "2004/9/24",
          "2004/9/25",
          "2004/9/26",
          "2004/9/27",
          "2004/9/28",
          "2004/9/29",
          "2004/9/30",
          "2004/10/1",
          "2004/10/2",
          "2004/10/3",
          "2004/10/4",
          "2004/10/5",
          "2004/10/6",
          "2004/10/7",
          "2004/10/8",
          "2004/10/9",
          "2004/10/10",
          "2004/10/11",
          "2004/10/12",
          "2004/10/13",
          "2004/10/14",
          "2004/10/15",
          "2004/10/16",
          "2004/10/17",
          "2004/10/18",
          "2004/10/19",
          "2004/10/20",
          "2004/10/21",
          "2004/10/22",
          "2004/10/23",
          "2004/10/24",
          "2004/10/25",
          "2004/10/26",
          "2004/10/27",
          "2004/10/28",
          "2004/10/29",
          "2004/10/30",
          "2004/10/31",
          "2004/11/1",
          "2004/11/2",
          "2004/11/3",
          "2004/11/4",
          "2004/11/5",
          "2004/11/6",
          "2004/11/7",
          "2004/11/8",
          "2004/11/9",
          "2004/11/10",
          "2004/11/11",
          "2004/11/12",
          "2004/11/13",
          "2004/11/14",
          "2004/11/15",
          "2004/11/16",
          "2004/11/17",
          "2004/11/18",
          "2004/11/19",
          "2004/11/20",
          "2004/11/21",
          "2004/11/22",
          "2004/11/23",
          "2004/11/24",
          "2004/11/25",
          "2004/11/26",
          "2004/11/27",
          "2004/11/28",
          "2004/11/29",
          "2004/11/30",
          "2004/12/1",
          "2004/12/2",
          "2004/12/3",
          "2004/12/4",
          "2004/12/5",
          "2004/12/6",
          "2004/12/7",
          "2004/12/8",
          "2004/12/9",
          "2004/12/10",
          "2004/12/11",
          "2004/12/12",
          "2004/12/13",
          "2004/12/14",
          "2004/12/18",
          "2004/12/19",
          "2004/12/20",
          "2004/12/21",
          "2004/12/22",
          "2004/12/23",
          "2004/12/24",
          "2004/12/25",
          "2004/12/26",
          "2004/12/27",
          "2004/12/28",
          "2004/12/29",
          "2004/12/30",
          "2004/12/31",
          "2005/1/1",
          "2005/1/2",
          "2005/1/5",
          "2005/1/6",
          "2005/1/7",
          "2005/1/8",
          "2005/1/9",
          "2005/1/10",
          "2005/1/11",
          "2005/1/12",
          "2005/1/13",
          "2005/1/14",
          "2005/1/15",
          "2005/1/16",
          "2005/1/17",
          "2005/1/18",
          "2005/1/19",
          "2005/1/20",
          "2005/1/21",
          "2005/1/22",
          "2005/1/23",
          "2005/1/24",
          "2005/1/25",
          "2005/1/26",
          "2005/1/27",
          "2005/1/28",
          "2005/1/29",
          "2005/1/30",
          "2005/1/31",
          "2005/2/1",
          "2005/2/2",
          "2005/2/3",
          "2005/2/4",
          "2005/2/5",
          "2005/2/6",
          "2005/2/7",
          "2005/2/8",
          "2005/2/12",
          "2005/2/13",
          "2005/2/14",
          "2005/2/15",
          "2005/2/16",
          "2005/2/17",
          "2005/2/18",
          "2005/2/19",
          "2005/2/20",
          "2005/2/21",
          "2005/2/22",
          "2005/2/23",
          "2005/2/24",
          "2005/2/25",
          "2005/2/26",
          "2005/2/27",
          "2005/2/28",
          "2005/3/1",
          "2005/3/2",
          "2005/3/3",
          "2005/3/4",
          "2005/3/5",
          "2005/3/6",
          "2005/3/7",
          "2005/3/8",
          "2005/3/9",
          "2005/3/10",
          "2005/3/11",
          "2005/3/12",
          "2005/3/13",
          "2005/3/14",
          "2005/3/15",
          "2005/3/16",
          "2005/3/17",
          "2005/3/18",
          "2005/3/19",
          "2005/3/20",
          "2005/3/21",
          "2005/3/22",
          "2005/3/23",
          "2005/3/24",
          "2005/3/25",
          "2005/3/26",
          "2005/3/27",
          "2005/3/28",
          "2005/3/29",
          "2005/3/30",
          "2005/3/31",
          "2005/4/1",
          "2005/4/2",
          "2005/4/3",
          "2005/4/4"
         ],
         "y": [
          1730,
          1660,
          1488,
          1490,
          1829,
          1897,
          1712,
          1660,
          1875,
          1636,
          1507,
          1607,
          1639,
          1566,
          1492,
          1391,
          1596,
          1189,
          1268,
          1448,
          1748,
          -200,
          1761,
          1573,
          1476,
          1793,
          1630,
          1426,
          1551,
          1238,
          1076,
          1257,
          1537,
          1653,
          1890,
          2066,
          1429,
          1436,
          1565,
          1643,
          1513,
          1562,
          1865,
          1766,
          1104,
          1365,
          1560,
          1969,
          2023,
          1939,
          1495,
          1519,
          1496,
          1814,
          2048,
          1831,
          1460,
          1432,
          1521,
          1767,
          1643,
          1894,
          1576,
          1573,
          1333,
          1375,
          1387,
          1663,
          1702,
          1649,
          1690,
          1605,
          1346,
          1200,
          1595,
          1345,
          1515,
          1706,
          1311,
          1215,
          1733,
          1884,
          1523,
          1582,
          1554,
          1463,
          1345,
          1815,
          1875,
          1761,
          1944,
          1689,
          1573,
          1306,
          1449,
          1698,
          1811,
          1682,
          1810,
          -200,
          1504,
          1772,
          1786,
          1596,
          1596,
          1446,
          1339,
          1739,
          1825,
          1810,
          1803,
          1732,
          1426,
          1270,
          1580,
          1622,
          1629,
          1609,
          1527,
          1323,
          1272,
          1550,
          1448,
          1612,
          1554,
          1606,
          1308,
          1234,
          1523,
          1615,
          1421,
          1559,
          1621,
          1488,
          1417,
          1464,
          1474,
          1383,
          1417,
          1580,
          1423,
          1270,
          1636,
          1718,
          1489,
          1541,
          1742,
          1390,
          1433,
          1567,
          1443,
          1576,
          1579,
          1394,
          1350,
          1209,
          1256,
          1358,
          1514,
          1552,
          1522,
          1314,
          1110,
          1305,
          1343,
          1535,
          1294,
          1343,
          1553,
          1583,
          1580,
          1569,
          1585,
          1351,
          1106,
          1356,
          1374,
          1522,
          1423,
          1270,
          1421,
          1653,
          1516,
          1930,
          1514,
          1357,
          1268,
          1545,
          1523,
          1635,
          1609,
          1746,
          2026,
          1117,
          1169,
          1306,
          1570,
          1483,
          1638,
          -200,
          1499,
          1446,
          1655,
          1717,
          1729,
          1747,
          1805,
          1650,
          1476,
          1810,
          1365,
          1297,
          1530,
          1548,
          1162,
          1473,
          1763,
          1596,
          2015,
          1733,
          2033,
          1608,
          1421,
          1947,
          2043,
          1842,
          1731,
          2124,
          1781,
          1580,
          1562,
          2318,
          1638,
          1896,
          1932,
          1794,
          1044,
          1180,
          1327,
          1301,
          1614,
          1418,
          1476,
          829,
          1043,
          1149,
          1471,
          1483,
          1659,
          937,
          986,
          1539,
          2041,
          1506,
          1256,
          1845,
          1753,
          1274,
          1404,
          1321,
          1898,
          1600,
          1716,
          1346,
          1267,
          1589,
          1545,
          1279,
          1257,
          1036,
          1035,
          1226,
          1536,
          1570,
          737,
          1264,
          983,
          935,
          969,
          1320,
          1563,
          1351,
          1114,
          1192,
          1452,
          1025,
          898,
          943,
          1075,
          1087,
          1479,
          1238,
          1402,
          1430,
          1479,
          1701,
          1580,
          1473,
          1396,
          1428,
          1454,
          809,
          1233,
          1697,
          1132,
          1191,
          1291,
          1500,
          1040,
          963,
          917,
          913,
          900,
          997,
          845,
          742,
          976,
          1476,
          979,
          1255,
          1085,
          850,
          753,
          868,
          992,
          1448,
          1278,
          967,
          792,
          939,
          1072,
          971,
          937,
          1007,
          1227,
          1355,
          1244,
          1223,
          1097,
          953,
          804,
          731,
          709,
          897,
          1107,
          1443,
          1035,
          990,
          788,
          988,
          1292,
          1082,
          1404,
          1167,
          1103,
          1249,
          1234,
          1192,
          1312,
          1208,
          1214,
          1033,
          1424,
          1446,
          1291,
          1525,
          1647,
          1264,
          1238,
          1289,
          1516,
          1292,
          1052,
          911,
          853,
          890,
          1129
         ]
        }
       ],
       "layout": {
        "height": 350,
        "legend": {
         "orientation": "v"
        },
        "margin": {
         "b": 90,
         "l": 80,
         "r": 80,
         "t": 70
        },
        "template": {
         "data": {
          "bar": [
           {
            "error_x": {
             "color": "#2a3f5f"
            },
            "error_y": {
             "color": "#2a3f5f"
            },
            "marker": {
             "line": {
              "color": "#E5ECF6",
              "width": 0.5
             }
            },
            "type": "bar"
           }
          ],
          "barpolar": [
           {
            "marker": {
             "line": {
              "color": "#E5ECF6",
              "width": 0.5
             }
            },
            "type": "barpolar"
           }
          ],
          "carpet": [
           {
            "aaxis": {
             "endlinecolor": "#2a3f5f",
             "gridcolor": "white",
             "linecolor": "white",
             "minorgridcolor": "white",
             "startlinecolor": "#2a3f5f"
            },
            "baxis": {
             "endlinecolor": "#2a3f5f",
             "gridcolor": "white",
             "linecolor": "white",
             "minorgridcolor": "white",
             "startlinecolor": "#2a3f5f"
            },
            "type": "carpet"
           }
          ],
          "choropleth": [
           {
            "colorbar": {
             "outlinewidth": 0,
             "ticks": ""
            },
            "type": "choropleth"
           }
          ],
          "contour": [
           {
            "colorbar": {
             "outlinewidth": 0,
             "ticks": ""
            },
            "colorscale": [
             [
              0,
              "#0d0887"
             ],
             [
              0.1111111111111111,
              "#46039f"
             ],
             [
              0.2222222222222222,
              "#7201a8"
             ],
             [
              0.3333333333333333,
              "#9c179e"
             ],
             [
              0.4444444444444444,
              "#bd3786"
             ],
             [
              0.5555555555555556,
              "#d8576b"
             ],
             [
              0.6666666666666666,
              "#ed7953"
             ],
             [
              0.7777777777777778,
              "#fb9f3a"
             ],
             [
              0.8888888888888888,
              "#fdca26"
             ],
             [
              1,
              "#f0f921"
             ]
            ],
            "type": "contour"
           }
          ],
          "contourcarpet": [
           {
            "colorbar": {
             "outlinewidth": 0,
             "ticks": ""
            },
            "type": "contourcarpet"
           }
          ],
          "heatmap": [
           {
            "colorbar": {
             "outlinewidth": 0,
             "ticks": ""
            },
            "colorscale": [
             [
              0,
              "#0d0887"
             ],
             [
              0.1111111111111111,
              "#46039f"
             ],
             [
              0.2222222222222222,
              "#7201a8"
             ],
             [
              0.3333333333333333,
              "#9c179e"
             ],
             [
              0.4444444444444444,
              "#bd3786"
             ],
             [
              0.5555555555555556,
              "#d8576b"
             ],
             [
              0.6666666666666666,
              "#ed7953"
             ],
             [
              0.7777777777777778,
              "#fb9f3a"
             ],
             [
              0.8888888888888888,
              "#fdca26"
             ],
             [
              1,
              "#f0f921"
             ]
            ],
            "type": "heatmap"
           }
          ],
          "heatmapgl": [
           {
            "colorbar": {
             "outlinewidth": 0,
             "ticks": ""
            },
            "colorscale": [
             [
              0,
              "#0d0887"
             ],
             [
              0.1111111111111111,
              "#46039f"
             ],
             [
              0.2222222222222222,
              "#7201a8"
             ],
             [
              0.3333333333333333,
              "#9c179e"
             ],
             [
              0.4444444444444444,
              "#bd3786"
             ],
             [
              0.5555555555555556,
              "#d8576b"
             ],
             [
              0.6666666666666666,
              "#ed7953"
             ],
             [
              0.7777777777777778,
              "#fb9f3a"
             ],
             [
              0.8888888888888888,
              "#fdca26"
             ],
             [
              1,
              "#f0f921"
             ]
            ],
            "type": "heatmapgl"
           }
          ],
          "histogram": [
           {
            "marker": {
             "colorbar": {
              "outlinewidth": 0,
              "ticks": ""
             }
            },
            "type": "histogram"
           }
          ],
          "histogram2d": [
           {
            "colorbar": {
             "outlinewidth": 0,
             "ticks": ""
            },
            "colorscale": [
             [
              0,
              "#0d0887"
             ],
             [
              0.1111111111111111,
              "#46039f"
             ],
             [
              0.2222222222222222,
              "#7201a8"
             ],
             [
              0.3333333333333333,
              "#9c179e"
             ],
             [
              0.4444444444444444,
              "#bd3786"
             ],
             [
              0.5555555555555556,
              "#d8576b"
             ],
             [
              0.6666666666666666,
              "#ed7953"
             ],
             [
              0.7777777777777778,
              "#fb9f3a"
             ],
             [
              0.8888888888888888,
              "#fdca26"
             ],
             [
              1,
              "#f0f921"
             ]
            ],
            "type": "histogram2d"
           }
          ],
          "histogram2dcontour": [
           {
            "colorbar": {
             "outlinewidth": 0,
             "ticks": ""
            },
            "colorscale": [
             [
              0,
              "#0d0887"
             ],
             [
              0.1111111111111111,
              "#46039f"
             ],
             [
              0.2222222222222222,
              "#7201a8"
             ],
             [
              0.3333333333333333,
              "#9c179e"
             ],
             [
              0.4444444444444444,
              "#bd3786"
             ],
             [
              0.5555555555555556,
              "#d8576b"
             ],
             [
              0.6666666666666666,
              "#ed7953"
             ],
             [
              0.7777777777777778,
              "#fb9f3a"
             ],
             [
              0.8888888888888888,
              "#fdca26"
             ],
             [
              1,
              "#f0f921"
             ]
            ],
            "type": "histogram2dcontour"
           }
          ],
          "mesh3d": [
           {
            "colorbar": {
             "outlinewidth": 0,
             "ticks": ""
            },
            "type": "mesh3d"
           }
          ],
          "parcoords": [
           {
            "line": {
             "colorbar": {
              "outlinewidth": 0,
              "ticks": ""
             }
            },
            "type": "parcoords"
           }
          ],
          "scatter": [
           {
            "marker": {
             "colorbar": {
              "outlinewidth": 0,
              "ticks": ""
             }
            },
            "type": "scatter"
           }
          ],
          "scatter3d": [
           {
            "line": {
             "colorbar": {
              "outlinewidth": 0,
              "ticks": ""
             }
            },
            "marker": {
             "colorbar": {
              "outlinewidth": 0,
              "ticks": ""
             }
            },
            "type": "scatter3d"
           }
          ],
          "scattercarpet": [
           {
            "marker": {
             "colorbar": {
              "outlinewidth": 0,
              "ticks": ""
             }
            },
            "type": "scattercarpet"
           }
          ],
          "scattergeo": [
           {
            "marker": {
             "colorbar": {
              "outlinewidth": 0,
              "ticks": ""
             }
            },
            "type": "scattergeo"
           }
          ],
          "scattergl": [
           {
            "marker": {
             "colorbar": {
              "outlinewidth": 0,
              "ticks": ""
             }
            },
            "type": "scattergl"
           }
          ],
          "scattermapbox": [
           {
            "marker": {
             "colorbar": {
              "outlinewidth": 0,
              "ticks": ""
             }
            },
            "type": "scattermapbox"
           }
          ],
          "scatterpolar": [
           {
            "marker": {
             "colorbar": {
              "outlinewidth": 0,
              "ticks": ""
             }
            },
            "type": "scatterpolar"
           }
          ],
          "scatterpolargl": [
           {
            "marker": {
             "colorbar": {
              "outlinewidth": 0,
              "ticks": ""
             }
            },
            "type": "scatterpolargl"
           }
          ],
          "scatterternary": [
           {
            "marker": {
             "colorbar": {
              "outlinewidth": 0,
              "ticks": ""
             }
            },
            "type": "scatterternary"
           }
          ],
          "surface": [
           {
            "colorbar": {
             "outlinewidth": 0,
             "ticks": ""
            },
            "colorscale": [
             [
              0,
              "#0d0887"
             ],
             [
              0.1111111111111111,
              "#46039f"
             ],
             [
              0.2222222222222222,
              "#7201a8"
             ],
             [
              0.3333333333333333,
              "#9c179e"
             ],
             [
              0.4444444444444444,
              "#bd3786"
             ],
             [
              0.5555555555555556,
              "#d8576b"
             ],
             [
              0.6666666666666666,
              "#ed7953"
             ],
             [
              0.7777777777777778,
              "#fb9f3a"
             ],
             [
              0.8888888888888888,
              "#fdca26"
             ],
             [
              1,
              "#f0f921"
             ]
            ],
            "type": "surface"
           }
          ],
          "table": [
           {
            "cells": {
             "fill": {
              "color": "#EBF0F8"
             },
             "line": {
              "color": "white"
             }
            },
            "header": {
             "fill": {
              "color": "#C8D4E3"
             },
             "line": {
              "color": "white"
             }
            },
            "type": "table"
           }
          ]
         },
         "layout": {
          "annotationdefaults": {
           "arrowcolor": "#2a3f5f",
           "arrowhead": 0,
           "arrowwidth": 1
          },
          "colorscale": {
           "diverging": [
            [
             0,
             "#8e0152"
            ],
            [
             0.1,
             "#c51b7d"
            ],
            [
             0.2,
             "#de77ae"
            ],
            [
             0.3,
             "#f1b6da"
            ],
            [
             0.4,
             "#fde0ef"
            ],
            [
             0.5,
             "#f7f7f7"
            ],
            [
             0.6,
             "#e6f5d0"
            ],
            [
             0.7,
             "#b8e186"
            ],
            [
             0.8,
             "#7fbc41"
            ],
            [
             0.9,
             "#4d9221"
            ],
            [
             1,
             "#276419"
            ]
           ],
           "sequential": [
            [
             0,
             "#0d0887"
            ],
            [
             0.1111111111111111,
             "#46039f"
            ],
            [
             0.2222222222222222,
             "#7201a8"
            ],
            [
             0.3333333333333333,
             "#9c179e"
            ],
            [
             0.4444444444444444,
             "#bd3786"
            ],
            [
             0.5555555555555556,
             "#d8576b"
            ],
            [
             0.6666666666666666,
             "#ed7953"
            ],
            [
             0.7777777777777778,
             "#fb9f3a"
            ],
            [
             0.8888888888888888,
             "#fdca26"
            ],
            [
             1,
             "#f0f921"
            ]
           ],
           "sequentialminus": [
            [
             0,
             "#0d0887"
            ],
            [
             0.1111111111111111,
             "#46039f"
            ],
            [
             0.2222222222222222,
             "#7201a8"
            ],
            [
             0.3333333333333333,
             "#9c179e"
            ],
            [
             0.4444444444444444,
             "#bd3786"
            ],
            [
             0.5555555555555556,
             "#d8576b"
            ],
            [
             0.6666666666666666,
             "#ed7953"
            ],
            [
             0.7777777777777778,
             "#fb9f3a"
            ],
            [
             0.8888888888888888,
             "#fdca26"
            ],
            [
             1,
             "#f0f921"
            ]
           ]
          },
          "colorway": [
           "#636efa",
           "#EF553B",
           "#00cc96",
           "#ab63fa",
           "#FFA15A",
           "#19d3f3",
           "#FF6692",
           "#B6E880",
           "#FF97FF",
           "#FECB52"
          ],
          "font": {
           "color": "#2a3f5f"
          },
          "geo": {
           "bgcolor": "white",
           "lakecolor": "white",
           "landcolor": "#E5ECF6",
           "showlakes": true,
           "showland": true,
           "subunitcolor": "white"
          },
          "hoverlabel": {
           "align": "left"
          },
          "hovermode": "closest",
          "mapbox": {
           "style": "light"
          },
          "paper_bgcolor": "white",
          "plot_bgcolor": "#E5ECF6",
          "polar": {
           "angularaxis": {
            "gridcolor": "white",
            "linecolor": "white",
            "ticks": ""
           },
           "bgcolor": "#E5ECF6",
           "radialaxis": {
            "gridcolor": "white",
            "linecolor": "white",
            "ticks": ""
           }
          },
          "scene": {
           "xaxis": {
            "backgroundcolor": "#E5ECF6",
            "gridcolor": "white",
            "gridwidth": 2,
            "linecolor": "white",
            "showbackground": true,
            "ticks": "",
            "zerolinecolor": "white"
           },
           "yaxis": {
            "backgroundcolor": "#E5ECF6",
            "gridcolor": "white",
            "gridwidth": 2,
            "linecolor": "white",
            "showbackground": true,
            "ticks": "",
            "zerolinecolor": "white"
           },
           "zaxis": {
            "backgroundcolor": "#E5ECF6",
            "gridcolor": "white",
            "gridwidth": 2,
            "linecolor": "white",
            "showbackground": true,
            "ticks": "",
            "zerolinecolor": "white"
           }
          },
          "shapedefaults": {
           "line": {
            "color": "#2a3f5f"
           }
          },
          "ternary": {
           "aaxis": {
            "gridcolor": "white",
            "linecolor": "white",
            "ticks": ""
           },
           "baxis": {
            "gridcolor": "white",
            "linecolor": "white",
            "ticks": ""
           },
           "bgcolor": "#E5ECF6",
           "caxis": {
            "gridcolor": "white",
            "linecolor": "white",
            "ticks": ""
           }
          },
          "title": {
           "x": 0.05
          },
          "xaxis": {
           "automargin": true,
           "gridcolor": "white",
           "linecolor": "white",
           "ticks": "",
           "zerolinecolor": "white",
           "zerolinewidth": 2
          },
          "yaxis": {
           "automargin": true,
           "gridcolor": "white",
           "linecolor": "white",
           "ticks": "",
           "zerolinecolor": "white",
           "zerolinewidth": 2
          }
         }
        },
        "title": {
         "text": "NO2 amount at 14:00 regardless of days"
        },
        "width": 800,
        "xaxis": {
         "dtick": 30,
         "range": [
          "2004-03-01",
          "2005-04-01"
         ],
         "tick0": 4,
         "tickangle": 30
        },
        "yaxis": {
         "range": [
          500,
          3000
         ],
         "title": {
          "text": "Concentration"
         }
        }
       }
      },
      "text/html": [
       "<div>\n",
       "        \n",
       "        \n",
       "            <div id=\"e77d1561-2a31-40a8-9158-888d404375ce\" class=\"plotly-graph-div\" style=\"height:350px; width:800px;\"></div>\n",
       "            <script type=\"text/javascript\">\n",
       "                require([\"plotly\"], function(Plotly) {\n",
       "                    window.PLOTLYENV=window.PLOTLYENV || {};\n",
       "                    \n",
       "                if (document.getElementById(\"e77d1561-2a31-40a8-9158-888d404375ce\")) {\n",
       "                    Plotly.newPlot(\n",
       "                        'e77d1561-2a31-40a8-9158-888d404375ce',\n",
       "                        [{\"name\": \"PT08.S4(NO2)\", \"type\": \"scatter\", \"x\": [\"2004/3/11\", \"2004/3/12\", \"2004/3/13\", \"2004/3/14\", \"2004/3/15\", \"2004/3/16\", \"2004/3/17\", \"2004/3/18\", \"2004/3/19\", \"2004/3/20\", \"2004/3/21\", \"2004/3/22\", \"2004/3/23\", \"2004/3/24\", \"2004/3/25\", \"2004/3/26\", \"2004/3/27\", \"2004/3/28\", \"2004/3/29\", \"2004/3/30\", \"2004/3/31\", \"2004/4/1\", \"2004/4/2\", \"2004/4/3\", \"2004/4/4\", \"2004/4/5\", \"2004/4/6\", \"2004/4/7\", \"2004/4/8\", \"2004/4/10\", \"2004/4/11\", \"2004/4/12\", \"2004/4/13\", \"2004/4/14\", \"2004/4/15\", \"2004/4/16\", \"2004/4/17\", \"2004/4/18\", \"2004/4/19\", \"2004/4/20\", \"2004/4/21\", \"2004/4/22\", \"2004/4/23\", \"2004/4/24\", \"2004/4/25\", \"2004/4/26\", \"2004/4/27\", \"2004/4/28\", \"2004/4/29\", \"2004/4/30\", \"2004/5/1\", \"2004/5/2\", \"2004/5/3\", \"2004/5/4\", \"2004/5/5\", \"2004/5/6\", \"2004/5/7\", \"2004/5/8\", \"2004/5/9\", \"2004/5/10\", \"2004/5/11\", \"2004/5/12\", \"2004/5/13\", \"2004/5/14\", \"2004/5/15\", \"2004/5/16\", \"2004/5/17\", \"2004/5/18\", \"2004/5/19\", \"2004/5/20\", \"2004/5/21\", \"2004/5/22\", \"2004/5/23\", \"2004/5/24\", \"2004/5/25\", \"2004/5/26\", \"2004/5/27\", \"2004/5/28\", \"2004/5/29\", \"2004/5/30\", \"2004/5/31\", \"2004/6/1\", \"2004/6/2\", \"2004/6/3\", \"2004/6/4\", \"2004/6/5\", \"2004/6/6\", \"2004/6/7\", \"2004/6/8\", \"2004/6/9\", \"2004/6/10\", \"2004/6/11\", \"2004/6/12\", \"2004/6/13\", \"2004/6/14\", \"2004/6/15\", \"2004/6/16\", \"2004/6/17\", \"2004/6/18\", \"2004/6/19\", \"2004/6/21\", \"2004/6/22\", \"2004/6/23\", \"2004/6/24\", \"2004/6/25\", \"2004/6/26\", \"2004/6/27\", \"2004/6/28\", \"2004/6/29\", \"2004/6/30\", \"2004/7/1\", \"2004/7/2\", \"2004/7/3\", \"2004/7/4\", \"2004/7/5\", \"2004/7/6\", \"2004/7/7\", \"2004/7/8\", \"2004/7/9\", \"2004/7/10\", \"2004/7/11\", \"2004/7/12\", \"2004/7/13\", \"2004/7/14\", \"2004/7/15\", \"2004/7/16\", \"2004/7/17\", \"2004/7/18\", \"2004/7/19\", \"2004/7/20\", \"2004/7/21\", \"2004/7/22\", \"2004/7/23\", \"2004/7/24\", \"2004/7/25\", \"2004/7/26\", \"2004/7/27\", \"2004/7/28\", \"2004/7/29\", \"2004/7/30\", \"2004/7/31\", \"2004/8/1\", \"2004/8/2\", \"2004/8/3\", \"2004/8/4\", \"2004/8/5\", \"2004/8/6\", \"2004/8/7\", \"2004/8/8\", \"2004/8/9\", \"2004/8/10\", \"2004/8/11\", \"2004/8/12\", \"2004/8/13\", \"2004/8/14\", \"2004/8/15\", \"2004/8/16\", \"2004/8/17\", \"2004/8/18\", \"2004/8/19\", \"2004/8/20\", \"2004/8/21\", \"2004/8/22\", \"2004/8/23\", \"2004/8/24\", \"2004/8/25\", \"2004/8/28\", \"2004/8/29\", \"2004/8/30\", \"2004/8/31\", \"2004/9/1\", \"2004/9/2\", \"2004/9/3\", \"2004/9/4\", \"2004/9/5\", \"2004/9/6\", \"2004/9/7\", \"2004/9/9\", \"2004/9/10\", \"2004/9/11\", \"2004/9/12\", \"2004/9/13\", \"2004/9/14\", \"2004/9/15\", \"2004/9/16\", \"2004/9/17\", \"2004/9/18\", \"2004/9/19\", \"2004/9/20\", \"2004/9/21\", \"2004/9/22\", \"2004/9/23\", \"2004/9/24\", \"2004/9/25\", \"2004/9/26\", \"2004/9/27\", \"2004/9/28\", \"2004/9/29\", \"2004/9/30\", \"2004/10/1\", \"2004/10/2\", \"2004/10/3\", \"2004/10/4\", \"2004/10/5\", \"2004/10/6\", \"2004/10/7\", \"2004/10/8\", \"2004/10/9\", \"2004/10/10\", \"2004/10/11\", \"2004/10/12\", \"2004/10/13\", \"2004/10/14\", \"2004/10/15\", \"2004/10/16\", \"2004/10/17\", \"2004/10/18\", \"2004/10/19\", \"2004/10/20\", \"2004/10/21\", \"2004/10/22\", \"2004/10/23\", \"2004/10/24\", \"2004/10/25\", \"2004/10/26\", \"2004/10/27\", \"2004/10/28\", \"2004/10/29\", \"2004/10/30\", \"2004/10/31\", \"2004/11/1\", \"2004/11/2\", \"2004/11/3\", \"2004/11/4\", \"2004/11/5\", \"2004/11/6\", \"2004/11/7\", \"2004/11/8\", \"2004/11/9\", \"2004/11/10\", \"2004/11/11\", \"2004/11/12\", \"2004/11/13\", \"2004/11/14\", \"2004/11/15\", \"2004/11/16\", \"2004/11/17\", \"2004/11/18\", \"2004/11/19\", \"2004/11/20\", \"2004/11/21\", \"2004/11/22\", \"2004/11/23\", \"2004/11/24\", \"2004/11/25\", \"2004/11/26\", \"2004/11/27\", \"2004/11/28\", \"2004/11/29\", \"2004/11/30\", \"2004/12/1\", \"2004/12/2\", \"2004/12/3\", \"2004/12/4\", \"2004/12/5\", \"2004/12/6\", \"2004/12/7\", \"2004/12/8\", \"2004/12/9\", \"2004/12/10\", \"2004/12/11\", \"2004/12/12\", \"2004/12/13\", \"2004/12/14\", \"2004/12/18\", \"2004/12/19\", \"2004/12/20\", \"2004/12/21\", \"2004/12/22\", \"2004/12/23\", \"2004/12/24\", \"2004/12/25\", \"2004/12/26\", \"2004/12/27\", \"2004/12/28\", \"2004/12/29\", \"2004/12/30\", \"2004/12/31\", \"2005/1/1\", \"2005/1/2\", \"2005/1/5\", \"2005/1/6\", \"2005/1/7\", \"2005/1/8\", \"2005/1/9\", \"2005/1/10\", \"2005/1/11\", \"2005/1/12\", \"2005/1/13\", \"2005/1/14\", \"2005/1/15\", \"2005/1/16\", \"2005/1/17\", \"2005/1/18\", \"2005/1/19\", \"2005/1/20\", \"2005/1/21\", \"2005/1/22\", \"2005/1/23\", \"2005/1/24\", \"2005/1/25\", \"2005/1/26\", \"2005/1/27\", \"2005/1/28\", \"2005/1/29\", \"2005/1/30\", \"2005/1/31\", \"2005/2/1\", \"2005/2/2\", \"2005/2/3\", \"2005/2/4\", \"2005/2/5\", \"2005/2/6\", \"2005/2/7\", \"2005/2/8\", \"2005/2/12\", \"2005/2/13\", \"2005/2/14\", \"2005/2/15\", \"2005/2/16\", \"2005/2/17\", \"2005/2/18\", \"2005/2/19\", \"2005/2/20\", \"2005/2/21\", \"2005/2/22\", \"2005/2/23\", \"2005/2/24\", \"2005/2/25\", \"2005/2/26\", \"2005/2/27\", \"2005/2/28\", \"2005/3/1\", \"2005/3/2\", \"2005/3/3\", \"2005/3/4\", \"2005/3/5\", \"2005/3/6\", \"2005/3/7\", \"2005/3/8\", \"2005/3/9\", \"2005/3/10\", \"2005/3/11\", \"2005/3/12\", \"2005/3/13\", \"2005/3/14\", \"2005/3/15\", \"2005/3/16\", \"2005/3/17\", \"2005/3/18\", \"2005/3/19\", \"2005/3/20\", \"2005/3/21\", \"2005/3/22\", \"2005/3/23\", \"2005/3/24\", \"2005/3/25\", \"2005/3/26\", \"2005/3/27\", \"2005/3/28\", \"2005/3/29\", \"2005/3/30\", \"2005/3/31\", \"2005/4/1\", \"2005/4/2\", \"2005/4/3\", \"2005/4/4\"], \"y\": [1730.0, 1660.0, 1488.0, 1490.0, 1829.0, 1897.0, 1712.0, 1660.0, 1875.0, 1636.0, 1507.0, 1607.0, 1639.0, 1566.0, 1492.0, 1391.0, 1596.0, 1189.0, 1268.0, 1448.0, 1748.0, -200.0, 1761.0, 1573.0, 1476.0, 1793.0, 1630.0, 1426.0, 1551.0, 1238.0, 1076.0, 1257.0, 1537.0, 1653.0, 1890.0, 2066.0, 1429.0, 1436.0, 1565.0, 1643.0, 1513.0, 1562.0, 1865.0, 1766.0, 1104.0, 1365.0, 1560.0, 1969.0, 2023.0, 1939.0, 1495.0, 1519.0, 1496.0, 1814.0, 2048.0, 1831.0, 1460.0, 1432.0, 1521.0, 1767.0, 1643.0, 1894.0, 1576.0, 1573.0, 1333.0, 1375.0, 1387.0, 1663.0, 1702.0, 1649.0, 1690.0, 1605.0, 1346.0, 1200.0, 1595.0, 1345.0, 1515.0, 1706.0, 1311.0, 1215.0, 1733.0, 1884.0, 1523.0, 1582.0, 1554.0, 1463.0, 1345.0, 1815.0, 1875.0, 1761.0, 1944.0, 1689.0, 1573.0, 1306.0, 1449.0, 1698.0, 1811.0, 1682.0, 1810.0, -200.0, 1504.0, 1772.0, 1786.0, 1596.0, 1596.0, 1446.0, 1339.0, 1739.0, 1825.0, 1810.0, 1803.0, 1732.0, 1426.0, 1270.0, 1580.0, 1622.0, 1629.0, 1609.0, 1527.0, 1323.0, 1272.0, 1550.0, 1448.0, 1612.0, 1554.0, 1606.0, 1308.0, 1234.0, 1523.0, 1615.0, 1421.0, 1559.0, 1621.0, 1488.0, 1417.0, 1464.0, 1474.0, 1383.0, 1417.0, 1580.0, 1423.0, 1270.0, 1636.0, 1718.0, 1489.0, 1541.0, 1742.0, 1390.0, 1433.0, 1567.0, 1443.0, 1576.0, 1579.0, 1394.0, 1350.0, 1209.0, 1256.0, 1358.0, 1514.0, 1552.0, 1522.0, 1314.0, 1110.0, 1305.0, 1343.0, 1535.0, 1294.0, 1343.0, 1553.0, 1583.0, 1580.0, 1569.0, 1585.0, 1351.0, 1106.0, 1356.0, 1374.0, 1522.0, 1423.0, 1270.0, 1421.0, 1653.0, 1516.0, 1930.0, 1514.0, 1357.0, 1268.0, 1545.0, 1523.0, 1635.0, 1609.0, 1746.0, 2026.0, 1117.0, 1169.0, 1306.0, 1570.0, 1483.0, 1638.0, -200.0, 1499.0, 1446.0, 1655.0, 1717.0, 1729.0, 1747.0, 1805.0, 1650.0, 1476.0, 1810.0, 1365.0, 1297.0, 1530.0, 1548.0, 1162.0, 1473.0, 1763.0, 1596.0, 2015.0, 1733.0, 2033.0, 1608.0, 1421.0, 1947.0, 2043.0, 1842.0, 1731.0, 2124.0, 1781.0, 1580.0, 1562.0, 2318.0, 1638.0, 1896.0, 1932.0, 1794.0, 1044.0, 1180.0, 1327.0, 1301.0, 1614.0, 1418.0, 1476.0, 829.0, 1043.0, 1149.0, 1471.0, 1483.0, 1659.0, 937.0, 986.0, 1539.0, 2041.0, 1506.0, 1256.0, 1845.0, 1753.0, 1274.0, 1404.0, 1321.0, 1898.0, 1600.0, 1716.0, 1346.0, 1267.0, 1589.0, 1545.0, 1279.0, 1257.0, 1036.0, 1035.0, 1226.0, 1536.0, 1570.0, 737.0, 1264.0, 983.0, 935.0, 969.0, 1320.0, 1563.0, 1351.0, 1114.0, 1192.0, 1452.0, 1025.0, 898.0, 943.0, 1075.0, 1087.0, 1479.0, 1238.0, 1402.0, 1430.0, 1479.0, 1701.0, 1580.0, 1473.0, 1396.0, 1428.0, 1454.0, 809.0, 1233.0, 1697.0, 1132.0, 1191.0, 1291.0, 1500.0, 1040.0, 963.0, 917.0, 913.0, 900.0, 997.0, 845.0, 742.0, 976.0, 1476.0, 979.0, 1255.0, 1085.0, 850.0, 753.0, 868.0, 992.0, 1448.0, 1278.0, 967.0, 792.0, 939.0, 1072.0, 971.0, 937.0, 1007.0, 1227.0, 1355.0, 1244.0, 1223.0, 1097.0, 953.0, 804.0, 731.0, 709.0, 897.0, 1107.0, 1443.0, 1035.0, 990.0, 788.0, 988.0, 1292.0, 1082.0, 1404.0, 1167.0, 1103.0, 1249.0, 1234.0, 1192.0, 1312.0, 1208.0, 1214.0, 1033.0, 1424.0, 1446.0, 1291.0, 1525.0, 1647.0, 1264.0, 1238.0, 1289.0, 1516.0, 1292.0, 1052.0, 911.0, 853.0, 890.0, 1129.0]}],\n",
       "                        {\"height\": 350, \"legend\": {\"orientation\": \"v\"}, \"margin\": {\"b\": 90, \"l\": 80, \"r\": 80, \"t\": 70}, \"template\": {\"data\": {\"bar\": [{\"error_x\": {\"color\": \"#2a3f5f\"}, \"error_y\": {\"color\": \"#2a3f5f\"}, \"marker\": {\"line\": {\"color\": \"#E5ECF6\", \"width\": 0.5}}, \"type\": \"bar\"}], \"barpolar\": [{\"marker\": {\"line\": {\"color\": \"#E5ECF6\", \"width\": 0.5}}, \"type\": \"barpolar\"}], \"carpet\": [{\"aaxis\": {\"endlinecolor\": \"#2a3f5f\", \"gridcolor\": \"white\", \"linecolor\": \"white\", \"minorgridcolor\": \"white\", \"startlinecolor\": \"#2a3f5f\"}, \"baxis\": {\"endlinecolor\": \"#2a3f5f\", \"gridcolor\": \"white\", \"linecolor\": \"white\", \"minorgridcolor\": \"white\", \"startlinecolor\": \"#2a3f5f\"}, \"type\": \"carpet\"}], \"choropleth\": [{\"colorbar\": {\"outlinewidth\": 0, \"ticks\": \"\"}, \"type\": \"choropleth\"}], \"contour\": [{\"colorbar\": {\"outlinewidth\": 0, \"ticks\": \"\"}, \"colorscale\": [[0.0, \"#0d0887\"], [0.1111111111111111, \"#46039f\"], [0.2222222222222222, \"#7201a8\"], [0.3333333333333333, \"#9c179e\"], [0.4444444444444444, \"#bd3786\"], [0.5555555555555556, \"#d8576b\"], [0.6666666666666666, \"#ed7953\"], [0.7777777777777778, \"#fb9f3a\"], [0.8888888888888888, \"#fdca26\"], [1.0, \"#f0f921\"]], \"type\": \"contour\"}], \"contourcarpet\": [{\"colorbar\": {\"outlinewidth\": 0, \"ticks\": \"\"}, \"type\": \"contourcarpet\"}], \"heatmap\": [{\"colorbar\": {\"outlinewidth\": 0, \"ticks\": \"\"}, \"colorscale\": [[0.0, \"#0d0887\"], [0.1111111111111111, \"#46039f\"], [0.2222222222222222, \"#7201a8\"], [0.3333333333333333, \"#9c179e\"], [0.4444444444444444, \"#bd3786\"], [0.5555555555555556, \"#d8576b\"], [0.6666666666666666, \"#ed7953\"], [0.7777777777777778, \"#fb9f3a\"], [0.8888888888888888, \"#fdca26\"], [1.0, \"#f0f921\"]], \"type\": \"heatmap\"}], \"heatmapgl\": [{\"colorbar\": {\"outlinewidth\": 0, \"ticks\": \"\"}, \"colorscale\": [[0.0, \"#0d0887\"], [0.1111111111111111, \"#46039f\"], [0.2222222222222222, \"#7201a8\"], [0.3333333333333333, \"#9c179e\"], [0.4444444444444444, \"#bd3786\"], [0.5555555555555556, \"#d8576b\"], [0.6666666666666666, \"#ed7953\"], [0.7777777777777778, \"#fb9f3a\"], [0.8888888888888888, \"#fdca26\"], [1.0, \"#f0f921\"]], \"type\": \"heatmapgl\"}], \"histogram\": [{\"marker\": {\"colorbar\": {\"outlinewidth\": 0, \"ticks\": \"\"}}, \"type\": \"histogram\"}], \"histogram2d\": [{\"colorbar\": {\"outlinewidth\": 0, \"ticks\": \"\"}, \"colorscale\": [[0.0, \"#0d0887\"], [0.1111111111111111, \"#46039f\"], [0.2222222222222222, \"#7201a8\"], [0.3333333333333333, \"#9c179e\"], [0.4444444444444444, \"#bd3786\"], [0.5555555555555556, \"#d8576b\"], [0.6666666666666666, \"#ed7953\"], [0.7777777777777778, \"#fb9f3a\"], [0.8888888888888888, \"#fdca26\"], [1.0, \"#f0f921\"]], \"type\": \"histogram2d\"}], \"histogram2dcontour\": [{\"colorbar\": {\"outlinewidth\": 0, \"ticks\": \"\"}, \"colorscale\": [[0.0, \"#0d0887\"], [0.1111111111111111, \"#46039f\"], [0.2222222222222222, \"#7201a8\"], [0.3333333333333333, \"#9c179e\"], [0.4444444444444444, \"#bd3786\"], [0.5555555555555556, \"#d8576b\"], [0.6666666666666666, \"#ed7953\"], [0.7777777777777778, \"#fb9f3a\"], [0.8888888888888888, \"#fdca26\"], [1.0, \"#f0f921\"]], \"type\": \"histogram2dcontour\"}], \"mesh3d\": [{\"colorbar\": {\"outlinewidth\": 0, \"ticks\": \"\"}, \"type\": \"mesh3d\"}], \"parcoords\": [{\"line\": {\"colorbar\": {\"outlinewidth\": 0, \"ticks\": \"\"}}, \"type\": \"parcoords\"}], \"scatter\": [{\"marker\": {\"colorbar\": {\"outlinewidth\": 0, \"ticks\": \"\"}}, \"type\": \"scatter\"}], \"scatter3d\": [{\"line\": {\"colorbar\": {\"outlinewidth\": 0, \"ticks\": \"\"}}, \"marker\": {\"colorbar\": {\"outlinewidth\": 0, \"ticks\": \"\"}}, \"type\": \"scatter3d\"}], \"scattercarpet\": [{\"marker\": {\"colorbar\": {\"outlinewidth\": 0, \"ticks\": \"\"}}, \"type\": \"scattercarpet\"}], \"scattergeo\": [{\"marker\": {\"colorbar\": {\"outlinewidth\": 0, \"ticks\": \"\"}}, \"type\": \"scattergeo\"}], \"scattergl\": [{\"marker\": {\"colorbar\": {\"outlinewidth\": 0, \"ticks\": \"\"}}, \"type\": \"scattergl\"}], \"scattermapbox\": [{\"marker\": {\"colorbar\": {\"outlinewidth\": 0, \"ticks\": \"\"}}, \"type\": \"scattermapbox\"}], \"scatterpolar\": [{\"marker\": {\"colorbar\": {\"outlinewidth\": 0, \"ticks\": \"\"}}, \"type\": \"scatterpolar\"}], \"scatterpolargl\": [{\"marker\": {\"colorbar\": {\"outlinewidth\": 0, \"ticks\": \"\"}}, \"type\": \"scatterpolargl\"}], \"scatterternary\": [{\"marker\": {\"colorbar\": {\"outlinewidth\": 0, \"ticks\": \"\"}}, \"type\": \"scatterternary\"}], \"surface\": [{\"colorbar\": {\"outlinewidth\": 0, \"ticks\": \"\"}, \"colorscale\": [[0.0, \"#0d0887\"], [0.1111111111111111, \"#46039f\"], [0.2222222222222222, \"#7201a8\"], [0.3333333333333333, \"#9c179e\"], [0.4444444444444444, \"#bd3786\"], [0.5555555555555556, \"#d8576b\"], [0.6666666666666666, \"#ed7953\"], [0.7777777777777778, \"#fb9f3a\"], [0.8888888888888888, \"#fdca26\"], [1.0, \"#f0f921\"]], \"type\": \"surface\"}], \"table\": [{\"cells\": {\"fill\": {\"color\": \"#EBF0F8\"}, \"line\": {\"color\": \"white\"}}, \"header\": {\"fill\": {\"color\": \"#C8D4E3\"}, \"line\": {\"color\": \"white\"}}, \"type\": \"table\"}]}, \"layout\": {\"annotationdefaults\": {\"arrowcolor\": \"#2a3f5f\", \"arrowhead\": 0, \"arrowwidth\": 1}, \"colorscale\": {\"diverging\": [[0, \"#8e0152\"], [0.1, \"#c51b7d\"], [0.2, \"#de77ae\"], [0.3, \"#f1b6da\"], [0.4, \"#fde0ef\"], [0.5, \"#f7f7f7\"], [0.6, \"#e6f5d0\"], [0.7, \"#b8e186\"], [0.8, \"#7fbc41\"], [0.9, \"#4d9221\"], [1, \"#276419\"]], \"sequential\": [[0.0, \"#0d0887\"], [0.1111111111111111, \"#46039f\"], [0.2222222222222222, \"#7201a8\"], [0.3333333333333333, \"#9c179e\"], [0.4444444444444444, \"#bd3786\"], [0.5555555555555556, \"#d8576b\"], [0.6666666666666666, \"#ed7953\"], [0.7777777777777778, \"#fb9f3a\"], [0.8888888888888888, \"#fdca26\"], [1.0, \"#f0f921\"]], \"sequentialminus\": [[0.0, \"#0d0887\"], [0.1111111111111111, \"#46039f\"], [0.2222222222222222, \"#7201a8\"], [0.3333333333333333, \"#9c179e\"], [0.4444444444444444, \"#bd3786\"], [0.5555555555555556, \"#d8576b\"], [0.6666666666666666, \"#ed7953\"], [0.7777777777777778, \"#fb9f3a\"], [0.8888888888888888, \"#fdca26\"], [1.0, \"#f0f921\"]]}, \"colorway\": [\"#636efa\", \"#EF553B\", \"#00cc96\", \"#ab63fa\", \"#FFA15A\", \"#19d3f3\", \"#FF6692\", \"#B6E880\", \"#FF97FF\", \"#FECB52\"], \"font\": {\"color\": \"#2a3f5f\"}, \"geo\": {\"bgcolor\": \"white\", \"lakecolor\": \"white\", \"landcolor\": \"#E5ECF6\", \"showlakes\": true, \"showland\": true, \"subunitcolor\": \"white\"}, \"hoverlabel\": {\"align\": \"left\"}, \"hovermode\": \"closest\", \"mapbox\": {\"style\": \"light\"}, \"paper_bgcolor\": \"white\", \"plot_bgcolor\": \"#E5ECF6\", \"polar\": {\"angularaxis\": {\"gridcolor\": \"white\", \"linecolor\": \"white\", \"ticks\": \"\"}, \"bgcolor\": \"#E5ECF6\", \"radialaxis\": {\"gridcolor\": \"white\", \"linecolor\": \"white\", \"ticks\": \"\"}}, \"scene\": {\"xaxis\": {\"backgroundcolor\": \"#E5ECF6\", \"gridcolor\": \"white\", \"gridwidth\": 2, \"linecolor\": \"white\", \"showbackground\": true, \"ticks\": \"\", \"zerolinecolor\": \"white\"}, \"yaxis\": {\"backgroundcolor\": \"#E5ECF6\", \"gridcolor\": \"white\", \"gridwidth\": 2, \"linecolor\": \"white\", \"showbackground\": true, \"ticks\": \"\", \"zerolinecolor\": \"white\"}, \"zaxis\": {\"backgroundcolor\": \"#E5ECF6\", \"gridcolor\": \"white\", \"gridwidth\": 2, \"linecolor\": \"white\", \"showbackground\": true, \"ticks\": \"\", \"zerolinecolor\": \"white\"}}, \"shapedefaults\": {\"line\": {\"color\": \"#2a3f5f\"}}, \"ternary\": {\"aaxis\": {\"gridcolor\": \"white\", \"linecolor\": \"white\", \"ticks\": \"\"}, \"baxis\": {\"gridcolor\": \"white\", \"linecolor\": \"white\", \"ticks\": \"\"}, \"bgcolor\": \"#E5ECF6\", \"caxis\": {\"gridcolor\": \"white\", \"linecolor\": \"white\", \"ticks\": \"\"}}, \"title\": {\"x\": 0.05}, \"xaxis\": {\"automargin\": true, \"gridcolor\": \"white\", \"linecolor\": \"white\", \"ticks\": \"\", \"zerolinecolor\": \"white\", \"zerolinewidth\": 2}, \"yaxis\": {\"automargin\": true, \"gridcolor\": \"white\", \"linecolor\": \"white\", \"ticks\": \"\", \"zerolinecolor\": \"white\", \"zerolinewidth\": 2}}}, \"title\": {\"text\": \"NO2 amount at 14:00 regardless of days\"}, \"width\": 800, \"xaxis\": {\"dtick\": 30.0, \"range\": [\"2004-03-01\", \"2005-04-01\"], \"tick0\": 4.0, \"tickangle\": 30}, \"yaxis\": {\"range\": [500, 3000], \"title\": {\"text\": \"Concentration\"}}},\n",
       "                        {\"responsive\": true}\n",
       "                    ).then(function(){\n",
       "                            \n",
       "var gd = document.getElementById('e77d1561-2a31-40a8-9158-888d404375ce');\n",
       "var x = new MutationObserver(function (mutations, observer) {{\n",
       "        var display = window.getComputedStyle(gd).display;\n",
       "        if (!display || display === 'none') {{\n",
       "            console.log([gd, 'removed!']);\n",
       "            Plotly.purge(gd);\n",
       "            observer.disconnect();\n",
       "        }}\n",
       "}});\n",
       "\n",
       "// Listen for the removal of the full notebook cells\n",
       "var notebookContainer = gd.closest('#notebook-container');\n",
       "if (notebookContainer) {{\n",
       "    x.observe(notebookContainer, {childList: true});\n",
       "}}\n",
       "\n",
       "// Listen for the clearing of the current output cell\n",
       "var outputEl = gd.closest('.output');\n",
       "if (outputEl) {{\n",
       "    x.observe(outputEl, {childList: true});\n",
       "}}\n",
       "\n",
       "                        })\n",
       "                };\n",
       "                });\n",
       "            </script>\n",
       "        </div>"
      ]
     },
     "metadata": {},
     "output_type": "display_data"
    },
    {
     "data": {
      "application/vnd.plotly.v1+json": {
       "config": {
        "linkText": "Export to plot.ly",
        "plotlyServerURL": "https://plot.ly",
        "showLink": false
       },
       "data": [
        {
         "name": "PT08.S4(NO2)",
         "type": "scatter",
         "x": [
          "2004/3/10",
          "2004/3/11",
          "2004/3/12",
          "2004/3/13",
          "2004/3/14",
          "2004/3/15",
          "2004/3/16",
          "2004/3/17",
          "2004/3/18",
          "2004/3/19",
          "2004/3/20",
          "2004/3/21",
          "2004/3/22",
          "2004/3/23",
          "2004/3/24",
          "2004/3/25",
          "2004/3/26",
          "2004/3/27",
          "2004/3/28",
          "2004/3/29",
          "2004/3/30",
          "2004/3/31",
          "2004/4/1",
          "2004/4/2",
          "2004/4/3",
          "2004/4/4",
          "2004/4/5",
          "2004/4/6",
          "2004/4/7",
          "2004/4/8",
          "2004/4/10",
          "2004/4/11",
          "2004/4/12",
          "2004/4/13",
          "2004/4/14",
          "2004/4/15",
          "2004/4/16",
          "2004/4/17",
          "2004/4/18",
          "2004/4/19",
          "2004/4/20",
          "2004/4/21",
          "2004/4/22",
          "2004/4/23",
          "2004/4/24",
          "2004/4/25",
          "2004/4/26",
          "2004/4/27",
          "2004/4/28",
          "2004/4/29",
          "2004/4/30",
          "2004/5/1",
          "2004/5/2",
          "2004/5/3",
          "2004/5/4",
          "2004/5/5",
          "2004/5/6",
          "2004/5/7",
          "2004/5/8",
          "2004/5/9",
          "2004/5/10",
          "2004/5/11",
          "2004/5/12",
          "2004/5/13",
          "2004/5/14",
          "2004/5/15",
          "2004/5/16",
          "2004/5/17",
          "2004/5/18",
          "2004/5/19",
          "2004/5/20",
          "2004/5/21",
          "2004/5/22",
          "2004/5/23",
          "2004/5/24",
          "2004/5/25",
          "2004/5/26",
          "2004/5/27",
          "2004/5/28",
          "2004/5/29",
          "2004/5/30",
          "2004/5/31",
          "2004/6/1",
          "2004/6/2",
          "2004/6/3",
          "2004/6/4",
          "2004/6/5",
          "2004/6/6",
          "2004/6/7",
          "2004/6/8",
          "2004/6/9",
          "2004/6/10",
          "2004/6/11",
          "2004/6/12",
          "2004/6/13",
          "2004/6/14",
          "2004/6/15",
          "2004/6/16",
          "2004/6/17",
          "2004/6/18",
          "2004/6/19",
          "2004/6/21",
          "2004/6/22",
          "2004/6/23",
          "2004/6/24",
          "2004/6/25",
          "2004/6/26",
          "2004/6/27",
          "2004/6/28",
          "2004/6/29",
          "2004/6/30",
          "2004/7/1",
          "2004/7/2",
          "2004/7/3",
          "2004/7/4",
          "2004/7/5",
          "2004/7/6",
          "2004/7/7",
          "2004/7/8",
          "2004/7/9",
          "2004/7/10",
          "2004/7/11",
          "2004/7/12",
          "2004/7/13",
          "2004/7/14",
          "2004/7/15",
          "2004/7/16",
          "2004/7/17",
          "2004/7/18",
          "2004/7/19",
          "2004/7/20",
          "2004/7/21",
          "2004/7/22",
          "2004/7/23",
          "2004/7/24",
          "2004/7/25",
          "2004/7/26",
          "2004/7/27",
          "2004/7/28",
          "2004/7/29",
          "2004/7/30",
          "2004/7/31",
          "2004/8/1",
          "2004/8/2",
          "2004/8/3",
          "2004/8/4",
          "2004/8/5",
          "2004/8/6",
          "2004/8/7",
          "2004/8/8",
          "2004/8/9",
          "2004/8/10",
          "2004/8/11",
          "2004/8/12",
          "2004/8/13",
          "2004/8/14",
          "2004/8/15",
          "2004/8/16",
          "2004/8/17",
          "2004/8/18",
          "2004/8/19",
          "2004/8/20",
          "2004/8/21",
          "2004/8/22",
          "2004/8/23",
          "2004/8/24",
          "2004/8/25",
          "2004/8/28",
          "2004/8/29",
          "2004/8/30",
          "2004/8/31",
          "2004/9/1",
          "2004/9/2",
          "2004/9/3",
          "2004/9/4",
          "2004/9/5",
          "2004/9/6",
          "2004/9/7",
          "2004/9/9",
          "2004/9/10",
          "2004/9/11",
          "2004/9/12",
          "2004/9/13",
          "2004/9/14",
          "2004/9/15",
          "2004/9/16",
          "2004/9/17",
          "2004/9/18",
          "2004/9/19",
          "2004/9/20",
          "2004/9/21",
          "2004/9/22",
          "2004/9/23",
          "2004/9/24",
          "2004/9/25",
          "2004/9/26",
          "2004/9/27",
          "2004/9/28",
          "2004/9/29",
          "2004/9/30",
          "2004/10/1",
          "2004/10/2",
          "2004/10/3",
          "2004/10/4",
          "2004/10/5",
          "2004/10/6",
          "2004/10/7",
          "2004/10/8",
          "2004/10/9",
          "2004/10/10",
          "2004/10/11",
          "2004/10/12",
          "2004/10/13",
          "2004/10/14",
          "2004/10/15",
          "2004/10/16",
          "2004/10/17",
          "2004/10/18",
          "2004/10/19",
          "2004/10/20",
          "2004/10/21",
          "2004/10/22",
          "2004/10/23",
          "2004/10/24",
          "2004/10/25",
          "2004/10/26",
          "2004/10/27",
          "2004/10/28",
          "2004/10/29",
          "2004/10/30",
          "2004/10/31",
          "2004/11/1",
          "2004/11/2",
          "2004/11/3",
          "2004/11/4",
          "2004/11/5",
          "2004/11/6",
          "2004/11/7",
          "2004/11/8",
          "2004/11/9",
          "2004/11/10",
          "2004/11/11",
          "2004/11/12",
          "2004/11/13",
          "2004/11/14",
          "2004/11/15",
          "2004/11/16",
          "2004/11/17",
          "2004/11/18",
          "2004/11/19",
          "2004/11/20",
          "2004/11/21",
          "2004/11/22",
          "2004/11/23",
          "2004/11/24",
          "2004/11/25",
          "2004/11/26",
          "2004/11/27",
          "2004/11/28",
          "2004/11/29",
          "2004/11/30",
          "2004/12/1",
          "2004/12/2",
          "2004/12/3",
          "2004/12/4",
          "2004/12/5",
          "2004/12/6",
          "2004/12/7",
          "2004/12/8",
          "2004/12/9",
          "2004/12/10",
          "2004/12/11",
          "2004/12/12",
          "2004/12/13",
          "2004/12/14",
          "2004/12/18",
          "2004/12/19",
          "2004/12/20",
          "2004/12/21",
          "2004/12/22",
          "2004/12/23",
          "2004/12/24",
          "2004/12/25",
          "2004/12/26",
          "2004/12/27",
          "2004/12/28",
          "2004/12/29",
          "2004/12/30",
          "2004/12/31",
          "2005/1/1",
          "2005/1/2",
          "2005/1/5",
          "2005/1/6",
          "2005/1/7",
          "2005/1/8",
          "2005/1/9",
          "2005/1/10",
          "2005/1/11",
          "2005/1/12",
          "2005/1/13",
          "2005/1/14",
          "2005/1/15",
          "2005/1/16",
          "2005/1/17",
          "2005/1/18",
          "2005/1/19",
          "2005/1/20",
          "2005/1/21",
          "2005/1/22",
          "2005/1/23",
          "2005/1/24",
          "2005/1/25",
          "2005/1/26",
          "2005/1/27",
          "2005/1/28",
          "2005/1/29",
          "2005/1/30",
          "2005/1/31",
          "2005/2/1",
          "2005/2/2",
          "2005/2/3",
          "2005/2/4",
          "2005/2/5",
          "2005/2/6",
          "2005/2/7",
          "2005/2/8",
          "2005/2/12",
          "2005/2/13",
          "2005/2/14",
          "2005/2/15",
          "2005/2/16",
          "2005/2/17",
          "2005/2/18",
          "2005/2/19",
          "2005/2/20",
          "2005/2/21",
          "2005/2/22",
          "2005/2/23",
          "2005/2/24",
          "2005/2/25",
          "2005/2/26",
          "2005/2/27",
          "2005/2/28",
          "2005/3/1",
          "2005/3/2",
          "2005/3/3",
          "2005/3/4",
          "2005/3/5",
          "2005/3/6",
          "2005/3/7",
          "2005/3/8",
          "2005/3/9",
          "2005/3/10",
          "2005/3/11",
          "2005/3/12",
          "2005/3/13",
          "2005/3/14",
          "2005/3/15",
          "2005/3/16",
          "2005/3/17",
          "2005/3/18",
          "2005/3/19",
          "2005/3/20",
          "2005/3/21",
          "2005/3/22",
          "2005/3/23",
          "2005/3/24",
          "2005/3/25",
          "2005/3/26",
          "2005/3/27",
          "2005/3/28",
          "2005/3/29",
          "2005/3/30",
          "2005/3/31",
          "2005/4/1",
          "2005/4/2",
          "2005/4/3"
         ],
         "y": [
          1559,
          2332,
          1847,
          1922,
          1993,
          2680,
          1875,
          2414,
          2118,
          1997,
          1919,
          1744,
          1993,
          1688,
          2008,
          2060,
          1540,
          1621,
          1357,
          1404,
          1638,
          1669,
          2088,
          2052,
          2152,
          1756,
          1957,
          1784,
          1748,
          2168,
          1534,
          1285,
          1369,
          1995,
          1638,
          2446,
          2298,
          1594,
          1824,
          1508,
          2102,
          2328,
          2238,
          2336,
          1970,
          1550,
          1616,
          1955,
          2252,
          2488,
          2356,
          1780,
          1853,
          2009,
          2184,
          1661,
          1722,
          1642,
          1829,
          1614,
          2050,
          2344,
          1767,
          2076,
          1880,
          1603,
          1820,
          1735,
          2068,
          1961,
          1956,
          1815,
          1933,
          1528,
          1416,
          -200,
          1709,
          1868,
          1710,
          1437,
          1506,
          1858,
          2486,
          1965,
          1899,
          1938,
          1970,
          1547,
          2280,
          2152,
          2196,
          2184,
          1863,
          1601,
          1378,
          1583,
          2001,
          1986,
          1907,
          2043,
          -200,
          1813,
          2084,
          2134,
          1934,
          1786,
          1726,
          1685,
          2068,
          2332,
          2204,
          2168,
          1729,
          1484,
          1541,
          1906,
          1864,
          2200,
          2372,
          1738,
          1387,
          1467,
          1797,
          2092,
          1901,
          1879,
          1881,
          1524,
          1399,
          1863,
          1753,
          1998,
          2017,
          1971,
          1549,
          1637,
          1763,
          1536,
          1713,
          1694,
          1874,
          1711,
          1584,
          1775,
          1854,
          1751,
          1826,
          1952,
          1648,
          1577,
          -200,
          1766,
          1760,
          1702,
          1511,
          1614,
          1379,
          1503,
          1380,
          1671,
          1759,
          1607,
          1535,
          1447,
          1442,
          1604,
          1541,
          1613,
          1807,
          1677,
          1816,
          2060,
          2068,
          2092,
          1524,
          1267,
          1669,
          1744,
          1768,
          1599,
          1583,
          1763,
          2288,
          1807,
          2408,
          1800,
          1605,
          1512,
          1806,
          2168,
          2088,
          2064,
          2056,
          1552,
          1312,
          1384,
          1679,
          2164,
          2088,
          2130,
          2338,
          1954,
          1925,
          2612,
          2472,
          2552,
          2370,
          1895,
          2064,
          1563,
          1920,
          1577,
          1415,
          1907,
          1593,
          1417,
          1457,
          2160,
          2017,
          2378,
          2404,
          2340,
          2016,
          1971,
          2468,
          2304,
          1732,
          1602,
          1591,
          2015,
          1987,
          1746,
          2564,
          1959,
          2216,
          1815,
          1563,
          1201,
          1744,
          1605,
          1467,
          1534,
          1735,
          1275,
          978,
          1305,
          1283,
          1796,
          1722,
          2040,
          1057,
          971,
          1881,
          2562,
          1957,
          1368,
          1983,
          1755,
          1418,
          1320,
          1843,
          1419,
          2404,
          1832,
          1302,
          1212,
          1613,
          1470,
          1301,
          1301,
          1256,
          1018,
          1362,
          1880,
          -200,
          974,
          1365,
          1103,
          1171,
          1086,
          1820,
          -200,
          1555,
          1531,
          1279,
          1340,
          1159,
          976,
          906,
          1188,
          1217,
          1525,
          1419,
          1652,
          1549,
          1334,
          1593,
          1580,
          1902,
          1571,
          1720,
          1524,
          977,
          1811,
          1725,
          1109,
          1414,
          1547,
          1126,
          1157,
          1014,
          1012,
          1073,
          1025,
          -200,
          844,
          759,
          1557,
          1243,
          1527,
          1758,
          1169,
          915,
          875,
          1025,
          -200,
          1659,
          1234,
          1136,
          1132,
          1300,
          1185,
          1268,
          1147,
          997,
          1682,
          1335,
          1317,
          1522,
          1229,
          1008,
          884,
          885,
          887,
          1325,
          1539,
          1336,
          1205,
          942,
          1148,
          1499,
          1747,
          1295,
          1661,
          1224,
          1520,
          1937,
          1890,
          1682,
          1518,
          1702,
          1483,
          1428,
          1999,
          1698,
          1909,
          2021,
          2008,
          1486,
          1367,
          1432,
          1541,
          1639,
          1287,
          1003,
          942,
          1289
         ]
        }
       ],
       "layout": {
        "height": 350,
        "legend": {
         "orientation": "v"
        },
        "margin": {
         "b": 90,
         "l": 80,
         "r": 80,
         "t": 70
        },
        "template": {
         "data": {
          "bar": [
           {
            "error_x": {
             "color": "#2a3f5f"
            },
            "error_y": {
             "color": "#2a3f5f"
            },
            "marker": {
             "line": {
              "color": "#E5ECF6",
              "width": 0.5
             }
            },
            "type": "bar"
           }
          ],
          "barpolar": [
           {
            "marker": {
             "line": {
              "color": "#E5ECF6",
              "width": 0.5
             }
            },
            "type": "barpolar"
           }
          ],
          "carpet": [
           {
            "aaxis": {
             "endlinecolor": "#2a3f5f",
             "gridcolor": "white",
             "linecolor": "white",
             "minorgridcolor": "white",
             "startlinecolor": "#2a3f5f"
            },
            "baxis": {
             "endlinecolor": "#2a3f5f",
             "gridcolor": "white",
             "linecolor": "white",
             "minorgridcolor": "white",
             "startlinecolor": "#2a3f5f"
            },
            "type": "carpet"
           }
          ],
          "choropleth": [
           {
            "colorbar": {
             "outlinewidth": 0,
             "ticks": ""
            },
            "type": "choropleth"
           }
          ],
          "contour": [
           {
            "colorbar": {
             "outlinewidth": 0,
             "ticks": ""
            },
            "colorscale": [
             [
              0,
              "#0d0887"
             ],
             [
              0.1111111111111111,
              "#46039f"
             ],
             [
              0.2222222222222222,
              "#7201a8"
             ],
             [
              0.3333333333333333,
              "#9c179e"
             ],
             [
              0.4444444444444444,
              "#bd3786"
             ],
             [
              0.5555555555555556,
              "#d8576b"
             ],
             [
              0.6666666666666666,
              "#ed7953"
             ],
             [
              0.7777777777777778,
              "#fb9f3a"
             ],
             [
              0.8888888888888888,
              "#fdca26"
             ],
             [
              1,
              "#f0f921"
             ]
            ],
            "type": "contour"
           }
          ],
          "contourcarpet": [
           {
            "colorbar": {
             "outlinewidth": 0,
             "ticks": ""
            },
            "type": "contourcarpet"
           }
          ],
          "heatmap": [
           {
            "colorbar": {
             "outlinewidth": 0,
             "ticks": ""
            },
            "colorscale": [
             [
              0,
              "#0d0887"
             ],
             [
              0.1111111111111111,
              "#46039f"
             ],
             [
              0.2222222222222222,
              "#7201a8"
             ],
             [
              0.3333333333333333,
              "#9c179e"
             ],
             [
              0.4444444444444444,
              "#bd3786"
             ],
             [
              0.5555555555555556,
              "#d8576b"
             ],
             [
              0.6666666666666666,
              "#ed7953"
             ],
             [
              0.7777777777777778,
              "#fb9f3a"
             ],
             [
              0.8888888888888888,
              "#fdca26"
             ],
             [
              1,
              "#f0f921"
             ]
            ],
            "type": "heatmap"
           }
          ],
          "heatmapgl": [
           {
            "colorbar": {
             "outlinewidth": 0,
             "ticks": ""
            },
            "colorscale": [
             [
              0,
              "#0d0887"
             ],
             [
              0.1111111111111111,
              "#46039f"
             ],
             [
              0.2222222222222222,
              "#7201a8"
             ],
             [
              0.3333333333333333,
              "#9c179e"
             ],
             [
              0.4444444444444444,
              "#bd3786"
             ],
             [
              0.5555555555555556,
              "#d8576b"
             ],
             [
              0.6666666666666666,
              "#ed7953"
             ],
             [
              0.7777777777777778,
              "#fb9f3a"
             ],
             [
              0.8888888888888888,
              "#fdca26"
             ],
             [
              1,
              "#f0f921"
             ]
            ],
            "type": "heatmapgl"
           }
          ],
          "histogram": [
           {
            "marker": {
             "colorbar": {
              "outlinewidth": 0,
              "ticks": ""
             }
            },
            "type": "histogram"
           }
          ],
          "histogram2d": [
           {
            "colorbar": {
             "outlinewidth": 0,
             "ticks": ""
            },
            "colorscale": [
             [
              0,
              "#0d0887"
             ],
             [
              0.1111111111111111,
              "#46039f"
             ],
             [
              0.2222222222222222,
              "#7201a8"
             ],
             [
              0.3333333333333333,
              "#9c179e"
             ],
             [
              0.4444444444444444,
              "#bd3786"
             ],
             [
              0.5555555555555556,
              "#d8576b"
             ],
             [
              0.6666666666666666,
              "#ed7953"
             ],
             [
              0.7777777777777778,
              "#fb9f3a"
             ],
             [
              0.8888888888888888,
              "#fdca26"
             ],
             [
              1,
              "#f0f921"
             ]
            ],
            "type": "histogram2d"
           }
          ],
          "histogram2dcontour": [
           {
            "colorbar": {
             "outlinewidth": 0,
             "ticks": ""
            },
            "colorscale": [
             [
              0,
              "#0d0887"
             ],
             [
              0.1111111111111111,
              "#46039f"
             ],
             [
              0.2222222222222222,
              "#7201a8"
             ],
             [
              0.3333333333333333,
              "#9c179e"
             ],
             [
              0.4444444444444444,
              "#bd3786"
             ],
             [
              0.5555555555555556,
              "#d8576b"
             ],
             [
              0.6666666666666666,
              "#ed7953"
             ],
             [
              0.7777777777777778,
              "#fb9f3a"
             ],
             [
              0.8888888888888888,
              "#fdca26"
             ],
             [
              1,
              "#f0f921"
             ]
            ],
            "type": "histogram2dcontour"
           }
          ],
          "mesh3d": [
           {
            "colorbar": {
             "outlinewidth": 0,
             "ticks": ""
            },
            "type": "mesh3d"
           }
          ],
          "parcoords": [
           {
            "line": {
             "colorbar": {
              "outlinewidth": 0,
              "ticks": ""
             }
            },
            "type": "parcoords"
           }
          ],
          "scatter": [
           {
            "marker": {
             "colorbar": {
              "outlinewidth": 0,
              "ticks": ""
             }
            },
            "type": "scatter"
           }
          ],
          "scatter3d": [
           {
            "line": {
             "colorbar": {
              "outlinewidth": 0,
              "ticks": ""
             }
            },
            "marker": {
             "colorbar": {
              "outlinewidth": 0,
              "ticks": ""
             }
            },
            "type": "scatter3d"
           }
          ],
          "scattercarpet": [
           {
            "marker": {
             "colorbar": {
              "outlinewidth": 0,
              "ticks": ""
             }
            },
            "type": "scattercarpet"
           }
          ],
          "scattergeo": [
           {
            "marker": {
             "colorbar": {
              "outlinewidth": 0,
              "ticks": ""
             }
            },
            "type": "scattergeo"
           }
          ],
          "scattergl": [
           {
            "marker": {
             "colorbar": {
              "outlinewidth": 0,
              "ticks": ""
             }
            },
            "type": "scattergl"
           }
          ],
          "scattermapbox": [
           {
            "marker": {
             "colorbar": {
              "outlinewidth": 0,
              "ticks": ""
             }
            },
            "type": "scattermapbox"
           }
          ],
          "scatterpolar": [
           {
            "marker": {
             "colorbar": {
              "outlinewidth": 0,
              "ticks": ""
             }
            },
            "type": "scatterpolar"
           }
          ],
          "scatterpolargl": [
           {
            "marker": {
             "colorbar": {
              "outlinewidth": 0,
              "ticks": ""
             }
            },
            "type": "scatterpolargl"
           }
          ],
          "scatterternary": [
           {
            "marker": {
             "colorbar": {
              "outlinewidth": 0,
              "ticks": ""
             }
            },
            "type": "scatterternary"
           }
          ],
          "surface": [
           {
            "colorbar": {
             "outlinewidth": 0,
             "ticks": ""
            },
            "colorscale": [
             [
              0,
              "#0d0887"
             ],
             [
              0.1111111111111111,
              "#46039f"
             ],
             [
              0.2222222222222222,
              "#7201a8"
             ],
             [
              0.3333333333333333,
              "#9c179e"
             ],
             [
              0.4444444444444444,
              "#bd3786"
             ],
             [
              0.5555555555555556,
              "#d8576b"
             ],
             [
              0.6666666666666666,
              "#ed7953"
             ],
             [
              0.7777777777777778,
              "#fb9f3a"
             ],
             [
              0.8888888888888888,
              "#fdca26"
             ],
             [
              1,
              "#f0f921"
             ]
            ],
            "type": "surface"
           }
          ],
          "table": [
           {
            "cells": {
             "fill": {
              "color": "#EBF0F8"
             },
             "line": {
              "color": "white"
             }
            },
            "header": {
             "fill": {
              "color": "#C8D4E3"
             },
             "line": {
              "color": "white"
             }
            },
            "type": "table"
           }
          ]
         },
         "layout": {
          "annotationdefaults": {
           "arrowcolor": "#2a3f5f",
           "arrowhead": 0,
           "arrowwidth": 1
          },
          "colorscale": {
           "diverging": [
            [
             0,
             "#8e0152"
            ],
            [
             0.1,
             "#c51b7d"
            ],
            [
             0.2,
             "#de77ae"
            ],
            [
             0.3,
             "#f1b6da"
            ],
            [
             0.4,
             "#fde0ef"
            ],
            [
             0.5,
             "#f7f7f7"
            ],
            [
             0.6,
             "#e6f5d0"
            ],
            [
             0.7,
             "#b8e186"
            ],
            [
             0.8,
             "#7fbc41"
            ],
            [
             0.9,
             "#4d9221"
            ],
            [
             1,
             "#276419"
            ]
           ],
           "sequential": [
            [
             0,
             "#0d0887"
            ],
            [
             0.1111111111111111,
             "#46039f"
            ],
            [
             0.2222222222222222,
             "#7201a8"
            ],
            [
             0.3333333333333333,
             "#9c179e"
            ],
            [
             0.4444444444444444,
             "#bd3786"
            ],
            [
             0.5555555555555556,
             "#d8576b"
            ],
            [
             0.6666666666666666,
             "#ed7953"
            ],
            [
             0.7777777777777778,
             "#fb9f3a"
            ],
            [
             0.8888888888888888,
             "#fdca26"
            ],
            [
             1,
             "#f0f921"
            ]
           ],
           "sequentialminus": [
            [
             0,
             "#0d0887"
            ],
            [
             0.1111111111111111,
             "#46039f"
            ],
            [
             0.2222222222222222,
             "#7201a8"
            ],
            [
             0.3333333333333333,
             "#9c179e"
            ],
            [
             0.4444444444444444,
             "#bd3786"
            ],
            [
             0.5555555555555556,
             "#d8576b"
            ],
            [
             0.6666666666666666,
             "#ed7953"
            ],
            [
             0.7777777777777778,
             "#fb9f3a"
            ],
            [
             0.8888888888888888,
             "#fdca26"
            ],
            [
             1,
             "#f0f921"
            ]
           ]
          },
          "colorway": [
           "#636efa",
           "#EF553B",
           "#00cc96",
           "#ab63fa",
           "#FFA15A",
           "#19d3f3",
           "#FF6692",
           "#B6E880",
           "#FF97FF",
           "#FECB52"
          ],
          "font": {
           "color": "#2a3f5f"
          },
          "geo": {
           "bgcolor": "white",
           "lakecolor": "white",
           "landcolor": "#E5ECF6",
           "showlakes": true,
           "showland": true,
           "subunitcolor": "white"
          },
          "hoverlabel": {
           "align": "left"
          },
          "hovermode": "closest",
          "mapbox": {
           "style": "light"
          },
          "paper_bgcolor": "white",
          "plot_bgcolor": "#E5ECF6",
          "polar": {
           "angularaxis": {
            "gridcolor": "white",
            "linecolor": "white",
            "ticks": ""
           },
           "bgcolor": "#E5ECF6",
           "radialaxis": {
            "gridcolor": "white",
            "linecolor": "white",
            "ticks": ""
           }
          },
          "scene": {
           "xaxis": {
            "backgroundcolor": "#E5ECF6",
            "gridcolor": "white",
            "gridwidth": 2,
            "linecolor": "white",
            "showbackground": true,
            "ticks": "",
            "zerolinecolor": "white"
           },
           "yaxis": {
            "backgroundcolor": "#E5ECF6",
            "gridcolor": "white",
            "gridwidth": 2,
            "linecolor": "white",
            "showbackground": true,
            "ticks": "",
            "zerolinecolor": "white"
           },
           "zaxis": {
            "backgroundcolor": "#E5ECF6",
            "gridcolor": "white",
            "gridwidth": 2,
            "linecolor": "white",
            "showbackground": true,
            "ticks": "",
            "zerolinecolor": "white"
           }
          },
          "shapedefaults": {
           "line": {
            "color": "#2a3f5f"
           }
          },
          "ternary": {
           "aaxis": {
            "gridcolor": "white",
            "linecolor": "white",
            "ticks": ""
           },
           "baxis": {
            "gridcolor": "white",
            "linecolor": "white",
            "ticks": ""
           },
           "bgcolor": "#E5ECF6",
           "caxis": {
            "gridcolor": "white",
            "linecolor": "white",
            "ticks": ""
           }
          },
          "title": {
           "x": 0.05
          },
          "xaxis": {
           "automargin": true,
           "gridcolor": "white",
           "linecolor": "white",
           "ticks": "",
           "zerolinecolor": "white",
           "zerolinewidth": 2
          },
          "yaxis": {
           "automargin": true,
           "gridcolor": "white",
           "linecolor": "white",
           "ticks": "",
           "zerolinecolor": "white",
           "zerolinewidth": 2
          }
         }
        },
        "title": {
         "text": "NO2 amount at 19:00 regardless of days"
        },
        "width": 800,
        "xaxis": {
         "dtick": 30,
         "range": [
          "2004-03-01",
          "2005-04-01"
         ],
         "tick0": 4,
         "tickangle": 30
        },
        "yaxis": {
         "range": [
          500,
          3000
         ],
         "title": {
          "text": "Concentration"
         }
        }
       }
      },
      "text/html": [
       "<div>\n",
       "        \n",
       "        \n",
       "            <div id=\"197a7ec6-f23f-47b6-bf71-7cddb034f1d9\" class=\"plotly-graph-div\" style=\"height:350px; width:800px;\"></div>\n",
       "            <script type=\"text/javascript\">\n",
       "                require([\"plotly\"], function(Plotly) {\n",
       "                    window.PLOTLYENV=window.PLOTLYENV || {};\n",
       "                    \n",
       "                if (document.getElementById(\"197a7ec6-f23f-47b6-bf71-7cddb034f1d9\")) {\n",
       "                    Plotly.newPlot(\n",
       "                        '197a7ec6-f23f-47b6-bf71-7cddb034f1d9',\n",
       "                        [{\"name\": \"PT08.S4(NO2)\", \"type\": \"scatter\", \"x\": [\"2004/3/10\", \"2004/3/11\", \"2004/3/12\", \"2004/3/13\", \"2004/3/14\", \"2004/3/15\", \"2004/3/16\", \"2004/3/17\", \"2004/3/18\", \"2004/3/19\", \"2004/3/20\", \"2004/3/21\", \"2004/3/22\", \"2004/3/23\", \"2004/3/24\", \"2004/3/25\", \"2004/3/26\", \"2004/3/27\", \"2004/3/28\", \"2004/3/29\", \"2004/3/30\", \"2004/3/31\", \"2004/4/1\", \"2004/4/2\", \"2004/4/3\", \"2004/4/4\", \"2004/4/5\", \"2004/4/6\", \"2004/4/7\", \"2004/4/8\", \"2004/4/10\", \"2004/4/11\", \"2004/4/12\", \"2004/4/13\", \"2004/4/14\", \"2004/4/15\", \"2004/4/16\", \"2004/4/17\", \"2004/4/18\", \"2004/4/19\", \"2004/4/20\", \"2004/4/21\", \"2004/4/22\", \"2004/4/23\", \"2004/4/24\", \"2004/4/25\", \"2004/4/26\", \"2004/4/27\", \"2004/4/28\", \"2004/4/29\", \"2004/4/30\", \"2004/5/1\", \"2004/5/2\", \"2004/5/3\", \"2004/5/4\", \"2004/5/5\", \"2004/5/6\", \"2004/5/7\", \"2004/5/8\", \"2004/5/9\", \"2004/5/10\", \"2004/5/11\", \"2004/5/12\", \"2004/5/13\", \"2004/5/14\", \"2004/5/15\", \"2004/5/16\", \"2004/5/17\", \"2004/5/18\", \"2004/5/19\", \"2004/5/20\", \"2004/5/21\", \"2004/5/22\", \"2004/5/23\", \"2004/5/24\", \"2004/5/25\", \"2004/5/26\", \"2004/5/27\", \"2004/5/28\", \"2004/5/29\", \"2004/5/30\", \"2004/5/31\", \"2004/6/1\", \"2004/6/2\", \"2004/6/3\", \"2004/6/4\", \"2004/6/5\", \"2004/6/6\", \"2004/6/7\", \"2004/6/8\", \"2004/6/9\", \"2004/6/10\", \"2004/6/11\", \"2004/6/12\", \"2004/6/13\", \"2004/6/14\", \"2004/6/15\", \"2004/6/16\", \"2004/6/17\", \"2004/6/18\", \"2004/6/19\", \"2004/6/21\", \"2004/6/22\", \"2004/6/23\", \"2004/6/24\", \"2004/6/25\", \"2004/6/26\", \"2004/6/27\", \"2004/6/28\", \"2004/6/29\", \"2004/6/30\", \"2004/7/1\", \"2004/7/2\", \"2004/7/3\", \"2004/7/4\", \"2004/7/5\", \"2004/7/6\", \"2004/7/7\", \"2004/7/8\", \"2004/7/9\", \"2004/7/10\", \"2004/7/11\", \"2004/7/12\", \"2004/7/13\", \"2004/7/14\", \"2004/7/15\", \"2004/7/16\", \"2004/7/17\", \"2004/7/18\", \"2004/7/19\", \"2004/7/20\", \"2004/7/21\", \"2004/7/22\", \"2004/7/23\", \"2004/7/24\", \"2004/7/25\", \"2004/7/26\", \"2004/7/27\", \"2004/7/28\", \"2004/7/29\", \"2004/7/30\", \"2004/7/31\", \"2004/8/1\", \"2004/8/2\", \"2004/8/3\", \"2004/8/4\", \"2004/8/5\", \"2004/8/6\", \"2004/8/7\", \"2004/8/8\", \"2004/8/9\", \"2004/8/10\", \"2004/8/11\", \"2004/8/12\", \"2004/8/13\", \"2004/8/14\", \"2004/8/15\", \"2004/8/16\", \"2004/8/17\", \"2004/8/18\", \"2004/8/19\", \"2004/8/20\", \"2004/8/21\", \"2004/8/22\", \"2004/8/23\", \"2004/8/24\", \"2004/8/25\", \"2004/8/28\", \"2004/8/29\", \"2004/8/30\", \"2004/8/31\", \"2004/9/1\", \"2004/9/2\", \"2004/9/3\", \"2004/9/4\", \"2004/9/5\", \"2004/9/6\", \"2004/9/7\", \"2004/9/9\", \"2004/9/10\", \"2004/9/11\", \"2004/9/12\", \"2004/9/13\", \"2004/9/14\", \"2004/9/15\", \"2004/9/16\", \"2004/9/17\", \"2004/9/18\", \"2004/9/19\", \"2004/9/20\", \"2004/9/21\", \"2004/9/22\", \"2004/9/23\", \"2004/9/24\", \"2004/9/25\", \"2004/9/26\", \"2004/9/27\", \"2004/9/28\", \"2004/9/29\", \"2004/9/30\", \"2004/10/1\", \"2004/10/2\", \"2004/10/3\", \"2004/10/4\", \"2004/10/5\", \"2004/10/6\", \"2004/10/7\", \"2004/10/8\", \"2004/10/9\", \"2004/10/10\", \"2004/10/11\", \"2004/10/12\", \"2004/10/13\", \"2004/10/14\", \"2004/10/15\", \"2004/10/16\", \"2004/10/17\", \"2004/10/18\", \"2004/10/19\", \"2004/10/20\", \"2004/10/21\", \"2004/10/22\", \"2004/10/23\", \"2004/10/24\", \"2004/10/25\", \"2004/10/26\", \"2004/10/27\", \"2004/10/28\", \"2004/10/29\", \"2004/10/30\", \"2004/10/31\", \"2004/11/1\", \"2004/11/2\", \"2004/11/3\", \"2004/11/4\", \"2004/11/5\", \"2004/11/6\", \"2004/11/7\", \"2004/11/8\", \"2004/11/9\", \"2004/11/10\", \"2004/11/11\", \"2004/11/12\", \"2004/11/13\", \"2004/11/14\", \"2004/11/15\", \"2004/11/16\", \"2004/11/17\", \"2004/11/18\", \"2004/11/19\", \"2004/11/20\", \"2004/11/21\", \"2004/11/22\", \"2004/11/23\", \"2004/11/24\", \"2004/11/25\", \"2004/11/26\", \"2004/11/27\", \"2004/11/28\", \"2004/11/29\", \"2004/11/30\", \"2004/12/1\", \"2004/12/2\", \"2004/12/3\", \"2004/12/4\", \"2004/12/5\", \"2004/12/6\", \"2004/12/7\", \"2004/12/8\", \"2004/12/9\", \"2004/12/10\", \"2004/12/11\", \"2004/12/12\", \"2004/12/13\", \"2004/12/14\", \"2004/12/18\", \"2004/12/19\", \"2004/12/20\", \"2004/12/21\", \"2004/12/22\", \"2004/12/23\", \"2004/12/24\", \"2004/12/25\", \"2004/12/26\", \"2004/12/27\", \"2004/12/28\", \"2004/12/29\", \"2004/12/30\", \"2004/12/31\", \"2005/1/1\", \"2005/1/2\", \"2005/1/5\", \"2005/1/6\", \"2005/1/7\", \"2005/1/8\", \"2005/1/9\", \"2005/1/10\", \"2005/1/11\", \"2005/1/12\", \"2005/1/13\", \"2005/1/14\", \"2005/1/15\", \"2005/1/16\", \"2005/1/17\", \"2005/1/18\", \"2005/1/19\", \"2005/1/20\", \"2005/1/21\", \"2005/1/22\", \"2005/1/23\", \"2005/1/24\", \"2005/1/25\", \"2005/1/26\", \"2005/1/27\", \"2005/1/28\", \"2005/1/29\", \"2005/1/30\", \"2005/1/31\", \"2005/2/1\", \"2005/2/2\", \"2005/2/3\", \"2005/2/4\", \"2005/2/5\", \"2005/2/6\", \"2005/2/7\", \"2005/2/8\", \"2005/2/12\", \"2005/2/13\", \"2005/2/14\", \"2005/2/15\", \"2005/2/16\", \"2005/2/17\", \"2005/2/18\", \"2005/2/19\", \"2005/2/20\", \"2005/2/21\", \"2005/2/22\", \"2005/2/23\", \"2005/2/24\", \"2005/2/25\", \"2005/2/26\", \"2005/2/27\", \"2005/2/28\", \"2005/3/1\", \"2005/3/2\", \"2005/3/3\", \"2005/3/4\", \"2005/3/5\", \"2005/3/6\", \"2005/3/7\", \"2005/3/8\", \"2005/3/9\", \"2005/3/10\", \"2005/3/11\", \"2005/3/12\", \"2005/3/13\", \"2005/3/14\", \"2005/3/15\", \"2005/3/16\", \"2005/3/17\", \"2005/3/18\", \"2005/3/19\", \"2005/3/20\", \"2005/3/21\", \"2005/3/22\", \"2005/3/23\", \"2005/3/24\", \"2005/3/25\", \"2005/3/26\", \"2005/3/27\", \"2005/3/28\", \"2005/3/29\", \"2005/3/30\", \"2005/3/31\", \"2005/4/1\", \"2005/4/2\", \"2005/4/3\"], \"y\": [1559.0, 2332.0, 1847.0, 1922.0, 1993.0, 2680.0, 1875.0, 2414.0, 2118.0, 1997.0, 1919.0, 1744.0, 1993.0, 1688.0, 2008.0, 2060.0, 1540.0, 1621.0, 1357.0, 1404.0, 1638.0, 1669.0, 2088.0, 2052.0, 2152.0, 1756.0, 1957.0, 1784.0, 1748.0, 2168.0, 1534.0, 1285.0, 1369.0, 1995.0, 1638.0, 2446.0, 2298.0, 1594.0, 1824.0, 1508.0, 2102.0, 2328.0, 2238.0, 2336.0, 1970.0, 1550.0, 1616.0, 1955.0, 2252.0, 2488.0, 2356.0, 1780.0, 1853.0, 2009.0, 2184.0, 1661.0, 1722.0, 1642.0, 1829.0, 1614.0, 2050.0, 2344.0, 1767.0, 2076.0, 1880.0, 1603.0, 1820.0, 1735.0, 2068.0, 1961.0, 1956.0, 1815.0, 1933.0, 1528.0, 1416.0, -200.0, 1709.0, 1868.0, 1710.0, 1437.0, 1506.0, 1858.0, 2486.0, 1965.0, 1899.0, 1938.0, 1970.0, 1547.0, 2280.0, 2152.0, 2196.0, 2184.0, 1863.0, 1601.0, 1378.0, 1583.0, 2001.0, 1986.0, 1907.0, 2043.0, -200.0, 1813.0, 2084.0, 2134.0, 1934.0, 1786.0, 1726.0, 1685.0, 2068.0, 2332.0, 2204.0, 2168.0, 1729.0, 1484.0, 1541.0, 1906.0, 1864.0, 2200.0, 2372.0, 1738.0, 1387.0, 1467.0, 1797.0, 2092.0, 1901.0, 1879.0, 1881.0, 1524.0, 1399.0, 1863.0, 1753.0, 1998.0, 2017.0, 1971.0, 1549.0, 1637.0, 1763.0, 1536.0, 1713.0, 1694.0, 1874.0, 1711.0, 1584.0, 1775.0, 1854.0, 1751.0, 1826.0, 1952.0, 1648.0, 1577.0, -200.0, 1766.0, 1760.0, 1702.0, 1511.0, 1614.0, 1379.0, 1503.0, 1380.0, 1671.0, 1759.0, 1607.0, 1535.0, 1447.0, 1442.0, 1604.0, 1541.0, 1613.0, 1807.0, 1677.0, 1816.0, 2060.0, 2068.0, 2092.0, 1524.0, 1267.0, 1669.0, 1744.0, 1768.0, 1599.0, 1583.0, 1763.0, 2288.0, 1807.0, 2408.0, 1800.0, 1605.0, 1512.0, 1806.0, 2168.0, 2088.0, 2064.0, 2056.0, 1552.0, 1312.0, 1384.0, 1679.0, 2164.0, 2088.0, 2130.0, 2338.0, 1954.0, 1925.0, 2612.0, 2472.0, 2552.0, 2370.0, 1895.0, 2064.0, 1563.0, 1920.0, 1577.0, 1415.0, 1907.0, 1593.0, 1417.0, 1457.0, 2160.0, 2017.0, 2378.0, 2404.0, 2340.0, 2016.0, 1971.0, 2468.0, 2304.0, 1732.0, 1602.0, 1591.0, 2015.0, 1987.0, 1746.0, 2564.0, 1959.0, 2216.0, 1815.0, 1563.0, 1201.0, 1744.0, 1605.0, 1467.0, 1534.0, 1735.0, 1275.0, 978.0, 1305.0, 1283.0, 1796.0, 1722.0, 2040.0, 1057.0, 971.0, 1881.0, 2562.0, 1957.0, 1368.0, 1983.0, 1755.0, 1418.0, 1320.0, 1843.0, 1419.0, 2404.0, 1832.0, 1302.0, 1212.0, 1613.0, 1470.0, 1301.0, 1301.0, 1256.0, 1018.0, 1362.0, 1880.0, -200.0, 974.0, 1365.0, 1103.0, 1171.0, 1086.0, 1820.0, -200.0, 1555.0, 1531.0, 1279.0, 1340.0, 1159.0, 976.0, 906.0, 1188.0, 1217.0, 1525.0, 1419.0, 1652.0, 1549.0, 1334.0, 1593.0, 1580.0, 1902.0, 1571.0, 1720.0, 1524.0, 977.0, 1811.0, 1725.0, 1109.0, 1414.0, 1547.0, 1126.0, 1157.0, 1014.0, 1012.0, 1073.0, 1025.0, -200.0, 844.0, 759.0, 1557.0, 1243.0, 1527.0, 1758.0, 1169.0, 915.0, 875.0, 1025.0, -200.0, 1659.0, 1234.0, 1136.0, 1132.0, 1300.0, 1185.0, 1268.0, 1147.0, 997.0, 1682.0, 1335.0, 1317.0, 1522.0, 1229.0, 1008.0, 884.0, 885.0, 887.0, 1325.0, 1539.0, 1336.0, 1205.0, 942.0, 1148.0, 1499.0, 1747.0, 1295.0, 1661.0, 1224.0, 1520.0, 1937.0, 1890.0, 1682.0, 1518.0, 1702.0, 1483.0, 1428.0, 1999.0, 1698.0, 1909.0, 2021.0, 2008.0, 1486.0, 1367.0, 1432.0, 1541.0, 1639.0, 1287.0, 1003.0, 942.0, 1289.0]}],\n",
       "                        {\"height\": 350, \"legend\": {\"orientation\": \"v\"}, \"margin\": {\"b\": 90, \"l\": 80, \"r\": 80, \"t\": 70}, \"template\": {\"data\": {\"bar\": [{\"error_x\": {\"color\": \"#2a3f5f\"}, \"error_y\": {\"color\": \"#2a3f5f\"}, \"marker\": {\"line\": {\"color\": \"#E5ECF6\", \"width\": 0.5}}, \"type\": \"bar\"}], \"barpolar\": [{\"marker\": {\"line\": {\"color\": \"#E5ECF6\", \"width\": 0.5}}, \"type\": \"barpolar\"}], \"carpet\": [{\"aaxis\": {\"endlinecolor\": \"#2a3f5f\", \"gridcolor\": \"white\", \"linecolor\": \"white\", \"minorgridcolor\": \"white\", \"startlinecolor\": \"#2a3f5f\"}, \"baxis\": {\"endlinecolor\": \"#2a3f5f\", \"gridcolor\": \"white\", \"linecolor\": \"white\", \"minorgridcolor\": \"white\", \"startlinecolor\": \"#2a3f5f\"}, \"type\": \"carpet\"}], \"choropleth\": [{\"colorbar\": {\"outlinewidth\": 0, \"ticks\": \"\"}, \"type\": \"choropleth\"}], \"contour\": [{\"colorbar\": {\"outlinewidth\": 0, \"ticks\": \"\"}, \"colorscale\": [[0.0, \"#0d0887\"], [0.1111111111111111, \"#46039f\"], [0.2222222222222222, \"#7201a8\"], [0.3333333333333333, \"#9c179e\"], [0.4444444444444444, \"#bd3786\"], [0.5555555555555556, \"#d8576b\"], [0.6666666666666666, \"#ed7953\"], [0.7777777777777778, \"#fb9f3a\"], [0.8888888888888888, \"#fdca26\"], [1.0, \"#f0f921\"]], \"type\": \"contour\"}], \"contourcarpet\": [{\"colorbar\": {\"outlinewidth\": 0, \"ticks\": \"\"}, \"type\": \"contourcarpet\"}], \"heatmap\": [{\"colorbar\": {\"outlinewidth\": 0, \"ticks\": \"\"}, \"colorscale\": [[0.0, \"#0d0887\"], [0.1111111111111111, \"#46039f\"], [0.2222222222222222, \"#7201a8\"], [0.3333333333333333, \"#9c179e\"], [0.4444444444444444, \"#bd3786\"], [0.5555555555555556, \"#d8576b\"], [0.6666666666666666, \"#ed7953\"], [0.7777777777777778, \"#fb9f3a\"], [0.8888888888888888, \"#fdca26\"], [1.0, \"#f0f921\"]], \"type\": \"heatmap\"}], \"heatmapgl\": [{\"colorbar\": {\"outlinewidth\": 0, \"ticks\": \"\"}, \"colorscale\": [[0.0, \"#0d0887\"], [0.1111111111111111, \"#46039f\"], [0.2222222222222222, \"#7201a8\"], [0.3333333333333333, \"#9c179e\"], [0.4444444444444444, \"#bd3786\"], [0.5555555555555556, \"#d8576b\"], [0.6666666666666666, \"#ed7953\"], [0.7777777777777778, \"#fb9f3a\"], [0.8888888888888888, \"#fdca26\"], [1.0, \"#f0f921\"]], \"type\": \"heatmapgl\"}], \"histogram\": [{\"marker\": {\"colorbar\": {\"outlinewidth\": 0, \"ticks\": \"\"}}, \"type\": \"histogram\"}], \"histogram2d\": [{\"colorbar\": {\"outlinewidth\": 0, \"ticks\": \"\"}, \"colorscale\": [[0.0, \"#0d0887\"], [0.1111111111111111, \"#46039f\"], [0.2222222222222222, \"#7201a8\"], [0.3333333333333333, \"#9c179e\"], [0.4444444444444444, \"#bd3786\"], [0.5555555555555556, \"#d8576b\"], [0.6666666666666666, \"#ed7953\"], [0.7777777777777778, \"#fb9f3a\"], [0.8888888888888888, \"#fdca26\"], [1.0, \"#f0f921\"]], \"type\": \"histogram2d\"}], \"histogram2dcontour\": [{\"colorbar\": {\"outlinewidth\": 0, \"ticks\": \"\"}, \"colorscale\": [[0.0, \"#0d0887\"], [0.1111111111111111, \"#46039f\"], [0.2222222222222222, \"#7201a8\"], [0.3333333333333333, \"#9c179e\"], [0.4444444444444444, \"#bd3786\"], [0.5555555555555556, \"#d8576b\"], [0.6666666666666666, \"#ed7953\"], [0.7777777777777778, \"#fb9f3a\"], [0.8888888888888888, \"#fdca26\"], [1.0, \"#f0f921\"]], \"type\": \"histogram2dcontour\"}], \"mesh3d\": [{\"colorbar\": {\"outlinewidth\": 0, \"ticks\": \"\"}, \"type\": \"mesh3d\"}], \"parcoords\": [{\"line\": {\"colorbar\": {\"outlinewidth\": 0, \"ticks\": \"\"}}, \"type\": \"parcoords\"}], \"scatter\": [{\"marker\": {\"colorbar\": {\"outlinewidth\": 0, \"ticks\": \"\"}}, \"type\": \"scatter\"}], \"scatter3d\": [{\"line\": {\"colorbar\": {\"outlinewidth\": 0, \"ticks\": \"\"}}, \"marker\": {\"colorbar\": {\"outlinewidth\": 0, \"ticks\": \"\"}}, \"type\": \"scatter3d\"}], \"scattercarpet\": [{\"marker\": {\"colorbar\": {\"outlinewidth\": 0, \"ticks\": \"\"}}, \"type\": \"scattercarpet\"}], \"scattergeo\": [{\"marker\": {\"colorbar\": {\"outlinewidth\": 0, \"ticks\": \"\"}}, \"type\": \"scattergeo\"}], \"scattergl\": [{\"marker\": {\"colorbar\": {\"outlinewidth\": 0, \"ticks\": \"\"}}, \"type\": \"scattergl\"}], \"scattermapbox\": [{\"marker\": {\"colorbar\": {\"outlinewidth\": 0, \"ticks\": \"\"}}, \"type\": \"scattermapbox\"}], \"scatterpolar\": [{\"marker\": {\"colorbar\": {\"outlinewidth\": 0, \"ticks\": \"\"}}, \"type\": \"scatterpolar\"}], \"scatterpolargl\": [{\"marker\": {\"colorbar\": {\"outlinewidth\": 0, \"ticks\": \"\"}}, \"type\": \"scatterpolargl\"}], \"scatterternary\": [{\"marker\": {\"colorbar\": {\"outlinewidth\": 0, \"ticks\": \"\"}}, \"type\": \"scatterternary\"}], \"surface\": [{\"colorbar\": {\"outlinewidth\": 0, \"ticks\": \"\"}, \"colorscale\": [[0.0, \"#0d0887\"], [0.1111111111111111, \"#46039f\"], [0.2222222222222222, \"#7201a8\"], [0.3333333333333333, \"#9c179e\"], [0.4444444444444444, \"#bd3786\"], [0.5555555555555556, \"#d8576b\"], [0.6666666666666666, \"#ed7953\"], [0.7777777777777778, \"#fb9f3a\"], [0.8888888888888888, \"#fdca26\"], [1.0, \"#f0f921\"]], \"type\": \"surface\"}], \"table\": [{\"cells\": {\"fill\": {\"color\": \"#EBF0F8\"}, \"line\": {\"color\": \"white\"}}, \"header\": {\"fill\": {\"color\": \"#C8D4E3\"}, \"line\": {\"color\": \"white\"}}, \"type\": \"table\"}]}, \"layout\": {\"annotationdefaults\": {\"arrowcolor\": \"#2a3f5f\", \"arrowhead\": 0, \"arrowwidth\": 1}, \"colorscale\": {\"diverging\": [[0, \"#8e0152\"], [0.1, \"#c51b7d\"], [0.2, \"#de77ae\"], [0.3, \"#f1b6da\"], [0.4, \"#fde0ef\"], [0.5, \"#f7f7f7\"], [0.6, \"#e6f5d0\"], [0.7, \"#b8e186\"], [0.8, \"#7fbc41\"], [0.9, \"#4d9221\"], [1, \"#276419\"]], \"sequential\": [[0.0, \"#0d0887\"], [0.1111111111111111, \"#46039f\"], [0.2222222222222222, \"#7201a8\"], [0.3333333333333333, \"#9c179e\"], [0.4444444444444444, \"#bd3786\"], [0.5555555555555556, \"#d8576b\"], [0.6666666666666666, \"#ed7953\"], [0.7777777777777778, \"#fb9f3a\"], [0.8888888888888888, \"#fdca26\"], [1.0, \"#f0f921\"]], \"sequentialminus\": [[0.0, \"#0d0887\"], [0.1111111111111111, \"#46039f\"], [0.2222222222222222, \"#7201a8\"], [0.3333333333333333, \"#9c179e\"], [0.4444444444444444, \"#bd3786\"], [0.5555555555555556, \"#d8576b\"], [0.6666666666666666, \"#ed7953\"], [0.7777777777777778, \"#fb9f3a\"], [0.8888888888888888, \"#fdca26\"], [1.0, \"#f0f921\"]]}, \"colorway\": [\"#636efa\", \"#EF553B\", \"#00cc96\", \"#ab63fa\", \"#FFA15A\", \"#19d3f3\", \"#FF6692\", \"#B6E880\", \"#FF97FF\", \"#FECB52\"], \"font\": {\"color\": \"#2a3f5f\"}, \"geo\": {\"bgcolor\": \"white\", \"lakecolor\": \"white\", \"landcolor\": \"#E5ECF6\", \"showlakes\": true, \"showland\": true, \"subunitcolor\": \"white\"}, \"hoverlabel\": {\"align\": \"left\"}, \"hovermode\": \"closest\", \"mapbox\": {\"style\": \"light\"}, \"paper_bgcolor\": \"white\", \"plot_bgcolor\": \"#E5ECF6\", \"polar\": {\"angularaxis\": {\"gridcolor\": \"white\", \"linecolor\": \"white\", \"ticks\": \"\"}, \"bgcolor\": \"#E5ECF6\", \"radialaxis\": {\"gridcolor\": \"white\", \"linecolor\": \"white\", \"ticks\": \"\"}}, \"scene\": {\"xaxis\": {\"backgroundcolor\": \"#E5ECF6\", \"gridcolor\": \"white\", \"gridwidth\": 2, \"linecolor\": \"white\", \"showbackground\": true, \"ticks\": \"\", \"zerolinecolor\": \"white\"}, \"yaxis\": {\"backgroundcolor\": \"#E5ECF6\", \"gridcolor\": \"white\", \"gridwidth\": 2, \"linecolor\": \"white\", \"showbackground\": true, \"ticks\": \"\", \"zerolinecolor\": \"white\"}, \"zaxis\": {\"backgroundcolor\": \"#E5ECF6\", \"gridcolor\": \"white\", \"gridwidth\": 2, \"linecolor\": \"white\", \"showbackground\": true, \"ticks\": \"\", \"zerolinecolor\": \"white\"}}, \"shapedefaults\": {\"line\": {\"color\": \"#2a3f5f\"}}, \"ternary\": {\"aaxis\": {\"gridcolor\": \"white\", \"linecolor\": \"white\", \"ticks\": \"\"}, \"baxis\": {\"gridcolor\": \"white\", \"linecolor\": \"white\", \"ticks\": \"\"}, \"bgcolor\": \"#E5ECF6\", \"caxis\": {\"gridcolor\": \"white\", \"linecolor\": \"white\", \"ticks\": \"\"}}, \"title\": {\"x\": 0.05}, \"xaxis\": {\"automargin\": true, \"gridcolor\": \"white\", \"linecolor\": \"white\", \"ticks\": \"\", \"zerolinecolor\": \"white\", \"zerolinewidth\": 2}, \"yaxis\": {\"automargin\": true, \"gridcolor\": \"white\", \"linecolor\": \"white\", \"ticks\": \"\", \"zerolinecolor\": \"white\", \"zerolinewidth\": 2}}}, \"title\": {\"text\": \"NO2 amount at 19:00 regardless of days\"}, \"width\": 800, \"xaxis\": {\"dtick\": 30.0, \"range\": [\"2004-03-01\", \"2005-04-01\"], \"tick0\": 4.0, \"tickangle\": 30}, \"yaxis\": {\"range\": [500, 3000], \"title\": {\"text\": \"Concentration\"}}},\n",
       "                        {\"responsive\": true}\n",
       "                    ).then(function(){\n",
       "                            \n",
       "var gd = document.getElementById('197a7ec6-f23f-47b6-bf71-7cddb034f1d9');\n",
       "var x = new MutationObserver(function (mutations, observer) {{\n",
       "        var display = window.getComputedStyle(gd).display;\n",
       "        if (!display || display === 'none') {{\n",
       "            console.log([gd, 'removed!']);\n",
       "            Plotly.purge(gd);\n",
       "            observer.disconnect();\n",
       "        }}\n",
       "}});\n",
       "\n",
       "// Listen for the removal of the full notebook cells\n",
       "var notebookContainer = gd.closest('#notebook-container');\n",
       "if (notebookContainer) {{\n",
       "    x.observe(notebookContainer, {childList: true});\n",
       "}}\n",
       "\n",
       "// Listen for the clearing of the current output cell\n",
       "var outputEl = gd.closest('.output');\n",
       "if (outputEl) {{\n",
       "    x.observe(outputEl, {childList: true});\n",
       "}}\n",
       "\n",
       "                        })\n",
       "                };\n",
       "                });\n",
       "            </script>\n",
       "        </div>"
      ]
     },
     "metadata": {},
     "output_type": "display_data"
    }
   ],
   "source": [
    "## NO2\n",
    "lst = [2,8,14,19]   ## replace with lst = list(range(24)) if you wish to see all hours.\n",
    "for x in lst:\n",
    "    temp = airdata[airdata['hour'] == x]\n",
    "    temp1 = temp['PT08.S4(NO2)']\n",
    "    time = temp['str_date']\n",
    "    \n",
    "    trace = go.Scatter(x = time, \n",
    "                       y = temp1, \n",
    "                       name= 'PT08.S4(NO2)')\n",
    "    \n",
    "    layout = go.Layout(dict(title = \"NO2 amount at\"+' '+ str(x)+ ':00 '+ \"regardless of days\",                            \n",
    "                            width=800,\n",
    "                            height=350,\n",
    "                            margin=go.layout.Margin(\n",
    "                                l=80,\n",
    "                                r=80,\n",
    "                                b=90,\n",
    "                                t=70,),\n",
    "                            xaxis = dict( range = ['2004-03-01','2005-04-01'],  tick0 = 4.0, dtick =30.0, tickangle=30),\n",
    "                            yaxis = dict(title = 'Concentration', range = [500, 3000]),\n",
    "                            ),legend=dict(\n",
    "        orientation=\"v\"))\n",
    "    dataPanda = []\n",
    "    dataPanda.append(trace)\n",
    "    py.iplot(dict(data=dataPanda, layout=layout))"
   ]
  },
  {
   "cell_type": "code",
   "execution_count": null,
   "metadata": {},
   "outputs": [],
   "source": [
    "## O3\n",
    "##for x in list(range(24)):  ## eliminate the \"##\" in the front to enable the function\n",
    "    temp = airdata[airdata['hour'] == x]\n",
    "    temp1 = temp['PT08.S5(O3)']\n",
    "    time = temp['str_date']\n",
    "\n",
    "    trace = go.Scatter(x = time, \n",
    "                       y = temp1, \n",
    "                       name= 'PT08.S5(O3)')\n",
    "    \n",
    "    layout = go.Layout(dict(title = \"O3 amount at\"+' '+ str(x)+ ':00 '+ \"regardless of days\",\n",
    "                            width=800,\n",
    "                            height=350,\n",
    "                            margin=go.layout.Margin(\n",
    "                                l=80,\n",
    "                                r=80,\n",
    "                                b=90,\n",
    "                                t=70,),\n",
    "                            xaxis = dict( range = ['2004-03-01','2005-04-01'],  tick0 = 4.0, dtick =30.0, tickangle=30),\n",
    "                            yaxis = dict(title = 'Concentration', range = [0, 2500]),\n",
    "                            ),legend=dict(\n",
    "        orientation=\"v\"))    \n",
    "    dataPanda = []\n",
    "    dataPanda.append(trace)\n",
    "    py.iplot(dict(data=dataPanda, layout=layout))"
   ]
  },
  {
   "cell_type": "markdown",
   "metadata": {},
   "source": [
    "#### Concl. Based on the figure above, I decided to use same hour within sequential days to impute the missings because of the difference in concentration in different hours. (the dramatic drop in the figure is due to the missing values -200)"
   ]
  },
  {
   "cell_type": "markdown",
   "metadata": {},
   "source": [
    "#### 3. Impute the missing values with the mean of the same hour in 5 sequential days."
   ]
  },
  {
   "cell_type": "code",
   "execution_count": 6,
   "metadata": {},
   "outputs": [
    {
     "name": "stderr",
     "output_type": "stream",
     "text": [
      "/Users/jerry/anaconda3/lib/python3.7/site-packages/ipykernel_launcher.py:6: SettingWithCopyWarning:\n",
      "\n",
      "\n",
      "A value is trying to be set on a copy of a slice from a DataFrame\n",
      "\n",
      "See the caveats in the documentation: http://pandas.pydata.org/pandas-docs/stable/indexing.html#indexing-view-versus-copy\n",
      "\n",
      "/Users/jerry/anaconda3/lib/python3.7/site-packages/ipykernel_launcher.py:7: SettingWithCopyWarning:\n",
      "\n",
      "\n",
      "A value is trying to be set on a copy of a slice from a DataFrame\n",
      "\n",
      "See the caveats in the documentation: http://pandas.pydata.org/pandas-docs/stable/indexing.html#indexing-view-versus-copy\n",
      "\n",
      "/Users/jerry/anaconda3/lib/python3.7/site-packages/pandas/core/series.py:942: FutureWarning:\n",
      "\n",
      "\n",
      "Passing list-likes to .loc or [] with any missing label will raise\n",
      "KeyError in the future, you can use .reindex() as an alternative.\n",
      "\n",
      "See the documentation here:\n",
      "https://pandas.pydata.org/pandas-docs/stable/indexing.html#deprecate-loc-reindex-listlike\n",
      "\n"
     ]
    },
    {
     "data": {
      "text/html": [
       "<div>\n",
       "<style scoped>\n",
       "    .dataframe tbody tr th:only-of-type {\n",
       "        vertical-align: middle;\n",
       "    }\n",
       "\n",
       "    .dataframe tbody tr th {\n",
       "        vertical-align: top;\n",
       "    }\n",
       "\n",
       "    .dataframe thead th {\n",
       "        text-align: right;\n",
       "    }\n",
       "</style>\n",
       "<table border=\"1\" class=\"dataframe\">\n",
       "  <thead>\n",
       "    <tr style=\"text-align: right;\">\n",
       "      <th></th>\n",
       "      <th>Datetime</th>\n",
       "      <th>Date</th>\n",
       "      <th>Time</th>\n",
       "      <th>year</th>\n",
       "      <th>month</th>\n",
       "      <th>day</th>\n",
       "      <th>hour</th>\n",
       "      <th>CO(GT)</th>\n",
       "      <th>NMHC(GT)</th>\n",
       "      <th>C6H6(GT)</th>\n",
       "      <th>NOx(GT)</th>\n",
       "      <th>NO2(GT)</th>\n",
       "      <th>PT08.S1(CO)</th>\n",
       "      <th>PT08.S2(NMHC)</th>\n",
       "      <th>PT08.S3(NOx)</th>\n",
       "      <th>PT08.S4(NO2)</th>\n",
       "      <th>PT08.S5(O3)</th>\n",
       "      <th>T</th>\n",
       "      <th>RH</th>\n",
       "      <th>AH</th>\n",
       "      <th>str_date</th>\n",
       "    </tr>\n",
       "  </thead>\n",
       "  <tbody>\n",
       "  </tbody>\n",
       "</table>\n",
       "</div>"
      ],
      "text/plain": [
       "Empty DataFrame\n",
       "Columns: [Datetime, Date, Time, year, month, day, hour, CO(GT), NMHC(GT), C6H6(GT), NOx(GT), NO2(GT), PT08.S1(CO), PT08.S2(NMHC), PT08.S3(NOx), PT08.S4(NO2), PT08.S5(O3), T, RH, AH, str_date]\n",
       "Index: []"
      ]
     },
     "metadata": {},
     "output_type": "display_data"
    }
   ],
   "source": [
    "## NO2 and O3\n",
    "index = (airdata[airdata['PT08.S4(NO2)'] == -200]).index.to_list()\n",
    "\n",
    "for x in index:\n",
    "    lst = [x-48,x-24,x+24,x+48]\n",
    "    airdata['PT08.S4(NO2)'][x] = (airdata['PT08.S4(NO2)'][lst]).mean()\n",
    "    airdata['PT08.S5(O3)'][x]  = (airdata['PT08.S5(O3)'][lst]).mean()\n",
    "\n",
    "display(airdata[airdata['PT08.S4(NO2)'] == -200])\n"
   ]
  },
  {
   "cell_type": "markdown",
   "metadata": {},
   "source": [
    "#### Concl. Finish the imputation, no more missing values."
   ]
  },
  {
   "cell_type": "markdown",
   "metadata": {},
   "source": [
    "### Scaling the units of PT and GT"
   ]
  },
  {
   "cell_type": "markdown",
   "metadata": {},
   "source": [
    "* As mentioned in READ.me, we need to scale the unknown unit of PT with the known unit of GT, so that we can quantify the relationship between mortality and air pollutant.\n",
    "    \n",
    "    \n",
    "* The first scatter plot shows that there have no linear relationship in PT and GT.\n",
    "    \n",
    "    \n",
    "* As we already know, the truth recording situation of PT and GT are actually at the same time but in differernt places(PT: road based in city center, GT: traditional air quality monitor station), which might lead to some time delay due to the pollutant diffusion from city center to monitor station(I have proved the pollutant are mainly caused by human activity, see the graph of hourly basis in Data Visualization).\n",
    "    \n",
    "    \n",
    "* Based on the tendency of time delay in point three, I took out the middle 50% data of GT and PT, sorted and drew the scatter plot to find the regression line, this method view the data as a range, just like the way we transform Fahrenheit and Celsius.\n",
    "    \n",
    "    \n",
    "* To be noted, the regression line need to be shifted by adding some intercepy because the concentration descent when diffusion. But I have no any reference for doing this.\n",
    "    \n",
    "    \n",
    "* The reason why we take no action to the outliers (outliers can be seen in violin plot below) is answered in Data Visualization-Daily basis."
   ]
  },
  {
   "cell_type": "code",
   "execution_count": 94,
   "metadata": {},
   "outputs": [
    {
     "data": {
      "image/png": "[encoded data removed]",
      "text/plain": [
       "<Figure size 576x504 with 1 Axes>"
      ]
     },
     "metadata": {
      "needs_background": "light"
     },
     "output_type": "display_data"
    },
    {
     "data": {
      "image/png": "[encoded data removed]",
      "text/plain": [
       "<Figure size 720x576 with 1 Axes>"
      ]
     },
     "metadata": {
      "needs_background": "light"
     },
     "output_type": "display_data"
    }
   ],
   "source": [
    "## Violin plot\n",
    "plt.figure(figsize=(8, 7))\n",
    "air_temp = airdata[['NO2(GT)','PT08.S4(NO2)']]\n",
    "air_temp = air_temp[air_temp['NO2(GT)'] > -200]\n",
    "sns.violinplot(data=air_temp, inner=\"points\")\n",
    "plt.title('Violin plot of NO2(GT) and PT08.S4(NO2) ', fontsize = 17)\n",
    "plt.ylabel('Value', fontsize = 15, labelpad = 20, rotation = 0)\n",
    "plt.yticks(np.arange(-500, 3100, 500), fontsize = 13)\n",
    "plt.xticks(fontsize = 13)\n",
    "plt.show()\n",
    "\n",
    "## Scatter plot\n",
    "air_temp = air_temp[air_temp['NO2(GT)'] > -200]\n",
    "plt.figure(figsize=(10, 8))\n",
    "sns.regplot(x=air_temp['NO2(GT)'], \n",
    "            y = air_temp['PT08.S4(NO2)'], \n",
    "            scatter_kws={'color': sns.xkcd_rgb['black']}, \n",
    "            line_kws={\"color\":\"r\"})\n",
    "plt.xlabel('Concentration of NO2(GT)', fontsize = 17, labelpad = 18)\n",
    "plt.ylabel('Concentration of PT08.S4(NO2)', fontsize = 17, labelpad = 18)\n",
    "plt.title('Scaling of NO2(GT) and PT08.S4(NO2)', fontsize = 18)\n",
    "plt.xticks(np.arange(0, 350, 50), fontsize = 14)\n",
    "plt.yticks(np.arange(500, 3000, 500), fontsize = 14)\n",
    "plt.show()\n"
   ]
  },
  {
   "cell_type": "code",
   "execution_count": 18,
   "metadata": {},
   "outputs": [
    {
     "data": {
      "image/png": "[encoded data removed]",
      "text/plain": [
       "<Figure size 720x576 with 1 Axes>"
      ]
     },
     "metadata": {
      "needs_background": "light"
     },
     "output_type": "display_data"
    },
    {
     "name": "stdout",
     "output_type": "stream",
     "text": [
      "Linear regression with coefficient:  [[0.15632704]]\n",
      "Linear regression with intercept:  [-121.11197]\n"
     ]
    }
   ],
   "source": [
    "#### Scaling PT and GT\n",
    "\n",
    "## Middle 50% (25%~75%)\n",
    "## instead of using percentage, we can only use exact amount here, because percentage won't create equal length\n",
    "air_temp = airdata[airdata['NO2(GT)'] > -200]\n",
    "air_GT = air_temp['NO2(GT)']\n",
    "air_PT = air_temp['PT08.S4(NO2)']\n",
    "\n",
    "def middle_50(series):\n",
    "    mean = series.mean()\n",
    "    \n",
    "    high = series[series > mean]\n",
    "    high = high.sort_values(ascending = False).tail(2250)\n",
    "    low = series[series <= mean]\n",
    "    low = low.sort_values(ascending = False).head(2250)\n",
    "    \n",
    "    out = pd.concat([high, low], ignore_index=True)\n",
    "    return out\n",
    "\n",
    "arranged = pd.concat([middle_50(air_GT), middle_50(air_PT)], axis=1)\n",
    "\n",
    "## Visualization\n",
    "plt.figure(figsize=(10, 8))\n",
    "sns.regplot(x=arranged['NO2(GT)'], y = arranged['PT08.S4(NO2)'], scatter_kws={'color': sns.xkcd_rgb['black']}, line_kws={\"color\":\"r\"})\n",
    "plt.xlabel('Concentration of NO2(GT)', fontsize = 17, labelpad = 18)\n",
    "plt.ylabel('Concentration of PT08.S4(NO2)', fontsize = 17, labelpad = 18)\n",
    "plt.title('Scaling of NO2(GT) and PT08.S4(NO2) with middle 50% data', fontsize = 18)\n",
    "plt.xticks(np.arange(100, 400, 50), fontsize = 14)\n",
    "plt.yticks(np.arange(1500, 3000, 500), fontsize = 14)\n",
    "plt.show()\n",
    "\n",
    "## Transform NO2\n",
    "regressor = LinearRegression()  \n",
    "regressor.fit(np.array(arranged['PT08.S4(NO2)']).reshape(-1, 1), np.array(arranged['NO2(GT)']).reshape(-1, 1))\n",
    "print('Linear regression with coefficient: ' , regressor.coef_)\n",
    "print('Linear regression with intercept: ' , regressor.intercept_)\n",
    "\n",
    "airdata['adj_NO2 (μg/m3)'] = (airdata['PT08.S4(NO2)'].apply(lambda x: x * 0.13247844 - 77.39224514))\n",
    "\n",
    "### we suppose to add intercept, because the road based is supposed to be higher than station data\n",
    "### but we have no any data to do this\n"
   ]
  },
  {
   "cell_type": "markdown",
   "metadata": {},
   "source": [
    "### Data Visualization"
   ]
  },
  {
   "cell_type": "markdown",
   "metadata": {},
   "source": [
    "#### 1. Hourly basis"
   ]
  },
  {
   "cell_type": "markdown",
   "metadata": {},
   "source": [
    "* Take out hour of top3 and min3 pollutant concentration occured in each days and make counts."
   ]
  },
  {
   "cell_type": "code",
   "execution_count": 19,
   "metadata": {},
   "outputs": [
    {
     "data": {
      "image/png": "[encoded data removed]",
      "text/plain": [
       "<Figure size 1440x1224 with 4 Axes>"
      ]
     },
     "metadata": {
      "needs_background": "light"
     },
     "output_type": "display_data"
    }
   ],
   "source": [
    "#### NO2 and O3 hour count\n",
    "temp = airdata[['str_date', 'PT08.S4(NO2)','PT08.S5(O3)','hour']][6:9342]  ## eliminate first and last days(incomplete)\n",
    "lst = temp['str_date'].drop_duplicates().to_list()\n",
    "\n",
    "datastore_N_head = []\n",
    "datastore_N_tail = []\n",
    "datastore_O_head = []\n",
    "datastore_O_tail = []\n",
    "\n",
    "for x in lst:\n",
    "    NO2 = temp[temp['str_date'] == x].sort_values(by = 'PT08.S4(NO2)', ascending = False)\n",
    "    count = NO2.head(3)['hour'].to_list()\n",
    "    datastore_N_head.extend(count)\n",
    "    count = NO2.tail(3)['hour'].to_list()\n",
    "    datastore_N_tail.extend(count)\n",
    "    \n",
    "    O3 = temp[temp['str_date'] == x].sort_values(by = 'PT08.S5(O3)', ascending = False)\n",
    "    count = O3.head(3)['hour'].to_list()\n",
    "    datastore_O_head.extend(count)\n",
    "    count = O3.tail(3)['hour'].to_list()\n",
    "    datastore_O_tail.extend(count)\n",
    "    \n",
    "def get_order(list):\n",
    "    temp = pd.DataFrame(list)\n",
    "    temp = temp.iloc[:, 0].value_counts().sort_values(ascending = False).index\n",
    "    return temp\n",
    "\n",
    "plt.figure(figsize=(20, 17))\n",
    "plt.subplots_adjust(left=0.1)\n",
    "\n",
    "plt.subplot(221)\n",
    "fig = sns.countplot(x=datastore_N_head, order = get_order(datastore_N_head), palette='inferno',edgecolor=sns.color_palette('dark',7))\n",
    "fig.set_xticklabels(fig.get_xticklabels(), fontsize = 18)\n",
    "plt.yticks(np.arange(0, 250, 50), fontsize = 14)\n",
    "plt.xlabel('Hour', fontsize = 17,  labelpad = 10)\n",
    "plt.ylabel('Count', fontsize = 17, rotation = 0, labelpad = 30)\n",
    "plt.title('Count of hour when top3 maximum NO2 observed', fontsize = 20)\n",
    "\n",
    "plt.subplot(223)\n",
    "fig = sns.countplot(x=datastore_O_head, order = get_order(datastore_O_head), palette='inferno',edgecolor=sns.color_palette('dark',7))\n",
    "fig.set_xticklabels(fig.get_xticklabels(), fontsize = 18)\n",
    "plt.yticks(np.arange(0, 250, 50), fontsize = 14)\n",
    "plt.xlabel('Hour', fontsize = 17,  labelpad = 10)\n",
    "plt.ylabel('Count', fontsize = 17, rotation = 0, labelpad = 30)\n",
    "plt.title('Count of hour when top3 maximum O3 observed', fontsize = 20)\n",
    "\n",
    "plt.subplot(222)\n",
    "fig = sns.countplot(x=datastore_N_tail, order = get_order(datastore_N_tail), palette='inferno_r', edgecolor=sns.color_palette('dark',7))\n",
    "fig.set_xticklabels(fig.get_xticklabels(), fontsize = 18)\n",
    "plt.yticks(np.arange(0, 250, 50), fontsize = 14)\n",
    "plt.xlabel('Hour', fontsize = 17,  labelpad = 10)\n",
    "plt.ylabel('')\n",
    "plt.title('Count of hour when top3 minimum NO2 observed', fontsize = 20)\n",
    "\n",
    "plt.subplot(224)\n",
    "fig = sns.countplot(x=datastore_O_tail, order = get_order(datastore_O_tail), palette='inferno_r',edgecolor=sns.color_palette('dark',7))\n",
    "fig.set_xticklabels(fig.get_xticklabels(), fontsize = 18)\n",
    "plt.yticks(np.arange(0, 250, 50), fontsize = 14)\n",
    "plt.xlabel('Hour', fontsize = 17,  labelpad = 10)\n",
    "plt.ylabel('')\n",
    "plt.title('Count of hour when top3 minimum O3 observed', fontsize = 20)\n",
    "plt.show()\n"
   ]
  },
  {
   "cell_type": "markdown",
   "metadata": {},
   "source": [
    "#### Concl. The highest concentration can be seen at rush hours for work, and the lowest concentration occured at midnight. This might infer the concentration are highly related to human activity."
   ]
  },
  {
   "cell_type": "markdown",
   "metadata": {},
   "source": [
    "#### 2. Daily basis"
   ]
  },
  {
   "cell_type": "markdown",
   "metadata": {},
   "source": [
    "* Daily max, average and min on NO2"
   ]
  },
  {
   "cell_type": "code",
   "execution_count": 121,
   "metadata": {},
   "outputs": [
    {
     "data": {
      "application/vnd.plotly.v1+json": {
       "config": {
        "linkText": "Export to plot.ly",
        "plotlyServerURL": "https://plot.ly",
        "showLink": false
       },
       "data": [
        {
         "name": "PT(NO2) Max",
         "type": "scatter",
         "x": [
          "2004/3/10",
          "2004/3/11",
          "2004/3/12",
          "2004/3/13",
          "2004/3/14",
          "2004/3/15",
          "2004/3/16",
          "2004/3/17",
          "2004/3/18",
          "2004/3/19",
          "2004/3/20",
          "2004/3/21",
          "2004/3/22",
          "2004/3/23",
          "2004/3/24",
          "2004/3/25",
          "2004/3/26",
          "2004/3/27",
          "2004/3/28",
          "2004/3/29",
          "2004/3/30",
          "2004/3/31",
          "2004/4/1",
          "2004/4/2",
          "2004/4/3",
          "2004/4/4",
          "2004/4/5",
          "2004/4/6",
          "2004/4/7",
          "2004/4/8",
          "2004/4/10",
          "2004/4/11",
          "2004/4/12",
          "2004/4/13",
          "2004/4/14",
          "2004/4/15",
          "2004/4/16",
          "2004/4/17",
          "2004/4/18",
          "2004/4/19",
          "2004/4/20",
          "2004/4/21",
          "2004/4/22",
          "2004/4/23",
          "2004/4/24",
          "2004/4/25",
          "2004/4/26",
          "2004/4/27",
          "2004/4/28",
          "2004/4/29",
          "2004/4/30",
          "2004/5/1",
          "2004/5/2",
          "2004/5/3",
          "2004/5/4",
          "2004/5/5",
          "2004/5/6",
          "2004/5/7",
          "2004/5/8",
          "2004/5/9",
          "2004/5/10",
          "2004/5/11",
          "2004/5/12",
          "2004/5/13",
          "2004/5/14",
          "2004/5/15",
          "2004/5/16",
          "2004/5/17",
          "2004/5/18",
          "2004/5/19",
          "2004/5/20",
          "2004/5/21",
          "2004/5/22",
          "2004/5/23",
          "2004/5/24",
          "2004/5/25",
          "2004/5/26",
          "2004/5/27",
          "2004/5/28",
          "2004/5/29",
          "2004/5/30",
          "2004/5/31",
          "2004/6/1",
          "2004/6/2",
          "2004/6/3",
          "2004/6/4",
          "2004/6/5",
          "2004/6/6",
          "2004/6/7",
          "2004/6/8",
          "2004/6/9",
          "2004/6/10",
          "2004/6/11",
          "2004/6/12",
          "2004/6/13",
          "2004/6/14",
          "2004/6/15",
          "2004/6/16",
          "2004/6/17",
          "2004/6/18",
          "2004/6/19",
          "2004/6/21",
          "2004/6/22",
          "2004/6/23",
          "2004/6/24",
          "2004/6/25",
          "2004/6/26",
          "2004/6/27",
          "2004/6/28",
          "2004/6/29",
          "2004/6/30",
          "2004/7/1",
          "2004/7/2",
          "2004/7/3",
          "2004/7/4",
          "2004/7/5",
          "2004/7/6",
          "2004/7/7",
          "2004/7/8",
          "2004/7/9",
          "2004/7/10",
          "2004/7/11",
          "2004/7/12",
          "2004/7/13",
          "2004/7/14",
          "2004/7/15",
          "2004/7/16",
          "2004/7/17",
          "2004/7/18",
          "2004/7/19",
          "2004/7/20",
          "2004/7/21",
          "2004/7/22",
          "2004/7/23",
          "2004/7/24",
          "2004/7/25",
          "2004/7/26",
          "2004/7/27",
          "2004/7/28",
          "2004/7/29",
          "2004/7/30",
          "2004/7/31",
          "2004/8/1",
          "2004/8/2",
          "2004/8/3",
          "2004/8/4",
          "2004/8/5",
          "2004/8/6",
          "2004/8/7",
          "2004/8/8",
          "2004/8/9",
          "2004/8/10",
          "2004/8/11",
          "2004/8/12",
          "2004/8/13",
          "2004/8/14",
          "2004/8/15",
          "2004/8/16",
          "2004/8/17",
          "2004/8/18",
          "2004/8/19",
          "2004/8/20",
          "2004/8/21",
          "2004/8/22",
          "2004/8/23",
          "2004/8/24",
          "2004/8/25",
          "2004/8/28",
          "2004/8/29",
          "2004/8/30",
          "2004/8/31",
          "2004/9/1",
          "2004/9/2",
          "2004/9/3",
          "2004/9/4",
          "2004/9/5",
          "2004/9/6",
          "2004/9/7",
          "2004/9/9",
          "2004/9/10",
          "2004/9/11",
          "2004/9/12",
          "2004/9/13",
          "2004/9/14",
          "2004/9/15",
          "2004/9/16",
          "2004/9/17",
          "2004/9/18",
          "2004/9/19",
          "2004/9/20",
          "2004/9/21",
          "2004/9/22",
          "2004/9/23",
          "2004/9/24",
          "2004/9/25",
          "2004/9/26",
          "2004/9/27",
          "2004/9/28",
          "2004/9/29",
          "2004/9/30",
          "2004/10/1",
          "2004/10/2",
          "2004/10/3",
          "2004/10/4",
          "2004/10/5",
          "2004/10/6",
          "2004/10/7",
          "2004/10/8",
          "2004/10/9",
          "2004/10/10",
          "2004/10/11",
          "2004/10/12",
          "2004/10/13",
          "2004/10/14",
          "2004/10/15",
          "2004/10/16",
          "2004/10/17",
          "2004/10/18",
          "2004/10/19",
          "2004/10/20",
          "2004/10/21",
          "2004/10/22",
          "2004/10/23",
          "2004/10/24",
          "2004/10/25",
          "2004/10/26",
          "2004/10/27",
          "2004/10/28",
          "2004/10/29",
          "2004/10/30",
          "2004/10/31",
          "2004/11/1",
          "2004/11/2",
          "2004/11/3",
          "2004/11/4",
          "2004/11/5",
          "2004/11/6",
          "2004/11/7",
          "2004/11/8",
          "2004/11/9",
          "2004/11/10",
          "2004/11/11",
          "2004/11/12",
          "2004/11/13",
          "2004/11/14",
          "2004/11/15",
          "2004/11/16",
          "2004/11/17",
          "2004/11/18",
          "2004/11/19",
          "2004/11/20",
          "2004/11/21",
          "2004/11/22",
          "2004/11/23",
          "2004/11/24",
          "2004/11/25",
          "2004/11/26",
          "2004/11/27",
          "2004/11/28",
          "2004/11/29",
          "2004/11/30",
          "2004/12/1",
          "2004/12/2",
          "2004/12/3",
          "2004/12/4",
          "2004/12/5",
          "2004/12/6",
          "2004/12/7",
          "2004/12/8",
          "2004/12/9",
          "2004/12/10",
          "2004/12/11",
          "2004/12/12",
          "2004/12/13",
          "2004/12/14",
          "2004/12/18",
          "2004/12/19",
          "2004/12/20",
          "2004/12/21",
          "2004/12/22",
          "2004/12/23",
          "2004/12/24",
          "2004/12/25",
          "2004/12/26",
          "2004/12/27",
          "2004/12/28",
          "2004/12/29",
          "2004/12/30",
          "2004/12/31",
          "2005/1/1",
          "2005/1/2",
          "2005/1/5",
          "2005/1/6",
          "2005/1/7",
          "2005/1/8",
          "2005/1/9",
          "2005/1/10",
          "2005/1/11",
          "2005/1/12",
          "2005/1/13",
          "2005/1/14",
          "2005/1/15",
          "2005/1/16",
          "2005/1/17",
          "2005/1/18",
          "2005/1/19",
          "2005/1/20",
          "2005/1/21",
          "2005/1/22",
          "2005/1/23",
          "2005/1/24",
          "2005/1/25",
          "2005/1/26",
          "2005/1/27",
          "2005/1/28",
          "2005/1/29",
          "2005/1/30",
          "2005/1/31",
          "2005/2/1",
          "2005/2/2",
          "2005/2/3",
          "2005/2/4",
          "2005/2/5",
          "2005/2/6",
          "2005/2/7",
          "2005/2/8",
          "2005/2/12",
          "2005/2/13",
          "2005/2/14",
          "2005/2/15",
          "2005/2/16",
          "2005/2/17",
          "2005/2/18",
          "2005/2/19",
          "2005/2/20",
          "2005/2/21",
          "2005/2/22",
          "2005/2/23",
          "2005/2/24",
          "2005/2/25",
          "2005/2/26",
          "2005/2/27",
          "2005/2/28",
          "2005/3/1",
          "2005/3/2",
          "2005/3/3",
          "2005/3/4",
          "2005/3/5",
          "2005/3/6",
          "2005/3/7",
          "2005/3/8",
          "2005/3/9",
          "2005/3/10",
          "2005/3/11",
          "2005/3/12",
          "2005/3/13",
          "2005/3/14",
          "2005/3/15",
          "2005/3/16",
          "2005/3/17",
          "2005/3/18",
          "2005/3/19",
          "2005/3/20",
          "2005/3/21",
          "2005/3/22",
          "2005/3/23",
          "2005/3/24",
          "2005/3/25",
          "2005/3/26",
          "2005/3/27",
          "2005/3/28",
          "2005/3/29",
          "2005/3/30",
          "2005/3/31",
          "2005/4/1",
          "2005/4/2",
          "2005/4/3",
          "2005/4/4"
         ],
         "y": [
          1692,
          2332,
          2390,
          1922,
          2104,
          2680,
          2212,
          2536,
          2468,
          2456,
          1919,
          1874,
          1996,
          2096,
          2080,
          2060,
          1928,
          1633,
          1514,
          1806,
          1947,
          1957,
          2440,
          2084,
          2152,
          1756,
          2300,
          2560,
          1821,
          2188,
          1663,
          1425,
          1384,
          2056,
          2278,
          2446,
          2298,
          1706,
          1824,
          1976,
          2396,
          2684,
          2238,
          2416,
          1970,
          1654,
          1685,
          2100,
          2396,
          2572,
          2356,
          1936,
          1853,
          2400,
          2306,
          2264,
          2029,
          2096,
          1829,
          1625,
          2616,
          2424,
          2668,
          2102,
          2326,
          1774,
          1820,
          1735,
          2604,
          2544,
          2504,
          2276,
          1965,
          2108,
          1416,
          1859,
          1877,
          2336,
          2008,
          1707,
          1652,
          2120,
          2486,
          1965,
          2180,
          2058,
          1970,
          1739,
          2280,
          2746,
          2692,
          2524,
          2396,
          1870,
          1729,
          1820,
          2320,
          2530,
          2384,
          2450,
          1921,
          2138,
          2394,
          2210,
          2176,
          1968,
          1938,
          1830,
          2568,
          2622,
          2484,
          2336,
          2560,
          1885,
          1840,
          2312,
          2460,
          2304,
          2372,
          1996,
          1792,
          1713,
          2084,
          2244,
          2356,
          2240,
          2276,
          1675,
          1635,
          2234,
          2644,
          2404,
          2662,
          2284,
          1897,
          1760,
          1931,
          1724,
          2112,
          2180,
          2322,
          1957,
          1798,
          2128,
          2256,
          2404,
          2015,
          2192,
          1838,
          1791,
          2005,
          2114,
          1904,
          2019,
          1818,
          1639,
          1562,
          1624,
          1850,
          1693,
          1759,
          1931,
          1563,
          1549,
          1766,
          1678,
          2144,
          1690,
          1807,
          2380,
          2232,
          2556,
          2366,
          2536,
          1697,
          2052,
          1669,
          1957,
          1920,
          1975,
          1702,
          2260,
          2374,
          2382,
          2408,
          2194,
          1708,
          1563,
          1816,
          2338,
          2532,
          2400,
          2076,
          2430,
          1473,
          1413,
          1973,
          2164,
          2088,
          2364,
          2338,
          1954,
          1929,
          2612,
          2472,
          2552,
          2464,
          2204,
          2064,
          1812,
          2072,
          1650,
          1454,
          1907,
          1942,
          1569,
          1495,
          2356,
          2316,
          2596,
          2404,
          2486,
          2016,
          1971,
          2640,
          2776,
          2120,
          2272,
          2124,
          2015,
          2276,
          1942,
          2644,
          1959,
          2608,
          2484,
          1794,
          1354,
          1778,
          1605,
          1636,
          2032,
          1735,
          1627,
          1051,
          1305,
          1694,
          2236,
          1852,
          2040,
          1380,
          1193,
          1917,
          2562,
          2066,
          1576,
          2338,
          1871,
          1543,
          1988,
          1939,
          1972,
          2404,
          2176,
          1539,
          1385,
          2018,
          1638,
          1524,
          1301,
          1256,
          1206,
          1650,
          2272,
          1961,
          1448,
          1453,
          1250,
          1453,
          1163,
          1832,
          1624,
          1689,
          1531,
          1417,
          1808,
          1175,
          1152,
          1052,
          1344,
          1290,
          1790,
          1419,
          1652,
          1701,
          1669,
          1804,
          1855,
          1902,
          1811,
          1750,
          1524,
          1257,
          1964,
          1733,
          1298,
          1594,
          2084,
          1524,
          1220,
          1210,
          1040,
          1073,
          1049,
          1055,
          861,
          825,
          1557,
          1492,
          1641,
          1870,
          1472,
          1198,
          979,
          1067,
          1268,
          1712,
          1541,
          1257,
          1141,
          1542,
          1246,
          1333,
          1203,
          1124,
          1682,
          1789,
          1331,
          1522,
          1868,
          1224,
          1230,
          885,
          935,
          1325,
          1539,
          1848,
          1284,
          1220,
          1148,
          1599,
          1747,
          1620,
          1661,
          1415,
          1520,
          1937,
          2028,
          1809,
          1808,
          1822,
          1550,
          1518,
          2148,
          1945,
          1975,
          2144,
          2008,
          1534,
          1393,
          1432,
          2005,
          1639,
          1860,
          1158,
          958,
          1289,
          1777
         ]
        },
        {
         "name": "PT(NO2) Mean",
         "type": "scatter",
         "x": [
          "2004/3/10",
          "2004/3/11",
          "2004/3/12",
          "2004/3/13",
          "2004/3/14",
          "2004/3/15",
          "2004/3/16",
          "2004/3/17",
          "2004/3/18",
          "2004/3/19",
          "2004/3/20",
          "2004/3/21",
          "2004/3/22",
          "2004/3/23",
          "2004/3/24",
          "2004/3/25",
          "2004/3/26",
          "2004/3/27",
          "2004/3/28",
          "2004/3/29",
          "2004/3/30",
          "2004/3/31",
          "2004/4/1",
          "2004/4/2",
          "2004/4/3",
          "2004/4/4",
          "2004/4/5",
          "2004/4/6",
          "2004/4/7",
          "2004/4/8",
          "2004/4/10",
          "2004/4/11",
          "2004/4/12",
          "2004/4/13",
          "2004/4/14",
          "2004/4/15",
          "2004/4/16",
          "2004/4/17",
          "2004/4/18",
          "2004/4/19",
          "2004/4/20",
          "2004/4/21",
          "2004/4/22",
          "2004/4/23",
          "2004/4/24",
          "2004/4/25",
          "2004/4/26",
          "2004/4/27",
          "2004/4/28",
          "2004/4/29",
          "2004/4/30",
          "2004/5/1",
          "2004/5/2",
          "2004/5/3",
          "2004/5/4",
          "2004/5/5",
          "2004/5/6",
          "2004/5/7",
          "2004/5/8",
          "2004/5/9",
          "2004/5/10",
          "2004/5/11",
          "2004/5/12",
          "2004/5/13",
          "2004/5/14",
          "2004/5/15",
          "2004/5/16",
          "2004/5/17",
          "2004/5/18",
          "2004/5/19",
          "2004/5/20",
          "2004/5/21",
          "2004/5/22",
          "2004/5/23",
          "2004/5/24",
          "2004/5/25",
          "2004/5/26",
          "2004/5/27",
          "2004/5/28",
          "2004/5/29",
          "2004/5/30",
          "2004/5/31",
          "2004/6/1",
          "2004/6/2",
          "2004/6/3",
          "2004/6/4",
          "2004/6/5",
          "2004/6/6",
          "2004/6/7",
          "2004/6/8",
          "2004/6/9",
          "2004/6/10",
          "2004/6/11",
          "2004/6/12",
          "2004/6/13",
          "2004/6/14",
          "2004/6/15",
          "2004/6/16",
          "2004/6/17",
          "2004/6/18",
          "2004/6/19",
          "2004/6/21",
          "2004/6/22",
          "2004/6/23",
          "2004/6/24",
          "2004/6/25",
          "2004/6/26",
          "2004/6/27",
          "2004/6/28",
          "2004/6/29",
          "2004/6/30",
          "2004/7/1",
          "2004/7/2",
          "2004/7/3",
          "2004/7/4",
          "2004/7/5",
          "2004/7/6",
          "2004/7/7",
          "2004/7/8",
          "2004/7/9",
          "2004/7/10",
          "2004/7/11",
          "2004/7/12",
          "2004/7/13",
          "2004/7/14",
          "2004/7/15",
          "2004/7/16",
          "2004/7/17",
          "2004/7/18",
          "2004/7/19",
          "2004/7/20",
          "2004/7/21",
          "2004/7/22",
          "2004/7/23",
          "2004/7/24",
          "2004/7/25",
          "2004/7/26",
          "2004/7/27",
          "2004/7/28",
          "2004/7/29",
          "2004/7/30",
          "2004/7/31",
          "2004/8/1",
          "2004/8/2",
          "2004/8/3",
          "2004/8/4",
          "2004/8/5",
          "2004/8/6",
          "2004/8/7",
          "2004/8/8",
          "2004/8/9",
          "2004/8/10",
          "2004/8/11",
          "2004/8/12",
          "2004/8/13",
          "2004/8/14",
          "2004/8/15",
          "2004/8/16",
          "2004/8/17",
          "2004/8/18",
          "2004/8/19",
          "2004/8/20",
          "2004/8/21",
          "2004/8/22",
          "2004/8/23",
          "2004/8/24",
          "2004/8/25",
          "2004/8/28",
          "2004/8/29",
          "2004/8/30",
          "2004/8/31",
          "2004/9/1",
          "2004/9/2",
          "2004/9/3",
          "2004/9/4",
          "2004/9/5",
          "2004/9/6",
          "2004/9/7",
          "2004/9/9",
          "2004/9/10",
          "2004/9/11",
          "2004/9/12",
          "2004/9/13",
          "2004/9/14",
          "2004/9/15",
          "2004/9/16",
          "2004/9/17",
          "2004/9/18",
          "2004/9/19",
          "2004/9/20",
          "2004/9/21",
          "2004/9/22",
          "2004/9/23",
          "2004/9/24",
          "2004/9/25",
          "2004/9/26",
          "2004/9/27",
          "2004/9/28",
          "2004/9/29",
          "2004/9/30",
          "2004/10/1",
          "2004/10/2",
          "2004/10/3",
          "2004/10/4",
          "2004/10/5",
          "2004/10/6",
          "2004/10/7",
          "2004/10/8",
          "2004/10/9",
          "2004/10/10",
          "2004/10/11",
          "2004/10/12",
          "2004/10/13",
          "2004/10/14",
          "2004/10/15",
          "2004/10/16",
          "2004/10/17",
          "2004/10/18",
          "2004/10/19",
          "2004/10/20",
          "2004/10/21",
          "2004/10/22",
          "2004/10/23",
          "2004/10/24",
          "2004/10/25",
          "2004/10/26",
          "2004/10/27",
          "2004/10/28",
          "2004/10/29",
          "2004/10/30",
          "2004/10/31",
          "2004/11/1",
          "2004/11/2",
          "2004/11/3",
          "2004/11/4",
          "2004/11/5",
          "2004/11/6",
          "2004/11/7",
          "2004/11/8",
          "2004/11/9",
          "2004/11/10",
          "2004/11/11",
          "2004/11/12",
          "2004/11/13",
          "2004/11/14",
          "2004/11/15",
          "2004/11/16",
          "2004/11/17",
          "2004/11/18",
          "2004/11/19",
          "2004/11/20",
          "2004/11/21",
          "2004/11/22",
          "2004/11/23",
          "2004/11/24",
          "2004/11/25",
          "2004/11/26",
          "2004/11/27",
          "2004/11/28",
          "2004/11/29",
          "2004/11/30",
          "2004/12/1",
          "2004/12/2",
          "2004/12/3",
          "2004/12/4",
          "2004/12/5",
          "2004/12/6",
          "2004/12/7",
          "2004/12/8",
          "2004/12/9",
          "2004/12/10",
          "2004/12/11",
          "2004/12/12",
          "2004/12/13",
          "2004/12/14",
          "2004/12/18",
          "2004/12/19",
          "2004/12/20",
          "2004/12/21",
          "2004/12/22",
          "2004/12/23",
          "2004/12/24",
          "2004/12/25",
          "2004/12/26",
          "2004/12/27",
          "2004/12/28",
          "2004/12/29",
          "2004/12/30",
          "2004/12/31",
          "2005/1/1",
          "2005/1/2",
          "2005/1/5",
          "2005/1/6",
          "2005/1/7",
          "2005/1/8",
          "2005/1/9",
          "2005/1/10",
          "2005/1/11",
          "2005/1/12",
          "2005/1/13",
          "2005/1/14",
          "2005/1/15",
          "2005/1/16",
          "2005/1/17",
          "2005/1/18",
          "2005/1/19",
          "2005/1/20",
          "2005/1/21",
          "2005/1/22",
          "2005/1/23",
          "2005/1/24",
          "2005/1/25",
          "2005/1/26",
          "2005/1/27",
          "2005/1/28",
          "2005/1/29",
          "2005/1/30",
          "2005/1/31",
          "2005/2/1",
          "2005/2/2",
          "2005/2/3",
          "2005/2/4",
          "2005/2/5",
          "2005/2/6",
          "2005/2/7",
          "2005/2/8",
          "2005/2/12",
          "2005/2/13",
          "2005/2/14",
          "2005/2/15",
          "2005/2/16",
          "2005/2/17",
          "2005/2/18",
          "2005/2/19",
          "2005/2/20",
          "2005/2/21",
          "2005/2/22",
          "2005/2/23",
          "2005/2/24",
          "2005/2/25",
          "2005/2/26",
          "2005/2/27",
          "2005/2/28",
          "2005/3/1",
          "2005/3/2",
          "2005/3/3",
          "2005/3/4",
          "2005/3/5",
          "2005/3/6",
          "2005/3/7",
          "2005/3/8",
          "2005/3/9",
          "2005/3/10",
          "2005/3/11",
          "2005/3/12",
          "2005/3/13",
          "2005/3/14",
          "2005/3/15",
          "2005/3/16",
          "2005/3/17",
          "2005/3/18",
          "2005/3/19",
          "2005/3/20",
          "2005/3/21",
          "2005/3/22",
          "2005/3/23",
          "2005/3/24",
          "2005/3/25",
          "2005/3/26",
          "2005/3/27",
          "2005/3/28",
          "2005/3/29",
          "2005/3/30",
          "2005/3/31",
          "2005/4/1",
          "2005/4/2",
          "2005/4/3",
          "2005/4/4"
         ],
         "y": [
          1546,
          1523,
          1627,
          1596,
          1602,
          1889,
          1727,
          1741,
          1703,
          1745,
          1609,
          1602,
          1595,
          1557,
          1542,
          1495,
          1458,
          1426,
          1348,
          1276,
          1447,
          1514,
          1640,
          1709,
          1659,
          1562,
          1704,
          1664,
          1470,
          1594,
          1468,
          1266,
          1218,
          1542,
          1582,
          1732,
          1793,
          1553,
          1559,
          1587,
          1739,
          1725,
          1683,
          1802,
          1668,
          1267,
          1368,
          1581,
          1784,
          1873,
          1917,
          1640,
          1575,
          1725,
          1796,
          1738,
          1608,
          1601,
          1505,
          1520,
          1748,
          1804,
          1799,
          1682,
          1669,
          1498,
          1443,
          1395,
          1648,
          1703,
          1725,
          1680,
          1707,
          1532,
          1246,
          1398,
          1455,
          1616,
          1622,
          1407,
          1384,
          1663,
          1881,
          1698,
          1729,
          1643,
          1660,
          1516,
          1756,
          1861,
          1873,
          1880,
          1732,
          1617,
          1395,
          1494,
          1744,
          1787,
          1795,
          1800,
          1690,
          1621,
          1766,
          1815,
          1722,
          1680,
          1568,
          1594,
          1798,
          1919,
          1898,
          1854,
          1758,
          1564,
          1527,
          1691,
          1778,
          1770,
          1778,
          1642,
          1488,
          1448,
          1582,
          1628,
          1648,
          1665,
          1643,
          1506,
          1417,
          1661,
          1746,
          1732,
          1831,
          1780,
          1641,
          1515,
          1607,
          1510,
          1551,
          1596,
          1745,
          1660,
          1559,
          1709,
          1768,
          1698,
          1684,
          1804,
          1608,
          1576,
          1686,
          1706,
          1700,
          1684,
          1559,
          1503,
          1406,
          1410,
          1484,
          1551,
          1611,
          1610,
          1383,
          1381,
          1413,
          1469,
          1596,
          1464,
          1531,
          1672,
          1685,
          1684,
          1675,
          1690,
          1512,
          1289,
          1391,
          1469,
          1460,
          1447,
          1427,
          1570,
          1776,
          1716,
          1847,
          1657,
          1440,
          1332,
          1493,
          1660,
          1726,
          1728,
          1703,
          1653,
          1184,
          1243,
          1393,
          1512,
          1540,
          1658,
          1759,
          1598,
          1525,
          1729,
          1763,
          1736,
          1744,
          1726,
          1724,
          1548,
          1673,
          1380,
          1232,
          1400,
          1596,
          1353,
          1315,
          1635,
          1744,
          1959,
          1831,
          1800,
          1667,
          1546,
          1827,
          1805,
          1639,
          1610,
          1614,
          1660,
          1601,
          1706,
          1894,
          1619,
          1748,
          1682,
          1501,
          1114,
          1156,
          1233,
          1211,
          1416,
          1311,
          1304,
          875.5,
          1011,
          1148,
          1321,
          1419,
          1422,
          954,
          992,
          1333,
          1731,
          1518,
          1322,
          1629,
          1563,
          1237,
          1401,
          1396,
          1449,
          1640,
          1643,
          1372,
          1176,
          1420,
          1370,
          1259,
          1140,
          975.5,
          1024,
          1185,
          1359,
          1407,
          1061,
          1118,
          1015,
          976.5,
          961,
          1221,
          1356,
          1389,
          1216,
          1215,
          1294,
          1059,
          933.5,
          915,
          1033,
          1053,
          1414,
          1227,
          1306,
          1305,
          1258,
          1483,
          1450,
          1489,
          1367,
          1365,
          1210,
          948.5,
          1163,
          1306,
          1072,
          1137,
          1406,
          1284,
          999,
          977.5,
          869.5,
          873,
          871,
          883.5,
          808.5,
          764,
          1001.5,
          1184,
          1132,
          1212,
          1082,
          927,
          822,
          873,
          897.5,
          1369,
          1323,
          1021,
          881,
          1052,
          1001,
          1012.5,
          998,
          987,
          1179,
          1183,
          1113,
          1220,
          1212,
          999,
          925.5,
          750,
          699,
          874.5,
          1162,
          1282,
          1054,
          894,
          866.5,
          1049,
          1237,
          1167,
          1198,
          1147,
          1149,
          1344,
          1325,
          1299,
          1282,
          1319,
          1278,
          1204,
          1426,
          1365,
          1425,
          1452,
          1560,
          1407,
          1305,
          1281,
          1430,
          1329,
          1177,
          943,
          864.5,
          985,
          1195
         ]
        },
        {
         "marker": {
          "color": "#851e52"
         },
         "name": "PT(NO2) Min",
         "type": "scatter",
         "x": [
          "2004/3/10",
          "2004/3/11",
          "2004/3/12",
          "2004/3/13",
          "2004/3/14",
          "2004/3/15",
          "2004/3/16",
          "2004/3/17",
          "2004/3/18",
          "2004/3/19",
          "2004/3/20",
          "2004/3/21",
          "2004/3/22",
          "2004/3/23",
          "2004/3/24",
          "2004/3/25",
          "2004/3/26",
          "2004/3/27",
          "2004/3/28",
          "2004/3/29",
          "2004/3/30",
          "2004/3/31",
          "2004/4/1",
          "2004/4/2",
          "2004/4/3",
          "2004/4/4",
          "2004/4/5",
          "2004/4/6",
          "2004/4/7",
          "2004/4/8",
          "2004/4/10",
          "2004/4/11",
          "2004/4/12",
          "2004/4/13",
          "2004/4/14",
          "2004/4/15",
          "2004/4/16",
          "2004/4/17",
          "2004/4/18",
          "2004/4/19",
          "2004/4/20",
          "2004/4/21",
          "2004/4/22",
          "2004/4/23",
          "2004/4/24",
          "2004/4/25",
          "2004/4/26",
          "2004/4/27",
          "2004/4/28",
          "2004/4/29",
          "2004/4/30",
          "2004/5/1",
          "2004/5/2",
          "2004/5/3",
          "2004/5/4",
          "2004/5/5",
          "2004/5/6",
          "2004/5/7",
          "2004/5/8",
          "2004/5/9",
          "2004/5/10",
          "2004/5/11",
          "2004/5/12",
          "2004/5/13",
          "2004/5/14",
          "2004/5/15",
          "2004/5/16",
          "2004/5/17",
          "2004/5/18",
          "2004/5/19",
          "2004/5/20",
          "2004/5/21",
          "2004/5/22",
          "2004/5/23",
          "2004/5/24",
          "2004/5/25",
          "2004/5/26",
          "2004/5/27",
          "2004/5/28",
          "2004/5/29",
          "2004/5/30",
          "2004/5/31",
          "2004/6/1",
          "2004/6/2",
          "2004/6/3",
          "2004/6/4",
          "2004/6/5",
          "2004/6/6",
          "2004/6/7",
          "2004/6/8",
          "2004/6/9",
          "2004/6/10",
          "2004/6/11",
          "2004/6/12",
          "2004/6/13",
          "2004/6/14",
          "2004/6/15",
          "2004/6/16",
          "2004/6/17",
          "2004/6/18",
          "2004/6/19",
          "2004/6/21",
          "2004/6/22",
          "2004/6/23",
          "2004/6/24",
          "2004/6/25",
          "2004/6/26",
          "2004/6/27",
          "2004/6/28",
          "2004/6/29",
          "2004/6/30",
          "2004/7/1",
          "2004/7/2",
          "2004/7/3",
          "2004/7/4",
          "2004/7/5",
          "2004/7/6",
          "2004/7/7",
          "2004/7/8",
          "2004/7/9",
          "2004/7/10",
          "2004/7/11",
          "2004/7/12",
          "2004/7/13",
          "2004/7/14",
          "2004/7/15",
          "2004/7/16",
          "2004/7/17",
          "2004/7/18",
          "2004/7/19",
          "2004/7/20",
          "2004/7/21",
          "2004/7/22",
          "2004/7/23",
          "2004/7/24",
          "2004/7/25",
          "2004/7/26",
          "2004/7/27",
          "2004/7/28",
          "2004/7/29",
          "2004/7/30",
          "2004/7/31",
          "2004/8/1",
          "2004/8/2",
          "2004/8/3",
          "2004/8/4",
          "2004/8/5",
          "2004/8/6",
          "2004/8/7",
          "2004/8/8",
          "2004/8/9",
          "2004/8/10",
          "2004/8/11",
          "2004/8/12",
          "2004/8/13",
          "2004/8/14",
          "2004/8/15",
          "2004/8/16",
          "2004/8/17",
          "2004/8/18",
          "2004/8/19",
          "2004/8/20",
          "2004/8/21",
          "2004/8/22",
          "2004/8/23",
          "2004/8/24",
          "2004/8/25",
          "2004/8/28",
          "2004/8/29",
          "2004/8/30",
          "2004/8/31",
          "2004/9/1",
          "2004/9/2",
          "2004/9/3",
          "2004/9/4",
          "2004/9/5",
          "2004/9/6",
          "2004/9/7",
          "2004/9/9",
          "2004/9/10",
          "2004/9/11",
          "2004/9/12",
          "2004/9/13",
          "2004/9/14",
          "2004/9/15",
          "2004/9/16",
          "2004/9/17",
          "2004/9/18",
          "2004/9/19",
          "2004/9/20",
          "2004/9/21",
          "2004/9/22",
          "2004/9/23",
          "2004/9/24",
          "2004/9/25",
          "2004/9/26",
          "2004/9/27",
          "2004/9/28",
          "2004/9/29",
          "2004/9/30",
          "2004/10/1",
          "2004/10/2",
          "2004/10/3",
          "2004/10/4",
          "2004/10/5",
          "2004/10/6",
          "2004/10/7",
          "2004/10/8",
          "2004/10/9",
          "2004/10/10",
          "2004/10/11",
          "2004/10/12",
          "2004/10/13",
          "2004/10/14",
          "2004/10/15",
          "2004/10/16",
          "2004/10/17",
          "2004/10/18",
          "2004/10/19",
          "2004/10/20",
          "2004/10/21",
          "2004/10/22",
          "2004/10/23",
          "2004/10/24",
          "2004/10/25",
          "2004/10/26",
          "2004/10/27",
          "2004/10/28",
          "2004/10/29",
          "2004/10/30",
          "2004/10/31",
          "2004/11/1",
          "2004/11/2",
          "2004/11/3",
          "2004/11/4",
          "2004/11/5",
          "2004/11/6",
          "2004/11/7",
          "2004/11/8",
          "2004/11/9",
          "2004/11/10",
          "2004/11/11",
          "2004/11/12",
          "2004/11/13",
          "2004/11/14",
          "2004/11/15",
          "2004/11/16",
          "2004/11/17",
          "2004/11/18",
          "2004/11/19",
          "2004/11/20",
          "2004/11/21",
          "2004/11/22",
          "2004/11/23",
          "2004/11/24",
          "2004/11/25",
          "2004/11/26",
          "2004/11/27",
          "2004/11/28",
          "2004/11/29",
          "2004/11/30",
          "2004/12/1",
          "2004/12/2",
          "2004/12/3",
          "2004/12/4",
          "2004/12/5",
          "2004/12/6",
          "2004/12/7",
          "2004/12/8",
          "2004/12/9",
          "2004/12/10",
          "2004/12/11",
          "2004/12/12",
          "2004/12/13",
          "2004/12/14",
          "2004/12/18",
          "2004/12/19",
          "2004/12/20",
          "2004/12/21",
          "2004/12/22",
          "2004/12/23",
          "2004/12/24",
          "2004/12/25",
          "2004/12/26",
          "2004/12/27",
          "2004/12/28",
          "2004/12/29",
          "2004/12/30",
          "2004/12/31",
          "2005/1/1",
          "2005/1/2",
          "2005/1/5",
          "2005/1/6",
          "2005/1/7",
          "2005/1/8",
          "2005/1/9",
          "2005/1/10",
          "2005/1/11",
          "2005/1/12",
          "2005/1/13",
          "2005/1/14",
          "2005/1/15",
          "2005/1/16",
          "2005/1/17",
          "2005/1/18",
          "2005/1/19",
          "2005/1/20",
          "2005/1/21",
          "2005/1/22",
          "2005/1/23",
          "2005/1/24",
          "2005/1/25",
          "2005/1/26",
          "2005/1/27",
          "2005/1/28",
          "2005/1/29",
          "2005/1/30",
          "2005/1/31",
          "2005/2/1",
          "2005/2/2",
          "2005/2/3",
          "2005/2/4",
          "2005/2/5",
          "2005/2/6",
          "2005/2/7",
          "2005/2/8",
          "2005/2/12",
          "2005/2/13",
          "2005/2/14",
          "2005/2/15",
          "2005/2/16",
          "2005/2/17",
          "2005/2/18",
          "2005/2/19",
          "2005/2/20",
          "2005/2/21",
          "2005/2/22",
          "2005/2/23",
          "2005/2/24",
          "2005/2/25",
          "2005/2/26",
          "2005/2/27",
          "2005/2/28",
          "2005/3/1",
          "2005/3/2",
          "2005/3/3",
          "2005/3/4",
          "2005/3/5",
          "2005/3/6",
          "2005/3/7",
          "2005/3/8",
          "2005/3/9",
          "2005/3/10",
          "2005/3/11",
          "2005/3/12",
          "2005/3/13",
          "2005/3/14",
          "2005/3/15",
          "2005/3/16",
          "2005/3/17",
          "2005/3/18",
          "2005/3/19",
          "2005/3/20",
          "2005/3/21",
          "2005/3/22",
          "2005/3/23",
          "2005/3/24",
          "2005/3/25",
          "2005/3/26",
          "2005/3/27",
          "2005/3/28",
          "2005/3/29",
          "2005/3/30",
          "2005/3/31",
          "2005/4/1",
          "2005/4/2",
          "2005/4/3",
          "2005/4/4"
         ],
         "y": [
          1393,
          1182,
          1134,
          1268,
          1333,
          1464,
          1348,
          1268,
          1307,
          1260,
          1332,
          1390,
          1274,
          1212,
          1255,
          1158,
          1219,
          1212,
          1189,
          1071,
          1050,
          1064,
          1193,
          1342,
          1380,
          1423,
          1278,
          1336,
          1154,
          1263,
          1238,
          1076,
          955,
          1171,
          1275,
          1216,
          1387,
          1429,
          1396,
          1391,
          1277,
          1319,
          1316,
          1314,
          1365,
          1098,
          1091,
          1197,
          1321,
          1382,
          1554,
          1434,
          1426,
          1351,
          1465,
          1294,
          1292,
          1364,
          1202,
          1303,
          1318,
          1317,
          1403,
          1252,
          1463,
          1271,
          1235,
          1110,
          1233,
          1297,
          1317,
          1319,
          1374,
          1346,
          1089,
          1048,
          1175,
          1232,
          1309,
          1266,
          1210,
          1254,
          1413,
          1523,
          1362,
          1318,
          1463,
          1303,
          1386,
          1400,
          1501,
          1488,
          1403,
          1349,
          1286,
          1227,
          1321,
          1462,
          1473,
          1404,
          1472,
          1367,
          1343,
          1396,
          1528,
          1427,
          1314,
          1285,
          1438,
          1480,
          1558,
          1536,
          1500,
          1371,
          1270,
          1387,
          1410,
          1362,
          1443,
          1432,
          1303,
          1272,
          1303,
          1315,
          1334,
          1303,
          1291,
          1282,
          1234,
          1317,
          1440,
          1421,
          1527,
          1500,
          1475,
          1403,
          1396,
          1355,
          1283,
          1259,
          1477,
          1418,
          1270,
          1418,
          1428,
          1489,
          1482,
          1567,
          1390,
          1433,
          1511,
          1385,
          1526,
          1561,
          1332,
          1339,
          1204,
          1244,
          1317,
          1379,
          1444,
          1353,
          1300,
          1084,
          1258,
          1208,
          1346,
          1255,
          1343,
          1328,
          1347,
          1378,
          1312,
          1316,
          1351,
          1060,
          1189,
          1258,
          1108,
          1213,
          1190,
          1299,
          1436,
          1375,
          1405,
          1421,
          1234,
          1189,
          1256,
          1281,
          1246,
          1302,
          1336,
          1129,
          1059,
          1098,
          1178,
          1080,
          1134,
          1143,
          1326,
          1384,
          1370,
          1322,
          1260,
          1285,
          1321,
          1317,
          1447,
          1406,
          1302,
          1161,
          1050,
          1061,
          1241,
          1162,
          1171,
          1158,
          1303,
          1508,
          1420,
          1355,
          1341,
          1359,
          1315,
          1277,
          1343,
          1268,
          1276,
          1367,
          1295,
          1525,
          1289,
          1253,
          1218,
          1180,
          1172,
          963,
          895,
          938,
          925,
          1136,
          1054,
          1026,
          779,
          800,
          866,
          910,
          1035,
          709,
          697,
          859,
          874,
          1158,
          1138,
          1147,
          1153,
          1272,
          1025,
          1143,
          1109,
          1064,
          1150,
          1215,
          1246,
          1042,
          1071,
          1091,
          1097,
          946,
          787,
          853,
          953,
          919,
          1007,
          682,
          834,
          783,
          698,
          770,
          807,
          1079,
          1246,
          1062,
          978,
          961,
          932,
          810,
          778,
          897,
          934,
          1158,
          1054,
          993,
          1029,
          1074,
          1122,
          1106,
          1139,
          1054,
          1036,
          940,
          809,
          833,
          869,
          918,
          863,
          992,
          972,
          810,
          779,
          726,
          720,
          727,
          779,
          734,
          709,
          657,
          894,
          920,
          870,
          920,
          807,
          753,
          726,
          748,
          1051,
          1032,
          857,
          738,
          880,
          794,
          794,
          860,
          881,
          910,
          908,
          894,
          960,
          1025,
          855,
          791,
          621,
          551,
          601,
          884,
          912,
          866,
          782,
          708,
          807,
          873,
          901,
          864,
          1027,
          908,
          1084,
          1002,
          1008,
          983,
          1002,
          1079,
          1033,
          1110,
          1046,
          1143,
          1043,
          1190,
          1264,
          1211,
          1195,
          1087,
          1043,
          992,
          778,
          742,
          872,
          958
         ]
        }
       ],
       "layout": {
        "height": 500,
        "legend": {
         "orientation": "v"
        },
        "template": {
         "data": {
          "bar": [
           {
            "error_x": {
             "color": "#2a3f5f"
            },
            "error_y": {
             "color": "#2a3f5f"
            },
            "marker": {
             "line": {
              "color": "#E5ECF6",
              "width": 0.5
             }
            },
            "type": "bar"
           }
          ],
          "barpolar": [
           {
            "marker": {
             "line": {
              "color": "#E5ECF6",
              "width": 0.5
             }
            },
            "type": "barpolar"
           }
          ],
          "carpet": [
           {
            "aaxis": {
             "endlinecolor": "#2a3f5f",
             "gridcolor": "white",
             "linecolor": "white",
             "minorgridcolor": "white",
             "startlinecolor": "#2a3f5f"
            },
            "baxis": {
             "endlinecolor": "#2a3f5f",
             "gridcolor": "white",
             "linecolor": "white",
             "minorgridcolor": "white",
             "startlinecolor": "#2a3f5f"
            },
            "type": "carpet"
           }
          ],
          "choropleth": [
           {
            "colorbar": {
             "outlinewidth": 0,
             "ticks": ""
            },
            "type": "choropleth"
           }
          ],
          "contour": [
           {
            "colorbar": {
             "outlinewidth": 0,
             "ticks": ""
            },
            "colorscale": [
             [
              0,
              "#0d0887"
             ],
             [
              0.1111111111111111,
              "#46039f"
             ],
             [
              0.2222222222222222,
              "#7201a8"
             ],
             [
              0.3333333333333333,
              "#9c179e"
             ],
             [
              0.4444444444444444,
              "#bd3786"
             ],
             [
              0.5555555555555556,
              "#d8576b"
             ],
             [
              0.6666666666666666,
              "#ed7953"
             ],
             [
              0.7777777777777778,
              "#fb9f3a"
             ],
             [
              0.8888888888888888,
              "#fdca26"
             ],
             [
              1,
              "#f0f921"
             ]
            ],
            "type": "contour"
           }
          ],
          "contourcarpet": [
           {
            "colorbar": {
             "outlinewidth": 0,
             "ticks": ""
            },
            "type": "contourcarpet"
           }
          ],
          "heatmap": [
           {
            "colorbar": {
             "outlinewidth": 0,
             "ticks": ""
            },
            "colorscale": [
             [
              0,
              "#0d0887"
             ],
             [
              0.1111111111111111,
              "#46039f"
             ],
             [
              0.2222222222222222,
              "#7201a8"
             ],
             [
              0.3333333333333333,
              "#9c179e"
             ],
             [
              0.4444444444444444,
              "#bd3786"
             ],
             [
              0.5555555555555556,
              "#d8576b"
             ],
             [
              0.6666666666666666,
              "#ed7953"
             ],
             [
              0.7777777777777778,
              "#fb9f3a"
             ],
             [
              0.8888888888888888,
              "#fdca26"
             ],
             [
              1,
              "#f0f921"
             ]
            ],
            "type": "heatmap"
           }
          ],
          "heatmapgl": [
           {
            "colorbar": {
             "outlinewidth": 0,
             "ticks": ""
            },
            "colorscale": [
             [
              0,
              "#0d0887"
             ],
             [
              0.1111111111111111,
              "#46039f"
             ],
             [
              0.2222222222222222,
              "#7201a8"
             ],
             [
              0.3333333333333333,
              "#9c179e"
             ],
             [
              0.4444444444444444,
              "#bd3786"
             ],
             [
              0.5555555555555556,
              "#d8576b"
             ],
             [
              0.6666666666666666,
              "#ed7953"
             ],
             [
              0.7777777777777778,
              "#fb9f3a"
             ],
             [
              0.8888888888888888,
              "#fdca26"
             ],
             [
              1,
              "#f0f921"
             ]
            ],
            "type": "heatmapgl"
           }
          ],
          "histogram": [
           {
            "marker": {
             "colorbar": {
              "outlinewidth": 0,
              "ticks": ""
             }
            },
            "type": "histogram"
           }
          ],
          "histogram2d": [
           {
            "colorbar": {
             "outlinewidth": 0,
             "ticks": ""
            },
            "colorscale": [
             [
              0,
              "#0d0887"
             ],
             [
              0.1111111111111111,
              "#46039f"
             ],
             [
              0.2222222222222222,
              "#7201a8"
             ],
             [
              0.3333333333333333,
              "#9c179e"
             ],
             [
              0.4444444444444444,
              "#bd3786"
             ],
             [
              0.5555555555555556,
              "#d8576b"
             ],
             [
              0.6666666666666666,
              "#ed7953"
             ],
             [
              0.7777777777777778,
              "#fb9f3a"
             ],
             [
              0.8888888888888888,
              "#fdca26"
             ],
             [
              1,
              "#f0f921"
             ]
            ],
            "type": "histogram2d"
           }
          ],
          "histogram2dcontour": [
           {
            "colorbar": {
             "outlinewidth": 0,
             "ticks": ""
            },
            "colorscale": [
             [
              0,
              "#0d0887"
             ],
             [
              0.1111111111111111,
              "#46039f"
             ],
             [
              0.2222222222222222,
              "#7201a8"
             ],
             [
              0.3333333333333333,
              "#9c179e"
             ],
             [
              0.4444444444444444,
              "#bd3786"
             ],
             [
              0.5555555555555556,
              "#d8576b"
             ],
             [
              0.6666666666666666,
              "#ed7953"
             ],
             [
              0.7777777777777778,
              "#fb9f3a"
             ],
             [
              0.8888888888888888,
              "#fdca26"
             ],
             [
              1,
              "#f0f921"
             ]
            ],
            "type": "histogram2dcontour"
           }
          ],
          "mesh3d": [
           {
            "colorbar": {
             "outlinewidth": 0,
             "ticks": ""
            },
            "type": "mesh3d"
           }
          ],
          "parcoords": [
           {
            "line": {
             "colorbar": {
              "outlinewidth": 0,
              "ticks": ""
             }
            },
            "type": "parcoords"
           }
          ],
          "scatter": [
           {
            "marker": {
             "colorbar": {
              "outlinewidth": 0,
              "ticks": ""
             }
            },
            "type": "scatter"
           }
          ],
          "scatter3d": [
           {
            "line": {
             "colorbar": {
              "outlinewidth": 0,
              "ticks": ""
             }
            },
            "marker": {
             "colorbar": {
              "outlinewidth": 0,
              "ticks": ""
             }
            },
            "type": "scatter3d"
           }
          ],
          "scattercarpet": [
           {
            "marker": {
             "colorbar": {
              "outlinewidth": 0,
              "ticks": ""
             }
            },
            "type": "scattercarpet"
           }
          ],
          "scattergeo": [
           {
            "marker": {
             "colorbar": {
              "outlinewidth": 0,
              "ticks": ""
             }
            },
            "type": "scattergeo"
           }
          ],
          "scattergl": [
           {
            "marker": {
             "colorbar": {
              "outlinewidth": 0,
              "ticks": ""
             }
            },
            "type": "scattergl"
           }
          ],
          "scattermapbox": [
           {
            "marker": {
             "colorbar": {
              "outlinewidth": 0,
              "ticks": ""
             }
            },
            "type": "scattermapbox"
           }
          ],
          "scatterpolar": [
           {
            "marker": {
             "colorbar": {
              "outlinewidth": 0,
              "ticks": ""
             }
            },
            "type": "scatterpolar"
           }
          ],
          "scatterpolargl": [
           {
            "marker": {
             "colorbar": {
              "outlinewidth": 0,
              "ticks": ""
             }
            },
            "type": "scatterpolargl"
           }
          ],
          "scatterternary": [
           {
            "marker": {
             "colorbar": {
              "outlinewidth": 0,
              "ticks": ""
             }
            },
            "type": "scatterternary"
           }
          ],
          "surface": [
           {
            "colorbar": {
             "outlinewidth": 0,
             "ticks": ""
            },
            "colorscale": [
             [
              0,
              "#0d0887"
             ],
             [
              0.1111111111111111,
              "#46039f"
             ],
             [
              0.2222222222222222,
              "#7201a8"
             ],
             [
              0.3333333333333333,
              "#9c179e"
             ],
             [
              0.4444444444444444,
              "#bd3786"
             ],
             [
              0.5555555555555556,
              "#d8576b"
             ],
             [
              0.6666666666666666,
              "#ed7953"
             ],
             [
              0.7777777777777778,
              "#fb9f3a"
             ],
             [
              0.8888888888888888,
              "#fdca26"
             ],
             [
              1,
              "#f0f921"
             ]
            ],
            "type": "surface"
           }
          ],
          "table": [
           {
            "cells": {
             "fill": {
              "color": "#EBF0F8"
             },
             "line": {
              "color": "white"
             }
            },
            "header": {
             "fill": {
              "color": "#C8D4E3"
             },
             "line": {
              "color": "white"
             }
            },
            "type": "table"
           }
          ]
         },
         "layout": {
          "annotationdefaults": {
           "arrowcolor": "#2a3f5f",
           "arrowhead": 0,
           "arrowwidth": 1
          },
          "colorscale": {
           "diverging": [
            [
             0,
             "#8e0152"
            ],
            [
             0.1,
             "#c51b7d"
            ],
            [
             0.2,
             "#de77ae"
            ],
            [
             0.3,
             "#f1b6da"
            ],
            [
             0.4,
             "#fde0ef"
            ],
            [
             0.5,
             "#f7f7f7"
            ],
            [
             0.6,
             "#e6f5d0"
            ],
            [
             0.7,
             "#b8e186"
            ],
            [
             0.8,
             "#7fbc41"
            ],
            [
             0.9,
             "#4d9221"
            ],
            [
             1,
             "#276419"
            ]
           ],
           "sequential": [
            [
             0,
             "#0d0887"
            ],
            [
             0.1111111111111111,
             "#46039f"
            ],
            [
             0.2222222222222222,
             "#7201a8"
            ],
            [
             0.3333333333333333,
             "#9c179e"
            ],
            [
             0.4444444444444444,
             "#bd3786"
            ],
            [
             0.5555555555555556,
             "#d8576b"
            ],
            [
             0.6666666666666666,
             "#ed7953"
            ],
            [
             0.7777777777777778,
             "#fb9f3a"
            ],
            [
             0.8888888888888888,
             "#fdca26"
            ],
            [
             1,
             "#f0f921"
            ]
           ],
           "sequentialminus": [
            [
             0,
             "#0d0887"
            ],
            [
             0.1111111111111111,
             "#46039f"
            ],
            [
             0.2222222222222222,
             "#7201a8"
            ],
            [
             0.3333333333333333,
             "#9c179e"
            ],
            [
             0.4444444444444444,
             "#bd3786"
            ],
            [
             0.5555555555555556,
             "#d8576b"
            ],
            [
             0.6666666666666666,
             "#ed7953"
            ],
            [
             0.7777777777777778,
             "#fb9f3a"
            ],
            [
             0.8888888888888888,
             "#fdca26"
            ],
            [
             1,
             "#f0f921"
            ]
           ]
          },
          "colorway": [
           "#636efa",
           "#EF553B",
           "#00cc96",
           "#ab63fa",
           "#FFA15A",
           "#19d3f3",
           "#FF6692",
           "#B6E880",
           "#FF97FF",
           "#FECB52"
          ],
          "font": {
           "color": "#2a3f5f"
          },
          "geo": {
           "bgcolor": "white",
           "lakecolor": "white",
           "landcolor": "#E5ECF6",
           "showlakes": true,
           "showland": true,
           "subunitcolor": "white"
          },
          "hoverlabel": {
           "align": "left"
          },
          "hovermode": "closest",
          "mapbox": {
           "style": "light"
          },
          "paper_bgcolor": "white",
          "plot_bgcolor": "#E5ECF6",
          "polar": {
           "angularaxis": {
            "gridcolor": "white",
            "linecolor": "white",
            "ticks": ""
           },
           "bgcolor": "#E5ECF6",
           "radialaxis": {
            "gridcolor": "white",
            "linecolor": "white",
            "ticks": ""
           }
          },
          "scene": {
           "xaxis": {
            "backgroundcolor": "#E5ECF6",
            "gridcolor": "white",
            "gridwidth": 2,
            "linecolor": "white",
            "showbackground": true,
            "ticks": "",
            "zerolinecolor": "white"
           },
           "yaxis": {
            "backgroundcolor": "#E5ECF6",
            "gridcolor": "white",
            "gridwidth": 2,
            "linecolor": "white",
            "showbackground": true,
            "ticks": "",
            "zerolinecolor": "white"
           },
           "zaxis": {
            "backgroundcolor": "#E5ECF6",
            "gridcolor": "white",
            "gridwidth": 2,
            "linecolor": "white",
            "showbackground": true,
            "ticks": "",
            "zerolinecolor": "white"
           }
          },
          "shapedefaults": {
           "line": {
            "color": "#2a3f5f"
           }
          },
          "ternary": {
           "aaxis": {
            "gridcolor": "white",
            "linecolor": "white",
            "ticks": ""
           },
           "baxis": {
            "gridcolor": "white",
            "linecolor": "white",
            "ticks": ""
           },
           "bgcolor": "#E5ECF6",
           "caxis": {
            "gridcolor": "white",
            "linecolor": "white",
            "ticks": ""
           }
          },
          "title": {
           "x": 0.05
          },
          "xaxis": {
           "automargin": true,
           "gridcolor": "white",
           "linecolor": "white",
           "ticks": "",
           "zerolinecolor": "white",
           "zerolinewidth": 2
          },
          "yaxis": {
           "automargin": true,
           "gridcolor": "white",
           "linecolor": "white",
           "ticks": "",
           "zerolinecolor": "white",
           "zerolinewidth": 2
          }
         }
        },
        "title": {
         "text": "Time Series of Daily average"
        },
        "width": 1000,
        "xaxis": {
         "dtick": 30,
         "range": [
          "2004-03-01",
          "2005-04-01"
         ],
         "tick0": 4,
         "tickangle": 45
        },
        "yaxis": {
         "range": [
          500,
          3000
         ],
         "title": {
          "text": "Concentration"
         }
        }
       }
      },
      "text/html": [
       "<div>\n",
       "        \n",
       "        \n",
       "            <div id=\"b9e6d857-8bb2-4538-bb08-996b448309e4\" class=\"plotly-graph-div\" style=\"height:500px; width:1000px;\"></div>\n",
       "            <script type=\"text/javascript\">\n",
       "                require([\"plotly\"], function(Plotly) {\n",
       "                    window.PLOTLYENV=window.PLOTLYENV || {};\n",
       "                    \n",
       "                if (document.getElementById(\"b9e6d857-8bb2-4538-bb08-996b448309e4\")) {\n",
       "                    Plotly.newPlot(\n",
       "                        'b9e6d857-8bb2-4538-bb08-996b448309e4',\n",
       "                        [{\"name\": \"PT(NO2) Max\", \"type\": \"scatter\", \"x\": [\"2004/3/10\", \"2004/3/11\", \"2004/3/12\", \"2004/3/13\", \"2004/3/14\", \"2004/3/15\", \"2004/3/16\", \"2004/3/17\", \"2004/3/18\", \"2004/3/19\", \"2004/3/20\", \"2004/3/21\", \"2004/3/22\", \"2004/3/23\", \"2004/3/24\", \"2004/3/25\", \"2004/3/26\", \"2004/3/27\", \"2004/3/28\", \"2004/3/29\", \"2004/3/30\", \"2004/3/31\", \"2004/4/1\", \"2004/4/2\", \"2004/4/3\", \"2004/4/4\", \"2004/4/5\", \"2004/4/6\", \"2004/4/7\", \"2004/4/8\", \"2004/4/10\", \"2004/4/11\", \"2004/4/12\", \"2004/4/13\", \"2004/4/14\", \"2004/4/15\", \"2004/4/16\", \"2004/4/17\", \"2004/4/18\", \"2004/4/19\", \"2004/4/20\", \"2004/4/21\", \"2004/4/22\", \"2004/4/23\", \"2004/4/24\", \"2004/4/25\", \"2004/4/26\", \"2004/4/27\", \"2004/4/28\", \"2004/4/29\", \"2004/4/30\", \"2004/5/1\", \"2004/5/2\", \"2004/5/3\", \"2004/5/4\", \"2004/5/5\", \"2004/5/6\", \"2004/5/7\", \"2004/5/8\", \"2004/5/9\", \"2004/5/10\", \"2004/5/11\", \"2004/5/12\", \"2004/5/13\", \"2004/5/14\", \"2004/5/15\", \"2004/5/16\", \"2004/5/17\", \"2004/5/18\", \"2004/5/19\", \"2004/5/20\", \"2004/5/21\", \"2004/5/22\", \"2004/5/23\", \"2004/5/24\", \"2004/5/25\", \"2004/5/26\", \"2004/5/27\", \"2004/5/28\", \"2004/5/29\", \"2004/5/30\", \"2004/5/31\", \"2004/6/1\", \"2004/6/2\", \"2004/6/3\", \"2004/6/4\", \"2004/6/5\", \"2004/6/6\", \"2004/6/7\", \"2004/6/8\", \"2004/6/9\", \"2004/6/10\", \"2004/6/11\", \"2004/6/12\", \"2004/6/13\", \"2004/6/14\", \"2004/6/15\", \"2004/6/16\", \"2004/6/17\", \"2004/6/18\", \"2004/6/19\", \"2004/6/21\", \"2004/6/22\", \"2004/6/23\", \"2004/6/24\", \"2004/6/25\", \"2004/6/26\", \"2004/6/27\", \"2004/6/28\", \"2004/6/29\", \"2004/6/30\", \"2004/7/1\", \"2004/7/2\", \"2004/7/3\", \"2004/7/4\", \"2004/7/5\", \"2004/7/6\", \"2004/7/7\", \"2004/7/8\", \"2004/7/9\", \"2004/7/10\", \"2004/7/11\", \"2004/7/12\", \"2004/7/13\", \"2004/7/14\", \"2004/7/15\", \"2004/7/16\", \"2004/7/17\", \"2004/7/18\", \"2004/7/19\", \"2004/7/20\", \"2004/7/21\", \"2004/7/22\", \"2004/7/23\", \"2004/7/24\", \"2004/7/25\", \"2004/7/26\", \"2004/7/27\", \"2004/7/28\", \"2004/7/29\", \"2004/7/30\", \"2004/7/31\", \"2004/8/1\", \"2004/8/2\", \"2004/8/3\", \"2004/8/4\", \"2004/8/5\", \"2004/8/6\", \"2004/8/7\", \"2004/8/8\", \"2004/8/9\", \"2004/8/10\", \"2004/8/11\", \"2004/8/12\", \"2004/8/13\", \"2004/8/14\", \"2004/8/15\", \"2004/8/16\", \"2004/8/17\", \"2004/8/18\", \"2004/8/19\", \"2004/8/20\", \"2004/8/21\", \"2004/8/22\", \"2004/8/23\", \"2004/8/24\", \"2004/8/25\", \"2004/8/28\", \"2004/8/29\", \"2004/8/30\", \"2004/8/31\", \"2004/9/1\", \"2004/9/2\", \"2004/9/3\", \"2004/9/4\", \"2004/9/5\", \"2004/9/6\", \"2004/9/7\", \"2004/9/9\", \"2004/9/10\", \"2004/9/11\", \"2004/9/12\", \"2004/9/13\", \"2004/9/14\", \"2004/9/15\", \"2004/9/16\", \"2004/9/17\", \"2004/9/18\", \"2004/9/19\", \"2004/9/20\", \"2004/9/21\", \"2004/9/22\", \"2004/9/23\", \"2004/9/24\", \"2004/9/25\", \"2004/9/26\", \"2004/9/27\", \"2004/9/28\", \"2004/9/29\", \"2004/9/30\", \"2004/10/1\", \"2004/10/2\", \"2004/10/3\", \"2004/10/4\", \"2004/10/5\", \"2004/10/6\", \"2004/10/7\", \"2004/10/8\", \"2004/10/9\", \"2004/10/10\", \"2004/10/11\", \"2004/10/12\", \"2004/10/13\", \"2004/10/14\", \"2004/10/15\", \"2004/10/16\", \"2004/10/17\", \"2004/10/18\", \"2004/10/19\", \"2004/10/20\", \"2004/10/21\", \"2004/10/22\", \"2004/10/23\", \"2004/10/24\", \"2004/10/25\", \"2004/10/26\", \"2004/10/27\", \"2004/10/28\", \"2004/10/29\", \"2004/10/30\", \"2004/10/31\", \"2004/11/1\", \"2004/11/2\", \"2004/11/3\", \"2004/11/4\", \"2004/11/5\", \"2004/11/6\", \"2004/11/7\", \"2004/11/8\", \"2004/11/9\", \"2004/11/10\", \"2004/11/11\", \"2004/11/12\", \"2004/11/13\", \"2004/11/14\", \"2004/11/15\", \"2004/11/16\", \"2004/11/17\", \"2004/11/18\", \"2004/11/19\", \"2004/11/20\", \"2004/11/21\", \"2004/11/22\", \"2004/11/23\", \"2004/11/24\", \"2004/11/25\", \"2004/11/26\", \"2004/11/27\", \"2004/11/28\", \"2004/11/29\", \"2004/11/30\", \"2004/12/1\", \"2004/12/2\", \"2004/12/3\", \"2004/12/4\", \"2004/12/5\", \"2004/12/6\", \"2004/12/7\", \"2004/12/8\", \"2004/12/9\", \"2004/12/10\", \"2004/12/11\", \"2004/12/12\", \"2004/12/13\", \"2004/12/14\", \"2004/12/18\", \"2004/12/19\", \"2004/12/20\", \"2004/12/21\", \"2004/12/22\", \"2004/12/23\", \"2004/12/24\", \"2004/12/25\", \"2004/12/26\", \"2004/12/27\", \"2004/12/28\", \"2004/12/29\", \"2004/12/30\", \"2004/12/31\", \"2005/1/1\", \"2005/1/2\", \"2005/1/5\", \"2005/1/6\", \"2005/1/7\", \"2005/1/8\", \"2005/1/9\", \"2005/1/10\", \"2005/1/11\", \"2005/1/12\", \"2005/1/13\", \"2005/1/14\", \"2005/1/15\", \"2005/1/16\", \"2005/1/17\", \"2005/1/18\", \"2005/1/19\", \"2005/1/20\", \"2005/1/21\", \"2005/1/22\", \"2005/1/23\", \"2005/1/24\", \"2005/1/25\", \"2005/1/26\", \"2005/1/27\", \"2005/1/28\", \"2005/1/29\", \"2005/1/30\", \"2005/1/31\", \"2005/2/1\", \"2005/2/2\", \"2005/2/3\", \"2005/2/4\", \"2005/2/5\", \"2005/2/6\", \"2005/2/7\", \"2005/2/8\", \"2005/2/12\", \"2005/2/13\", \"2005/2/14\", \"2005/2/15\", \"2005/2/16\", \"2005/2/17\", \"2005/2/18\", \"2005/2/19\", \"2005/2/20\", \"2005/2/21\", \"2005/2/22\", \"2005/2/23\", \"2005/2/24\", \"2005/2/25\", \"2005/2/26\", \"2005/2/27\", \"2005/2/28\", \"2005/3/1\", \"2005/3/2\", \"2005/3/3\", \"2005/3/4\", \"2005/3/5\", \"2005/3/6\", \"2005/3/7\", \"2005/3/8\", \"2005/3/9\", \"2005/3/10\", \"2005/3/11\", \"2005/3/12\", \"2005/3/13\", \"2005/3/14\", \"2005/3/15\", \"2005/3/16\", \"2005/3/17\", \"2005/3/18\", \"2005/3/19\", \"2005/3/20\", \"2005/3/21\", \"2005/3/22\", \"2005/3/23\", \"2005/3/24\", \"2005/3/25\", \"2005/3/26\", \"2005/3/27\", \"2005/3/28\", \"2005/3/29\", \"2005/3/30\", \"2005/3/31\", \"2005/4/1\", \"2005/4/2\", \"2005/4/3\", \"2005/4/4\"], \"y\": [1692.0, 2332.0, 2390.0, 1922.0, 2104.0, 2680.0, 2212.0, 2536.0, 2468.0, 2456.0, 1919.0, 1874.0, 1996.0, 2096.0, 2080.0, 2060.0, 1928.0, 1633.0, 1514.0, 1806.0, 1947.0, 1957.0, 2440.0, 2084.0, 2152.0, 1756.0, 2300.0, 2560.0, 1821.0, 2188.0, 1663.0, 1425.0, 1384.0, 2056.0, 2278.0, 2446.0, 2298.0, 1706.0, 1824.0, 1976.0, 2396.0, 2684.0, 2238.0, 2416.0, 1970.0, 1654.0, 1685.0, 2100.0, 2396.0, 2572.0, 2356.0, 1936.0, 1853.0, 2400.0, 2306.0, 2264.0, 2029.0, 2096.0, 1829.0, 1625.0, 2616.0, 2424.0, 2668.0, 2102.0, 2326.0, 1774.0, 1820.0, 1735.0, 2604.0, 2544.0, 2504.0, 2276.0, 1965.0, 2108.0, 1416.0, 1859.0, 1877.0, 2336.0, 2008.0, 1707.0, 1652.0, 2120.0, 2486.0, 1965.0, 2180.0, 2058.0, 1970.0, 1739.0, 2280.0, 2746.0, 2692.0, 2524.0, 2396.0, 1870.0, 1729.0, 1820.0, 2320.0, 2530.0, 2384.0, 2450.0, 1921.0, 2138.0, 2394.0, 2210.0, 2176.0, 1968.0, 1938.0, 1830.0, 2568.0, 2622.0, 2484.0, 2336.0, 2560.0, 1885.0, 1840.0, 2312.0, 2460.0, 2304.0, 2372.0, 1996.0, 1792.0, 1713.0, 2084.0, 2244.0, 2356.0, 2240.0, 2276.0, 1675.0, 1635.0, 2234.0, 2644.0, 2404.0, 2662.0, 2284.0, 1897.0, 1760.0, 1931.0, 1724.0, 2112.0, 2180.0, 2322.0, 1957.0, 1798.0, 2128.0, 2256.0, 2404.0, 2015.0, 2192.0, 1838.0, 1791.0, 2005.0, 2114.0, 1904.0, 2019.0, 1818.0, 1639.0, 1562.0, 1624.0, 1850.0, 1693.0, 1759.0, 1931.0, 1563.0, 1549.0, 1766.0, 1678.0, 2144.0, 1690.0, 1807.0, 2380.0, 2232.0, 2556.0, 2366.0, 2536.0, 1697.0, 2052.0, 1669.0, 1957.0, 1920.0, 1975.0, 1702.0, 2260.0, 2374.0, 2382.0, 2408.0, 2194.0, 1708.0, 1563.0, 1816.0, 2338.0, 2532.0, 2400.0, 2076.0, 2430.0, 1473.0, 1413.0, 1973.0, 2164.0, 2088.0, 2364.0, 2338.0, 1954.0, 1929.0, 2612.0, 2472.0, 2552.0, 2464.0, 2204.0, 2064.0, 1812.0, 2072.0, 1650.0, 1454.0, 1907.0, 1942.0, 1569.0, 1495.0, 2356.0, 2316.0, 2596.0, 2404.0, 2486.0, 2016.0, 1971.0, 2640.0, 2776.0, 2120.0, 2272.0, 2124.0, 2015.0, 2276.0, 1942.0, 2644.0, 1959.0, 2608.0, 2484.0, 1794.0, 1354.0, 1778.0, 1605.0, 1636.0, 2032.0, 1735.0, 1627.0, 1051.0, 1305.0, 1694.0, 2236.0, 1852.0, 2040.0, 1380.0, 1193.0, 1917.0, 2562.0, 2066.0, 1576.0, 2338.0, 1871.0, 1543.0, 1988.0, 1939.0, 1972.0, 2404.0, 2176.0, 1539.0, 1385.0, 2018.0, 1638.0, 1524.0, 1301.0, 1256.0, 1206.0, 1650.0, 2272.0, 1961.0, 1448.0, 1453.0, 1250.0, 1453.0, 1163.0, 1832.0, 1624.0, 1689.0, 1531.0, 1417.0, 1808.0, 1175.0, 1152.0, 1052.0, 1344.0, 1290.0, 1790.0, 1419.0, 1652.0, 1701.0, 1669.0, 1804.0, 1855.0, 1902.0, 1811.0, 1750.0, 1524.0, 1257.0, 1964.0, 1733.0, 1298.0, 1594.0, 2084.0, 1524.0, 1220.0, 1210.0, 1040.0, 1073.0, 1049.0, 1055.0, 861.0, 825.0, 1557.0, 1492.0, 1641.0, 1870.0, 1472.0, 1198.0, 979.0, 1067.0, 1268.0, 1712.0, 1541.0, 1257.0, 1141.0, 1542.0, 1246.0, 1333.0, 1203.0, 1124.0, 1682.0, 1789.0, 1331.0, 1522.0, 1868.0, 1224.0, 1230.0, 885.0, 935.0, 1325.0, 1539.0, 1848.0, 1284.0, 1220.0, 1148.0, 1599.0, 1747.0, 1620.0, 1661.0, 1415.0, 1520.0, 1937.0, 2028.0, 1809.0, 1808.0, 1822.0, 1550.0, 1518.0, 2148.0, 1945.0, 1975.0, 2144.0, 2008.0, 1534.0, 1393.0, 1432.0, 2005.0, 1639.0, 1860.0, 1158.0, 958.0, 1289.0, 1777.0]}, {\"name\": \"PT(NO2) Mean\", \"type\": \"scatter\", \"x\": [\"2004/3/10\", \"2004/3/11\", \"2004/3/12\", \"2004/3/13\", \"2004/3/14\", \"2004/3/15\", \"2004/3/16\", \"2004/3/17\", \"2004/3/18\", \"2004/3/19\", \"2004/3/20\", \"2004/3/21\", \"2004/3/22\", \"2004/3/23\", \"2004/3/24\", \"2004/3/25\", \"2004/3/26\", \"2004/3/27\", \"2004/3/28\", \"2004/3/29\", \"2004/3/30\", \"2004/3/31\", \"2004/4/1\", \"2004/4/2\", \"2004/4/3\", \"2004/4/4\", \"2004/4/5\", \"2004/4/6\", \"2004/4/7\", \"2004/4/8\", \"2004/4/10\", \"2004/4/11\", \"2004/4/12\", \"2004/4/13\", \"2004/4/14\", \"2004/4/15\", \"2004/4/16\", \"2004/4/17\", \"2004/4/18\", \"2004/4/19\", \"2004/4/20\", \"2004/4/21\", \"2004/4/22\", \"2004/4/23\", \"2004/4/24\", \"2004/4/25\", \"2004/4/26\", \"2004/4/27\", \"2004/4/28\", \"2004/4/29\", \"2004/4/30\", \"2004/5/1\", \"2004/5/2\", \"2004/5/3\", \"2004/5/4\", \"2004/5/5\", \"2004/5/6\", \"2004/5/7\", \"2004/5/8\", \"2004/5/9\", \"2004/5/10\", \"2004/5/11\", \"2004/5/12\", \"2004/5/13\", \"2004/5/14\", \"2004/5/15\", \"2004/5/16\", \"2004/5/17\", \"2004/5/18\", \"2004/5/19\", \"2004/5/20\", \"2004/5/21\", \"2004/5/22\", \"2004/5/23\", \"2004/5/24\", \"2004/5/25\", \"2004/5/26\", \"2004/5/27\", \"2004/5/28\", \"2004/5/29\", \"2004/5/30\", \"2004/5/31\", \"2004/6/1\", \"2004/6/2\", \"2004/6/3\", \"2004/6/4\", \"2004/6/5\", \"2004/6/6\", \"2004/6/7\", \"2004/6/8\", \"2004/6/9\", \"2004/6/10\", \"2004/6/11\", \"2004/6/12\", \"2004/6/13\", \"2004/6/14\", \"2004/6/15\", \"2004/6/16\", \"2004/6/17\", \"2004/6/18\", \"2004/6/19\", \"2004/6/21\", \"2004/6/22\", \"2004/6/23\", \"2004/6/24\", \"2004/6/25\", \"2004/6/26\", \"2004/6/27\", \"2004/6/28\", \"2004/6/29\", \"2004/6/30\", \"2004/7/1\", \"2004/7/2\", \"2004/7/3\", \"2004/7/4\", \"2004/7/5\", \"2004/7/6\", \"2004/7/7\", \"2004/7/8\", \"2004/7/9\", \"2004/7/10\", \"2004/7/11\", \"2004/7/12\", \"2004/7/13\", \"2004/7/14\", \"2004/7/15\", \"2004/7/16\", \"2004/7/17\", \"2004/7/18\", \"2004/7/19\", \"2004/7/20\", \"2004/7/21\", \"2004/7/22\", \"2004/7/23\", \"2004/7/24\", \"2004/7/25\", \"2004/7/26\", \"2004/7/27\", \"2004/7/28\", \"2004/7/29\", \"2004/7/30\", \"2004/7/31\", \"2004/8/1\", \"2004/8/2\", \"2004/8/3\", \"2004/8/4\", \"2004/8/5\", \"2004/8/6\", \"2004/8/7\", \"2004/8/8\", \"2004/8/9\", \"2004/8/10\", \"2004/8/11\", \"2004/8/12\", \"2004/8/13\", \"2004/8/14\", \"2004/8/15\", \"2004/8/16\", \"2004/8/17\", \"2004/8/18\", \"2004/8/19\", \"2004/8/20\", \"2004/8/21\", \"2004/8/22\", \"2004/8/23\", \"2004/8/24\", \"2004/8/25\", \"2004/8/28\", \"2004/8/29\", \"2004/8/30\", \"2004/8/31\", \"2004/9/1\", \"2004/9/2\", \"2004/9/3\", \"2004/9/4\", \"2004/9/5\", \"2004/9/6\", \"2004/9/7\", \"2004/9/9\", \"2004/9/10\", \"2004/9/11\", \"2004/9/12\", \"2004/9/13\", \"2004/9/14\", \"2004/9/15\", \"2004/9/16\", \"2004/9/17\", \"2004/9/18\", \"2004/9/19\", \"2004/9/20\", \"2004/9/21\", \"2004/9/22\", \"2004/9/23\", \"2004/9/24\", \"2004/9/25\", \"2004/9/26\", \"2004/9/27\", \"2004/9/28\", \"2004/9/29\", \"2004/9/30\", \"2004/10/1\", \"2004/10/2\", \"2004/10/3\", \"2004/10/4\", \"2004/10/5\", \"2004/10/6\", \"2004/10/7\", \"2004/10/8\", \"2004/10/9\", \"2004/10/10\", \"2004/10/11\", \"2004/10/12\", \"2004/10/13\", \"2004/10/14\", \"2004/10/15\", \"2004/10/16\", \"2004/10/17\", \"2004/10/18\", \"2004/10/19\", \"2004/10/20\", \"2004/10/21\", \"2004/10/22\", \"2004/10/23\", \"2004/10/24\", \"2004/10/25\", \"2004/10/26\", \"2004/10/27\", \"2004/10/28\", \"2004/10/29\", \"2004/10/30\", \"2004/10/31\", \"2004/11/1\", \"2004/11/2\", \"2004/11/3\", \"2004/11/4\", \"2004/11/5\", \"2004/11/6\", \"2004/11/7\", \"2004/11/8\", \"2004/11/9\", \"2004/11/10\", \"2004/11/11\", \"2004/11/12\", \"2004/11/13\", \"2004/11/14\", \"2004/11/15\", \"2004/11/16\", \"2004/11/17\", \"2004/11/18\", \"2004/11/19\", \"2004/11/20\", \"2004/11/21\", \"2004/11/22\", \"2004/11/23\", \"2004/11/24\", \"2004/11/25\", \"2004/11/26\", \"2004/11/27\", \"2004/11/28\", \"2004/11/29\", \"2004/11/30\", \"2004/12/1\", \"2004/12/2\", \"2004/12/3\", \"2004/12/4\", \"2004/12/5\", \"2004/12/6\", \"2004/12/7\", \"2004/12/8\", \"2004/12/9\", \"2004/12/10\", \"2004/12/11\", \"2004/12/12\", \"2004/12/13\", \"2004/12/14\", \"2004/12/18\", \"2004/12/19\", \"2004/12/20\", \"2004/12/21\", \"2004/12/22\", \"2004/12/23\", \"2004/12/24\", \"2004/12/25\", \"2004/12/26\", \"2004/12/27\", \"2004/12/28\", \"2004/12/29\", \"2004/12/30\", \"2004/12/31\", \"2005/1/1\", \"2005/1/2\", \"2005/1/5\", \"2005/1/6\", \"2005/1/7\", \"2005/1/8\", \"2005/1/9\", \"2005/1/10\", \"2005/1/11\", \"2005/1/12\", \"2005/1/13\", \"2005/1/14\", \"2005/1/15\", \"2005/1/16\", \"2005/1/17\", \"2005/1/18\", \"2005/1/19\", \"2005/1/20\", \"2005/1/21\", \"2005/1/22\", \"2005/1/23\", \"2005/1/24\", \"2005/1/25\", \"2005/1/26\", \"2005/1/27\", \"2005/1/28\", \"2005/1/29\", \"2005/1/30\", \"2005/1/31\", \"2005/2/1\", \"2005/2/2\", \"2005/2/3\", \"2005/2/4\", \"2005/2/5\", \"2005/2/6\", \"2005/2/7\", \"2005/2/8\", \"2005/2/12\", \"2005/2/13\", \"2005/2/14\", \"2005/2/15\", \"2005/2/16\", \"2005/2/17\", \"2005/2/18\", \"2005/2/19\", \"2005/2/20\", \"2005/2/21\", \"2005/2/22\", \"2005/2/23\", \"2005/2/24\", \"2005/2/25\", \"2005/2/26\", \"2005/2/27\", \"2005/2/28\", \"2005/3/1\", \"2005/3/2\", \"2005/3/3\", \"2005/3/4\", \"2005/3/5\", \"2005/3/6\", \"2005/3/7\", \"2005/3/8\", \"2005/3/9\", \"2005/3/10\", \"2005/3/11\", \"2005/3/12\", \"2005/3/13\", \"2005/3/14\", \"2005/3/15\", \"2005/3/16\", \"2005/3/17\", \"2005/3/18\", \"2005/3/19\", \"2005/3/20\", \"2005/3/21\", \"2005/3/22\", \"2005/3/23\", \"2005/3/24\", \"2005/3/25\", \"2005/3/26\", \"2005/3/27\", \"2005/3/28\", \"2005/3/29\", \"2005/3/30\", \"2005/3/31\", \"2005/4/1\", \"2005/4/2\", \"2005/4/3\", \"2005/4/4\"], \"y\": [1546.0, 1523.0, 1627.0, 1596.0, 1602.0, 1889.0, 1727.0, 1741.0, 1703.0, 1745.0, 1609.0, 1602.0, 1595.0, 1557.0, 1542.0, 1495.0, 1458.0, 1426.0, 1348.0, 1276.0, 1447.0, 1514.0, 1640.0, 1709.0, 1659.0, 1562.0, 1704.0, 1664.0, 1470.0, 1594.0, 1468.0, 1266.0, 1218.0, 1542.0, 1582.0, 1732.0, 1793.0, 1553.0, 1559.0, 1587.0, 1739.0, 1725.0, 1683.0, 1802.0, 1668.0, 1267.0, 1368.0, 1581.0, 1784.0, 1873.0, 1917.0, 1640.0, 1575.0, 1725.0, 1796.0, 1738.0, 1608.0, 1601.0, 1505.0, 1520.0, 1748.0, 1804.0, 1799.0, 1682.0, 1669.0, 1498.0, 1443.0, 1395.0, 1648.0, 1703.0, 1725.0, 1680.0, 1707.0, 1532.0, 1246.0, 1398.0, 1455.0, 1616.0, 1622.0, 1407.0, 1384.0, 1663.0, 1881.0, 1698.0, 1729.0, 1643.0, 1660.0, 1516.0, 1756.0, 1861.0, 1873.0, 1880.0, 1732.0, 1617.0, 1395.0, 1494.0, 1744.0, 1787.0, 1795.0, 1800.0, 1690.0, 1621.0, 1766.0, 1815.0, 1722.0, 1680.0, 1568.0, 1594.0, 1798.0, 1919.0, 1898.0, 1854.0, 1758.0, 1564.0, 1527.0, 1691.0, 1778.0, 1770.0, 1778.0, 1642.0, 1488.0, 1448.0, 1582.0, 1628.0, 1648.0, 1665.0, 1643.0, 1506.0, 1417.0, 1661.0, 1746.0, 1732.0, 1831.0, 1780.0, 1641.0, 1515.0, 1607.0, 1510.0, 1551.0, 1596.0, 1745.0, 1660.0, 1559.0, 1709.0, 1768.0, 1698.0, 1684.0, 1804.0, 1608.0, 1576.0, 1686.0, 1706.0, 1700.0, 1684.0, 1559.0, 1503.0, 1406.0, 1410.0, 1484.0, 1551.0, 1611.0, 1610.0, 1383.0, 1381.0, 1413.0, 1469.0, 1596.0, 1464.0, 1531.0, 1672.0, 1685.0, 1684.0, 1675.0, 1690.0, 1512.0, 1289.0, 1391.0, 1469.0, 1460.0, 1447.0, 1427.0, 1570.0, 1776.0, 1716.0, 1847.0, 1657.0, 1440.0, 1332.0, 1493.0, 1660.0, 1726.0, 1728.0, 1703.0, 1653.0, 1184.0, 1243.0, 1393.0, 1512.0, 1540.0, 1658.0, 1759.0, 1598.0, 1525.0, 1729.0, 1763.0, 1736.0, 1744.0, 1726.0, 1724.0, 1548.0, 1673.0, 1380.0, 1232.0, 1400.0, 1596.0, 1353.0, 1315.0, 1635.0, 1744.0, 1959.0, 1831.0, 1800.0, 1667.0, 1546.0, 1827.0, 1805.0, 1639.0, 1610.0, 1614.0, 1660.0, 1601.0, 1706.0, 1894.0, 1619.0, 1748.0, 1682.0, 1501.0, 1114.0, 1156.0, 1233.0, 1211.0, 1416.0, 1311.0, 1304.0, 875.5, 1011.0, 1148.0, 1321.0, 1419.0, 1422.0, 954.0, 992.0, 1333.0, 1731.0, 1518.0, 1322.0, 1629.0, 1563.0, 1237.0, 1401.0, 1396.0, 1449.0, 1640.0, 1643.0, 1372.0, 1176.0, 1420.0, 1370.0, 1259.0, 1140.0, 975.5, 1024.0, 1185.0, 1359.0, 1407.0, 1061.0, 1118.0, 1015.0, 976.5, 961.0, 1221.0, 1356.0, 1389.0, 1216.0, 1215.0, 1294.0, 1059.0, 933.5, 915.0, 1033.0, 1053.0, 1414.0, 1227.0, 1306.0, 1305.0, 1258.0, 1483.0, 1450.0, 1489.0, 1367.0, 1365.0, 1210.0, 948.5, 1163.0, 1306.0, 1072.0, 1137.0, 1406.0, 1284.0, 999.0, 977.5, 869.5, 873.0, 871.0, 883.5, 808.5, 764.0, 1001.5, 1184.0, 1132.0, 1212.0, 1082.0, 927.0, 822.0, 873.0, 897.5, 1369.0, 1323.0, 1021.0, 881.0, 1052.0, 1001.0, 1012.5, 998.0, 987.0, 1179.0, 1183.0, 1113.0, 1220.0, 1212.0, 999.0, 925.5, 750.0, 699.0, 874.5, 1162.0, 1282.0, 1054.0, 894.0, 866.5, 1049.0, 1237.0, 1167.0, 1198.0, 1147.0, 1149.0, 1344.0, 1325.0, 1299.0, 1282.0, 1319.0, 1278.0, 1204.0, 1426.0, 1365.0, 1425.0, 1452.0, 1560.0, 1407.0, 1305.0, 1281.0, 1430.0, 1329.0, 1177.0, 943.0, 864.5, 985.0, 1195.0]}, {\"marker\": {\"color\": \"#851e52\"}, \"name\": \"PT(NO2) Min\", \"type\": \"scatter\", \"x\": [\"2004/3/10\", \"2004/3/11\", \"2004/3/12\", \"2004/3/13\", \"2004/3/14\", \"2004/3/15\", \"2004/3/16\", \"2004/3/17\", \"2004/3/18\", \"2004/3/19\", \"2004/3/20\", \"2004/3/21\", \"2004/3/22\", \"2004/3/23\", \"2004/3/24\", \"2004/3/25\", \"2004/3/26\", \"2004/3/27\", \"2004/3/28\", \"2004/3/29\", \"2004/3/30\", \"2004/3/31\", \"2004/4/1\", \"2004/4/2\", \"2004/4/3\", \"2004/4/4\", \"2004/4/5\", \"2004/4/6\", \"2004/4/7\", \"2004/4/8\", \"2004/4/10\", \"2004/4/11\", \"2004/4/12\", \"2004/4/13\", \"2004/4/14\", \"2004/4/15\", \"2004/4/16\", \"2004/4/17\", \"2004/4/18\", \"2004/4/19\", \"2004/4/20\", \"2004/4/21\", \"2004/4/22\", \"2004/4/23\", \"2004/4/24\", \"2004/4/25\", \"2004/4/26\", \"2004/4/27\", \"2004/4/28\", \"2004/4/29\", \"2004/4/30\", \"2004/5/1\", \"2004/5/2\", \"2004/5/3\", \"2004/5/4\", \"2004/5/5\", \"2004/5/6\", \"2004/5/7\", \"2004/5/8\", \"2004/5/9\", \"2004/5/10\", \"2004/5/11\", \"2004/5/12\", \"2004/5/13\", \"2004/5/14\", \"2004/5/15\", \"2004/5/16\", \"2004/5/17\", \"2004/5/18\", \"2004/5/19\", \"2004/5/20\", \"2004/5/21\", \"2004/5/22\", \"2004/5/23\", \"2004/5/24\", \"2004/5/25\", \"2004/5/26\", \"2004/5/27\", \"2004/5/28\", \"2004/5/29\", \"2004/5/30\", \"2004/5/31\", \"2004/6/1\", \"2004/6/2\", \"2004/6/3\", \"2004/6/4\", \"2004/6/5\", \"2004/6/6\", \"2004/6/7\", \"2004/6/8\", \"2004/6/9\", \"2004/6/10\", \"2004/6/11\", \"2004/6/12\", \"2004/6/13\", \"2004/6/14\", \"2004/6/15\", \"2004/6/16\", \"2004/6/17\", \"2004/6/18\", \"2004/6/19\", \"2004/6/21\", \"2004/6/22\", \"2004/6/23\", \"2004/6/24\", \"2004/6/25\", \"2004/6/26\", \"2004/6/27\", \"2004/6/28\", \"2004/6/29\", \"2004/6/30\", \"2004/7/1\", \"2004/7/2\", \"2004/7/3\", \"2004/7/4\", \"2004/7/5\", \"2004/7/6\", \"2004/7/7\", \"2004/7/8\", \"2004/7/9\", \"2004/7/10\", \"2004/7/11\", \"2004/7/12\", \"2004/7/13\", \"2004/7/14\", \"2004/7/15\", \"2004/7/16\", \"2004/7/17\", \"2004/7/18\", \"2004/7/19\", \"2004/7/20\", \"2004/7/21\", \"2004/7/22\", \"2004/7/23\", \"2004/7/24\", \"2004/7/25\", \"2004/7/26\", \"2004/7/27\", \"2004/7/28\", \"2004/7/29\", \"2004/7/30\", \"2004/7/31\", \"2004/8/1\", \"2004/8/2\", \"2004/8/3\", \"2004/8/4\", \"2004/8/5\", \"2004/8/6\", \"2004/8/7\", \"2004/8/8\", \"2004/8/9\", \"2004/8/10\", \"2004/8/11\", \"2004/8/12\", \"2004/8/13\", \"2004/8/14\", \"2004/8/15\", \"2004/8/16\", \"2004/8/17\", \"2004/8/18\", \"2004/8/19\", \"2004/8/20\", \"2004/8/21\", \"2004/8/22\", \"2004/8/23\", \"2004/8/24\", \"2004/8/25\", \"2004/8/28\", \"2004/8/29\", \"2004/8/30\", \"2004/8/31\", \"2004/9/1\", \"2004/9/2\", \"2004/9/3\", \"2004/9/4\", \"2004/9/5\", \"2004/9/6\", \"2004/9/7\", \"2004/9/9\", \"2004/9/10\", \"2004/9/11\", \"2004/9/12\", \"2004/9/13\", \"2004/9/14\", \"2004/9/15\", \"2004/9/16\", \"2004/9/17\", \"2004/9/18\", \"2004/9/19\", \"2004/9/20\", \"2004/9/21\", \"2004/9/22\", \"2004/9/23\", \"2004/9/24\", \"2004/9/25\", \"2004/9/26\", \"2004/9/27\", \"2004/9/28\", \"2004/9/29\", \"2004/9/30\", \"2004/10/1\", \"2004/10/2\", \"2004/10/3\", \"2004/10/4\", \"2004/10/5\", \"2004/10/6\", \"2004/10/7\", \"2004/10/8\", \"2004/10/9\", \"2004/10/10\", \"2004/10/11\", \"2004/10/12\", \"2004/10/13\", \"2004/10/14\", \"2004/10/15\", \"2004/10/16\", \"2004/10/17\", \"2004/10/18\", \"2004/10/19\", \"2004/10/20\", \"2004/10/21\", \"2004/10/22\", \"2004/10/23\", \"2004/10/24\", \"2004/10/25\", \"2004/10/26\", \"2004/10/27\", \"2004/10/28\", \"2004/10/29\", \"2004/10/30\", \"2004/10/31\", \"2004/11/1\", \"2004/11/2\", \"2004/11/3\", \"2004/11/4\", \"2004/11/5\", \"2004/11/6\", \"2004/11/7\", \"2004/11/8\", \"2004/11/9\", \"2004/11/10\", \"2004/11/11\", \"2004/11/12\", \"2004/11/13\", \"2004/11/14\", \"2004/11/15\", \"2004/11/16\", \"2004/11/17\", \"2004/11/18\", \"2004/11/19\", \"2004/11/20\", \"2004/11/21\", \"2004/11/22\", \"2004/11/23\", \"2004/11/24\", \"2004/11/25\", \"2004/11/26\", \"2004/11/27\", \"2004/11/28\", \"2004/11/29\", \"2004/11/30\", \"2004/12/1\", \"2004/12/2\", \"2004/12/3\", \"2004/12/4\", \"2004/12/5\", \"2004/12/6\", \"2004/12/7\", \"2004/12/8\", \"2004/12/9\", \"2004/12/10\", \"2004/12/11\", \"2004/12/12\", \"2004/12/13\", \"2004/12/14\", \"2004/12/18\", \"2004/12/19\", \"2004/12/20\", \"2004/12/21\", \"2004/12/22\", \"2004/12/23\", \"2004/12/24\", \"2004/12/25\", \"2004/12/26\", \"2004/12/27\", \"2004/12/28\", \"2004/12/29\", \"2004/12/30\", \"2004/12/31\", \"2005/1/1\", \"2005/1/2\", \"2005/1/5\", \"2005/1/6\", \"2005/1/7\", \"2005/1/8\", \"2005/1/9\", \"2005/1/10\", \"2005/1/11\", \"2005/1/12\", \"2005/1/13\", \"2005/1/14\", \"2005/1/15\", \"2005/1/16\", \"2005/1/17\", \"2005/1/18\", \"2005/1/19\", \"2005/1/20\", \"2005/1/21\", \"2005/1/22\", \"2005/1/23\", \"2005/1/24\", \"2005/1/25\", \"2005/1/26\", \"2005/1/27\", \"2005/1/28\", \"2005/1/29\", \"2005/1/30\", \"2005/1/31\", \"2005/2/1\", \"2005/2/2\", \"2005/2/3\", \"2005/2/4\", \"2005/2/5\", \"2005/2/6\", \"2005/2/7\", \"2005/2/8\", \"2005/2/12\", \"2005/2/13\", \"2005/2/14\", \"2005/2/15\", \"2005/2/16\", \"2005/2/17\", \"2005/2/18\", \"2005/2/19\", \"2005/2/20\", \"2005/2/21\", \"2005/2/22\", \"2005/2/23\", \"2005/2/24\", \"2005/2/25\", \"2005/2/26\", \"2005/2/27\", \"2005/2/28\", \"2005/3/1\", \"2005/3/2\", \"2005/3/3\", \"2005/3/4\", \"2005/3/5\", \"2005/3/6\", \"2005/3/7\", \"2005/3/8\", \"2005/3/9\", \"2005/3/10\", \"2005/3/11\", \"2005/3/12\", \"2005/3/13\", \"2005/3/14\", \"2005/3/15\", \"2005/3/16\", \"2005/3/17\", \"2005/3/18\", \"2005/3/19\", \"2005/3/20\", \"2005/3/21\", \"2005/3/22\", \"2005/3/23\", \"2005/3/24\", \"2005/3/25\", \"2005/3/26\", \"2005/3/27\", \"2005/3/28\", \"2005/3/29\", \"2005/3/30\", \"2005/3/31\", \"2005/4/1\", \"2005/4/2\", \"2005/4/3\", \"2005/4/4\"], \"y\": [1393.0, 1182.0, 1134.0, 1268.0, 1333.0, 1464.0, 1348.0, 1268.0, 1307.0, 1260.0, 1332.0, 1390.0, 1274.0, 1212.0, 1255.0, 1158.0, 1219.0, 1212.0, 1189.0, 1071.0, 1050.0, 1064.0, 1193.0, 1342.0, 1380.0, 1423.0, 1278.0, 1336.0, 1154.0, 1263.0, 1238.0, 1076.0, 955.0, 1171.0, 1275.0, 1216.0, 1387.0, 1429.0, 1396.0, 1391.0, 1277.0, 1319.0, 1316.0, 1314.0, 1365.0, 1098.0, 1091.0, 1197.0, 1321.0, 1382.0, 1554.0, 1434.0, 1426.0, 1351.0, 1465.0, 1294.0, 1292.0, 1364.0, 1202.0, 1303.0, 1318.0, 1317.0, 1403.0, 1252.0, 1463.0, 1271.0, 1235.0, 1110.0, 1233.0, 1297.0, 1317.0, 1319.0, 1374.0, 1346.0, 1089.0, 1048.0, 1175.0, 1232.0, 1309.0, 1266.0, 1210.0, 1254.0, 1413.0, 1523.0, 1362.0, 1318.0, 1463.0, 1303.0, 1386.0, 1400.0, 1501.0, 1488.0, 1403.0, 1349.0, 1286.0, 1227.0, 1321.0, 1462.0, 1473.0, 1404.0, 1472.0, 1367.0, 1343.0, 1396.0, 1528.0, 1427.0, 1314.0, 1285.0, 1438.0, 1480.0, 1558.0, 1536.0, 1500.0, 1371.0, 1270.0, 1387.0, 1410.0, 1362.0, 1443.0, 1432.0, 1303.0, 1272.0, 1303.0, 1315.0, 1334.0, 1303.0, 1291.0, 1282.0, 1234.0, 1317.0, 1440.0, 1421.0, 1527.0, 1500.0, 1475.0, 1403.0, 1396.0, 1355.0, 1283.0, 1259.0, 1477.0, 1418.0, 1270.0, 1418.0, 1428.0, 1489.0, 1482.0, 1567.0, 1390.0, 1433.0, 1511.0, 1385.0, 1526.0, 1561.0, 1332.0, 1339.0, 1204.0, 1244.0, 1317.0, 1379.0, 1444.0, 1353.0, 1300.0, 1084.0, 1258.0, 1208.0, 1346.0, 1255.0, 1343.0, 1328.0, 1347.0, 1378.0, 1312.0, 1316.0, 1351.0, 1060.0, 1189.0, 1258.0, 1108.0, 1213.0, 1190.0, 1299.0, 1436.0, 1375.0, 1405.0, 1421.0, 1234.0, 1189.0, 1256.0, 1281.0, 1246.0, 1302.0, 1336.0, 1129.0, 1059.0, 1098.0, 1178.0, 1080.0, 1134.0, 1143.0, 1326.0, 1384.0, 1370.0, 1322.0, 1260.0, 1285.0, 1321.0, 1317.0, 1447.0, 1406.0, 1302.0, 1161.0, 1050.0, 1061.0, 1241.0, 1162.0, 1171.0, 1158.0, 1303.0, 1508.0, 1420.0, 1355.0, 1341.0, 1359.0, 1315.0, 1277.0, 1343.0, 1268.0, 1276.0, 1367.0, 1295.0, 1525.0, 1289.0, 1253.0, 1218.0, 1180.0, 1172.0, 963.0, 895.0, 938.0, 925.0, 1136.0, 1054.0, 1026.0, 779.0, 800.0, 866.0, 910.0, 1035.0, 709.0, 697.0, 859.0, 874.0, 1158.0, 1138.0, 1147.0, 1153.0, 1272.0, 1025.0, 1143.0, 1109.0, 1064.0, 1150.0, 1215.0, 1246.0, 1042.0, 1071.0, 1091.0, 1097.0, 946.0, 787.0, 853.0, 953.0, 919.0, 1007.0, 682.0, 834.0, 783.0, 698.0, 770.0, 807.0, 1079.0, 1246.0, 1062.0, 978.0, 961.0, 932.0, 810.0, 778.0, 897.0, 934.0, 1158.0, 1054.0, 993.0, 1029.0, 1074.0, 1122.0, 1106.0, 1139.0, 1054.0, 1036.0, 940.0, 809.0, 833.0, 869.0, 918.0, 863.0, 992.0, 972.0, 810.0, 779.0, 726.0, 720.0, 727.0, 779.0, 734.0, 709.0, 657.0, 894.0, 920.0, 870.0, 920.0, 807.0, 753.0, 726.0, 748.0, 1051.0, 1032.0, 857.0, 738.0, 880.0, 794.0, 794.0, 860.0, 881.0, 910.0, 908.0, 894.0, 960.0, 1025.0, 855.0, 791.0, 621.0, 551.0, 601.0, 884.0, 912.0, 866.0, 782.0, 708.0, 807.0, 873.0, 901.0, 864.0, 1027.0, 908.0, 1084.0, 1002.0, 1008.0, 983.0, 1002.0, 1079.0, 1033.0, 1110.0, 1046.0, 1143.0, 1043.0, 1190.0, 1264.0, 1211.0, 1195.0, 1087.0, 1043.0, 992.0, 778.0, 742.0, 872.0, 958.0]}],\n",
       "                        {\"height\": 500, \"legend\": {\"orientation\": \"v\"}, \"template\": {\"data\": {\"bar\": [{\"error_x\": {\"color\": \"#2a3f5f\"}, \"error_y\": {\"color\": \"#2a3f5f\"}, \"marker\": {\"line\": {\"color\": \"#E5ECF6\", \"width\": 0.5}}, \"type\": \"bar\"}], \"barpolar\": [{\"marker\": {\"line\": {\"color\": \"#E5ECF6\", \"width\": 0.5}}, \"type\": \"barpolar\"}], \"carpet\": [{\"aaxis\": {\"endlinecolor\": \"#2a3f5f\", \"gridcolor\": \"white\", \"linecolor\": \"white\", \"minorgridcolor\": \"white\", \"startlinecolor\": \"#2a3f5f\"}, \"baxis\": {\"endlinecolor\": \"#2a3f5f\", \"gridcolor\": \"white\", \"linecolor\": \"white\", \"minorgridcolor\": \"white\", \"startlinecolor\": \"#2a3f5f\"}, \"type\": \"carpet\"}], \"choropleth\": [{\"colorbar\": {\"outlinewidth\": 0, \"ticks\": \"\"}, \"type\": \"choropleth\"}], \"contour\": [{\"colorbar\": {\"outlinewidth\": 0, \"ticks\": \"\"}, \"colorscale\": [[0.0, \"#0d0887\"], [0.1111111111111111, \"#46039f\"], [0.2222222222222222, \"#7201a8\"], [0.3333333333333333, \"#9c179e\"], [0.4444444444444444, \"#bd3786\"], [0.5555555555555556, \"#d8576b\"], [0.6666666666666666, \"#ed7953\"], [0.7777777777777778, \"#fb9f3a\"], [0.8888888888888888, \"#fdca26\"], [1.0, \"#f0f921\"]], \"type\": \"contour\"}], \"contourcarpet\": [{\"colorbar\": {\"outlinewidth\": 0, \"ticks\": \"\"}, \"type\": \"contourcarpet\"}], \"heatmap\": [{\"colorbar\": {\"outlinewidth\": 0, \"ticks\": \"\"}, \"colorscale\": [[0.0, \"#0d0887\"], [0.1111111111111111, \"#46039f\"], [0.2222222222222222, \"#7201a8\"], [0.3333333333333333, \"#9c179e\"], [0.4444444444444444, \"#bd3786\"], [0.5555555555555556, \"#d8576b\"], [0.6666666666666666, \"#ed7953\"], [0.7777777777777778, \"#fb9f3a\"], [0.8888888888888888, \"#fdca26\"], [1.0, \"#f0f921\"]], \"type\": \"heatmap\"}], \"heatmapgl\": [{\"colorbar\": {\"outlinewidth\": 0, \"ticks\": \"\"}, \"colorscale\": [[0.0, \"#0d0887\"], [0.1111111111111111, \"#46039f\"], [0.2222222222222222, \"#7201a8\"], [0.3333333333333333, \"#9c179e\"], [0.4444444444444444, \"#bd3786\"], [0.5555555555555556, \"#d8576b\"], [0.6666666666666666, \"#ed7953\"], [0.7777777777777778, \"#fb9f3a\"], [0.8888888888888888, \"#fdca26\"], [1.0, \"#f0f921\"]], \"type\": \"heatmapgl\"}], \"histogram\": [{\"marker\": {\"colorbar\": {\"outlinewidth\": 0, \"ticks\": \"\"}}, \"type\": \"histogram\"}], \"histogram2d\": [{\"colorbar\": {\"outlinewidth\": 0, \"ticks\": \"\"}, \"colorscale\": [[0.0, \"#0d0887\"], [0.1111111111111111, \"#46039f\"], [0.2222222222222222, \"#7201a8\"], [0.3333333333333333, \"#9c179e\"], [0.4444444444444444, \"#bd3786\"], [0.5555555555555556, \"#d8576b\"], [0.6666666666666666, \"#ed7953\"], [0.7777777777777778, \"#fb9f3a\"], [0.8888888888888888, \"#fdca26\"], [1.0, \"#f0f921\"]], \"type\": \"histogram2d\"}], \"histogram2dcontour\": [{\"colorbar\": {\"outlinewidth\": 0, \"ticks\": \"\"}, \"colorscale\": [[0.0, \"#0d0887\"], [0.1111111111111111, \"#46039f\"], [0.2222222222222222, \"#7201a8\"], [0.3333333333333333, \"#9c179e\"], [0.4444444444444444, \"#bd3786\"], [0.5555555555555556, \"#d8576b\"], [0.6666666666666666, \"#ed7953\"], [0.7777777777777778, \"#fb9f3a\"], [0.8888888888888888, \"#fdca26\"], [1.0, \"#f0f921\"]], \"type\": \"histogram2dcontour\"}], \"mesh3d\": [{\"colorbar\": {\"outlinewidth\": 0, \"ticks\": \"\"}, \"type\": \"mesh3d\"}], \"parcoords\": [{\"line\": {\"colorbar\": {\"outlinewidth\": 0, \"ticks\": \"\"}}, \"type\": \"parcoords\"}], \"scatter\": [{\"marker\": {\"colorbar\": {\"outlinewidth\": 0, \"ticks\": \"\"}}, \"type\": \"scatter\"}], \"scatter3d\": [{\"line\": {\"colorbar\": {\"outlinewidth\": 0, \"ticks\": \"\"}}, \"marker\": {\"colorbar\": {\"outlinewidth\": 0, \"ticks\": \"\"}}, \"type\": \"scatter3d\"}], \"scattercarpet\": [{\"marker\": {\"colorbar\": {\"outlinewidth\": 0, \"ticks\": \"\"}}, \"type\": \"scattercarpet\"}], \"scattergeo\": [{\"marker\": {\"colorbar\": {\"outlinewidth\": 0, \"ticks\": \"\"}}, \"type\": \"scattergeo\"}], \"scattergl\": [{\"marker\": {\"colorbar\": {\"outlinewidth\": 0, \"ticks\": \"\"}}, \"type\": \"scattergl\"}], \"scattermapbox\": [{\"marker\": {\"colorbar\": {\"outlinewidth\": 0, \"ticks\": \"\"}}, \"type\": \"scattermapbox\"}], \"scatterpolar\": [{\"marker\": {\"colorbar\": {\"outlinewidth\": 0, \"ticks\": \"\"}}, \"type\": \"scatterpolar\"}], \"scatterpolargl\": [{\"marker\": {\"colorbar\": {\"outlinewidth\": 0, \"ticks\": \"\"}}, \"type\": \"scatterpolargl\"}], \"scatterternary\": [{\"marker\": {\"colorbar\": {\"outlinewidth\": 0, \"ticks\": \"\"}}, \"type\": \"scatterternary\"}], \"surface\": [{\"colorbar\": {\"outlinewidth\": 0, \"ticks\": \"\"}, \"colorscale\": [[0.0, \"#0d0887\"], [0.1111111111111111, \"#46039f\"], [0.2222222222222222, \"#7201a8\"], [0.3333333333333333, \"#9c179e\"], [0.4444444444444444, \"#bd3786\"], [0.5555555555555556, \"#d8576b\"], [0.6666666666666666, \"#ed7953\"], [0.7777777777777778, \"#fb9f3a\"], [0.8888888888888888, \"#fdca26\"], [1.0, \"#f0f921\"]], \"type\": \"surface\"}], \"table\": [{\"cells\": {\"fill\": {\"color\": \"#EBF0F8\"}, \"line\": {\"color\": \"white\"}}, \"header\": {\"fill\": {\"color\": \"#C8D4E3\"}, \"line\": {\"color\": \"white\"}}, \"type\": \"table\"}]}, \"layout\": {\"annotationdefaults\": {\"arrowcolor\": \"#2a3f5f\", \"arrowhead\": 0, \"arrowwidth\": 1}, \"colorscale\": {\"diverging\": [[0, \"#8e0152\"], [0.1, \"#c51b7d\"], [0.2, \"#de77ae\"], [0.3, \"#f1b6da\"], [0.4, \"#fde0ef\"], [0.5, \"#f7f7f7\"], [0.6, \"#e6f5d0\"], [0.7, \"#b8e186\"], [0.8, \"#7fbc41\"], [0.9, \"#4d9221\"], [1, \"#276419\"]], \"sequential\": [[0.0, \"#0d0887\"], [0.1111111111111111, \"#46039f\"], [0.2222222222222222, \"#7201a8\"], [0.3333333333333333, \"#9c179e\"], [0.4444444444444444, \"#bd3786\"], [0.5555555555555556, \"#d8576b\"], [0.6666666666666666, \"#ed7953\"], [0.7777777777777778, \"#fb9f3a\"], [0.8888888888888888, \"#fdca26\"], [1.0, \"#f0f921\"]], \"sequentialminus\": [[0.0, \"#0d0887\"], [0.1111111111111111, \"#46039f\"], [0.2222222222222222, \"#7201a8\"], [0.3333333333333333, \"#9c179e\"], [0.4444444444444444, \"#bd3786\"], [0.5555555555555556, \"#d8576b\"], [0.6666666666666666, \"#ed7953\"], [0.7777777777777778, \"#fb9f3a\"], [0.8888888888888888, \"#fdca26\"], [1.0, \"#f0f921\"]]}, \"colorway\": [\"#636efa\", \"#EF553B\", \"#00cc96\", \"#ab63fa\", \"#FFA15A\", \"#19d3f3\", \"#FF6692\", \"#B6E880\", \"#FF97FF\", \"#FECB52\"], \"font\": {\"color\": \"#2a3f5f\"}, \"geo\": {\"bgcolor\": \"white\", \"lakecolor\": \"white\", \"landcolor\": \"#E5ECF6\", \"showlakes\": true, \"showland\": true, \"subunitcolor\": \"white\"}, \"hoverlabel\": {\"align\": \"left\"}, \"hovermode\": \"closest\", \"mapbox\": {\"style\": \"light\"}, \"paper_bgcolor\": \"white\", \"plot_bgcolor\": \"#E5ECF6\", \"polar\": {\"angularaxis\": {\"gridcolor\": \"white\", \"linecolor\": \"white\", \"ticks\": \"\"}, \"bgcolor\": \"#E5ECF6\", \"radialaxis\": {\"gridcolor\": \"white\", \"linecolor\": \"white\", \"ticks\": \"\"}}, \"scene\": {\"xaxis\": {\"backgroundcolor\": \"#E5ECF6\", \"gridcolor\": \"white\", \"gridwidth\": 2, \"linecolor\": \"white\", \"showbackground\": true, \"ticks\": \"\", \"zerolinecolor\": \"white\"}, \"yaxis\": {\"backgroundcolor\": \"#E5ECF6\", \"gridcolor\": \"white\", \"gridwidth\": 2, \"linecolor\": \"white\", \"showbackground\": true, \"ticks\": \"\", \"zerolinecolor\": \"white\"}, \"zaxis\": {\"backgroundcolor\": \"#E5ECF6\", \"gridcolor\": \"white\", \"gridwidth\": 2, \"linecolor\": \"white\", \"showbackground\": true, \"ticks\": \"\", \"zerolinecolor\": \"white\"}}, \"shapedefaults\": {\"line\": {\"color\": \"#2a3f5f\"}}, \"ternary\": {\"aaxis\": {\"gridcolor\": \"white\", \"linecolor\": \"white\", \"ticks\": \"\"}, \"baxis\": {\"gridcolor\": \"white\", \"linecolor\": \"white\", \"ticks\": \"\"}, \"bgcolor\": \"#E5ECF6\", \"caxis\": {\"gridcolor\": \"white\", \"linecolor\": \"white\", \"ticks\": \"\"}}, \"title\": {\"x\": 0.05}, \"xaxis\": {\"automargin\": true, \"gridcolor\": \"white\", \"linecolor\": \"white\", \"ticks\": \"\", \"zerolinecolor\": \"white\", \"zerolinewidth\": 2}, \"yaxis\": {\"automargin\": true, \"gridcolor\": \"white\", \"linecolor\": \"white\", \"ticks\": \"\", \"zerolinecolor\": \"white\", \"zerolinewidth\": 2}}}, \"title\": {\"text\": \"Time Series of Daily average\"}, \"width\": 1000, \"xaxis\": {\"dtick\": 30.0, \"range\": [\"2004-03-01\", \"2005-04-01\"], \"tick0\": 4.0, \"tickangle\": 45}, \"yaxis\": {\"range\": [500, 3000], \"title\": {\"text\": \"Concentration\"}}},\n",
       "                        {\"responsive\": true}\n",
       "                    ).then(function(){\n",
       "                            \n",
       "var gd = document.getElementById('b9e6d857-8bb2-4538-bb08-996b448309e4');\n",
       "var x = new MutationObserver(function (mutations, observer) {{\n",
       "        var display = window.getComputedStyle(gd).display;\n",
       "        if (!display || display === 'none') {{\n",
       "            console.log([gd, 'removed!']);\n",
       "            Plotly.purge(gd);\n",
       "            observer.disconnect();\n",
       "        }}\n",
       "}});\n",
       "\n",
       "// Listen for the removal of the full notebook cells\n",
       "var notebookContainer = gd.closest('#notebook-container');\n",
       "if (notebookContainer) {{\n",
       "    x.observe(notebookContainer, {childList: true});\n",
       "}}\n",
       "\n",
       "// Listen for the clearing of the current output cell\n",
       "var outputEl = gd.closest('.output');\n",
       "if (outputEl) {{\n",
       "    x.observe(outputEl, {childList: true});\n",
       "}}\n",
       "\n",
       "                        })\n",
       "                };\n",
       "                });\n",
       "            </script>\n",
       "        </div>"
      ]
     },
     "metadata": {},
     "output_type": "display_data"
    }
   ],
   "source": [
    "mean = airdata.groupby(['Date']).mean()\n",
    "max = airdata.groupby(['Date']).max()\n",
    "min = airdata.groupby(['Date']).min()\n",
    "\n",
    "air_temp[['year','month','day']] = air_temp[['year','month','day']].astype(int).astype(str)\n",
    "\n",
    "time = air_temp[\"year\"] + '/' + air_temp[\"month\"] + '/'+  air_temp[\"day\"]\n",
    "\n",
    "trace1 = go.Scatter(x = time, y = max['PT08.S4(NO2)'], name= 'PT(NO2) Max')\n",
    "trace2 = go.Scatter(x = time, y = mean['PT08.S4(NO2)'], name= 'PT(NO2) Mean')\n",
    "trace3 = go.Scatter(x = time, y = min['PT08.S4(NO2)'], name= 'PT(NO2) Min', marker=dict(color='#851e52'))\n",
    "\n",
    "layout = go.Layout(dict(title = \"Time Series of Daily average\",\n",
    "                        width=1000,\n",
    "                        height=500,\n",
    "                        xaxis = dict( range = ['2004-03-01','2005-04-01'],  tick0 = 4.0, dtick =30.0, tickangle=45),\n",
    "                        yaxis = dict(title = 'Concentration', range = [500, 3000]),\n",
    "                        ),legend=dict(\n",
    "    orientation=\"v\"))\n",
    "\n",
    "dataPanda = []\n",
    "\n",
    "dataPanda.append(trace1)\n",
    "dataPanda.append(trace2)\n",
    "dataPanda.append(trace3)\n",
    "py.iplot(dict(data=dataPanda, layout=layout))"
   ]
  },
  {
   "cell_type": "markdown",
   "metadata": {},
   "source": [
    "#### Concl. In the figure above, we can see the range of daily max is much wider than daily average and daily min. "
   ]
  },
  {
   "cell_type": "markdown",
   "metadata": {},
   "source": [
    "#### Concl. If you look at the violin plot above, you might be curious about why I didn't take any action toward the outliers, this is because that based on the formula 1.5 times of IQR, the daily max with such wide range have high probability to be regarded as outliers. But in real world, I believe it is reasonable to have such a wide variation if you detect the pollutant directly aside the road."
   ]
  },
  {
   "cell_type": "markdown",
   "metadata": {},
   "source": [
    "#### 3. Monthly basis (monthly average)"
   ]
  },
  {
   "cell_type": "markdown",
   "metadata": {},
   "source": [
    "* Monthly average of NO2 and O3"
   ]
  },
  {
   "cell_type": "code",
   "execution_count": 20,
   "metadata": {},
   "outputs": [
    {
     "data": {
      "application/vnd.plotly.v1+json": {
       "config": {
        "linkText": "Export to plot.ly",
        "plotlyServerURL": "https://plot.ly",
        "showLink": false
       },
       "data": [
        {
         "name": "PT(O3)",
         "type": "scatter",
         "x": [
          "2004/3",
          "2004/4",
          "2004/5",
          "2004/6",
          "2004/7",
          "2004/8",
          "2004/9",
          "2004/10",
          "2004/11",
          "2004/12",
          "2005/1",
          "2005/2",
          "2005/3",
          "2005/4"
         ],
         "y": [
          1027,
          1003.5,
          926,
          936,
          994.5,
          778.5,
          1032,
          1164,
          1171,
          1093,
          1092,
          1024,
          1084,
          647
         ]
        },
        {
         "name": "PT(NO2)",
         "type": "scatter",
         "x": [
          "2004/3",
          "2004/4",
          "2004/5",
          "2004/6",
          "2004/7",
          "2004/8",
          "2004/9",
          "2004/10",
          "2004/11",
          "2004/12",
          "2005/1",
          "2005/2",
          "2005/3",
          "2005/4"
         ],
         "y": [
          1572,
          1611,
          1598,
          1722,
          1644,
          1583,
          1547,
          1637,
          1372,
          1220,
          1149,
          1054,
          1225,
          976.5
         ]
        }
       ],
       "layout": {
        "height": 500,
        "legend": {
         "orientation": "v"
        },
        "template": {
         "data": {
          "bar": [
           {
            "error_x": {
             "color": "#2a3f5f"
            },
            "error_y": {
             "color": "#2a3f5f"
            },
            "marker": {
             "line": {
              "color": "#E5ECF6",
              "width": 0.5
             }
            },
            "type": "bar"
           }
          ],
          "barpolar": [
           {
            "marker": {
             "line": {
              "color": "#E5ECF6",
              "width": 0.5
             }
            },
            "type": "barpolar"
           }
          ],
          "carpet": [
           {
            "aaxis": {
             "endlinecolor": "#2a3f5f",
             "gridcolor": "white",
             "linecolor": "white",
             "minorgridcolor": "white",
             "startlinecolor": "#2a3f5f"
            },
            "baxis": {
             "endlinecolor": "#2a3f5f",
             "gridcolor": "white",
             "linecolor": "white",
             "minorgridcolor": "white",
             "startlinecolor": "#2a3f5f"
            },
            "type": "carpet"
           }
          ],
          "choropleth": [
           {
            "colorbar": {
             "outlinewidth": 0,
             "ticks": ""
            },
            "type": "choropleth"
           }
          ],
          "contour": [
           {
            "colorbar": {
             "outlinewidth": 0,
             "ticks": ""
            },
            "colorscale": [
             [
              0,
              "#0d0887"
             ],
             [
              0.1111111111111111,
              "#46039f"
             ],
             [
              0.2222222222222222,
              "#7201a8"
             ],
             [
              0.3333333333333333,
              "#9c179e"
             ],
             [
              0.4444444444444444,
              "#bd3786"
             ],
             [
              0.5555555555555556,
              "#d8576b"
             ],
             [
              0.6666666666666666,
              "#ed7953"
             ],
             [
              0.7777777777777778,
              "#fb9f3a"
             ],
             [
              0.8888888888888888,
              "#fdca26"
             ],
             [
              1,
              "#f0f921"
             ]
            ],
            "type": "contour"
           }
          ],
          "contourcarpet": [
           {
            "colorbar": {
             "outlinewidth": 0,
             "ticks": ""
            },
            "type": "contourcarpet"
           }
          ],
          "heatmap": [
           {
            "colorbar": {
             "outlinewidth": 0,
             "ticks": ""
            },
            "colorscale": [
             [
              0,
              "#0d0887"
             ],
             [
              0.1111111111111111,
              "#46039f"
             ],
             [
              0.2222222222222222,
              "#7201a8"
             ],
             [
              0.3333333333333333,
              "#9c179e"
             ],
             [
              0.4444444444444444,
              "#bd3786"
             ],
             [
              0.5555555555555556,
              "#d8576b"
             ],
             [
              0.6666666666666666,
              "#ed7953"
             ],
             [
              0.7777777777777778,
              "#fb9f3a"
             ],
             [
              0.8888888888888888,
              "#fdca26"
             ],
             [
              1,
              "#f0f921"
             ]
            ],
            "type": "heatmap"
           }
          ],
          "heatmapgl": [
           {
            "colorbar": {
             "outlinewidth": 0,
             "ticks": ""
            },
            "colorscale": [
             [
              0,
              "#0d0887"
             ],
             [
              0.1111111111111111,
              "#46039f"
             ],
             [
              0.2222222222222222,
              "#7201a8"
             ],
             [
              0.3333333333333333,
              "#9c179e"
             ],
             [
              0.4444444444444444,
              "#bd3786"
             ],
             [
              0.5555555555555556,
              "#d8576b"
             ],
             [
              0.6666666666666666,
              "#ed7953"
             ],
             [
              0.7777777777777778,
              "#fb9f3a"
             ],
             [
              0.8888888888888888,
              "#fdca26"
             ],
             [
              1,
              "#f0f921"
             ]
            ],
            "type": "heatmapgl"
           }
          ],
          "histogram": [
           {
            "marker": {
             "colorbar": {
              "outlinewidth": 0,
              "ticks": ""
             }
            },
            "type": "histogram"
           }
          ],
          "histogram2d": [
           {
            "colorbar": {
             "outlinewidth": 0,
             "ticks": ""
            },
            "colorscale": [
             [
              0,
              "#0d0887"
             ],
             [
              0.1111111111111111,
              "#46039f"
             ],
             [
              0.2222222222222222,
              "#7201a8"
             ],
             [
              0.3333333333333333,
              "#9c179e"
             ],
             [
              0.4444444444444444,
              "#bd3786"
             ],
             [
              0.5555555555555556,
              "#d8576b"
             ],
             [
              0.6666666666666666,
              "#ed7953"
             ],
             [
              0.7777777777777778,
              "#fb9f3a"
             ],
             [
              0.8888888888888888,
              "#fdca26"
             ],
             [
              1,
              "#f0f921"
             ]
            ],
            "type": "histogram2d"
           }
          ],
          "histogram2dcontour": [
           {
            "colorbar": {
             "outlinewidth": 0,
             "ticks": ""
            },
            "colorscale": [
             [
              0,
              "#0d0887"
             ],
             [
              0.1111111111111111,
              "#46039f"
             ],
             [
              0.2222222222222222,
              "#7201a8"
             ],
             [
              0.3333333333333333,
              "#9c179e"
             ],
             [
              0.4444444444444444,
              "#bd3786"
             ],
             [
              0.5555555555555556,
              "#d8576b"
             ],
             [
              0.6666666666666666,
              "#ed7953"
             ],
             [
              0.7777777777777778,
              "#fb9f3a"
             ],
             [
              0.8888888888888888,
              "#fdca26"
             ],
             [
              1,
              "#f0f921"
             ]
            ],
            "type": "histogram2dcontour"
           }
          ],
          "mesh3d": [
           {
            "colorbar": {
             "outlinewidth": 0,
             "ticks": ""
            },
            "type": "mesh3d"
           }
          ],
          "parcoords": [
           {
            "line": {
             "colorbar": {
              "outlinewidth": 0,
              "ticks": ""
             }
            },
            "type": "parcoords"
           }
          ],
          "scatter": [
           {
            "marker": {
             "colorbar": {
              "outlinewidth": 0,
              "ticks": ""
             }
            },
            "type": "scatter"
           }
          ],
          "scatter3d": [
           {
            "line": {
             "colorbar": {
              "outlinewidth": 0,
              "ticks": ""
             }
            },
            "marker": {
             "colorbar": {
              "outlinewidth": 0,
              "ticks": ""
             }
            },
            "type": "scatter3d"
           }
          ],
          "scattercarpet": [
           {
            "marker": {
             "colorbar": {
              "outlinewidth": 0,
              "ticks": ""
             }
            },
            "type": "scattercarpet"
           }
          ],
          "scattergeo": [
           {
            "marker": {
             "colorbar": {
              "outlinewidth": 0,
              "ticks": ""
             }
            },
            "type": "scattergeo"
           }
          ],
          "scattergl": [
           {
            "marker": {
             "colorbar": {
              "outlinewidth": 0,
              "ticks": ""
             }
            },
            "type": "scattergl"
           }
          ],
          "scattermapbox": [
           {
            "marker": {
             "colorbar": {
              "outlinewidth": 0,
              "ticks": ""
             }
            },
            "type": "scattermapbox"
           }
          ],
          "scatterpolar": [
           {
            "marker": {
             "colorbar": {
              "outlinewidth": 0,
              "ticks": ""
             }
            },
            "type": "scatterpolar"
           }
          ],
          "scatterpolargl": [
           {
            "marker": {
             "colorbar": {
              "outlinewidth": 0,
              "ticks": ""
             }
            },
            "type": "scatterpolargl"
           }
          ],
          "scatterternary": [
           {
            "marker": {
             "colorbar": {
              "outlinewidth": 0,
              "ticks": ""
             }
            },
            "type": "scatterternary"
           }
          ],
          "surface": [
           {
            "colorbar": {
             "outlinewidth": 0,
             "ticks": ""
            },
            "colorscale": [
             [
              0,
              "#0d0887"
             ],
             [
              0.1111111111111111,
              "#46039f"
             ],
             [
              0.2222222222222222,
              "#7201a8"
             ],
             [
              0.3333333333333333,
              "#9c179e"
             ],
             [
              0.4444444444444444,
              "#bd3786"
             ],
             [
              0.5555555555555556,
              "#d8576b"
             ],
             [
              0.6666666666666666,
              "#ed7953"
             ],
             [
              0.7777777777777778,
              "#fb9f3a"
             ],
             [
              0.8888888888888888,
              "#fdca26"
             ],
             [
              1,
              "#f0f921"
             ]
            ],
            "type": "surface"
           }
          ],
          "table": [
           {
            "cells": {
             "fill": {
              "color": "#EBF0F8"
             },
             "line": {
              "color": "white"
             }
            },
            "header": {
             "fill": {
              "color": "#C8D4E3"
             },
             "line": {
              "color": "white"
             }
            },
            "type": "table"
           }
          ]
         },
         "layout": {
          "annotationdefaults": {
           "arrowcolor": "#2a3f5f",
           "arrowhead": 0,
           "arrowwidth": 1
          },
          "colorscale": {
           "diverging": [
            [
             0,
             "#8e0152"
            ],
            [
             0.1,
             "#c51b7d"
            ],
            [
             0.2,
             "#de77ae"
            ],
            [
             0.3,
             "#f1b6da"
            ],
            [
             0.4,
             "#fde0ef"
            ],
            [
             0.5,
             "#f7f7f7"
            ],
            [
             0.6,
             "#e6f5d0"
            ],
            [
             0.7,
             "#b8e186"
            ],
            [
             0.8,
             "#7fbc41"
            ],
            [
             0.9,
             "#4d9221"
            ],
            [
             1,
             "#276419"
            ]
           ],
           "sequential": [
            [
             0,
             "#0d0887"
            ],
            [
             0.1111111111111111,
             "#46039f"
            ],
            [
             0.2222222222222222,
             "#7201a8"
            ],
            [
             0.3333333333333333,
             "#9c179e"
            ],
            [
             0.4444444444444444,
             "#bd3786"
            ],
            [
             0.5555555555555556,
             "#d8576b"
            ],
            [
             0.6666666666666666,
             "#ed7953"
            ],
            [
             0.7777777777777778,
             "#fb9f3a"
            ],
            [
             0.8888888888888888,
             "#fdca26"
            ],
            [
             1,
             "#f0f921"
            ]
           ],
           "sequentialminus": [
            [
             0,
             "#0d0887"
            ],
            [
             0.1111111111111111,
             "#46039f"
            ],
            [
             0.2222222222222222,
             "#7201a8"
            ],
            [
             0.3333333333333333,
             "#9c179e"
            ],
            [
             0.4444444444444444,
             "#bd3786"
            ],
            [
             0.5555555555555556,
             "#d8576b"
            ],
            [
             0.6666666666666666,
             "#ed7953"
            ],
            [
             0.7777777777777778,
             "#fb9f3a"
            ],
            [
             0.8888888888888888,
             "#fdca26"
            ],
            [
             1,
             "#f0f921"
            ]
           ]
          },
          "colorway": [
           "#636efa",
           "#EF553B",
           "#00cc96",
           "#ab63fa",
           "#FFA15A",
           "#19d3f3",
           "#FF6692",
           "#B6E880",
           "#FF97FF",
           "#FECB52"
          ],
          "font": {
           "color": "#2a3f5f"
          },
          "geo": {
           "bgcolor": "white",
           "lakecolor": "white",
           "landcolor": "#E5ECF6",
           "showlakes": true,
           "showland": true,
           "subunitcolor": "white"
          },
          "hoverlabel": {
           "align": "left"
          },
          "hovermode": "closest",
          "mapbox": {
           "style": "light"
          },
          "paper_bgcolor": "white",
          "plot_bgcolor": "#E5ECF6",
          "polar": {
           "angularaxis": {
            "gridcolor": "white",
            "linecolor": "white",
            "ticks": ""
           },
           "bgcolor": "#E5ECF6",
           "radialaxis": {
            "gridcolor": "white",
            "linecolor": "white",
            "ticks": ""
           }
          },
          "scene": {
           "xaxis": {
            "backgroundcolor": "#E5ECF6",
            "gridcolor": "white",
            "gridwidth": 2,
            "linecolor": "white",
            "showbackground": true,
            "ticks": "",
            "zerolinecolor": "white"
           },
           "yaxis": {
            "backgroundcolor": "#E5ECF6",
            "gridcolor": "white",
            "gridwidth": 2,
            "linecolor": "white",
            "showbackground": true,
            "ticks": "",
            "zerolinecolor": "white"
           },
           "zaxis": {
            "backgroundcolor": "#E5ECF6",
            "gridcolor": "white",
            "gridwidth": 2,
            "linecolor": "white",
            "showbackground": true,
            "ticks": "",
            "zerolinecolor": "white"
           }
          },
          "shapedefaults": {
           "line": {
            "color": "#2a3f5f"
           }
          },
          "ternary": {
           "aaxis": {
            "gridcolor": "white",
            "linecolor": "white",
            "ticks": ""
           },
           "baxis": {
            "gridcolor": "white",
            "linecolor": "white",
            "ticks": ""
           },
           "bgcolor": "#E5ECF6",
           "caxis": {
            "gridcolor": "white",
            "linecolor": "white",
            "ticks": ""
           }
          },
          "title": {
           "x": 0.05
          },
          "xaxis": {
           "automargin": true,
           "gridcolor": "white",
           "linecolor": "white",
           "ticks": "",
           "zerolinecolor": "white",
           "zerolinewidth": 2
          },
          "yaxis": {
           "automargin": true,
           "gridcolor": "white",
           "linecolor": "white",
           "ticks": "",
           "zerolinecolor": "white",
           "zerolinewidth": 2
          }
         }
        },
        "title": {
         "text": "Time Series of Monthly mean on NO2 and O3"
        },
        "width": 800,
        "xaxis": {
         "dtick": 1,
         "range": [
          "2004-03",
          "2005-04"
         ],
         "tick0": 0
        },
        "yaxis": {
         "range": [
          500,
          2000
         ],
         "title": {
          "text": "Concentration"
         }
        }
       }
      },
      "text/html": [
       "<div>\n",
       "        \n",
       "        \n",
       "            <div id=\"4ddbdd04-2569-40c1-a34a-e50726b9bcd0\" class=\"plotly-graph-div\" style=\"height:500px; width:800px;\"></div>\n",
       "            <script type=\"text/javascript\">\n",
       "                require([\"plotly\"], function(Plotly) {\n",
       "                    window.PLOTLYENV=window.PLOTLYENV || {};\n",
       "                    \n",
       "                if (document.getElementById(\"4ddbdd04-2569-40c1-a34a-e50726b9bcd0\")) {\n",
       "                    Plotly.newPlot(\n",
       "                        '4ddbdd04-2569-40c1-a34a-e50726b9bcd0',\n",
       "                        [{\"name\": \"PT(O3)\", \"type\": \"scatter\", \"x\": [\"2004/3\", \"2004/4\", \"2004/5\", \"2004/6\", \"2004/7\", \"2004/8\", \"2004/9\", \"2004/10\", \"2004/11\", \"2004/12\", \"2005/1\", \"2005/2\", \"2005/3\", \"2005/4\"], \"y\": [1027.0, 1003.5, 926.0, 936.0, 994.5, 778.5, 1032.0, 1164.0, 1171.0, 1093.0, 1092.0, 1024.0, 1084.0, 647.0]}, {\"name\": \"PT(NO2)\", \"type\": \"scatter\", \"x\": [\"2004/3\", \"2004/4\", \"2004/5\", \"2004/6\", \"2004/7\", \"2004/8\", \"2004/9\", \"2004/10\", \"2004/11\", \"2004/12\", \"2005/1\", \"2005/2\", \"2005/3\", \"2005/4\"], \"y\": [1572.0, 1611.0, 1598.0, 1722.0, 1644.0, 1583.0, 1547.0, 1637.0, 1372.0, 1220.0, 1149.0, 1054.0, 1225.0, 976.5]}],\n",
       "                        {\"height\": 500, \"legend\": {\"orientation\": \"v\"}, \"template\": {\"data\": {\"bar\": [{\"error_x\": {\"color\": \"#2a3f5f\"}, \"error_y\": {\"color\": \"#2a3f5f\"}, \"marker\": {\"line\": {\"color\": \"#E5ECF6\", \"width\": 0.5}}, \"type\": \"bar\"}], \"barpolar\": [{\"marker\": {\"line\": {\"color\": \"#E5ECF6\", \"width\": 0.5}}, \"type\": \"barpolar\"}], \"carpet\": [{\"aaxis\": {\"endlinecolor\": \"#2a3f5f\", \"gridcolor\": \"white\", \"linecolor\": \"white\", \"minorgridcolor\": \"white\", \"startlinecolor\": \"#2a3f5f\"}, \"baxis\": {\"endlinecolor\": \"#2a3f5f\", \"gridcolor\": \"white\", \"linecolor\": \"white\", \"minorgridcolor\": \"white\", \"startlinecolor\": \"#2a3f5f\"}, \"type\": \"carpet\"}], \"choropleth\": [{\"colorbar\": {\"outlinewidth\": 0, \"ticks\": \"\"}, \"type\": \"choropleth\"}], \"contour\": [{\"colorbar\": {\"outlinewidth\": 0, \"ticks\": \"\"}, \"colorscale\": [[0.0, \"#0d0887\"], [0.1111111111111111, \"#46039f\"], [0.2222222222222222, \"#7201a8\"], [0.3333333333333333, \"#9c179e\"], [0.4444444444444444, \"#bd3786\"], [0.5555555555555556, \"#d8576b\"], [0.6666666666666666, \"#ed7953\"], [0.7777777777777778, \"#fb9f3a\"], [0.8888888888888888, \"#fdca26\"], [1.0, \"#f0f921\"]], \"type\": \"contour\"}], \"contourcarpet\": [{\"colorbar\": {\"outlinewidth\": 0, \"ticks\": \"\"}, \"type\": \"contourcarpet\"}], \"heatmap\": [{\"colorbar\": {\"outlinewidth\": 0, \"ticks\": \"\"}, \"colorscale\": [[0.0, \"#0d0887\"], [0.1111111111111111, \"#46039f\"], [0.2222222222222222, \"#7201a8\"], [0.3333333333333333, \"#9c179e\"], [0.4444444444444444, \"#bd3786\"], [0.5555555555555556, \"#d8576b\"], [0.6666666666666666, \"#ed7953\"], [0.7777777777777778, \"#fb9f3a\"], [0.8888888888888888, \"#fdca26\"], [1.0, \"#f0f921\"]], \"type\": \"heatmap\"}], \"heatmapgl\": [{\"colorbar\": {\"outlinewidth\": 0, \"ticks\": \"\"}, \"colorscale\": [[0.0, \"#0d0887\"], [0.1111111111111111, \"#46039f\"], [0.2222222222222222, \"#7201a8\"], [0.3333333333333333, \"#9c179e\"], [0.4444444444444444, \"#bd3786\"], [0.5555555555555556, \"#d8576b\"], [0.6666666666666666, \"#ed7953\"], [0.7777777777777778, \"#fb9f3a\"], [0.8888888888888888, \"#fdca26\"], [1.0, \"#f0f921\"]], \"type\": \"heatmapgl\"}], \"histogram\": [{\"marker\": {\"colorbar\": {\"outlinewidth\": 0, \"ticks\": \"\"}}, \"type\": \"histogram\"}], \"histogram2d\": [{\"colorbar\": {\"outlinewidth\": 0, \"ticks\": \"\"}, \"colorscale\": [[0.0, \"#0d0887\"], [0.1111111111111111, \"#46039f\"], [0.2222222222222222, \"#7201a8\"], [0.3333333333333333, \"#9c179e\"], [0.4444444444444444, \"#bd3786\"], [0.5555555555555556, \"#d8576b\"], [0.6666666666666666, \"#ed7953\"], [0.7777777777777778, \"#fb9f3a\"], [0.8888888888888888, \"#fdca26\"], [1.0, \"#f0f921\"]], \"type\": \"histogram2d\"}], \"histogram2dcontour\": [{\"colorbar\": {\"outlinewidth\": 0, \"ticks\": \"\"}, \"colorscale\": [[0.0, \"#0d0887\"], [0.1111111111111111, \"#46039f\"], [0.2222222222222222, \"#7201a8\"], [0.3333333333333333, \"#9c179e\"], [0.4444444444444444, \"#bd3786\"], [0.5555555555555556, \"#d8576b\"], [0.6666666666666666, \"#ed7953\"], [0.7777777777777778, \"#fb9f3a\"], [0.8888888888888888, \"#fdca26\"], [1.0, \"#f0f921\"]], \"type\": \"histogram2dcontour\"}], \"mesh3d\": [{\"colorbar\": {\"outlinewidth\": 0, \"ticks\": \"\"}, \"type\": \"mesh3d\"}], \"parcoords\": [{\"line\": {\"colorbar\": {\"outlinewidth\": 0, \"ticks\": \"\"}}, \"type\": \"parcoords\"}], \"scatter\": [{\"marker\": {\"colorbar\": {\"outlinewidth\": 0, \"ticks\": \"\"}}, \"type\": \"scatter\"}], \"scatter3d\": [{\"line\": {\"colorbar\": {\"outlinewidth\": 0, \"ticks\": \"\"}}, \"marker\": {\"colorbar\": {\"outlinewidth\": 0, \"ticks\": \"\"}}, \"type\": \"scatter3d\"}], \"scattercarpet\": [{\"marker\": {\"colorbar\": {\"outlinewidth\": 0, \"ticks\": \"\"}}, \"type\": \"scattercarpet\"}], \"scattergeo\": [{\"marker\": {\"colorbar\": {\"outlinewidth\": 0, \"ticks\": \"\"}}, \"type\": \"scattergeo\"}], \"scattergl\": [{\"marker\": {\"colorbar\": {\"outlinewidth\": 0, \"ticks\": \"\"}}, \"type\": \"scattergl\"}], \"scattermapbox\": [{\"marker\": {\"colorbar\": {\"outlinewidth\": 0, \"ticks\": \"\"}}, \"type\": \"scattermapbox\"}], \"scatterpolar\": [{\"marker\": {\"colorbar\": {\"outlinewidth\": 0, \"ticks\": \"\"}}, \"type\": \"scatterpolar\"}], \"scatterpolargl\": [{\"marker\": {\"colorbar\": {\"outlinewidth\": 0, \"ticks\": \"\"}}, \"type\": \"scatterpolargl\"}], \"scatterternary\": [{\"marker\": {\"colorbar\": {\"outlinewidth\": 0, \"ticks\": \"\"}}, \"type\": \"scatterternary\"}], \"surface\": [{\"colorbar\": {\"outlinewidth\": 0, \"ticks\": \"\"}, \"colorscale\": [[0.0, \"#0d0887\"], [0.1111111111111111, \"#46039f\"], [0.2222222222222222, \"#7201a8\"], [0.3333333333333333, \"#9c179e\"], [0.4444444444444444, \"#bd3786\"], [0.5555555555555556, \"#d8576b\"], [0.6666666666666666, \"#ed7953\"], [0.7777777777777778, \"#fb9f3a\"], [0.8888888888888888, \"#fdca26\"], [1.0, \"#f0f921\"]], \"type\": \"surface\"}], \"table\": [{\"cells\": {\"fill\": {\"color\": \"#EBF0F8\"}, \"line\": {\"color\": \"white\"}}, \"header\": {\"fill\": {\"color\": \"#C8D4E3\"}, \"line\": {\"color\": \"white\"}}, \"type\": \"table\"}]}, \"layout\": {\"annotationdefaults\": {\"arrowcolor\": \"#2a3f5f\", \"arrowhead\": 0, \"arrowwidth\": 1}, \"colorscale\": {\"diverging\": [[0, \"#8e0152\"], [0.1, \"#c51b7d\"], [0.2, \"#de77ae\"], [0.3, \"#f1b6da\"], [0.4, \"#fde0ef\"], [0.5, \"#f7f7f7\"], [0.6, \"#e6f5d0\"], [0.7, \"#b8e186\"], [0.8, \"#7fbc41\"], [0.9, \"#4d9221\"], [1, \"#276419\"]], \"sequential\": [[0.0, \"#0d0887\"], [0.1111111111111111, \"#46039f\"], [0.2222222222222222, \"#7201a8\"], [0.3333333333333333, \"#9c179e\"], [0.4444444444444444, \"#bd3786\"], [0.5555555555555556, \"#d8576b\"], [0.6666666666666666, \"#ed7953\"], [0.7777777777777778, \"#fb9f3a\"], [0.8888888888888888, \"#fdca26\"], [1.0, \"#f0f921\"]], \"sequentialminus\": [[0.0, \"#0d0887\"], [0.1111111111111111, \"#46039f\"], [0.2222222222222222, \"#7201a8\"], [0.3333333333333333, \"#9c179e\"], [0.4444444444444444, \"#bd3786\"], [0.5555555555555556, \"#d8576b\"], [0.6666666666666666, \"#ed7953\"], [0.7777777777777778, \"#fb9f3a\"], [0.8888888888888888, \"#fdca26\"], [1.0, \"#f0f921\"]]}, \"colorway\": [\"#636efa\", \"#EF553B\", \"#00cc96\", \"#ab63fa\", \"#FFA15A\", \"#19d3f3\", \"#FF6692\", \"#B6E880\", \"#FF97FF\", \"#FECB52\"], \"font\": {\"color\": \"#2a3f5f\"}, \"geo\": {\"bgcolor\": \"white\", \"lakecolor\": \"white\", \"landcolor\": \"#E5ECF6\", \"showlakes\": true, \"showland\": true, \"subunitcolor\": \"white\"}, \"hoverlabel\": {\"align\": \"left\"}, \"hovermode\": \"closest\", \"mapbox\": {\"style\": \"light\"}, \"paper_bgcolor\": \"white\", \"plot_bgcolor\": \"#E5ECF6\", \"polar\": {\"angularaxis\": {\"gridcolor\": \"white\", \"linecolor\": \"white\", \"ticks\": \"\"}, \"bgcolor\": \"#E5ECF6\", \"radialaxis\": {\"gridcolor\": \"white\", \"linecolor\": \"white\", \"ticks\": \"\"}}, \"scene\": {\"xaxis\": {\"backgroundcolor\": \"#E5ECF6\", \"gridcolor\": \"white\", \"gridwidth\": 2, \"linecolor\": \"white\", \"showbackground\": true, \"ticks\": \"\", \"zerolinecolor\": \"white\"}, \"yaxis\": {\"backgroundcolor\": \"#E5ECF6\", \"gridcolor\": \"white\", \"gridwidth\": 2, \"linecolor\": \"white\", \"showbackground\": true, \"ticks\": \"\", \"zerolinecolor\": \"white\"}, \"zaxis\": {\"backgroundcolor\": \"#E5ECF6\", \"gridcolor\": \"white\", \"gridwidth\": 2, \"linecolor\": \"white\", \"showbackground\": true, \"ticks\": \"\", \"zerolinecolor\": \"white\"}}, \"shapedefaults\": {\"line\": {\"color\": \"#2a3f5f\"}}, \"ternary\": {\"aaxis\": {\"gridcolor\": \"white\", \"linecolor\": \"white\", \"ticks\": \"\"}, \"baxis\": {\"gridcolor\": \"white\", \"linecolor\": \"white\", \"ticks\": \"\"}, \"bgcolor\": \"#E5ECF6\", \"caxis\": {\"gridcolor\": \"white\", \"linecolor\": \"white\", \"ticks\": \"\"}}, \"title\": {\"x\": 0.05}, \"xaxis\": {\"automargin\": true, \"gridcolor\": \"white\", \"linecolor\": \"white\", \"ticks\": \"\", \"zerolinecolor\": \"white\", \"zerolinewidth\": 2}, \"yaxis\": {\"automargin\": true, \"gridcolor\": \"white\", \"linecolor\": \"white\", \"ticks\": \"\", \"zerolinecolor\": \"white\", \"zerolinewidth\": 2}}}, \"title\": {\"text\": \"Time Series of Monthly mean on NO2 and O3\"}, \"width\": 800, \"xaxis\": {\"dtick\": 1.0, \"range\": [\"2004-03\", \"2005-04\"], \"tick0\": 0.0}, \"yaxis\": {\"range\": [500, 2000], \"title\": {\"text\": \"Concentration\"}}},\n",
       "                        {\"responsive\": true}\n",
       "                    ).then(function(){\n",
       "                            \n",
       "var gd = document.getElementById('4ddbdd04-2569-40c1-a34a-e50726b9bcd0');\n",
       "var x = new MutationObserver(function (mutations, observer) {{\n",
       "        var display = window.getComputedStyle(gd).display;\n",
       "        if (!display || display === 'none') {{\n",
       "            console.log([gd, 'removed!']);\n",
       "            Plotly.purge(gd);\n",
       "            observer.disconnect();\n",
       "        }}\n",
       "}});\n",
       "\n",
       "// Listen for the removal of the full notebook cells\n",
       "var notebookContainer = gd.closest('#notebook-container');\n",
       "if (notebookContainer) {{\n",
       "    x.observe(notebookContainer, {childList: true});\n",
       "}}\n",
       "\n",
       "// Listen for the clearing of the current output cell\n",
       "var outputEl = gd.closest('.output');\n",
       "if (outputEl) {{\n",
       "    x.observe(outputEl, {childList: true});\n",
       "}}\n",
       "\n",
       "                        })\n",
       "                };\n",
       "                });\n",
       "            </script>\n",
       "        </div>"
      ]
     },
     "metadata": {},
     "output_type": "display_data"
    }
   ],
   "source": [
    "air_temp = airdata.copy()\n",
    "air_temp[['year','month','day']] = air_temp[['year','month','day']].astype(int).astype(str)\n",
    "air_temp['str_month'] = air_temp[\"year\"] + '/' + air_temp[\"month\"]\n",
    "air_temp = air_temp.groupby(['str_month'])[['PT08.S5(O3)','PT08.S4(NO2)']].mean()\n",
    "\n",
    "air_temp.index\n",
    "air_temp = air_temp.reindex(['2004/3', '2004/4', '2004/5', '2004/6', '2004/7', '2004/8', '2004/9', \n",
    "                             '2004/10', '2004/11', '2004/12', '2005/1', '2005/2', '2005/3', '2005/4'])\n",
    "\n",
    "time = air_temp.index\n",
    "\n",
    "trace1 = go.Scatter(x = time, y = air_temp['PT08.S5(O3)'], name= 'PT(O3)')\n",
    "trace2 = go.Scatter(x = time, y = air_temp['PT08.S4(NO2)'], name= 'PT(NO2)')\n",
    "\n",
    "layout = go.Layout(dict(title = 'Time Series of Monthly mean on NO2 and O3',\n",
    "                        width=800,\n",
    "                        height=500,\n",
    "                        xaxis = dict( range = ['2004-03','2005-04'],  tick0 = 0.0, dtick =1.0),\n",
    "                        yaxis = dict(title = 'Concentration', range = [500, 2000]),\n",
    "                        ),legend=dict(\n",
    "    orientation=\"v\"))\n",
    "\n",
    "dataPanda = []\n",
    "dataPanda.append(trace1)\n",
    "dataPanda.append(trace2)\n",
    "py.iplot(dict(data=dataPanda, layout=layout))"
   ]
  },
  {
   "cell_type": "markdown",
   "metadata": {},
   "source": [
    "#### Concl. A dramatic drop in NO2 can be seen in winter season."
   ]
  },
  {
   "cell_type": "markdown",
   "metadata": {},
   "source": [
    "#### Concl. Season, year and hour plays important role in pollutant concentration."
   ]
  },
  {
   "cell_type": "code",
   "execution_count": 22,
   "metadata": {},
   "outputs": [],
   "source": [
    "import os\n",
    "os.chdir('/Users/jerry/Desktop/') ## your directory\n",
    "airdata.to_csv('airdata_processed.csv')"
   ]
  },
  {
   "cell_type": "code",
   "execution_count": null,
   "metadata": {},
   "outputs": [],
   "source": []
  }
 ],
 "metadata": {
  "celltoolbar": "Raw Cell Format",
  "kernelspec": {
   "display_name": "Python 3",
   "language": "python",
   "name": "python3"
  },
  "language_info": {
   "codemirror_mode": {
    "name": "ipython",
    "version": 3
   },
   "file_extension": ".py",
   "mimetype": "text/x-python",
   "name": "python",
   "nbconvert_exporter": "python",
   "pygments_lexer": "ipython3",
   "version": "3.7.3"
  }
 },
 "nbformat": 4,
 "nbformat_minor": 2
}
